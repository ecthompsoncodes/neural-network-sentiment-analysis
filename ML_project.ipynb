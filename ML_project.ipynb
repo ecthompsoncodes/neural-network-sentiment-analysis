{
  "nbformat": 4,
  "nbformat_minor": 0,
  "metadata": {
    "colab": {
      "provenance": [],
      "include_colab_link": true
    },
    "kernelspec": {
      "name": "python3",
      "display_name": "Python 3"
    },
    "language_info": {
      "name": "python"
    }
  },
  "cells": [
    {
      "cell_type": "markdown",
      "metadata": {
        "id": "view-in-github",
        "colab_type": "text"
      },
      "source": [
        "<a href=\"https://colab.research.google.com/github/ecthompsoncodes/neural-network-sentiment-analysis/blob/main/ML_project.ipynb\" target=\"_parent\"><img src=\"https://colab.research.google.com/assets/colab-badge.svg\" alt=\"Open In Colab\"/></a>"
      ]
    },
    {
      "cell_type": "code",
      "source": [
        "import pandas as pd\n",
        "import torch\n",
        "from torch import nn\n",
        "import torch.optim as optim\n",
        "from torch.utils.data import DataLoader, Dataset, TensorDataset\n",
        "from sklearn.metrics import confusion_matrix, accuracy_score\n",
        "import numpy as np\n",
        "import torch.nn.functional as F\n",
        "from tqdm import tqdm\n",
        "import matplotlib.pyplot as plt\n",
        "%pip install -U git+https://github.com/szagoruyko/pytorchviz.git@master\n",
        "from torchviz import make_dot\n",
        "\n",
        "\n",
        "\n",
        "device = \"cuda\" if torch.cuda.is_available() else \"cpu\"\n",
        "device"
      ],
      "metadata": {
        "id": "uzyHxzmVlkyE",
        "colab": {
          "base_uri": "https://localhost:8080/",
          "height": 446
        },
        "outputId": "389a8f47-5d94-45f1-b481-b9bb777e9757"
      },
      "execution_count": 1,
      "outputs": [
        {
          "output_type": "stream",
          "name": "stdout",
          "text": [
            "Collecting git+https://github.com/szagoruyko/pytorchviz.git@master\n",
            "  Cloning https://github.com/szagoruyko/pytorchviz.git (to revision master) to /tmp/pip-req-build-r_osq3pw\n",
            "  Running command git clone --filter=blob:none --quiet https://github.com/szagoruyko/pytorchviz.git /tmp/pip-req-build-r_osq3pw\n",
            "  Resolved https://github.com/szagoruyko/pytorchviz.git to commit 0adcd83af8aa7ab36d6afd139cabbd9df598edb7\n",
            "  Preparing metadata (setup.py) ... \u001b[?25l\u001b[?25hdone\n",
            "Requirement already satisfied: torch in /usr/local/lib/python3.10/dist-packages (from torchviz==0.0.2) (2.1.0+cu118)\n",
            "Requirement already satisfied: graphviz in /usr/local/lib/python3.10/dist-packages (from torchviz==0.0.2) (0.20.1)\n",
            "Requirement already satisfied: filelock in /usr/local/lib/python3.10/dist-packages (from torch->torchviz==0.0.2) (3.13.1)\n",
            "Requirement already satisfied: typing-extensions in /usr/local/lib/python3.10/dist-packages (from torch->torchviz==0.0.2) (4.5.0)\n",
            "Requirement already satisfied: sympy in /usr/local/lib/python3.10/dist-packages (from torch->torchviz==0.0.2) (1.12)\n",
            "Requirement already satisfied: networkx in /usr/local/lib/python3.10/dist-packages (from torch->torchviz==0.0.2) (3.2.1)\n",
            "Requirement already satisfied: jinja2 in /usr/local/lib/python3.10/dist-packages (from torch->torchviz==0.0.2) (3.1.2)\n",
            "Requirement already satisfied: fsspec in /usr/local/lib/python3.10/dist-packages (from torch->torchviz==0.0.2) (2023.6.0)\n",
            "Requirement already satisfied: triton==2.1.0 in /usr/local/lib/python3.10/dist-packages (from torch->torchviz==0.0.2) (2.1.0)\n",
            "Requirement already satisfied: MarkupSafe>=2.0 in /usr/local/lib/python3.10/dist-packages (from jinja2->torch->torchviz==0.0.2) (2.1.3)\n",
            "Requirement already satisfied: mpmath>=0.19 in /usr/local/lib/python3.10/dist-packages (from sympy->torch->torchviz==0.0.2) (1.3.0)\n",
            "Building wheels for collected packages: torchviz\n",
            "  Building wheel for torchviz (setup.py) ... \u001b[?25l\u001b[?25hdone\n",
            "  Created wheel for torchviz: filename=torchviz-0.0.2-py3-none-any.whl size=4973 sha256=8339c258fde181bf044ba8e6d49c9b74960ee4dad778fdb69317aa5752a2e9b4\n",
            "  Stored in directory: /tmp/pip-ephem-wheel-cache-eseubq__/wheels/97/11/17/d09e895f9883bd50923ce86b249a31790356a1b88b280983d8\n",
            "Successfully built torchviz\n",
            "Installing collected packages: torchviz\n",
            "Successfully installed torchviz-0.0.2\n"
          ]
        },
        {
          "output_type": "execute_result",
          "data": {
            "text/plain": [
              "'cpu'"
            ],
            "application/vnd.google.colaboratory.intrinsic+json": {
              "type": "string"
            }
          },
          "metadata": {},
          "execution_count": 1
        }
      ]
    },
    {
      "cell_type": "code",
      "source": [
        "# upload the data\n",
        "train_orig = pd.read_csv(\"train.csv\", delimiter = '\\t')\n",
        "train_gl = pd.read_csv(\"trainx.csv\")\n",
        "\n",
        "test_orig = pd.read_csv(\"test.csv\",  delimiter = '\\t')\n",
        "test_gl = pd.read_csv(\"testx.csv\")\n",
        "\n",
        "valid_orig = pd.read_csv(\"validation.csv\",  delimiter = '\\t')\n",
        "valid_gl = pd.read_csv(\"validationx.csv\")"
      ],
      "metadata": {
        "id": "dTY7noVKEpu6"
      },
      "execution_count": 3,
      "outputs": []
    },
    {
      "cell_type": "code",
      "source": [
        "valid_gl.isna()"
      ],
      "metadata": {
        "colab": {
          "base_uri": "https://localhost:8080/",
          "height": 424
        },
        "id": "aApQql57snq0",
        "outputId": "c7417a02-4c60-4de2-8842-6c549ed5d57f"
      },
      "execution_count": 4,
      "outputs": [
        {
          "output_type": "execute_result",
          "data": {
            "text/plain": [
              "         V1     V2     V3     V4     V5     V6     V7     V8     V9    V10  \\\n",
              "0     False  False  False  False  False  False  False  False  False  False   \n",
              "1     False  False  False  False  False  False  False  False  False  False   \n",
              "2     False  False  False  False  False  False  False  False  False  False   \n",
              "3     False  False  False  False  False  False  False  False  False  False   \n",
              "4     False  False  False  False  False  False  False  False  False  False   \n",
              "...     ...    ...    ...    ...    ...    ...    ...    ...    ...    ...   \n",
              "1096  False  False  False  False  False  False  False  False  False  False   \n",
              "1097  False  False  False  False  False  False  False  False  False  False   \n",
              "1098  False  False  False  False  False  False  False  False  False  False   \n",
              "1099  False  False  False  False  False  False  False  False  False  False   \n",
              "1100  False  False  False  False  False  False  False  False  False  False   \n",
              "\n",
              "      ...    V91    V92    V93    V94    V95    V96    V97    V98    V99  \\\n",
              "0     ...  False  False  False  False  False  False  False  False  False   \n",
              "1     ...  False  False  False  False  False  False  False  False  False   \n",
              "2     ...  False  False  False  False  False  False  False  False  False   \n",
              "3     ...  False  False  False  False  False  False  False  False  False   \n",
              "4     ...  False  False  False  False  False  False  False  False  False   \n",
              "...   ...    ...    ...    ...    ...    ...    ...    ...    ...    ...   \n",
              "1096  ...  False  False  False  False  False  False  False  False  False   \n",
              "1097  ...  False  False  False  False  False  False  False  False  False   \n",
              "1098  ...  False  False  False  False  False  False  False  False  False   \n",
              "1099  ...  False  False  False  False  False  False  False  False  False   \n",
              "1100  ...  False  False  False  False  False  False  False  False  False   \n",
              "\n",
              "       V100  \n",
              "0     False  \n",
              "1     False  \n",
              "2     False  \n",
              "3     False  \n",
              "4     False  \n",
              "...     ...  \n",
              "1096  False  \n",
              "1097  False  \n",
              "1098  False  \n",
              "1099  False  \n",
              "1100  False  \n",
              "\n",
              "[1101 rows x 100 columns]"
            ],
            "text/html": [
              "\n",
              "  <div id=\"df-fca6fdba-8c8b-4731-89c4-62905567264f\" class=\"colab-df-container\">\n",
              "    <div>\n",
              "<style scoped>\n",
              "    .dataframe tbody tr th:only-of-type {\n",
              "        vertical-align: middle;\n",
              "    }\n",
              "\n",
              "    .dataframe tbody tr th {\n",
              "        vertical-align: top;\n",
              "    }\n",
              "\n",
              "    .dataframe thead th {\n",
              "        text-align: right;\n",
              "    }\n",
              "</style>\n",
              "<table border=\"1\" class=\"dataframe\">\n",
              "  <thead>\n",
              "    <tr style=\"text-align: right;\">\n",
              "      <th></th>\n",
              "      <th>V1</th>\n",
              "      <th>V2</th>\n",
              "      <th>V3</th>\n",
              "      <th>V4</th>\n",
              "      <th>V5</th>\n",
              "      <th>V6</th>\n",
              "      <th>V7</th>\n",
              "      <th>V8</th>\n",
              "      <th>V9</th>\n",
              "      <th>V10</th>\n",
              "      <th>...</th>\n",
              "      <th>V91</th>\n",
              "      <th>V92</th>\n",
              "      <th>V93</th>\n",
              "      <th>V94</th>\n",
              "      <th>V95</th>\n",
              "      <th>V96</th>\n",
              "      <th>V97</th>\n",
              "      <th>V98</th>\n",
              "      <th>V99</th>\n",
              "      <th>V100</th>\n",
              "    </tr>\n",
              "  </thead>\n",
              "  <tbody>\n",
              "    <tr>\n",
              "      <th>0</th>\n",
              "      <td>False</td>\n",
              "      <td>False</td>\n",
              "      <td>False</td>\n",
              "      <td>False</td>\n",
              "      <td>False</td>\n",
              "      <td>False</td>\n",
              "      <td>False</td>\n",
              "      <td>False</td>\n",
              "      <td>False</td>\n",
              "      <td>False</td>\n",
              "      <td>...</td>\n",
              "      <td>False</td>\n",
              "      <td>False</td>\n",
              "      <td>False</td>\n",
              "      <td>False</td>\n",
              "      <td>False</td>\n",
              "      <td>False</td>\n",
              "      <td>False</td>\n",
              "      <td>False</td>\n",
              "      <td>False</td>\n",
              "      <td>False</td>\n",
              "    </tr>\n",
              "    <tr>\n",
              "      <th>1</th>\n",
              "      <td>False</td>\n",
              "      <td>False</td>\n",
              "      <td>False</td>\n",
              "      <td>False</td>\n",
              "      <td>False</td>\n",
              "      <td>False</td>\n",
              "      <td>False</td>\n",
              "      <td>False</td>\n",
              "      <td>False</td>\n",
              "      <td>False</td>\n",
              "      <td>...</td>\n",
              "      <td>False</td>\n",
              "      <td>False</td>\n",
              "      <td>False</td>\n",
              "      <td>False</td>\n",
              "      <td>False</td>\n",
              "      <td>False</td>\n",
              "      <td>False</td>\n",
              "      <td>False</td>\n",
              "      <td>False</td>\n",
              "      <td>False</td>\n",
              "    </tr>\n",
              "    <tr>\n",
              "      <th>2</th>\n",
              "      <td>False</td>\n",
              "      <td>False</td>\n",
              "      <td>False</td>\n",
              "      <td>False</td>\n",
              "      <td>False</td>\n",
              "      <td>False</td>\n",
              "      <td>False</td>\n",
              "      <td>False</td>\n",
              "      <td>False</td>\n",
              "      <td>False</td>\n",
              "      <td>...</td>\n",
              "      <td>False</td>\n",
              "      <td>False</td>\n",
              "      <td>False</td>\n",
              "      <td>False</td>\n",
              "      <td>False</td>\n",
              "      <td>False</td>\n",
              "      <td>False</td>\n",
              "      <td>False</td>\n",
              "      <td>False</td>\n",
              "      <td>False</td>\n",
              "    </tr>\n",
              "    <tr>\n",
              "      <th>3</th>\n",
              "      <td>False</td>\n",
              "      <td>False</td>\n",
              "      <td>False</td>\n",
              "      <td>False</td>\n",
              "      <td>False</td>\n",
              "      <td>False</td>\n",
              "      <td>False</td>\n",
              "      <td>False</td>\n",
              "      <td>False</td>\n",
              "      <td>False</td>\n",
              "      <td>...</td>\n",
              "      <td>False</td>\n",
              "      <td>False</td>\n",
              "      <td>False</td>\n",
              "      <td>False</td>\n",
              "      <td>False</td>\n",
              "      <td>False</td>\n",
              "      <td>False</td>\n",
              "      <td>False</td>\n",
              "      <td>False</td>\n",
              "      <td>False</td>\n",
              "    </tr>\n",
              "    <tr>\n",
              "      <th>4</th>\n",
              "      <td>False</td>\n",
              "      <td>False</td>\n",
              "      <td>False</td>\n",
              "      <td>False</td>\n",
              "      <td>False</td>\n",
              "      <td>False</td>\n",
              "      <td>False</td>\n",
              "      <td>False</td>\n",
              "      <td>False</td>\n",
              "      <td>False</td>\n",
              "      <td>...</td>\n",
              "      <td>False</td>\n",
              "      <td>False</td>\n",
              "      <td>False</td>\n",
              "      <td>False</td>\n",
              "      <td>False</td>\n",
              "      <td>False</td>\n",
              "      <td>False</td>\n",
              "      <td>False</td>\n",
              "      <td>False</td>\n",
              "      <td>False</td>\n",
              "    </tr>\n",
              "    <tr>\n",
              "      <th>...</th>\n",
              "      <td>...</td>\n",
              "      <td>...</td>\n",
              "      <td>...</td>\n",
              "      <td>...</td>\n",
              "      <td>...</td>\n",
              "      <td>...</td>\n",
              "      <td>...</td>\n",
              "      <td>...</td>\n",
              "      <td>...</td>\n",
              "      <td>...</td>\n",
              "      <td>...</td>\n",
              "      <td>...</td>\n",
              "      <td>...</td>\n",
              "      <td>...</td>\n",
              "      <td>...</td>\n",
              "      <td>...</td>\n",
              "      <td>...</td>\n",
              "      <td>...</td>\n",
              "      <td>...</td>\n",
              "      <td>...</td>\n",
              "      <td>...</td>\n",
              "    </tr>\n",
              "    <tr>\n",
              "      <th>1096</th>\n",
              "      <td>False</td>\n",
              "      <td>False</td>\n",
              "      <td>False</td>\n",
              "      <td>False</td>\n",
              "      <td>False</td>\n",
              "      <td>False</td>\n",
              "      <td>False</td>\n",
              "      <td>False</td>\n",
              "      <td>False</td>\n",
              "      <td>False</td>\n",
              "      <td>...</td>\n",
              "      <td>False</td>\n",
              "      <td>False</td>\n",
              "      <td>False</td>\n",
              "      <td>False</td>\n",
              "      <td>False</td>\n",
              "      <td>False</td>\n",
              "      <td>False</td>\n",
              "      <td>False</td>\n",
              "      <td>False</td>\n",
              "      <td>False</td>\n",
              "    </tr>\n",
              "    <tr>\n",
              "      <th>1097</th>\n",
              "      <td>False</td>\n",
              "      <td>False</td>\n",
              "      <td>False</td>\n",
              "      <td>False</td>\n",
              "      <td>False</td>\n",
              "      <td>False</td>\n",
              "      <td>False</td>\n",
              "      <td>False</td>\n",
              "      <td>False</td>\n",
              "      <td>False</td>\n",
              "      <td>...</td>\n",
              "      <td>False</td>\n",
              "      <td>False</td>\n",
              "      <td>False</td>\n",
              "      <td>False</td>\n",
              "      <td>False</td>\n",
              "      <td>False</td>\n",
              "      <td>False</td>\n",
              "      <td>False</td>\n",
              "      <td>False</td>\n",
              "      <td>False</td>\n",
              "    </tr>\n",
              "    <tr>\n",
              "      <th>1098</th>\n",
              "      <td>False</td>\n",
              "      <td>False</td>\n",
              "      <td>False</td>\n",
              "      <td>False</td>\n",
              "      <td>False</td>\n",
              "      <td>False</td>\n",
              "      <td>False</td>\n",
              "      <td>False</td>\n",
              "      <td>False</td>\n",
              "      <td>False</td>\n",
              "      <td>...</td>\n",
              "      <td>False</td>\n",
              "      <td>False</td>\n",
              "      <td>False</td>\n",
              "      <td>False</td>\n",
              "      <td>False</td>\n",
              "      <td>False</td>\n",
              "      <td>False</td>\n",
              "      <td>False</td>\n",
              "      <td>False</td>\n",
              "      <td>False</td>\n",
              "    </tr>\n",
              "    <tr>\n",
              "      <th>1099</th>\n",
              "      <td>False</td>\n",
              "      <td>False</td>\n",
              "      <td>False</td>\n",
              "      <td>False</td>\n",
              "      <td>False</td>\n",
              "      <td>False</td>\n",
              "      <td>False</td>\n",
              "      <td>False</td>\n",
              "      <td>False</td>\n",
              "      <td>False</td>\n",
              "      <td>...</td>\n",
              "      <td>False</td>\n",
              "      <td>False</td>\n",
              "      <td>False</td>\n",
              "      <td>False</td>\n",
              "      <td>False</td>\n",
              "      <td>False</td>\n",
              "      <td>False</td>\n",
              "      <td>False</td>\n",
              "      <td>False</td>\n",
              "      <td>False</td>\n",
              "    </tr>\n",
              "    <tr>\n",
              "      <th>1100</th>\n",
              "      <td>False</td>\n",
              "      <td>False</td>\n",
              "      <td>False</td>\n",
              "      <td>False</td>\n",
              "      <td>False</td>\n",
              "      <td>False</td>\n",
              "      <td>False</td>\n",
              "      <td>False</td>\n",
              "      <td>False</td>\n",
              "      <td>False</td>\n",
              "      <td>...</td>\n",
              "      <td>False</td>\n",
              "      <td>False</td>\n",
              "      <td>False</td>\n",
              "      <td>False</td>\n",
              "      <td>False</td>\n",
              "      <td>False</td>\n",
              "      <td>False</td>\n",
              "      <td>False</td>\n",
              "      <td>False</td>\n",
              "      <td>False</td>\n",
              "    </tr>\n",
              "  </tbody>\n",
              "</table>\n",
              "<p>1101 rows × 100 columns</p>\n",
              "</div>\n",
              "    <div class=\"colab-df-buttons\">\n",
              "\n",
              "  <div class=\"colab-df-container\">\n",
              "    <button class=\"colab-df-convert\" onclick=\"convertToInteractive('df-fca6fdba-8c8b-4731-89c4-62905567264f')\"\n",
              "            title=\"Convert this dataframe to an interactive table.\"\n",
              "            style=\"display:none;\">\n",
              "\n",
              "  <svg xmlns=\"http://www.w3.org/2000/svg\" height=\"24px\" viewBox=\"0 -960 960 960\">\n",
              "    <path d=\"M120-120v-720h720v720H120Zm60-500h600v-160H180v160Zm220 220h160v-160H400v160Zm0 220h160v-160H400v160ZM180-400h160v-160H180v160Zm440 0h160v-160H620v160ZM180-180h160v-160H180v160Zm440 0h160v-160H620v160Z\"/>\n",
              "  </svg>\n",
              "    </button>\n",
              "\n",
              "  <style>\n",
              "    .colab-df-container {\n",
              "      display:flex;\n",
              "      gap: 12px;\n",
              "    }\n",
              "\n",
              "    .colab-df-convert {\n",
              "      background-color: #E8F0FE;\n",
              "      border: none;\n",
              "      border-radius: 50%;\n",
              "      cursor: pointer;\n",
              "      display: none;\n",
              "      fill: #1967D2;\n",
              "      height: 32px;\n",
              "      padding: 0 0 0 0;\n",
              "      width: 32px;\n",
              "    }\n",
              "\n",
              "    .colab-df-convert:hover {\n",
              "      background-color: #E2EBFA;\n",
              "      box-shadow: 0px 1px 2px rgba(60, 64, 67, 0.3), 0px 1px 3px 1px rgba(60, 64, 67, 0.15);\n",
              "      fill: #174EA6;\n",
              "    }\n",
              "\n",
              "    .colab-df-buttons div {\n",
              "      margin-bottom: 4px;\n",
              "    }\n",
              "\n",
              "    [theme=dark] .colab-df-convert {\n",
              "      background-color: #3B4455;\n",
              "      fill: #D2E3FC;\n",
              "    }\n",
              "\n",
              "    [theme=dark] .colab-df-convert:hover {\n",
              "      background-color: #434B5C;\n",
              "      box-shadow: 0px 1px 3px 1px rgba(0, 0, 0, 0.15);\n",
              "      filter: drop-shadow(0px 1px 2px rgba(0, 0, 0, 0.3));\n",
              "      fill: #FFFFFF;\n",
              "    }\n",
              "  </style>\n",
              "\n",
              "    <script>\n",
              "      const buttonEl =\n",
              "        document.querySelector('#df-fca6fdba-8c8b-4731-89c4-62905567264f button.colab-df-convert');\n",
              "      buttonEl.style.display =\n",
              "        google.colab.kernel.accessAllowed ? 'block' : 'none';\n",
              "\n",
              "      async function convertToInteractive(key) {\n",
              "        const element = document.querySelector('#df-fca6fdba-8c8b-4731-89c4-62905567264f');\n",
              "        const dataTable =\n",
              "          await google.colab.kernel.invokeFunction('convertToInteractive',\n",
              "                                                    [key], {});\n",
              "        if (!dataTable) return;\n",
              "\n",
              "        const docLinkHtml = 'Like what you see? Visit the ' +\n",
              "          '<a target=\"_blank\" href=https://colab.research.google.com/notebooks/data_table.ipynb>data table notebook</a>'\n",
              "          + ' to learn more about interactive tables.';\n",
              "        element.innerHTML = '';\n",
              "        dataTable['output_type'] = 'display_data';\n",
              "        await google.colab.output.renderOutput(dataTable, element);\n",
              "        const docLink = document.createElement('div');\n",
              "        docLink.innerHTML = docLinkHtml;\n",
              "        element.appendChild(docLink);\n",
              "      }\n",
              "    </script>\n",
              "  </div>\n",
              "\n",
              "\n",
              "<div id=\"df-52f7342c-1a0c-48d7-a8de-ec4dc8754379\">\n",
              "  <button class=\"colab-df-quickchart\" onclick=\"quickchart('df-52f7342c-1a0c-48d7-a8de-ec4dc8754379')\"\n",
              "            title=\"Suggest charts\"\n",
              "            style=\"display:none;\">\n",
              "\n",
              "<svg xmlns=\"http://www.w3.org/2000/svg\" height=\"24px\"viewBox=\"0 0 24 24\"\n",
              "     width=\"24px\">\n",
              "    <g>\n",
              "        <path d=\"M19 3H5c-1.1 0-2 .9-2 2v14c0 1.1.9 2 2 2h14c1.1 0 2-.9 2-2V5c0-1.1-.9-2-2-2zM9 17H7v-7h2v7zm4 0h-2V7h2v10zm4 0h-2v-4h2v4z\"/>\n",
              "    </g>\n",
              "</svg>\n",
              "  </button>\n",
              "\n",
              "<style>\n",
              "  .colab-df-quickchart {\n",
              "      --bg-color: #E8F0FE;\n",
              "      --fill-color: #1967D2;\n",
              "      --hover-bg-color: #E2EBFA;\n",
              "      --hover-fill-color: #174EA6;\n",
              "      --disabled-fill-color: #AAA;\n",
              "      --disabled-bg-color: #DDD;\n",
              "  }\n",
              "\n",
              "  [theme=dark] .colab-df-quickchart {\n",
              "      --bg-color: #3B4455;\n",
              "      --fill-color: #D2E3FC;\n",
              "      --hover-bg-color: #434B5C;\n",
              "      --hover-fill-color: #FFFFFF;\n",
              "      --disabled-bg-color: #3B4455;\n",
              "      --disabled-fill-color: #666;\n",
              "  }\n",
              "\n",
              "  .colab-df-quickchart {\n",
              "    background-color: var(--bg-color);\n",
              "    border: none;\n",
              "    border-radius: 50%;\n",
              "    cursor: pointer;\n",
              "    display: none;\n",
              "    fill: var(--fill-color);\n",
              "    height: 32px;\n",
              "    padding: 0;\n",
              "    width: 32px;\n",
              "  }\n",
              "\n",
              "  .colab-df-quickchart:hover {\n",
              "    background-color: var(--hover-bg-color);\n",
              "    box-shadow: 0 1px 2px rgba(60, 64, 67, 0.3), 0 1px 3px 1px rgba(60, 64, 67, 0.15);\n",
              "    fill: var(--button-hover-fill-color);\n",
              "  }\n",
              "\n",
              "  .colab-df-quickchart-complete:disabled,\n",
              "  .colab-df-quickchart-complete:disabled:hover {\n",
              "    background-color: var(--disabled-bg-color);\n",
              "    fill: var(--disabled-fill-color);\n",
              "    box-shadow: none;\n",
              "  }\n",
              "\n",
              "  .colab-df-spinner {\n",
              "    border: 2px solid var(--fill-color);\n",
              "    border-color: transparent;\n",
              "    border-bottom-color: var(--fill-color);\n",
              "    animation:\n",
              "      spin 1s steps(1) infinite;\n",
              "  }\n",
              "\n",
              "  @keyframes spin {\n",
              "    0% {\n",
              "      border-color: transparent;\n",
              "      border-bottom-color: var(--fill-color);\n",
              "      border-left-color: var(--fill-color);\n",
              "    }\n",
              "    20% {\n",
              "      border-color: transparent;\n",
              "      border-left-color: var(--fill-color);\n",
              "      border-top-color: var(--fill-color);\n",
              "    }\n",
              "    30% {\n",
              "      border-color: transparent;\n",
              "      border-left-color: var(--fill-color);\n",
              "      border-top-color: var(--fill-color);\n",
              "      border-right-color: var(--fill-color);\n",
              "    }\n",
              "    40% {\n",
              "      border-color: transparent;\n",
              "      border-right-color: var(--fill-color);\n",
              "      border-top-color: var(--fill-color);\n",
              "    }\n",
              "    60% {\n",
              "      border-color: transparent;\n",
              "      border-right-color: var(--fill-color);\n",
              "    }\n",
              "    80% {\n",
              "      border-color: transparent;\n",
              "      border-right-color: var(--fill-color);\n",
              "      border-bottom-color: var(--fill-color);\n",
              "    }\n",
              "    90% {\n",
              "      border-color: transparent;\n",
              "      border-bottom-color: var(--fill-color);\n",
              "    }\n",
              "  }\n",
              "</style>\n",
              "\n",
              "  <script>\n",
              "    async function quickchart(key) {\n",
              "      const quickchartButtonEl =\n",
              "        document.querySelector('#' + key + ' button');\n",
              "      quickchartButtonEl.disabled = true;  // To prevent multiple clicks.\n",
              "      quickchartButtonEl.classList.add('colab-df-spinner');\n",
              "      try {\n",
              "        const charts = await google.colab.kernel.invokeFunction(\n",
              "            'suggestCharts', [key], {});\n",
              "      } catch (error) {\n",
              "        console.error('Error during call to suggestCharts:', error);\n",
              "      }\n",
              "      quickchartButtonEl.classList.remove('colab-df-spinner');\n",
              "      quickchartButtonEl.classList.add('colab-df-quickchart-complete');\n",
              "    }\n",
              "    (() => {\n",
              "      let quickchartButtonEl =\n",
              "        document.querySelector('#df-52f7342c-1a0c-48d7-a8de-ec4dc8754379 button');\n",
              "      quickchartButtonEl.style.display =\n",
              "        google.colab.kernel.accessAllowed ? 'block' : 'none';\n",
              "    })();\n",
              "  </script>\n",
              "</div>\n",
              "    </div>\n",
              "  </div>\n"
            ]
          },
          "metadata": {},
          "execution_count": 4
        }
      ]
    },
    {
      "cell_type": "code",
      "source": [
        "# turn our classes into \"category\" type for our analysis\n",
        "\n",
        "train_gl['FiveClass'] = train_orig['FiveClass'].astype('category')\n",
        "test_gl['FiveClass'] = test_orig['FiveClass'].astype('category')\n",
        "valid_gl['FiveClass'] = valid_orig['FiveClass'].astype('category')\n",
        "\n",
        "train_gl['FiveClass'].replace(['negative', 'neutral', 'positive', 'very negative', 'very positive'],\n",
        "                        [0, 1, 2, 3, 4], inplace=True)\n",
        "test_gl['FiveClass'].replace(['negative', 'neutral', 'positive', 'very negative', 'very positive'],\n",
        "                        [0, 1, 2, 3, 4], inplace=True)\n",
        "valid_gl['FiveClass'].replace(['negative', 'neutral', 'positive', 'very negative', 'very positive'],\n",
        "                        [0, 1, 2, 3, 4], inplace=True)"
      ],
      "metadata": {
        "id": "pUGSdG5gmhFH"
      },
      "execution_count": 5,
      "outputs": []
    },
    {
      "cell_type": "code",
      "source": [
        "# split features and labels\n",
        "\n",
        "dummy_cols = [\"FiveClass_negative\", \"FiveClass_neutral\", \"FiveClass_positive\", \"FiveClass_very negative\", \"FiveClass_very positive\"]\n",
        "X_train = train_gl.drop(columns= \"FiveClass\")\n",
        "y_train = train_gl['FiveClass']\n",
        "\n",
        "X_valid = valid_gl.drop(columns= \"FiveClass\")\n",
        "y_valid = valid_gl['FiveClass']\n",
        "\n",
        "X_test = test_gl.drop(columns= \"FiveClass\")\n",
        "y_test = test_gl['FiveClass']\n"
      ],
      "metadata": {
        "id": "DO6ReB2Xmx_F"
      },
      "execution_count": 6,
      "outputs": []
    },
    {
      "cell_type": "code",
      "source": [
        "# convert dataframe to numpy array\n",
        "X_train_np = X_train.to_numpy(dtype=np.float32)\n",
        "y_train_np = y_train.to_numpy(dtype=np.int64)\n",
        "\n",
        "X_valid_np = X_valid.to_numpy(dtype=np.float32)\n",
        "y_valid_np = y_valid.to_numpy(dtype=np.int64)\n",
        "\n",
        "X_test_np = X_test.to_numpy(dtype=np.float32)\n",
        "y_test_np = y_test.to_numpy(dtype=np.int64)\n",
        "\n",
        "# convert numpy array to PyTorch Tensor\n",
        "X_train_tensor = torch.from_numpy(X_train_np)\n",
        "y_train_tensor = torch.from_numpy(y_train_np)\n",
        "\n",
        "X_valid_tensor = torch.from_numpy(X_valid_np)\n",
        "y_valid_tensor = torch.from_numpy(y_valid_np)\n",
        "\n",
        "X_test_tensor = torch.from_numpy(X_test_np)\n",
        "y_test_tensor = torch.from_numpy(y_test_np)\n"
      ],
      "metadata": {
        "id": "bRHlRPOsnvdL"
      },
      "execution_count": 7,
      "outputs": []
    },
    {
      "cell_type": "code",
      "source": [
        "# create TensorDatasets\n",
        "train_dataset = TensorDataset(X_train_tensor, y_train_tensor)\n",
        "valid_dataset = TensorDataset(X_valid_tensor, y_valid_tensor)\n",
        "test_dataset = TensorDataset(X_test_tensor, y_test_tensor)\n",
        "\n",
        "# create DataLoaders\n",
        "batch_size = 64\n",
        "train_loader = DataLoader(train_dataset, batch_size=batch_size, shuffle=True)\n",
        "valid_loader = DataLoader(valid_dataset, batch_size=batch_size)\n",
        "test_loader = DataLoader(test_dataset, batch_size=batch_size)"
      ],
      "metadata": {
        "id": "ETdbGUF1e75h"
      },
      "execution_count": 32,
      "outputs": []
    },
    {
      "cell_type": "code",
      "source": [
        "# define Neural Network Architecture\n",
        "\n",
        "class NeuralNet(nn.Module):\n",
        "    def __init__(self, input_size, hidden_size, num_classes, dropout_prob=0.5):\n",
        "        super(NeuralNet, self).__init__()\n",
        "        self.fc1 = nn.Linear(input_size, hidden_size)\n",
        "        self.relu = nn.ReLU()\n",
        "        self.dropout = nn.Dropout(p=dropout_prob)\n",
        "        self.fc2 = nn.Linear(hidden_size, num_classes)\n",
        "\n",
        "    def forward(self, x):\n",
        "        out = self.fc1(x)\n",
        "        out = self.relu(out)\n",
        "        out = self.dropout(out)\n",
        "        out = self.fc2(out)\n",
        "        return out\n",
        "\n",
        "input_size = X_train.shape[1]  # number of features\n",
        "hidden_size = 1000\n",
        "num_classes = y_train_np.max()+1  # number of output classes\n",
        "dropout_prob = 0.5\n",
        "\n",
        "model = NeuralNet(input_size, hidden_size, num_classes)\n",
        "criterion = nn.CrossEntropyLoss()\n",
        "optimizer = torch.optim.Adam(model.parameters(), lr=0.001) # use Adam since NLP\n"
      ],
      "metadata": {
        "id": "LquQ_sC-fO7e"
      },
      "execution_count": 33,
      "outputs": []
    },
    {
      "cell_type": "code",
      "source": [
        "# Make a diagram of neural network\n",
        "\n",
        "sample_input = torch.randn(1, input_size)\n",
        "output = model(sample_input)\n",
        "\n",
        "dot = make_dot(output, params=dict(model.named_parameters()))\n",
        "dot.format = 'png'\n",
        "dot.render(\"model_diagram\")"
      ],
      "metadata": {
        "colab": {
          "base_uri": "https://localhost:8080/",
          "height": 35
        },
        "id": "Is-rh6pbFzmF",
        "outputId": "6d3f6e9c-d546-49cc-c190-c574f6b75b23"
      },
      "execution_count": 34,
      "outputs": [
        {
          "output_type": "execute_result",
          "data": {
            "text/plain": [
              "'model_diagram.png'"
            ],
            "application/vnd.google.colaboratory.intrinsic+json": {
              "type": "string"
            }
          },
          "metadata": {},
          "execution_count": 34
        }
      ]
    },
    {
      "cell_type": "code",
      "source": [
        "def calculate_accuracy(model, dataloader):\n",
        "    model.eval()\n",
        "    correct = 0\n",
        "    total = 0\n",
        "\n",
        "    with torch.no_grad():\n",
        "        for inputs, labels in dataloader:\n",
        "            inputs, labels = inputs.to(device), labels.to(device)\n",
        "            outputs = model(inputs)\n",
        "            _, predicted = torch.max(outputs.data, 1)\n",
        "            total += labels.size(0)\n",
        "            correct += (predicted == labels).sum().item()\n",
        "\n",
        "    accuracy = correct / total\n",
        "    return accuracy"
      ],
      "metadata": {
        "id": "w29RI1eiF7Hw"
      },
      "execution_count": 35,
      "outputs": []
    },
    {
      "cell_type": "code",
      "source": [
        "num_epochs = 20\n",
        "\n",
        "for epoch in range(num_epochs):\n",
        "    # Training phase\n",
        "    model.train()\n",
        "    train_loss = 0.0\n",
        "    train_steps = 0\n",
        "    for inputs, labels in tqdm(train_loader, desc=f\"Epoch {epoch+1}/{num_epochs} - Training\"):\n",
        "        inputs, labels = inputs.to(device), labels.to(device)\n",
        "        outputs = model(inputs)\n",
        "        loss = criterion(outputs, labels)\n",
        "\n",
        "        optimizer.zero_grad()\n",
        "        loss.backward()\n",
        "        optimizer.step()\n",
        "\n",
        "        train_loss += loss.item()\n",
        "        train_steps += 1\n",
        "\n",
        "    # Print average training loss per batch\n",
        "    print(f\"Average Training Loss: {train_loss / train_steps:.4f}\")\n",
        "\n",
        "    # Validation phase\n",
        "    model.eval()\n",
        "    val_labels = []\n",
        "    val_preds = []\n",
        "    with torch.no_grad():\n",
        "        for inputs, labels in tqdm(valid_loader, desc=f\"Epoch {epoch+1}/{num_epochs} - Validation\"):\n",
        "            inputs, labels = inputs.to(device), labels.to(device)\n",
        "            outputs = model(inputs)\n",
        "\n",
        "            predicted = torch.argmax(outputs.data, 1)\n",
        "            val_labels.extend(labels.cpu().numpy())\n",
        "            val_preds.extend(predicted.cpu().numpy())\n",
        "\n",
        "\n",
        "    # Convert to NumPy arrays\n",
        "    val_preds_np = np.array(val_preds)\n",
        "\n",
        "    # Calculate and print validation accuracy\n",
        "    val_accuracy = np.sum(np.array(val_labels) == np.array(val_preds)) / len(val_preds)\n",
        "    print(f\"Validation Accuracy: {val_accuracy:.4f}\")\n",
        "\n"
      ],
      "metadata": {
        "colab": {
          "base_uri": "https://localhost:8080/"
        },
        "id": "IvUCp8ZhyCs_",
        "outputId": "85cf5428-1115-478e-f814-78a1bc18f0f3"
      },
      "execution_count": 36,
      "outputs": [
        {
          "output_type": "stream",
          "name": "stderr",
          "text": [
            "Epoch 1/20 - Training: 100%|██████████| 134/134 [00:00<00:00, 264.20it/s]\n"
          ]
        },
        {
          "output_type": "stream",
          "name": "stdout",
          "text": [
            "Average Training Loss: 1.5121\n"
          ]
        },
        {
          "output_type": "stream",
          "name": "stderr",
          "text": [
            "Epoch 1/20 - Validation: 100%|██████████| 18/18 [00:00<00:00, 725.80it/s]\n"
          ]
        },
        {
          "output_type": "stream",
          "name": "stdout",
          "text": [
            "Validation Accuracy: 0.3442\n"
          ]
        },
        {
          "output_type": "stream",
          "name": "stderr",
          "text": [
            "Epoch 2/20 - Training: 100%|██████████| 134/134 [00:00<00:00, 254.36it/s]\n"
          ]
        },
        {
          "output_type": "stream",
          "name": "stdout",
          "text": [
            "Average Training Loss: 1.4147\n"
          ]
        },
        {
          "output_type": "stream",
          "name": "stderr",
          "text": [
            "Epoch 2/20 - Validation: 100%|██████████| 18/18 [00:00<00:00, 617.95it/s]\n"
          ]
        },
        {
          "output_type": "stream",
          "name": "stdout",
          "text": [
            "Validation Accuracy: 0.4087\n"
          ]
        },
        {
          "output_type": "stream",
          "name": "stderr",
          "text": [
            "Epoch 3/20 - Training: 100%|██████████| 134/134 [00:00<00:00, 252.24it/s]\n"
          ]
        },
        {
          "output_type": "stream",
          "name": "stdout",
          "text": [
            "Average Training Loss: 1.3872\n"
          ]
        },
        {
          "output_type": "stream",
          "name": "stderr",
          "text": [
            "Epoch 3/20 - Validation: 100%|██████████| 18/18 [00:00<00:00, 599.79it/s]\n"
          ]
        },
        {
          "output_type": "stream",
          "name": "stdout",
          "text": [
            "Validation Accuracy: 0.3951\n"
          ]
        },
        {
          "output_type": "stream",
          "name": "stderr",
          "text": [
            "Epoch 4/20 - Training: 100%|██████████| 134/134 [00:00<00:00, 228.51it/s]\n"
          ]
        },
        {
          "output_type": "stream",
          "name": "stdout",
          "text": [
            "Average Training Loss: 1.3708\n"
          ]
        },
        {
          "output_type": "stream",
          "name": "stderr",
          "text": [
            "Epoch 4/20 - Validation: 100%|██████████| 18/18 [00:00<00:00, 574.02it/s]\n"
          ]
        },
        {
          "output_type": "stream",
          "name": "stdout",
          "text": [
            "Validation Accuracy: 0.3842\n"
          ]
        },
        {
          "output_type": "stream",
          "name": "stderr",
          "text": [
            "Epoch 5/20 - Training: 100%|██████████| 134/134 [00:00<00:00, 227.91it/s]\n"
          ]
        },
        {
          "output_type": "stream",
          "name": "stdout",
          "text": [
            "Average Training Loss: 1.3626\n"
          ]
        },
        {
          "output_type": "stream",
          "name": "stderr",
          "text": [
            "Epoch 5/20 - Validation: 100%|██████████| 18/18 [00:00<00:00, 646.43it/s]\n"
          ]
        },
        {
          "output_type": "stream",
          "name": "stdout",
          "text": [
            "Validation Accuracy: 0.3842\n"
          ]
        },
        {
          "output_type": "stream",
          "name": "stderr",
          "text": [
            "Epoch 6/20 - Training: 100%|██████████| 134/134 [00:00<00:00, 247.52it/s]\n"
          ]
        },
        {
          "output_type": "stream",
          "name": "stdout",
          "text": [
            "Average Training Loss: 1.3533\n"
          ]
        },
        {
          "output_type": "stream",
          "name": "stderr",
          "text": [
            "Epoch 6/20 - Validation: 100%|██████████| 18/18 [00:00<00:00, 527.27it/s]\n"
          ]
        },
        {
          "output_type": "stream",
          "name": "stdout",
          "text": [
            "Validation Accuracy: 0.3824\n"
          ]
        },
        {
          "output_type": "stream",
          "name": "stderr",
          "text": [
            "Epoch 7/20 - Training: 100%|██████████| 134/134 [00:00<00:00, 190.67it/s]\n"
          ]
        },
        {
          "output_type": "stream",
          "name": "stdout",
          "text": [
            "Average Training Loss: 1.3448\n"
          ]
        },
        {
          "output_type": "stream",
          "name": "stderr",
          "text": [
            "Epoch 7/20 - Validation: 100%|██████████| 18/18 [00:00<00:00, 474.23it/s]\n"
          ]
        },
        {
          "output_type": "stream",
          "name": "stdout",
          "text": [
            "Validation Accuracy: 0.4005\n"
          ]
        },
        {
          "output_type": "stream",
          "name": "stderr",
          "text": [
            "Epoch 8/20 - Training: 100%|██████████| 134/134 [00:00<00:00, 179.98it/s]\n"
          ]
        },
        {
          "output_type": "stream",
          "name": "stdout",
          "text": [
            "Average Training Loss: 1.3453\n"
          ]
        },
        {
          "output_type": "stream",
          "name": "stderr",
          "text": [
            "Epoch 8/20 - Validation: 100%|██████████| 18/18 [00:00<00:00, 488.61it/s]\n"
          ]
        },
        {
          "output_type": "stream",
          "name": "stdout",
          "text": [
            "Validation Accuracy: 0.3987\n"
          ]
        },
        {
          "output_type": "stream",
          "name": "stderr",
          "text": [
            "Epoch 9/20 - Training: 100%|██████████| 134/134 [00:00<00:00, 198.26it/s]\n"
          ]
        },
        {
          "output_type": "stream",
          "name": "stdout",
          "text": [
            "Average Training Loss: 1.3377\n"
          ]
        },
        {
          "output_type": "stream",
          "name": "stderr",
          "text": [
            "Epoch 9/20 - Validation: 100%|██████████| 18/18 [00:00<00:00, 527.59it/s]\n"
          ]
        },
        {
          "output_type": "stream",
          "name": "stdout",
          "text": [
            "Validation Accuracy: 0.3996\n"
          ]
        },
        {
          "output_type": "stream",
          "name": "stderr",
          "text": [
            "Epoch 10/20 - Training: 100%|██████████| 134/134 [00:00<00:00, 175.70it/s]\n"
          ]
        },
        {
          "output_type": "stream",
          "name": "stdout",
          "text": [
            "Average Training Loss: 1.3307\n"
          ]
        },
        {
          "output_type": "stream",
          "name": "stderr",
          "text": [
            "Epoch 10/20 - Validation: 100%|██████████| 18/18 [00:00<00:00, 436.89it/s]\n"
          ]
        },
        {
          "output_type": "stream",
          "name": "stdout",
          "text": [
            "Validation Accuracy: 0.3987\n"
          ]
        },
        {
          "output_type": "stream",
          "name": "stderr",
          "text": [
            "Epoch 11/20 - Training: 100%|██████████| 134/134 [00:00<00:00, 164.68it/s]\n"
          ]
        },
        {
          "output_type": "stream",
          "name": "stdout",
          "text": [
            "Average Training Loss: 1.3212\n"
          ]
        },
        {
          "output_type": "stream",
          "name": "stderr",
          "text": [
            "Epoch 11/20 - Validation: 100%|██████████| 18/18 [00:00<00:00, 462.08it/s]\n"
          ]
        },
        {
          "output_type": "stream",
          "name": "stdout",
          "text": [
            "Validation Accuracy: 0.4051\n"
          ]
        },
        {
          "output_type": "stream",
          "name": "stderr",
          "text": [
            "Epoch 12/20 - Training: 100%|██████████| 134/134 [00:00<00:00, 168.31it/s]\n"
          ]
        },
        {
          "output_type": "stream",
          "name": "stdout",
          "text": [
            "Average Training Loss: 1.3161\n"
          ]
        },
        {
          "output_type": "stream",
          "name": "stderr",
          "text": [
            "Epoch 12/20 - Validation: 100%|██████████| 18/18 [00:00<00:00, 503.93it/s]\n"
          ]
        },
        {
          "output_type": "stream",
          "name": "stdout",
          "text": [
            "Validation Accuracy: 0.4005\n"
          ]
        },
        {
          "output_type": "stream",
          "name": "stderr",
          "text": [
            "Epoch 13/20 - Training: 100%|██████████| 134/134 [00:00<00:00, 231.46it/s]\n"
          ]
        },
        {
          "output_type": "stream",
          "name": "stdout",
          "text": [
            "Average Training Loss: 1.3151\n"
          ]
        },
        {
          "output_type": "stream",
          "name": "stderr",
          "text": [
            "Epoch 13/20 - Validation: 100%|██████████| 18/18 [00:00<00:00, 580.50it/s]\n"
          ]
        },
        {
          "output_type": "stream",
          "name": "stdout",
          "text": [
            "Validation Accuracy: 0.3960\n"
          ]
        },
        {
          "output_type": "stream",
          "name": "stderr",
          "text": [
            "Epoch 14/20 - Training: 100%|██████████| 134/134 [00:00<00:00, 244.54it/s]\n"
          ]
        },
        {
          "output_type": "stream",
          "name": "stdout",
          "text": [
            "Average Training Loss: 1.3095\n"
          ]
        },
        {
          "output_type": "stream",
          "name": "stderr",
          "text": [
            "Epoch 14/20 - Validation: 100%|██████████| 18/18 [00:00<00:00, 744.27it/s]\n"
          ]
        },
        {
          "output_type": "stream",
          "name": "stdout",
          "text": [
            "Validation Accuracy: 0.3924\n"
          ]
        },
        {
          "output_type": "stream",
          "name": "stderr",
          "text": [
            "Epoch 15/20 - Training: 100%|██████████| 134/134 [00:00<00:00, 245.48it/s]\n"
          ]
        },
        {
          "output_type": "stream",
          "name": "stdout",
          "text": [
            "Average Training Loss: 1.3050\n"
          ]
        },
        {
          "output_type": "stream",
          "name": "stderr",
          "text": [
            "Epoch 15/20 - Validation: 100%|██████████| 18/18 [00:00<00:00, 613.86it/s]\n"
          ]
        },
        {
          "output_type": "stream",
          "name": "stdout",
          "text": [
            "Validation Accuracy: 0.3887\n"
          ]
        },
        {
          "output_type": "stream",
          "name": "stderr",
          "text": [
            "Epoch 16/20 - Training: 100%|██████████| 134/134 [00:00<00:00, 252.12it/s]\n"
          ]
        },
        {
          "output_type": "stream",
          "name": "stdout",
          "text": [
            "Average Training Loss: 1.2986\n"
          ]
        },
        {
          "output_type": "stream",
          "name": "stderr",
          "text": [
            "Epoch 16/20 - Validation: 100%|██████████| 18/18 [00:00<00:00, 745.71it/s]\n"
          ]
        },
        {
          "output_type": "stream",
          "name": "stdout",
          "text": [
            "Validation Accuracy: 0.4015\n"
          ]
        },
        {
          "output_type": "stream",
          "name": "stderr",
          "text": [
            "Epoch 17/20 - Training: 100%|██████████| 134/134 [00:00<00:00, 245.87it/s]\n"
          ]
        },
        {
          "output_type": "stream",
          "name": "stdout",
          "text": [
            "Average Training Loss: 1.2931\n"
          ]
        },
        {
          "output_type": "stream",
          "name": "stderr",
          "text": [
            "Epoch 17/20 - Validation: 100%|██████████| 18/18 [00:00<00:00, 689.62it/s]\n"
          ]
        },
        {
          "output_type": "stream",
          "name": "stdout",
          "text": [
            "Validation Accuracy: 0.4015\n"
          ]
        },
        {
          "output_type": "stream",
          "name": "stderr",
          "text": [
            "Epoch 18/20 - Training: 100%|██████████| 134/134 [00:00<00:00, 253.40it/s]\n"
          ]
        },
        {
          "output_type": "stream",
          "name": "stdout",
          "text": [
            "Average Training Loss: 1.2833\n"
          ]
        },
        {
          "output_type": "stream",
          "name": "stderr",
          "text": [
            "Epoch 18/20 - Validation: 100%|██████████| 18/18 [00:00<00:00, 762.02it/s]\n"
          ]
        },
        {
          "output_type": "stream",
          "name": "stdout",
          "text": [
            "Validation Accuracy: 0.3996\n"
          ]
        },
        {
          "output_type": "stream",
          "name": "stderr",
          "text": [
            "Epoch 19/20 - Training: 100%|██████████| 134/134 [00:00<00:00, 233.17it/s]\n"
          ]
        },
        {
          "output_type": "stream",
          "name": "stdout",
          "text": [
            "Average Training Loss: 1.2804\n"
          ]
        },
        {
          "output_type": "stream",
          "name": "stderr",
          "text": [
            "Epoch 19/20 - Validation: 100%|██████████| 18/18 [00:00<00:00, 689.32it/s]\n"
          ]
        },
        {
          "output_type": "stream",
          "name": "stdout",
          "text": [
            "Validation Accuracy: 0.3915\n"
          ]
        },
        {
          "output_type": "stream",
          "name": "stderr",
          "text": [
            "Epoch 20/20 - Training: 100%|██████████| 134/134 [00:00<00:00, 244.89it/s]\n"
          ]
        },
        {
          "output_type": "stream",
          "name": "stdout",
          "text": [
            "Average Training Loss: 1.2776\n"
          ]
        },
        {
          "output_type": "stream",
          "name": "stderr",
          "text": [
            "Epoch 20/20 - Validation: 100%|██████████| 18/18 [00:00<00:00, 704.37it/s]"
          ]
        },
        {
          "output_type": "stream",
          "name": "stdout",
          "text": [
            "Validation Accuracy: 0.4033\n"
          ]
        },
        {
          "output_type": "stream",
          "name": "stderr",
          "text": [
            "\n"
          ]
        }
      ]
    },
    {
      "cell_type": "code",
      "source": [
        "# Define a grid of hyperparameters to search\n",
        "learning_rates = [0.0001, 0.001, 0.01, 0.1, 0.5]\n",
        "hidden_sizes = [128, 256, 512]\n",
        "dropout_probs = [0.0, 0.1, 0.2, 0.5, 0.7]\n",
        "num_epochs = 20\n",
        "batch_size = 64\n",
        "\n",
        "best_val_accuracy = 0.0\n",
        "best_hyperparameters = None\n",
        "\n",
        "for lr in learning_rates:\n",
        "    for hidden_size in hidden_sizes:\n",
        "        for dropout_prob in dropout_probs:\n",
        "            # Create and train the model with the current set of hyperparameters\n",
        "            model = NeuralNet(input_size, hidden_size, num_classes, dropout_prob)\n",
        "            optimizer = torch.optim.Adam(model.parameters(), lr=lr)\n",
        "            criterion = nn.CrossEntropyLoss()\n",
        "\n",
        "            # Training and validation loop\n",
        "            for epoch in range(num_epochs):\n",
        "              # Training phase\n",
        "              model.train()\n",
        "              train_loss = 0.0\n",
        "              train_steps = 0\n",
        "              for inputs, labels in tqdm(train_loader, desc=f\"Epoch {epoch+1}/{num_epochs} - Training\"):\n",
        "                  inputs, labels = inputs.to(device), labels.to(device)\n",
        "                  outputs = model(inputs)\n",
        "                  # loss = criterion(outputs, labels.float())\n",
        "                  loss = criterion(outputs, labels)\n",
        "\n",
        "                  optimizer.zero_grad()\n",
        "                  loss.backward()\n",
        "                  optimizer.step()\n",
        "\n",
        "                  train_loss += loss.item()\n",
        "                  train_steps += 1\n",
        "\n",
        "              # Print average training loss per batch\n",
        "              print(f\"Average Training Loss: {train_loss / train_steps:.4f}\")\n",
        "\n",
        "              # Validation phase\n",
        "              model.eval()\n",
        "              val_labels = []\n",
        "              val_preds = []\n",
        "              with torch.no_grad():\n",
        "                  for inputs, labels in tqdm(valid_loader, desc=f\"Epoch {epoch+1}/{num_epochs} - Validation\"):\n",
        "                      inputs, labels = inputs.to(device), labels.to(device)\n",
        "                      outputs = model(inputs)\n",
        "\n",
        "                      predicted = torch.argmax(outputs.data, 1)\n",
        "                      val_labels.extend(labels.cpu().numpy())\n",
        "                      val_preds.extend(predicted.cpu().numpy())\n",
        "\n",
        "\n",
        "            # Calculate validation accuracy\n",
        "            val_accuracy = np.sum(np.array(val_labels) == np.array(val_preds)) / len(val_preds)\n",
        "\n",
        "            # Check if this set of hyperparameters resulted in better performance\n",
        "            if val_accuracy > best_val_accuracy:\n",
        "                best_val_accuracy = val_accuracy\n",
        "                best_hyperparameters = {\n",
        "                    'lr': lr,\n",
        "                    'hidden_size': hidden_size,\n",
        "                    'dropout_prob': dropout_prob,\n",
        "                }\n",
        "\n",
        "print(\"Best Hyperparameters:\")\n",
        "print(best_hyperparameters)\n",
        "print(f\"Best Validation Accuracy: {best_val_accuracy:.4f}\")\n"
      ],
      "metadata": {
        "colab": {
          "base_uri": "https://localhost:8080/"
        },
        "id": "lDVCk233F8nY",
        "outputId": "93bba5d8-2298-41a3-8f76-9a24e73b4d4a"
      },
      "execution_count": 18,
      "outputs": [
        {
          "output_type": "stream",
          "name": "stderr",
          "text": [
            "Epoch 1/20 - Training: 100%|██████████| 1068/1068 [00:02<00:00, 502.35it/s]\n"
          ]
        },
        {
          "output_type": "stream",
          "name": "stdout",
          "text": [
            "Average Training Loss: 1.5661\n"
          ]
        },
        {
          "output_type": "stream",
          "name": "stderr",
          "text": [
            "Epoch 1/20 - Validation: 100%|██████████| 138/138 [00:00<00:00, 2800.99it/s]\n",
            "Epoch 2/20 - Training: 100%|██████████| 1068/1068 [00:01<00:00, 722.03it/s]\n"
          ]
        },
        {
          "output_type": "stream",
          "name": "stdout",
          "text": [
            "Average Training Loss: 1.5269\n"
          ]
        },
        {
          "output_type": "stream",
          "name": "stderr",
          "text": [
            "Epoch 2/20 - Validation: 100%|██████████| 138/138 [00:00<00:00, 2697.98it/s]\n",
            "Epoch 3/20 - Training: 100%|██████████| 1068/1068 [00:01<00:00, 742.13it/s]\n"
          ]
        },
        {
          "output_type": "stream",
          "name": "stdout",
          "text": [
            "Average Training Loss: 1.4906\n"
          ]
        },
        {
          "output_type": "stream",
          "name": "stderr",
          "text": [
            "Epoch 3/20 - Validation: 100%|██████████| 138/138 [00:00<00:00, 2366.97it/s]\n",
            "Epoch 4/20 - Training: 100%|██████████| 1068/1068 [00:02<00:00, 360.18it/s]\n"
          ]
        },
        {
          "output_type": "stream",
          "name": "stdout",
          "text": [
            "Average Training Loss: 1.4601\n"
          ]
        },
        {
          "output_type": "stream",
          "name": "stderr",
          "text": [
            "Epoch 4/20 - Validation: 100%|██████████| 138/138 [00:00<00:00, 2150.21it/s]\n",
            "Epoch 5/20 - Training: 100%|██████████| 1068/1068 [00:02<00:00, 460.43it/s]\n"
          ]
        },
        {
          "output_type": "stream",
          "name": "stdout",
          "text": [
            "Average Training Loss: 1.4359\n"
          ]
        },
        {
          "output_type": "stream",
          "name": "stderr",
          "text": [
            "Epoch 5/20 - Validation: 100%|██████████| 138/138 [00:00<00:00, 2133.11it/s]\n",
            "Epoch 6/20 - Training: 100%|██████████| 1068/1068 [00:03<00:00, 312.03it/s]\n"
          ]
        },
        {
          "output_type": "stream",
          "name": "stdout",
          "text": [
            "Average Training Loss: 1.4174\n"
          ]
        },
        {
          "output_type": "stream",
          "name": "stderr",
          "text": [
            "Epoch 6/20 - Validation: 100%|██████████| 138/138 [00:00<00:00, 1563.19it/s]\n",
            "Epoch 7/20 - Training: 100%|██████████| 1068/1068 [00:01<00:00, 699.94it/s]\n"
          ]
        },
        {
          "output_type": "stream",
          "name": "stdout",
          "text": [
            "Average Training Loss: 1.4027\n"
          ]
        },
        {
          "output_type": "stream",
          "name": "stderr",
          "text": [
            "Epoch 7/20 - Validation: 100%|██████████| 138/138 [00:00<00:00, 2745.30it/s]\n",
            "Epoch 8/20 - Training: 100%|██████████| 1068/1068 [00:01<00:00, 707.61it/s]\n"
          ]
        },
        {
          "output_type": "stream",
          "name": "stdout",
          "text": [
            "Average Training Loss: 1.3914\n"
          ]
        },
        {
          "output_type": "stream",
          "name": "stderr",
          "text": [
            "Epoch 8/20 - Validation: 100%|██████████| 138/138 [00:00<00:00, 2702.45it/s]\n",
            "Epoch 9/20 - Training: 100%|██████████| 1068/1068 [00:01<00:00, 738.15it/s]\n"
          ]
        },
        {
          "output_type": "stream",
          "name": "stdout",
          "text": [
            "Average Training Loss: 1.3838\n"
          ]
        },
        {
          "output_type": "stream",
          "name": "stderr",
          "text": [
            "Epoch 9/20 - Validation: 100%|██████████| 138/138 [00:00<00:00, 2701.52it/s]\n",
            "Epoch 10/20 - Training: 100%|██████████| 1068/1068 [00:01<00:00, 734.10it/s]\n"
          ]
        },
        {
          "output_type": "stream",
          "name": "stdout",
          "text": [
            "Average Training Loss: 1.3769\n"
          ]
        },
        {
          "output_type": "stream",
          "name": "stderr",
          "text": [
            "Epoch 10/20 - Validation: 100%|██████████| 138/138 [00:00<00:00, 2995.95it/s]\n",
            "Epoch 11/20 - Training: 100%|██████████| 1068/1068 [00:01<00:00, 742.75it/s]\n"
          ]
        },
        {
          "output_type": "stream",
          "name": "stdout",
          "text": [
            "Average Training Loss: 1.3712\n"
          ]
        },
        {
          "output_type": "stream",
          "name": "stderr",
          "text": [
            "Epoch 11/20 - Validation: 100%|██████████| 138/138 [00:00<00:00, 2896.02it/s]\n",
            "Epoch 12/20 - Training: 100%|██████████| 1068/1068 [00:01<00:00, 741.51it/s]\n"
          ]
        },
        {
          "output_type": "stream",
          "name": "stdout",
          "text": [
            "Average Training Loss: 1.3665\n"
          ]
        },
        {
          "output_type": "stream",
          "name": "stderr",
          "text": [
            "Epoch 12/20 - Validation: 100%|██████████| 138/138 [00:00<00:00, 2946.28it/s]\n",
            "Epoch 13/20 - Training: 100%|██████████| 1068/1068 [00:01<00:00, 580.78it/s]\n"
          ]
        },
        {
          "output_type": "stream",
          "name": "stdout",
          "text": [
            "Average Training Loss: 1.3627\n"
          ]
        },
        {
          "output_type": "stream",
          "name": "stderr",
          "text": [
            "Epoch 13/20 - Validation: 100%|██████████| 138/138 [00:00<00:00, 2098.44it/s]\n",
            "Epoch 14/20 - Training: 100%|██████████| 1068/1068 [00:01<00:00, 554.94it/s]\n"
          ]
        },
        {
          "output_type": "stream",
          "name": "stdout",
          "text": [
            "Average Training Loss: 1.3590\n"
          ]
        },
        {
          "output_type": "stream",
          "name": "stderr",
          "text": [
            "Epoch 14/20 - Validation: 100%|██████████| 138/138 [00:00<00:00, 1665.19it/s]\n",
            "Epoch 15/20 - Training: 100%|██████████| 1068/1068 [00:01<00:00, 570.32it/s]\n"
          ]
        },
        {
          "output_type": "stream",
          "name": "stdout",
          "text": [
            "Average Training Loss: 1.3555\n"
          ]
        },
        {
          "output_type": "stream",
          "name": "stderr",
          "text": [
            "Epoch 15/20 - Validation: 100%|██████████| 138/138 [00:00<00:00, 2512.27it/s]\n",
            "Epoch 16/20 - Training: 100%|██████████| 1068/1068 [00:01<00:00, 708.87it/s]\n"
          ]
        },
        {
          "output_type": "stream",
          "name": "stdout",
          "text": [
            "Average Training Loss: 1.3520\n"
          ]
        },
        {
          "output_type": "stream",
          "name": "stderr",
          "text": [
            "Epoch 16/20 - Validation: 100%|██████████| 138/138 [00:00<00:00, 2837.53it/s]\n",
            "Epoch 17/20 - Training: 100%|██████████| 1068/1068 [00:01<00:00, 712.55it/s]\n"
          ]
        },
        {
          "output_type": "stream",
          "name": "stdout",
          "text": [
            "Average Training Loss: 1.3499\n"
          ]
        },
        {
          "output_type": "stream",
          "name": "stderr",
          "text": [
            "Epoch 17/20 - Validation: 100%|██████████| 138/138 [00:00<00:00, 2713.25it/s]\n",
            "Epoch 18/20 - Training: 100%|██████████| 1068/1068 [00:01<00:00, 727.38it/s]\n"
          ]
        },
        {
          "output_type": "stream",
          "name": "stdout",
          "text": [
            "Average Training Loss: 1.3475\n"
          ]
        },
        {
          "output_type": "stream",
          "name": "stderr",
          "text": [
            "Epoch 18/20 - Validation: 100%|██████████| 138/138 [00:00<00:00, 2509.88it/s]\n",
            "Epoch 19/20 - Training: 100%|██████████| 1068/1068 [00:01<00:00, 739.62it/s]\n"
          ]
        },
        {
          "output_type": "stream",
          "name": "stdout",
          "text": [
            "Average Training Loss: 1.3441\n"
          ]
        },
        {
          "output_type": "stream",
          "name": "stderr",
          "text": [
            "Epoch 19/20 - Validation: 100%|██████████| 138/138 [00:00<00:00, 2819.55it/s]\n",
            "Epoch 20/20 - Training: 100%|██████████| 1068/1068 [00:01<00:00, 732.35it/s]\n"
          ]
        },
        {
          "output_type": "stream",
          "name": "stdout",
          "text": [
            "Average Training Loss: 1.3412\n"
          ]
        },
        {
          "output_type": "stream",
          "name": "stderr",
          "text": [
            "Epoch 20/20 - Validation: 100%|██████████| 138/138 [00:00<00:00, 2682.95it/s]\n",
            "Epoch 1/20 - Training: 100%|██████████| 1068/1068 [00:01<00:00, 707.95it/s]\n"
          ]
        },
        {
          "output_type": "stream",
          "name": "stdout",
          "text": [
            "Average Training Loss: 1.5618\n"
          ]
        },
        {
          "output_type": "stream",
          "name": "stderr",
          "text": [
            "Epoch 1/20 - Validation: 100%|██████████| 138/138 [00:00<00:00, 2661.89it/s]\n",
            "Epoch 2/20 - Training: 100%|██████████| 1068/1068 [00:02<00:00, 507.11it/s]\n"
          ]
        },
        {
          "output_type": "stream",
          "name": "stdout",
          "text": [
            "Average Training Loss: 1.5309\n"
          ]
        },
        {
          "output_type": "stream",
          "name": "stderr",
          "text": [
            "Epoch 2/20 - Validation: 100%|██████████| 138/138 [00:00<00:00, 2012.80it/s]\n",
            "Epoch 3/20 - Training: 100%|██████████| 1068/1068 [00:02<00:00, 506.59it/s]\n"
          ]
        },
        {
          "output_type": "stream",
          "name": "stdout",
          "text": [
            "Average Training Loss: 1.4990\n"
          ]
        },
        {
          "output_type": "stream",
          "name": "stderr",
          "text": [
            "Epoch 3/20 - Validation: 100%|██████████| 138/138 [00:00<00:00, 1829.44it/s]\n",
            "Epoch 4/20 - Training: 100%|██████████| 1068/1068 [00:01<00:00, 662.77it/s]\n"
          ]
        },
        {
          "output_type": "stream",
          "name": "stdout",
          "text": [
            "Average Training Loss: 1.4690\n"
          ]
        },
        {
          "output_type": "stream",
          "name": "stderr",
          "text": [
            "Epoch 4/20 - Validation: 100%|██████████| 138/138 [00:00<00:00, 2650.56it/s]\n",
            "Epoch 5/20 - Training: 100%|██████████| 1068/1068 [00:01<00:00, 682.42it/s]\n"
          ]
        },
        {
          "output_type": "stream",
          "name": "stdout",
          "text": [
            "Average Training Loss: 1.4452\n"
          ]
        },
        {
          "output_type": "stream",
          "name": "stderr",
          "text": [
            "Epoch 5/20 - Validation: 100%|██████████| 138/138 [00:00<00:00, 2721.95it/s]\n",
            "Epoch 6/20 - Training: 100%|██████████| 1068/1068 [00:01<00:00, 685.99it/s]\n"
          ]
        },
        {
          "output_type": "stream",
          "name": "stdout",
          "text": [
            "Average Training Loss: 1.4248\n"
          ]
        },
        {
          "output_type": "stream",
          "name": "stderr",
          "text": [
            "Epoch 6/20 - Validation: 100%|██████████| 138/138 [00:00<00:00, 2864.59it/s]\n",
            "Epoch 7/20 - Training: 100%|██████████| 1068/1068 [00:01<00:00, 699.54it/s]\n"
          ]
        },
        {
          "output_type": "stream",
          "name": "stdout",
          "text": [
            "Average Training Loss: 1.4103\n"
          ]
        },
        {
          "output_type": "stream",
          "name": "stderr",
          "text": [
            "Epoch 7/20 - Validation: 100%|██████████| 138/138 [00:00<00:00, 2935.04it/s]\n",
            "Epoch 8/20 - Training: 100%|██████████| 1068/1068 [00:01<00:00, 684.84it/s]\n"
          ]
        },
        {
          "output_type": "stream",
          "name": "stdout",
          "text": [
            "Average Training Loss: 1.4003\n"
          ]
        },
        {
          "output_type": "stream",
          "name": "stderr",
          "text": [
            "Epoch 8/20 - Validation: 100%|██████████| 138/138 [00:00<00:00, 2035.37it/s]\n",
            "Epoch 9/20 - Training: 100%|██████████| 1068/1068 [00:01<00:00, 684.18it/s]\n"
          ]
        },
        {
          "output_type": "stream",
          "name": "stdout",
          "text": [
            "Average Training Loss: 1.3913\n"
          ]
        },
        {
          "output_type": "stream",
          "name": "stderr",
          "text": [
            "Epoch 9/20 - Validation: 100%|██████████| 138/138 [00:00<00:00, 2799.14it/s]\n",
            "Epoch 10/20 - Training: 100%|██████████| 1068/1068 [00:01<00:00, 536.65it/s]\n"
          ]
        },
        {
          "output_type": "stream",
          "name": "stdout",
          "text": [
            "Average Training Loss: 1.3836\n"
          ]
        },
        {
          "output_type": "stream",
          "name": "stderr",
          "text": [
            "Epoch 10/20 - Validation: 100%|██████████| 138/138 [00:00<00:00, 2104.20it/s]\n",
            "Epoch 11/20 - Training: 100%|██████████| 1068/1068 [00:02<00:00, 501.18it/s]\n"
          ]
        },
        {
          "output_type": "stream",
          "name": "stdout",
          "text": [
            "Average Training Loss: 1.3784\n"
          ]
        },
        {
          "output_type": "stream",
          "name": "stderr",
          "text": [
            "Epoch 11/20 - Validation: 100%|██████████| 138/138 [00:00<00:00, 2073.47it/s]\n",
            "Epoch 12/20 - Training: 100%|██████████| 1068/1068 [00:01<00:00, 587.05it/s]\n"
          ]
        },
        {
          "output_type": "stream",
          "name": "stdout",
          "text": [
            "Average Training Loss: 1.3711\n"
          ]
        },
        {
          "output_type": "stream",
          "name": "stderr",
          "text": [
            "Epoch 12/20 - Validation: 100%|██████████| 138/138 [00:00<00:00, 2770.20it/s]\n",
            "Epoch 13/20 - Training: 100%|██████████| 1068/1068 [00:01<00:00, 711.71it/s]\n"
          ]
        },
        {
          "output_type": "stream",
          "name": "stdout",
          "text": [
            "Average Training Loss: 1.3671\n"
          ]
        },
        {
          "output_type": "stream",
          "name": "stderr",
          "text": [
            "Epoch 13/20 - Validation: 100%|██████████| 138/138 [00:00<00:00, 2328.48it/s]\n",
            "Epoch 14/20 - Training: 100%|██████████| 1068/1068 [00:01<00:00, 700.93it/s]\n"
          ]
        },
        {
          "output_type": "stream",
          "name": "stdout",
          "text": [
            "Average Training Loss: 1.3633\n"
          ]
        },
        {
          "output_type": "stream",
          "name": "stderr",
          "text": [
            "Epoch 14/20 - Validation: 100%|██████████| 138/138 [00:00<00:00, 2646.60it/s]\n",
            "Epoch 15/20 - Training: 100%|██████████| 1068/1068 [00:01<00:00, 688.60it/s]\n"
          ]
        },
        {
          "output_type": "stream",
          "name": "stdout",
          "text": [
            "Average Training Loss: 1.3601\n"
          ]
        },
        {
          "output_type": "stream",
          "name": "stderr",
          "text": [
            "Epoch 15/20 - Validation: 100%|██████████| 138/138 [00:00<00:00, 2498.65it/s]\n",
            "Epoch 16/20 - Training: 100%|██████████| 1068/1068 [00:01<00:00, 682.74it/s]\n"
          ]
        },
        {
          "output_type": "stream",
          "name": "stdout",
          "text": [
            "Average Training Loss: 1.3582\n"
          ]
        },
        {
          "output_type": "stream",
          "name": "stderr",
          "text": [
            "Epoch 16/20 - Validation: 100%|██████████| 138/138 [00:00<00:00, 2398.55it/s]\n",
            "Epoch 17/20 - Training: 100%|██████████| 1068/1068 [00:01<00:00, 669.13it/s]\n"
          ]
        },
        {
          "output_type": "stream",
          "name": "stdout",
          "text": [
            "Average Training Loss: 1.3537\n"
          ]
        },
        {
          "output_type": "stream",
          "name": "stderr",
          "text": [
            "Epoch 17/20 - Validation: 100%|██████████| 138/138 [00:00<00:00, 2749.79it/s]\n",
            "Epoch 18/20 - Training: 100%|██████████| 1068/1068 [00:01<00:00, 592.74it/s]\n"
          ]
        },
        {
          "output_type": "stream",
          "name": "stdout",
          "text": [
            "Average Training Loss: 1.3519\n"
          ]
        },
        {
          "output_type": "stream",
          "name": "stderr",
          "text": [
            "Epoch 18/20 - Validation: 100%|██████████| 138/138 [00:00<00:00, 1974.40it/s]\n",
            "Epoch 19/20 - Training: 100%|██████████| 1068/1068 [00:02<00:00, 489.28it/s]\n"
          ]
        },
        {
          "output_type": "stream",
          "name": "stdout",
          "text": [
            "Average Training Loss: 1.3470\n"
          ]
        },
        {
          "output_type": "stream",
          "name": "stderr",
          "text": [
            "Epoch 19/20 - Validation: 100%|██████████| 138/138 [00:00<00:00, 2227.69it/s]\n",
            "Epoch 20/20 - Training: 100%|██████████| 1068/1068 [00:01<00:00, 540.82it/s]\n"
          ]
        },
        {
          "output_type": "stream",
          "name": "stdout",
          "text": [
            "Average Training Loss: 1.3440\n"
          ]
        },
        {
          "output_type": "stream",
          "name": "stderr",
          "text": [
            "Epoch 20/20 - Validation: 100%|██████████| 138/138 [00:00<00:00, 2369.53it/s]\n",
            "Epoch 1/20 - Training: 100%|██████████| 1068/1068 [00:01<00:00, 686.26it/s]\n"
          ]
        },
        {
          "output_type": "stream",
          "name": "stdout",
          "text": [
            "Average Training Loss: 1.5659\n"
          ]
        },
        {
          "output_type": "stream",
          "name": "stderr",
          "text": [
            "Epoch 1/20 - Validation: 100%|██████████| 138/138 [00:00<00:00, 2972.00it/s]\n",
            "Epoch 2/20 - Training: 100%|██████████| 1068/1068 [00:01<00:00, 671.67it/s]\n"
          ]
        },
        {
          "output_type": "stream",
          "name": "stdout",
          "text": [
            "Average Training Loss: 1.5345\n"
          ]
        },
        {
          "output_type": "stream",
          "name": "stderr",
          "text": [
            "Epoch 2/20 - Validation: 100%|██████████| 138/138 [00:00<00:00, 2679.52it/s]\n",
            "Epoch 3/20 - Training: 100%|██████████| 1068/1068 [00:01<00:00, 663.51it/s]\n"
          ]
        },
        {
          "output_type": "stream",
          "name": "stdout",
          "text": [
            "Average Training Loss: 1.5040\n"
          ]
        },
        {
          "output_type": "stream",
          "name": "stderr",
          "text": [
            "Epoch 3/20 - Validation: 100%|██████████| 138/138 [00:00<00:00, 2616.06it/s]\n",
            "Epoch 4/20 - Training: 100%|██████████| 1068/1068 [00:01<00:00, 680.73it/s]\n"
          ]
        },
        {
          "output_type": "stream",
          "name": "stdout",
          "text": [
            "Average Training Loss: 1.4765\n"
          ]
        },
        {
          "output_type": "stream",
          "name": "stderr",
          "text": [
            "Epoch 4/20 - Validation: 100%|██████████| 138/138 [00:00<00:00, 2858.71it/s]\n",
            "Epoch 5/20 - Training: 100%|██████████| 1068/1068 [00:01<00:00, 671.55it/s]\n"
          ]
        },
        {
          "output_type": "stream",
          "name": "stdout",
          "text": [
            "Average Training Loss: 1.4515\n"
          ]
        },
        {
          "output_type": "stream",
          "name": "stderr",
          "text": [
            "Epoch 5/20 - Validation: 100%|██████████| 138/138 [00:00<00:00, 2879.27it/s]\n",
            "Epoch 6/20 - Training: 100%|██████████| 1068/1068 [00:01<00:00, 598.18it/s]\n"
          ]
        },
        {
          "output_type": "stream",
          "name": "stdout",
          "text": [
            "Average Training Loss: 1.4345\n"
          ]
        },
        {
          "output_type": "stream",
          "name": "stderr",
          "text": [
            "Epoch 6/20 - Validation: 100%|██████████| 138/138 [00:00<00:00, 1919.36it/s]\n",
            "Epoch 7/20 - Training: 100%|██████████| 1068/1068 [00:02<00:00, 501.07it/s]\n"
          ]
        },
        {
          "output_type": "stream",
          "name": "stdout",
          "text": [
            "Average Training Loss: 1.4190\n"
          ]
        },
        {
          "output_type": "stream",
          "name": "stderr",
          "text": [
            "Epoch 7/20 - Validation: 100%|██████████| 138/138 [00:00<00:00, 1710.88it/s]\n",
            "Epoch 8/20 - Training: 100%|██████████| 1068/1068 [00:02<00:00, 516.99it/s]\n"
          ]
        },
        {
          "output_type": "stream",
          "name": "stdout",
          "text": [
            "Average Training Loss: 1.4078\n"
          ]
        },
        {
          "output_type": "stream",
          "name": "stderr",
          "text": [
            "Epoch 8/20 - Validation: 100%|██████████| 138/138 [00:00<00:00, 2922.39it/s]\n",
            "Epoch 9/20 - Training: 100%|██████████| 1068/1068 [00:01<00:00, 687.26it/s]\n"
          ]
        },
        {
          "output_type": "stream",
          "name": "stdout",
          "text": [
            "Average Training Loss: 1.3979\n"
          ]
        },
        {
          "output_type": "stream",
          "name": "stderr",
          "text": [
            "Epoch 9/20 - Validation: 100%|██████████| 138/138 [00:00<00:00, 2913.33it/s]\n",
            "Epoch 10/20 - Training: 100%|██████████| 1068/1068 [00:01<00:00, 705.67it/s]\n"
          ]
        },
        {
          "output_type": "stream",
          "name": "stdout",
          "text": [
            "Average Training Loss: 1.3908\n"
          ]
        },
        {
          "output_type": "stream",
          "name": "stderr",
          "text": [
            "Epoch 10/20 - Validation: 100%|██████████| 138/138 [00:00<00:00, 2776.70it/s]\n",
            "Epoch 11/20 - Training: 100%|██████████| 1068/1068 [00:01<00:00, 704.41it/s]\n"
          ]
        },
        {
          "output_type": "stream",
          "name": "stdout",
          "text": [
            "Average Training Loss: 1.3836\n"
          ]
        },
        {
          "output_type": "stream",
          "name": "stderr",
          "text": [
            "Epoch 11/20 - Validation: 100%|██████████| 138/138 [00:00<00:00, 2100.39it/s]\n",
            "Epoch 12/20 - Training: 100%|██████████| 1068/1068 [00:01<00:00, 695.95it/s]\n"
          ]
        },
        {
          "output_type": "stream",
          "name": "stdout",
          "text": [
            "Average Training Loss: 1.3795\n"
          ]
        },
        {
          "output_type": "stream",
          "name": "stderr",
          "text": [
            "Epoch 12/20 - Validation: 100%|██████████| 138/138 [00:00<00:00, 2898.87it/s]\n",
            "Epoch 13/20 - Training: 100%|██████████| 1068/1068 [00:01<00:00, 680.78it/s]\n"
          ]
        },
        {
          "output_type": "stream",
          "name": "stdout",
          "text": [
            "Average Training Loss: 1.3751\n"
          ]
        },
        {
          "output_type": "stream",
          "name": "stderr",
          "text": [
            "Epoch 13/20 - Validation: 100%|██████████| 138/138 [00:00<00:00, 2712.41it/s]\n",
            "Epoch 14/20 - Training: 100%|██████████| 1068/1068 [00:01<00:00, 687.85it/s]\n"
          ]
        },
        {
          "output_type": "stream",
          "name": "stdout",
          "text": [
            "Average Training Loss: 1.3705\n"
          ]
        },
        {
          "output_type": "stream",
          "name": "stderr",
          "text": [
            "Epoch 14/20 - Validation: 100%|██████████| 138/138 [00:00<00:00, 305.38it/s]\n",
            "Epoch 15/20 - Training: 100%|██████████| 1068/1068 [00:02<00:00, 422.34it/s]\n"
          ]
        },
        {
          "output_type": "stream",
          "name": "stdout",
          "text": [
            "Average Training Loss: 1.3682\n"
          ]
        },
        {
          "output_type": "stream",
          "name": "stderr",
          "text": [
            "Epoch 15/20 - Validation: 100%|██████████| 138/138 [00:00<00:00, 2167.92it/s]\n",
            "Epoch 16/20 - Training: 100%|██████████| 1068/1068 [00:01<00:00, 553.78it/s]\n"
          ]
        },
        {
          "output_type": "stream",
          "name": "stdout",
          "text": [
            "Average Training Loss: 1.3642\n"
          ]
        },
        {
          "output_type": "stream",
          "name": "stderr",
          "text": [
            "Epoch 16/20 - Validation: 100%|██████████| 138/138 [00:00<00:00, 2855.94it/s]\n",
            "Epoch 17/20 - Training: 100%|██████████| 1068/1068 [00:01<00:00, 708.88it/s]\n"
          ]
        },
        {
          "output_type": "stream",
          "name": "stdout",
          "text": [
            "Average Training Loss: 1.3606\n"
          ]
        },
        {
          "output_type": "stream",
          "name": "stderr",
          "text": [
            "Epoch 17/20 - Validation: 100%|██████████| 138/138 [00:00<00:00, 2491.81it/s]\n",
            "Epoch 18/20 - Training: 100%|██████████| 1068/1068 [00:01<00:00, 705.35it/s]\n"
          ]
        },
        {
          "output_type": "stream",
          "name": "stdout",
          "text": [
            "Average Training Loss: 1.3595\n"
          ]
        },
        {
          "output_type": "stream",
          "name": "stderr",
          "text": [
            "Epoch 18/20 - Validation: 100%|██████████| 138/138 [00:00<00:00, 2775.13it/s]\n",
            "Epoch 19/20 - Training: 100%|██████████| 1068/1068 [00:01<00:00, 703.40it/s]\n"
          ]
        },
        {
          "output_type": "stream",
          "name": "stdout",
          "text": [
            "Average Training Loss: 1.3538\n"
          ]
        },
        {
          "output_type": "stream",
          "name": "stderr",
          "text": [
            "Epoch 19/20 - Validation: 100%|██████████| 138/138 [00:00<00:00, 2441.52it/s]\n",
            "Epoch 20/20 - Training: 100%|██████████| 1068/1068 [00:01<00:00, 693.29it/s]\n"
          ]
        },
        {
          "output_type": "stream",
          "name": "stdout",
          "text": [
            "Average Training Loss: 1.3534\n"
          ]
        },
        {
          "output_type": "stream",
          "name": "stderr",
          "text": [
            "Epoch 20/20 - Validation: 100%|██████████| 138/138 [00:00<00:00, 2867.37it/s]\n",
            "Epoch 1/20 - Training: 100%|██████████| 1068/1068 [00:01<00:00, 693.18it/s]\n"
          ]
        },
        {
          "output_type": "stream",
          "name": "stdout",
          "text": [
            "Average Training Loss: 1.5705\n"
          ]
        },
        {
          "output_type": "stream",
          "name": "stderr",
          "text": [
            "Epoch 1/20 - Validation: 100%|██████████| 138/138 [00:00<00:00, 2890.05it/s]\n",
            "Epoch 2/20 - Training: 100%|██████████| 1068/1068 [00:01<00:00, 702.12it/s]\n"
          ]
        },
        {
          "output_type": "stream",
          "name": "stdout",
          "text": [
            "Average Training Loss: 1.5447\n"
          ]
        },
        {
          "output_type": "stream",
          "name": "stderr",
          "text": [
            "Epoch 2/20 - Validation: 100%|██████████| 138/138 [00:00<00:00, 2615.52it/s]\n",
            "Epoch 3/20 - Training: 100%|██████████| 1068/1068 [00:02<00:00, 516.12it/s]\n"
          ]
        },
        {
          "output_type": "stream",
          "name": "stdout",
          "text": [
            "Average Training Loss: 1.5198\n"
          ]
        },
        {
          "output_type": "stream",
          "name": "stderr",
          "text": [
            "Epoch 3/20 - Validation: 100%|██████████| 138/138 [00:00<00:00, 2043.52it/s]\n",
            "Epoch 4/20 - Training: 100%|██████████| 1068/1068 [00:02<00:00, 520.43it/s]\n"
          ]
        },
        {
          "output_type": "stream",
          "name": "stdout",
          "text": [
            "Average Training Loss: 1.4996\n"
          ]
        },
        {
          "output_type": "stream",
          "name": "stderr",
          "text": [
            "Epoch 4/20 - Validation: 100%|██████████| 138/138 [00:00<00:00, 2064.37it/s]\n",
            "Epoch 5/20 - Training: 100%|██████████| 1068/1068 [00:01<00:00, 617.47it/s]\n"
          ]
        },
        {
          "output_type": "stream",
          "name": "stdout",
          "text": [
            "Average Training Loss: 1.4779\n"
          ]
        },
        {
          "output_type": "stream",
          "name": "stderr",
          "text": [
            "Epoch 5/20 - Validation: 100%|██████████| 138/138 [00:00<00:00, 2874.35it/s]\n",
            "Epoch 6/20 - Training: 100%|██████████| 1068/1068 [00:01<00:00, 677.80it/s]\n"
          ]
        },
        {
          "output_type": "stream",
          "name": "stdout",
          "text": [
            "Average Training Loss: 1.4618\n"
          ]
        },
        {
          "output_type": "stream",
          "name": "stderr",
          "text": [
            "Epoch 6/20 - Validation: 100%|██████████| 138/138 [00:00<00:00, 2638.62it/s]\n",
            "Epoch 7/20 - Training: 100%|██████████| 1068/1068 [00:01<00:00, 688.45it/s]\n"
          ]
        },
        {
          "output_type": "stream",
          "name": "stdout",
          "text": [
            "Average Training Loss: 1.4455\n"
          ]
        },
        {
          "output_type": "stream",
          "name": "stderr",
          "text": [
            "Epoch 7/20 - Validation: 100%|██████████| 138/138 [00:00<00:00, 2857.30it/s]\n",
            "Epoch 8/20 - Training: 100%|██████████| 1068/1068 [00:01<00:00, 689.44it/s]\n"
          ]
        },
        {
          "output_type": "stream",
          "name": "stdout",
          "text": [
            "Average Training Loss: 1.4320\n"
          ]
        },
        {
          "output_type": "stream",
          "name": "stderr",
          "text": [
            "Epoch 8/20 - Validation: 100%|██████████| 138/138 [00:00<00:00, 2560.50it/s]\n",
            "Epoch 9/20 - Training: 100%|██████████| 1068/1068 [00:01<00:00, 692.58it/s]\n"
          ]
        },
        {
          "output_type": "stream",
          "name": "stdout",
          "text": [
            "Average Training Loss: 1.4206\n"
          ]
        },
        {
          "output_type": "stream",
          "name": "stderr",
          "text": [
            "Epoch 9/20 - Validation: 100%|██████████| 138/138 [00:00<00:00, 2747.00it/s]\n",
            "Epoch 10/20 - Training: 100%|██████████| 1068/1068 [00:01<00:00, 693.49it/s]\n"
          ]
        },
        {
          "output_type": "stream",
          "name": "stdout",
          "text": [
            "Average Training Loss: 1.4130\n"
          ]
        },
        {
          "output_type": "stream",
          "name": "stderr",
          "text": [
            "Epoch 10/20 - Validation: 100%|██████████| 138/138 [00:00<00:00, 2770.28it/s]\n",
            "Epoch 11/20 - Training: 100%|██████████| 1068/1068 [00:01<00:00, 548.63it/s]\n"
          ]
        },
        {
          "output_type": "stream",
          "name": "stdout",
          "text": [
            "Average Training Loss: 1.4049\n"
          ]
        },
        {
          "output_type": "stream",
          "name": "stderr",
          "text": [
            "Epoch 11/20 - Validation: 100%|██████████| 138/138 [00:00<00:00, 2089.97it/s]\n",
            "Epoch 12/20 - Training: 100%|██████████| 1068/1068 [00:02<00:00, 497.88it/s]\n"
          ]
        },
        {
          "output_type": "stream",
          "name": "stdout",
          "text": [
            "Average Training Loss: 1.3979\n"
          ]
        },
        {
          "output_type": "stream",
          "name": "stderr",
          "text": [
            "Epoch 12/20 - Validation: 100%|██████████| 138/138 [00:00<00:00, 2104.30it/s]\n",
            "Epoch 13/20 - Training: 100%|██████████| 1068/1068 [00:01<00:00, 584.83it/s]\n"
          ]
        },
        {
          "output_type": "stream",
          "name": "stdout",
          "text": [
            "Average Training Loss: 1.3951\n"
          ]
        },
        {
          "output_type": "stream",
          "name": "stderr",
          "text": [
            "Epoch 13/20 - Validation: 100%|██████████| 138/138 [00:00<00:00, 2681.11it/s]\n",
            "Epoch 14/20 - Training: 100%|██████████| 1068/1068 [00:01<00:00, 683.72it/s]\n"
          ]
        },
        {
          "output_type": "stream",
          "name": "stdout",
          "text": [
            "Average Training Loss: 1.3910\n"
          ]
        },
        {
          "output_type": "stream",
          "name": "stderr",
          "text": [
            "Epoch 14/20 - Validation: 100%|██████████| 138/138 [00:00<00:00, 2805.61it/s]\n",
            "Epoch 15/20 - Training: 100%|██████████| 1068/1068 [00:01<00:00, 655.05it/s]\n"
          ]
        },
        {
          "output_type": "stream",
          "name": "stdout",
          "text": [
            "Average Training Loss: 1.3851\n"
          ]
        },
        {
          "output_type": "stream",
          "name": "stderr",
          "text": [
            "Epoch 15/20 - Validation: 100%|██████████| 138/138 [00:00<00:00, 2710.29it/s]\n",
            "Epoch 16/20 - Training: 100%|██████████| 1068/1068 [00:01<00:00, 657.20it/s]\n"
          ]
        },
        {
          "output_type": "stream",
          "name": "stdout",
          "text": [
            "Average Training Loss: 1.3791\n"
          ]
        },
        {
          "output_type": "stream",
          "name": "stderr",
          "text": [
            "Epoch 16/20 - Validation: 100%|██████████| 138/138 [00:00<00:00, 2489.22it/s]\n",
            "Epoch 17/20 - Training: 100%|██████████| 1068/1068 [00:01<00:00, 672.96it/s]\n"
          ]
        },
        {
          "output_type": "stream",
          "name": "stdout",
          "text": [
            "Average Training Loss: 1.3763\n"
          ]
        },
        {
          "output_type": "stream",
          "name": "stderr",
          "text": [
            "Epoch 17/20 - Validation: 100%|██████████| 138/138 [00:00<00:00, 2844.28it/s]\n",
            "Epoch 18/20 - Training: 100%|██████████| 1068/1068 [00:01<00:00, 659.56it/s]\n"
          ]
        },
        {
          "output_type": "stream",
          "name": "stdout",
          "text": [
            "Average Training Loss: 1.3741\n"
          ]
        },
        {
          "output_type": "stream",
          "name": "stderr",
          "text": [
            "Epoch 18/20 - Validation: 100%|██████████| 138/138 [00:00<00:00, 2673.81it/s]\n",
            "Epoch 19/20 - Training: 100%|██████████| 1068/1068 [00:01<00:00, 545.31it/s]\n"
          ]
        },
        {
          "output_type": "stream",
          "name": "stdout",
          "text": [
            "Average Training Loss: 1.3720\n"
          ]
        },
        {
          "output_type": "stream",
          "name": "stderr",
          "text": [
            "Epoch 19/20 - Validation: 100%|██████████| 138/138 [00:00<00:00, 2078.45it/s]\n",
            "Epoch 20/20 - Training: 100%|██████████| 1068/1068 [00:02<00:00, 484.48it/s]\n"
          ]
        },
        {
          "output_type": "stream",
          "name": "stdout",
          "text": [
            "Average Training Loss: 1.3699\n"
          ]
        },
        {
          "output_type": "stream",
          "name": "stderr",
          "text": [
            "Epoch 20/20 - Validation: 100%|██████████| 138/138 [00:00<00:00, 2050.28it/s]\n",
            "Epoch 1/20 - Training: 100%|██████████| 1068/1068 [00:01<00:00, 559.38it/s]\n"
          ]
        },
        {
          "output_type": "stream",
          "name": "stdout",
          "text": [
            "Average Training Loss: 1.5800\n"
          ]
        },
        {
          "output_type": "stream",
          "name": "stderr",
          "text": [
            "Epoch 1/20 - Validation: 100%|██████████| 138/138 [00:00<00:00, 2838.65it/s]\n",
            "Epoch 2/20 - Training: 100%|██████████| 1068/1068 [00:01<00:00, 627.65it/s]\n"
          ]
        },
        {
          "output_type": "stream",
          "name": "stdout",
          "text": [
            "Average Training Loss: 1.5541\n"
          ]
        },
        {
          "output_type": "stream",
          "name": "stderr",
          "text": [
            "Epoch 2/20 - Validation: 100%|██████████| 138/138 [00:00<00:00, 2628.92it/s]\n",
            "Epoch 3/20 - Training: 100%|██████████| 1068/1068 [00:01<00:00, 647.21it/s]\n"
          ]
        },
        {
          "output_type": "stream",
          "name": "stdout",
          "text": [
            "Average Training Loss: 1.5357\n"
          ]
        },
        {
          "output_type": "stream",
          "name": "stderr",
          "text": [
            "Epoch 3/20 - Validation: 100%|██████████| 138/138 [00:00<00:00, 2882.58it/s]\n",
            "Epoch 4/20 - Training: 100%|██████████| 1068/1068 [00:01<00:00, 627.56it/s]\n"
          ]
        },
        {
          "output_type": "stream",
          "name": "stdout",
          "text": [
            "Average Training Loss: 1.5191\n"
          ]
        },
        {
          "output_type": "stream",
          "name": "stderr",
          "text": [
            "Epoch 4/20 - Validation: 100%|██████████| 138/138 [00:00<00:00, 2786.44it/s]\n",
            "Epoch 5/20 - Training: 100%|██████████| 1068/1068 [00:01<00:00, 661.29it/s]\n"
          ]
        },
        {
          "output_type": "stream",
          "name": "stdout",
          "text": [
            "Average Training Loss: 1.5026\n"
          ]
        },
        {
          "output_type": "stream",
          "name": "stderr",
          "text": [
            "Epoch 5/20 - Validation: 100%|██████████| 138/138 [00:00<00:00, 2769.29it/s]\n",
            "Epoch 6/20 - Training: 100%|██████████| 1068/1068 [00:01<00:00, 627.07it/s]\n"
          ]
        },
        {
          "output_type": "stream",
          "name": "stdout",
          "text": [
            "Average Training Loss: 1.4879\n"
          ]
        },
        {
          "output_type": "stream",
          "name": "stderr",
          "text": [
            "Epoch 6/20 - Validation: 100%|██████████| 138/138 [00:00<00:00, 2609.26it/s]\n",
            "Epoch 7/20 - Training: 100%|██████████| 1068/1068 [00:02<00:00, 471.30it/s]\n"
          ]
        },
        {
          "output_type": "stream",
          "name": "stdout",
          "text": [
            "Average Training Loss: 1.4710\n"
          ]
        },
        {
          "output_type": "stream",
          "name": "stderr",
          "text": [
            "Epoch 7/20 - Validation: 100%|██████████| 138/138 [00:00<00:00, 1783.97it/s]\n",
            "Epoch 8/20 - Training: 100%|██████████| 1068/1068 [00:02<00:00, 478.24it/s]\n"
          ]
        },
        {
          "output_type": "stream",
          "name": "stdout",
          "text": [
            "Average Training Loss: 1.4623\n"
          ]
        },
        {
          "output_type": "stream",
          "name": "stderr",
          "text": [
            "Epoch 8/20 - Validation: 100%|██████████| 138/138 [00:00<00:00, 1808.91it/s]\n",
            "Epoch 9/20 - Training: 100%|██████████| 1068/1068 [00:01<00:00, 642.99it/s]\n"
          ]
        },
        {
          "output_type": "stream",
          "name": "stdout",
          "text": [
            "Average Training Loss: 1.4532\n"
          ]
        },
        {
          "output_type": "stream",
          "name": "stderr",
          "text": [
            "Epoch 9/20 - Validation: 100%|██████████| 138/138 [00:00<00:00, 2602.91it/s]\n",
            "Epoch 10/20 - Training: 100%|██████████| 1068/1068 [00:01<00:00, 684.19it/s]\n"
          ]
        },
        {
          "output_type": "stream",
          "name": "stdout",
          "text": [
            "Average Training Loss: 1.4427\n"
          ]
        },
        {
          "output_type": "stream",
          "name": "stderr",
          "text": [
            "Epoch 10/20 - Validation: 100%|██████████| 138/138 [00:00<00:00, 2848.49it/s]\n",
            "Epoch 11/20 - Training: 100%|██████████| 1068/1068 [00:01<00:00, 681.41it/s]\n"
          ]
        },
        {
          "output_type": "stream",
          "name": "stdout",
          "text": [
            "Average Training Loss: 1.4363\n"
          ]
        },
        {
          "output_type": "stream",
          "name": "stderr",
          "text": [
            "Epoch 11/20 - Validation: 100%|██████████| 138/138 [00:00<00:00, 2771.49it/s]\n",
            "Epoch 12/20 - Training: 100%|██████████| 1068/1068 [00:01<00:00, 694.48it/s]\n"
          ]
        },
        {
          "output_type": "stream",
          "name": "stdout",
          "text": [
            "Average Training Loss: 1.4290\n"
          ]
        },
        {
          "output_type": "stream",
          "name": "stderr",
          "text": [
            "Epoch 12/20 - Validation: 100%|██████████| 138/138 [00:00<00:00, 2820.03it/s]\n",
            "Epoch 13/20 - Training: 100%|██████████| 1068/1068 [00:01<00:00, 698.42it/s]\n"
          ]
        },
        {
          "output_type": "stream",
          "name": "stdout",
          "text": [
            "Average Training Loss: 1.4220\n"
          ]
        },
        {
          "output_type": "stream",
          "name": "stderr",
          "text": [
            "Epoch 13/20 - Validation: 100%|██████████| 138/138 [00:00<00:00, 2518.97it/s]\n",
            "Epoch 14/20 - Training: 100%|██████████| 1068/1068 [00:01<00:00, 703.82it/s]\n"
          ]
        },
        {
          "output_type": "stream",
          "name": "stdout",
          "text": [
            "Average Training Loss: 1.4154\n"
          ]
        },
        {
          "output_type": "stream",
          "name": "stderr",
          "text": [
            "Epoch 14/20 - Validation: 100%|██████████| 138/138 [00:00<00:00, 2828.42it/s]\n",
            "Epoch 15/20 - Training: 100%|██████████| 1068/1068 [00:01<00:00, 546.76it/s]\n"
          ]
        },
        {
          "output_type": "stream",
          "name": "stdout",
          "text": [
            "Average Training Loss: 1.4125\n"
          ]
        },
        {
          "output_type": "stream",
          "name": "stderr",
          "text": [
            "Epoch 15/20 - Validation: 100%|██████████| 138/138 [00:00<00:00, 1821.73it/s]\n",
            "Epoch 16/20 - Training: 100%|██████████| 1068/1068 [00:02<00:00, 514.76it/s]\n"
          ]
        },
        {
          "output_type": "stream",
          "name": "stdout",
          "text": [
            "Average Training Loss: 1.4061\n"
          ]
        },
        {
          "output_type": "stream",
          "name": "stderr",
          "text": [
            "Epoch 16/20 - Validation: 100%|██████████| 138/138 [00:00<00:00, 1977.82it/s]\n",
            "Epoch 17/20 - Training: 100%|██████████| 1068/1068 [00:01<00:00, 595.28it/s]\n"
          ]
        },
        {
          "output_type": "stream",
          "name": "stdout",
          "text": [
            "Average Training Loss: 1.4061\n"
          ]
        },
        {
          "output_type": "stream",
          "name": "stderr",
          "text": [
            "Epoch 17/20 - Validation: 100%|██████████| 138/138 [00:00<00:00, 2826.47it/s]\n",
            "Epoch 18/20 - Training: 100%|██████████| 1068/1068 [00:01<00:00, 696.40it/s]\n"
          ]
        },
        {
          "output_type": "stream",
          "name": "stdout",
          "text": [
            "Average Training Loss: 1.3978\n"
          ]
        },
        {
          "output_type": "stream",
          "name": "stderr",
          "text": [
            "Epoch 18/20 - Validation: 100%|██████████| 138/138 [00:00<00:00, 3015.58it/s]\n",
            "Epoch 19/20 - Training: 100%|██████████| 1068/1068 [00:01<00:00, 692.56it/s]\n"
          ]
        },
        {
          "output_type": "stream",
          "name": "stdout",
          "text": [
            "Average Training Loss: 1.3957\n"
          ]
        },
        {
          "output_type": "stream",
          "name": "stderr",
          "text": [
            "Epoch 19/20 - Validation: 100%|██████████| 138/138 [00:00<00:00, 2472.83it/s]\n",
            "Epoch 20/20 - Training: 100%|██████████| 1068/1068 [00:01<00:00, 702.60it/s]\n"
          ]
        },
        {
          "output_type": "stream",
          "name": "stdout",
          "text": [
            "Average Training Loss: 1.3943\n"
          ]
        },
        {
          "output_type": "stream",
          "name": "stderr",
          "text": [
            "Epoch 20/20 - Validation: 100%|██████████| 138/138 [00:00<00:00, 2925.92it/s]\n",
            "Epoch 1/20 - Training: 100%|██████████| 1068/1068 [00:01<00:00, 688.98it/s]\n"
          ]
        },
        {
          "output_type": "stream",
          "name": "stdout",
          "text": [
            "Average Training Loss: 1.5549\n"
          ]
        },
        {
          "output_type": "stream",
          "name": "stderr",
          "text": [
            "Epoch 1/20 - Validation: 100%|██████████| 138/138 [00:00<00:00, 2223.78it/s]\n",
            "Epoch 2/20 - Training: 100%|██████████| 1068/1068 [00:01<00:00, 695.27it/s]\n"
          ]
        },
        {
          "output_type": "stream",
          "name": "stdout",
          "text": [
            "Average Training Loss: 1.5079\n"
          ]
        },
        {
          "output_type": "stream",
          "name": "stderr",
          "text": [
            "Epoch 2/20 - Validation: 100%|██████████| 138/138 [00:00<00:00, 2437.08it/s]\n",
            "Epoch 3/20 - Training: 100%|██████████| 1068/1068 [00:01<00:00, 612.74it/s]\n"
          ]
        },
        {
          "output_type": "stream",
          "name": "stdout",
          "text": [
            "Average Training Loss: 1.4638\n"
          ]
        },
        {
          "output_type": "stream",
          "name": "stderr",
          "text": [
            "Epoch 3/20 - Validation: 100%|██████████| 138/138 [00:00<00:00, 1839.00it/s]\n",
            "Epoch 4/20 - Training: 100%|██████████| 1068/1068 [00:02<00:00, 509.37it/s]\n"
          ]
        },
        {
          "output_type": "stream",
          "name": "stdout",
          "text": [
            "Average Training Loss: 1.4324\n"
          ]
        },
        {
          "output_type": "stream",
          "name": "stderr",
          "text": [
            "Epoch 4/20 - Validation: 100%|██████████| 138/138 [00:00<00:00, 1977.72it/s]\n",
            "Epoch 5/20 - Training: 100%|██████████| 1068/1068 [00:02<00:00, 526.57it/s]\n"
          ]
        },
        {
          "output_type": "stream",
          "name": "stdout",
          "text": [
            "Average Training Loss: 1.4093\n"
          ]
        },
        {
          "output_type": "stream",
          "name": "stderr",
          "text": [
            "Epoch 5/20 - Validation: 100%|██████████| 138/138 [00:00<00:00, 2678.47it/s]\n",
            "Epoch 6/20 - Training: 100%|██████████| 1068/1068 [00:01<00:00, 701.95it/s]\n"
          ]
        },
        {
          "output_type": "stream",
          "name": "stdout",
          "text": [
            "Average Training Loss: 1.3939\n"
          ]
        },
        {
          "output_type": "stream",
          "name": "stderr",
          "text": [
            "Epoch 6/20 - Validation: 100%|██████████| 138/138 [00:00<00:00, 2591.94it/s]\n",
            "Epoch 7/20 - Training: 100%|██████████| 1068/1068 [00:01<00:00, 692.78it/s]\n"
          ]
        },
        {
          "output_type": "stream",
          "name": "stdout",
          "text": [
            "Average Training Loss: 1.3818\n"
          ]
        },
        {
          "output_type": "stream",
          "name": "stderr",
          "text": [
            "Epoch 7/20 - Validation: 100%|██████████| 138/138 [00:00<00:00, 2750.55it/s]\n",
            "Epoch 8/20 - Training: 100%|██████████| 1068/1068 [00:01<00:00, 697.21it/s]\n"
          ]
        },
        {
          "output_type": "stream",
          "name": "stdout",
          "text": [
            "Average Training Loss: 1.3738\n"
          ]
        },
        {
          "output_type": "stream",
          "name": "stderr",
          "text": [
            "Epoch 8/20 - Validation: 100%|██████████| 138/138 [00:00<00:00, 2463.31it/s]\n",
            "Epoch 9/20 - Training: 100%|██████████| 1068/1068 [00:01<00:00, 694.97it/s]\n"
          ]
        },
        {
          "output_type": "stream",
          "name": "stdout",
          "text": [
            "Average Training Loss: 1.3670\n"
          ]
        },
        {
          "output_type": "stream",
          "name": "stderr",
          "text": [
            "Epoch 9/20 - Validation: 100%|██████████| 138/138 [00:00<00:00, 2295.01it/s]\n",
            "Epoch 10/20 - Training: 100%|██████████| 1068/1068 [00:01<00:00, 689.72it/s]\n"
          ]
        },
        {
          "output_type": "stream",
          "name": "stdout",
          "text": [
            "Average Training Loss: 1.3607\n"
          ]
        },
        {
          "output_type": "stream",
          "name": "stderr",
          "text": [
            "Epoch 10/20 - Validation: 100%|██████████| 138/138 [00:00<00:00, 2472.91it/s]\n",
            "Epoch 11/20 - Training: 100%|██████████| 1068/1068 [00:01<00:00, 707.26it/s]\n"
          ]
        },
        {
          "output_type": "stream",
          "name": "stdout",
          "text": [
            "Average Training Loss: 1.3560\n"
          ]
        },
        {
          "output_type": "stream",
          "name": "stderr",
          "text": [
            "Epoch 11/20 - Validation: 100%|██████████| 138/138 [00:00<00:00, 2790.53it/s]\n",
            "Epoch 12/20 - Training: 100%|██████████| 1068/1068 [00:02<00:00, 514.16it/s]\n"
          ]
        },
        {
          "output_type": "stream",
          "name": "stdout",
          "text": [
            "Average Training Loss: 1.3510\n"
          ]
        },
        {
          "output_type": "stream",
          "name": "stderr",
          "text": [
            "Epoch 12/20 - Validation: 100%|██████████| 138/138 [00:00<00:00, 2018.29it/s]\n",
            "Epoch 13/20 - Training: 100%|██████████| 1068/1068 [00:02<00:00, 385.39it/s]\n"
          ]
        },
        {
          "output_type": "stream",
          "name": "stdout",
          "text": [
            "Average Training Loss: 1.3466\n"
          ]
        },
        {
          "output_type": "stream",
          "name": "stderr",
          "text": [
            "Epoch 13/20 - Validation: 100%|██████████| 138/138 [00:00<00:00, 1305.91it/s]\n",
            "Epoch 14/20 - Training: 100%|██████████| 1068/1068 [00:01<00:00, 689.33it/s]\n"
          ]
        },
        {
          "output_type": "stream",
          "name": "stdout",
          "text": [
            "Average Training Loss: 1.3433\n"
          ]
        },
        {
          "output_type": "stream",
          "name": "stderr",
          "text": [
            "Epoch 14/20 - Validation: 100%|██████████| 138/138 [00:00<00:00, 2728.77it/s]\n",
            "Epoch 15/20 - Training: 100%|██████████| 1068/1068 [00:01<00:00, 666.04it/s]\n"
          ]
        },
        {
          "output_type": "stream",
          "name": "stdout",
          "text": [
            "Average Training Loss: 1.3407\n"
          ]
        },
        {
          "output_type": "stream",
          "name": "stderr",
          "text": [
            "Epoch 15/20 - Validation: 100%|██████████| 138/138 [00:00<00:00, 2498.60it/s]\n",
            "Epoch 16/20 - Training: 100%|██████████| 1068/1068 [00:01<00:00, 682.41it/s]\n"
          ]
        },
        {
          "output_type": "stream",
          "name": "stdout",
          "text": [
            "Average Training Loss: 1.3375\n"
          ]
        },
        {
          "output_type": "stream",
          "name": "stderr",
          "text": [
            "Epoch 16/20 - Validation: 100%|██████████| 138/138 [00:00<00:00, 2538.75it/s]\n",
            "Epoch 17/20 - Training: 100%|██████████| 1068/1068 [00:01<00:00, 685.89it/s]\n"
          ]
        },
        {
          "output_type": "stream",
          "name": "stdout",
          "text": [
            "Average Training Loss: 1.3337\n"
          ]
        },
        {
          "output_type": "stream",
          "name": "stderr",
          "text": [
            "Epoch 17/20 - Validation: 100%|██████████| 138/138 [00:00<00:00, 2018.94it/s]\n",
            "Epoch 18/20 - Training: 100%|██████████| 1068/1068 [00:01<00:00, 704.29it/s]\n"
          ]
        },
        {
          "output_type": "stream",
          "name": "stdout",
          "text": [
            "Average Training Loss: 1.3319\n"
          ]
        },
        {
          "output_type": "stream",
          "name": "stderr",
          "text": [
            "Epoch 18/20 - Validation: 100%|██████████| 138/138 [00:00<00:00, 2586.91it/s]\n",
            "Epoch 19/20 - Training: 100%|██████████| 1068/1068 [00:01<00:00, 701.28it/s]\n"
          ]
        },
        {
          "output_type": "stream",
          "name": "stdout",
          "text": [
            "Average Training Loss: 1.3294\n"
          ]
        },
        {
          "output_type": "stream",
          "name": "stderr",
          "text": [
            "Epoch 19/20 - Validation: 100%|██████████| 138/138 [00:00<00:00, 2682.03it/s]\n",
            "Epoch 20/20 - Training: 100%|██████████| 1068/1068 [00:02<00:00, 512.87it/s]\n"
          ]
        },
        {
          "output_type": "stream",
          "name": "stdout",
          "text": [
            "Average Training Loss: 1.3268\n"
          ]
        },
        {
          "output_type": "stream",
          "name": "stderr",
          "text": [
            "Epoch 20/20 - Validation: 100%|██████████| 138/138 [00:00<00:00, 1809.31it/s]\n",
            "Epoch 1/20 - Training: 100%|██████████| 1068/1068 [00:02<00:00, 448.98it/s]\n"
          ]
        },
        {
          "output_type": "stream",
          "name": "stdout",
          "text": [
            "Average Training Loss: 1.5566\n"
          ]
        },
        {
          "output_type": "stream",
          "name": "stderr",
          "text": [
            "Epoch 1/20 - Validation: 100%|██████████| 138/138 [00:00<00:00, 1709.18it/s]\n",
            "Epoch 2/20 - Training: 100%|██████████| 1068/1068 [00:01<00:00, 593.54it/s]\n"
          ]
        },
        {
          "output_type": "stream",
          "name": "stdout",
          "text": [
            "Average Training Loss: 1.5120\n"
          ]
        },
        {
          "output_type": "stream",
          "name": "stderr",
          "text": [
            "Epoch 2/20 - Validation: 100%|██████████| 138/138 [00:00<00:00, 2306.66it/s]\n",
            "Epoch 3/20 - Training: 100%|██████████| 1068/1068 [00:01<00:00, 619.82it/s]\n"
          ]
        },
        {
          "output_type": "stream",
          "name": "stdout",
          "text": [
            "Average Training Loss: 1.4676\n"
          ]
        },
        {
          "output_type": "stream",
          "name": "stderr",
          "text": [
            "Epoch 3/20 - Validation: 100%|██████████| 138/138 [00:00<00:00, 2381.70it/s]\n",
            "Epoch 4/20 - Training: 100%|██████████| 1068/1068 [00:01<00:00, 589.12it/s]\n"
          ]
        },
        {
          "output_type": "stream",
          "name": "stdout",
          "text": [
            "Average Training Loss: 1.4373\n"
          ]
        },
        {
          "output_type": "stream",
          "name": "stderr",
          "text": [
            "Epoch 4/20 - Validation: 100%|██████████| 138/138 [00:00<00:00, 2001.28it/s]\n",
            "Epoch 5/20 - Training: 100%|██████████| 1068/1068 [00:01<00:00, 602.96it/s]\n"
          ]
        },
        {
          "output_type": "stream",
          "name": "stdout",
          "text": [
            "Average Training Loss: 1.4128\n"
          ]
        },
        {
          "output_type": "stream",
          "name": "stderr",
          "text": [
            "Epoch 5/20 - Validation: 100%|██████████| 138/138 [00:00<00:00, 2141.31it/s]\n",
            "Epoch 6/20 - Training: 100%|██████████| 1068/1068 [00:01<00:00, 621.59it/s]\n"
          ]
        },
        {
          "output_type": "stream",
          "name": "stdout",
          "text": [
            "Average Training Loss: 1.3993\n"
          ]
        },
        {
          "output_type": "stream",
          "name": "stderr",
          "text": [
            "Epoch 6/20 - Validation: 100%|██████████| 138/138 [00:00<00:00, 2343.14it/s]\n",
            "Epoch 7/20 - Training: 100%|██████████| 1068/1068 [00:01<00:00, 551.51it/s]\n"
          ]
        },
        {
          "output_type": "stream",
          "name": "stdout",
          "text": [
            "Average Training Loss: 1.3866\n"
          ]
        },
        {
          "output_type": "stream",
          "name": "stderr",
          "text": [
            "Epoch 7/20 - Validation: 100%|██████████| 138/138 [00:00<00:00, 2000.14it/s]\n",
            "Epoch 8/20 - Training: 100%|██████████| 1068/1068 [00:02<00:00, 457.79it/s]\n"
          ]
        },
        {
          "output_type": "stream",
          "name": "stdout",
          "text": [
            "Average Training Loss: 1.3772\n"
          ]
        },
        {
          "output_type": "stream",
          "name": "stderr",
          "text": [
            "Epoch 8/20 - Validation: 100%|██████████| 138/138 [00:00<00:00, 1915.42it/s]\n",
            "Epoch 9/20 - Training: 100%|██████████| 1068/1068 [00:02<00:00, 521.01it/s]\n"
          ]
        },
        {
          "output_type": "stream",
          "name": "stdout",
          "text": [
            "Average Training Loss: 1.3703\n"
          ]
        },
        {
          "output_type": "stream",
          "name": "stderr",
          "text": [
            "Epoch 9/20 - Validation: 100%|██████████| 138/138 [00:00<00:00, 2469.13it/s]\n",
            "Epoch 10/20 - Training: 100%|██████████| 1068/1068 [00:01<00:00, 659.06it/s]\n"
          ]
        },
        {
          "output_type": "stream",
          "name": "stdout",
          "text": [
            "Average Training Loss: 1.3639\n"
          ]
        },
        {
          "output_type": "stream",
          "name": "stderr",
          "text": [
            "Epoch 10/20 - Validation: 100%|██████████| 138/138 [00:00<00:00, 2651.05it/s]\n",
            "Epoch 11/20 - Training: 100%|██████████| 1068/1068 [00:01<00:00, 643.58it/s]\n"
          ]
        },
        {
          "output_type": "stream",
          "name": "stdout",
          "text": [
            "Average Training Loss: 1.3604\n"
          ]
        },
        {
          "output_type": "stream",
          "name": "stderr",
          "text": [
            "Epoch 11/20 - Validation: 100%|██████████| 138/138 [00:00<00:00, 2410.74it/s]\n",
            "Epoch 12/20 - Training: 100%|██████████| 1068/1068 [00:01<00:00, 644.96it/s]\n"
          ]
        },
        {
          "output_type": "stream",
          "name": "stdout",
          "text": [
            "Average Training Loss: 1.3556\n"
          ]
        },
        {
          "output_type": "stream",
          "name": "stderr",
          "text": [
            "Epoch 12/20 - Validation: 100%|██████████| 138/138 [00:00<00:00, 2477.45it/s]\n",
            "Epoch 13/20 - Training: 100%|██████████| 1068/1068 [00:01<00:00, 649.92it/s]\n"
          ]
        },
        {
          "output_type": "stream",
          "name": "stdout",
          "text": [
            "Average Training Loss: 1.3508\n"
          ]
        },
        {
          "output_type": "stream",
          "name": "stderr",
          "text": [
            "Epoch 13/20 - Validation: 100%|██████████| 138/138 [00:00<00:00, 2287.30it/s]\n",
            "Epoch 14/20 - Training: 100%|██████████| 1068/1068 [00:01<00:00, 648.46it/s]\n"
          ]
        },
        {
          "output_type": "stream",
          "name": "stdout",
          "text": [
            "Average Training Loss: 1.3453\n"
          ]
        },
        {
          "output_type": "stream",
          "name": "stderr",
          "text": [
            "Epoch 14/20 - Validation: 100%|██████████| 138/138 [00:00<00:00, 2374.67it/s]\n",
            "Epoch 15/20 - Training: 100%|██████████| 1068/1068 [00:02<00:00, 528.51it/s]\n"
          ]
        },
        {
          "output_type": "stream",
          "name": "stdout",
          "text": [
            "Average Training Loss: 1.3439\n"
          ]
        },
        {
          "output_type": "stream",
          "name": "stderr",
          "text": [
            "Epoch 15/20 - Validation: 100%|██████████| 138/138 [00:00<00:00, 1764.45it/s]\n",
            "Epoch 16/20 - Training: 100%|██████████| 1068/1068 [00:02<00:00, 475.70it/s]\n"
          ]
        },
        {
          "output_type": "stream",
          "name": "stdout",
          "text": [
            "Average Training Loss: 1.3393\n"
          ]
        },
        {
          "output_type": "stream",
          "name": "stderr",
          "text": [
            "Epoch 16/20 - Validation: 100%|██████████| 138/138 [00:00<00:00, 1877.35it/s]\n",
            "Epoch 17/20 - Training: 100%|██████████| 1068/1068 [00:01<00:00, 561.90it/s]\n"
          ]
        },
        {
          "output_type": "stream",
          "name": "stdout",
          "text": [
            "Average Training Loss: 1.3375\n"
          ]
        },
        {
          "output_type": "stream",
          "name": "stderr",
          "text": [
            "Epoch 17/20 - Validation: 100%|██████████| 138/138 [00:00<00:00, 2548.95it/s]\n",
            "Epoch 18/20 - Training: 100%|██████████| 1068/1068 [00:01<00:00, 634.69it/s]\n"
          ]
        },
        {
          "output_type": "stream",
          "name": "stdout",
          "text": [
            "Average Training Loss: 1.3354\n"
          ]
        },
        {
          "output_type": "stream",
          "name": "stderr",
          "text": [
            "Epoch 18/20 - Validation: 100%|██████████| 138/138 [00:00<00:00, 2621.80it/s]\n",
            "Epoch 19/20 - Training: 100%|██████████| 1068/1068 [00:01<00:00, 645.44it/s]\n"
          ]
        },
        {
          "output_type": "stream",
          "name": "stdout",
          "text": [
            "Average Training Loss: 1.3321\n"
          ]
        },
        {
          "output_type": "stream",
          "name": "stderr",
          "text": [
            "Epoch 19/20 - Validation: 100%|██████████| 138/138 [00:00<00:00, 2545.90it/s]\n",
            "Epoch 20/20 - Training: 100%|██████████| 1068/1068 [00:01<00:00, 635.85it/s]\n"
          ]
        },
        {
          "output_type": "stream",
          "name": "stdout",
          "text": [
            "Average Training Loss: 1.3297\n"
          ]
        },
        {
          "output_type": "stream",
          "name": "stderr",
          "text": [
            "Epoch 20/20 - Validation: 100%|██████████| 138/138 [00:00<00:00, 2579.15it/s]\n",
            "Epoch 1/20 - Training: 100%|██████████| 1068/1068 [00:01<00:00, 662.55it/s]\n"
          ]
        },
        {
          "output_type": "stream",
          "name": "stdout",
          "text": [
            "Average Training Loss: 1.5561\n"
          ]
        },
        {
          "output_type": "stream",
          "name": "stderr",
          "text": [
            "Epoch 1/20 - Validation: 100%|██████████| 138/138 [00:00<00:00, 2655.20it/s]\n",
            "Epoch 2/20 - Training: 100%|██████████| 1068/1068 [00:01<00:00, 633.68it/s]\n"
          ]
        },
        {
          "output_type": "stream",
          "name": "stdout",
          "text": [
            "Average Training Loss: 1.5067\n"
          ]
        },
        {
          "output_type": "stream",
          "name": "stderr",
          "text": [
            "Epoch 2/20 - Validation: 100%|██████████| 138/138 [00:00<00:00, 2113.19it/s]\n",
            "Epoch 3/20 - Training: 100%|██████████| 1068/1068 [00:02<00:00, 449.96it/s]\n"
          ]
        },
        {
          "output_type": "stream",
          "name": "stdout",
          "text": [
            "Average Training Loss: 1.4679\n"
          ]
        },
        {
          "output_type": "stream",
          "name": "stderr",
          "text": [
            "Epoch 3/20 - Validation: 100%|██████████| 138/138 [00:00<00:00, 1812.67it/s]\n",
            "Epoch 4/20 - Training: 100%|██████████| 1068/1068 [00:03<00:00, 353.50it/s]\n"
          ]
        },
        {
          "output_type": "stream",
          "name": "stdout",
          "text": [
            "Average Training Loss: 1.4392\n"
          ]
        },
        {
          "output_type": "stream",
          "name": "stderr",
          "text": [
            "Epoch 4/20 - Validation: 100%|██████████| 138/138 [00:00<00:00, 2239.40it/s]\n",
            "Epoch 5/20 - Training: 100%|██████████| 1068/1068 [00:01<00:00, 630.65it/s]\n"
          ]
        },
        {
          "output_type": "stream",
          "name": "stdout",
          "text": [
            "Average Training Loss: 1.4171\n"
          ]
        },
        {
          "output_type": "stream",
          "name": "stderr",
          "text": [
            "Epoch 5/20 - Validation: 100%|██████████| 138/138 [00:00<00:00, 2246.80it/s]\n",
            "Epoch 6/20 - Training: 100%|██████████| 1068/1068 [00:01<00:00, 627.13it/s]\n"
          ]
        },
        {
          "output_type": "stream",
          "name": "stdout",
          "text": [
            "Average Training Loss: 1.4021\n"
          ]
        },
        {
          "output_type": "stream",
          "name": "stderr",
          "text": [
            "Epoch 6/20 - Validation: 100%|██████████| 138/138 [00:00<00:00, 2288.15it/s]\n",
            "Epoch 7/20 - Training: 100%|██████████| 1068/1068 [00:01<00:00, 631.46it/s]\n"
          ]
        },
        {
          "output_type": "stream",
          "name": "stdout",
          "text": [
            "Average Training Loss: 1.3925\n"
          ]
        },
        {
          "output_type": "stream",
          "name": "stderr",
          "text": [
            "Epoch 7/20 - Validation: 100%|██████████| 138/138 [00:00<00:00, 2567.46it/s]\n",
            "Epoch 8/20 - Training: 100%|██████████| 1068/1068 [00:01<00:00, 641.72it/s]\n"
          ]
        },
        {
          "output_type": "stream",
          "name": "stdout",
          "text": [
            "Average Training Loss: 1.3825\n"
          ]
        },
        {
          "output_type": "stream",
          "name": "stderr",
          "text": [
            "Epoch 8/20 - Validation: 100%|██████████| 138/138 [00:00<00:00, 2152.56it/s]\n",
            "Epoch 9/20 - Training: 100%|██████████| 1068/1068 [00:01<00:00, 631.18it/s]\n"
          ]
        },
        {
          "output_type": "stream",
          "name": "stdout",
          "text": [
            "Average Training Loss: 1.3757\n"
          ]
        },
        {
          "output_type": "stream",
          "name": "stderr",
          "text": [
            "Epoch 9/20 - Validation: 100%|██████████| 138/138 [00:00<00:00, 2518.17it/s]\n",
            "Epoch 10/20 - Training: 100%|██████████| 1068/1068 [00:02<00:00, 505.41it/s]\n"
          ]
        },
        {
          "output_type": "stream",
          "name": "stdout",
          "text": [
            "Average Training Loss: 1.3703\n"
          ]
        },
        {
          "output_type": "stream",
          "name": "stderr",
          "text": [
            "Epoch 10/20 - Validation: 100%|██████████| 138/138 [00:00<00:00, 1829.77it/s]\n",
            "Epoch 11/20 - Training: 100%|██████████| 1068/1068 [00:02<00:00, 485.35it/s]\n"
          ]
        },
        {
          "output_type": "stream",
          "name": "stdout",
          "text": [
            "Average Training Loss: 1.3647\n"
          ]
        },
        {
          "output_type": "stream",
          "name": "stderr",
          "text": [
            "Epoch 11/20 - Validation: 100%|██████████| 138/138 [00:00<00:00, 1579.54it/s]\n",
            "Epoch 12/20 - Training: 100%|██████████| 1068/1068 [00:01<00:00, 558.14it/s]\n"
          ]
        },
        {
          "output_type": "stream",
          "name": "stdout",
          "text": [
            "Average Training Loss: 1.3597\n"
          ]
        },
        {
          "output_type": "stream",
          "name": "stderr",
          "text": [
            "Epoch 12/20 - Validation: 100%|██████████| 138/138 [00:00<00:00, 2055.11it/s]\n",
            "Epoch 13/20 - Training: 100%|██████████| 1068/1068 [00:01<00:00, 654.23it/s]\n"
          ]
        },
        {
          "output_type": "stream",
          "name": "stdout",
          "text": [
            "Average Training Loss: 1.3577\n"
          ]
        },
        {
          "output_type": "stream",
          "name": "stderr",
          "text": [
            "Epoch 13/20 - Validation: 100%|██████████| 138/138 [00:00<00:00, 2523.49it/s]\n",
            "Epoch 14/20 - Training: 100%|██████████| 1068/1068 [00:01<00:00, 613.68it/s]\n"
          ]
        },
        {
          "output_type": "stream",
          "name": "stdout",
          "text": [
            "Average Training Loss: 1.3549\n"
          ]
        },
        {
          "output_type": "stream",
          "name": "stderr",
          "text": [
            "Epoch 14/20 - Validation: 100%|██████████| 138/138 [00:00<00:00, 2452.01it/s]\n",
            "Epoch 15/20 - Training: 100%|██████████| 1068/1068 [00:01<00:00, 607.85it/s]\n"
          ]
        },
        {
          "output_type": "stream",
          "name": "stdout",
          "text": [
            "Average Training Loss: 1.3487\n"
          ]
        },
        {
          "output_type": "stream",
          "name": "stderr",
          "text": [
            "Epoch 15/20 - Validation: 100%|██████████| 138/138 [00:00<00:00, 2262.61it/s]\n",
            "Epoch 16/20 - Training: 100%|██████████| 1068/1068 [00:01<00:00, 648.31it/s]\n"
          ]
        },
        {
          "output_type": "stream",
          "name": "stdout",
          "text": [
            "Average Training Loss: 1.3450\n"
          ]
        },
        {
          "output_type": "stream",
          "name": "stderr",
          "text": [
            "Epoch 16/20 - Validation: 100%|██████████| 138/138 [00:00<00:00, 2339.36it/s]\n",
            "Epoch 17/20 - Training: 100%|██████████| 1068/1068 [00:01<00:00, 650.84it/s]\n"
          ]
        },
        {
          "output_type": "stream",
          "name": "stdout",
          "text": [
            "Average Training Loss: 1.3438\n"
          ]
        },
        {
          "output_type": "stream",
          "name": "stderr",
          "text": [
            "Epoch 17/20 - Validation: 100%|██████████| 138/138 [00:00<00:00, 2583.62it/s]\n",
            "Epoch 18/20 - Training: 100%|██████████| 1068/1068 [00:02<00:00, 479.98it/s]\n"
          ]
        },
        {
          "output_type": "stream",
          "name": "stdout",
          "text": [
            "Average Training Loss: 1.3413\n"
          ]
        },
        {
          "output_type": "stream",
          "name": "stderr",
          "text": [
            "Epoch 18/20 - Validation: 100%|██████████| 138/138 [00:00<00:00, 1697.29it/s]\n",
            "Epoch 19/20 - Training: 100%|██████████| 1068/1068 [00:02<00:00, 466.25it/s]\n"
          ]
        },
        {
          "output_type": "stream",
          "name": "stdout",
          "text": [
            "Average Training Loss: 1.3374\n"
          ]
        },
        {
          "output_type": "stream",
          "name": "stderr",
          "text": [
            "Epoch 19/20 - Validation: 100%|██████████| 138/138 [00:00<00:00, 1568.48it/s]\n",
            "Epoch 20/20 - Training: 100%|██████████| 1068/1068 [00:01<00:00, 622.53it/s]\n"
          ]
        },
        {
          "output_type": "stream",
          "name": "stdout",
          "text": [
            "Average Training Loss: 1.3347\n"
          ]
        },
        {
          "output_type": "stream",
          "name": "stderr",
          "text": [
            "Epoch 20/20 - Validation: 100%|██████████| 138/138 [00:00<00:00, 2586.46it/s]\n",
            "Epoch 1/20 - Training: 100%|██████████| 1068/1068 [00:01<00:00, 635.84it/s]\n"
          ]
        },
        {
          "output_type": "stream",
          "name": "stdout",
          "text": [
            "Average Training Loss: 1.5647\n"
          ]
        },
        {
          "output_type": "stream",
          "name": "stderr",
          "text": [
            "Epoch 1/20 - Validation: 100%|██████████| 138/138 [00:00<00:00, 2466.22it/s]\n",
            "Epoch 2/20 - Training: 100%|██████████| 1068/1068 [00:01<00:00, 644.63it/s]\n"
          ]
        },
        {
          "output_type": "stream",
          "name": "stdout",
          "text": [
            "Average Training Loss: 1.5332\n"
          ]
        },
        {
          "output_type": "stream",
          "name": "stderr",
          "text": [
            "Epoch 2/20 - Validation: 100%|██████████| 138/138 [00:00<00:00, 2368.92it/s]\n",
            "Epoch 3/20 - Training: 100%|██████████| 1068/1068 [00:01<00:00, 638.21it/s]\n"
          ]
        },
        {
          "output_type": "stream",
          "name": "stdout",
          "text": [
            "Average Training Loss: 1.5011\n"
          ]
        },
        {
          "output_type": "stream",
          "name": "stderr",
          "text": [
            "Epoch 3/20 - Validation: 100%|██████████| 138/138 [00:00<00:00, 2336.56it/s]\n",
            "Epoch 4/20 - Training: 100%|██████████| 1068/1068 [00:01<00:00, 654.66it/s]\n"
          ]
        },
        {
          "output_type": "stream",
          "name": "stdout",
          "text": [
            "Average Training Loss: 1.4720\n"
          ]
        },
        {
          "output_type": "stream",
          "name": "stderr",
          "text": [
            "Epoch 4/20 - Validation: 100%|██████████| 138/138 [00:00<00:00, 2433.23it/s]\n",
            "Epoch 5/20 - Training: 100%|██████████| 1068/1068 [00:01<00:00, 596.86it/s]\n"
          ]
        },
        {
          "output_type": "stream",
          "name": "stdout",
          "text": [
            "Average Training Loss: 1.4528\n"
          ]
        },
        {
          "output_type": "stream",
          "name": "stderr",
          "text": [
            "Epoch 5/20 - Validation: 100%|██████████| 138/138 [00:00<00:00, 1877.54it/s]\n",
            "Epoch 6/20 - Training: 100%|██████████| 1068/1068 [00:02<00:00, 478.77it/s]\n"
          ]
        },
        {
          "output_type": "stream",
          "name": "stdout",
          "text": [
            "Average Training Loss: 1.4350\n"
          ]
        },
        {
          "output_type": "stream",
          "name": "stderr",
          "text": [
            "Epoch 6/20 - Validation: 100%|██████████| 138/138 [00:00<00:00, 1840.55it/s]\n",
            "Epoch 7/20 - Training: 100%|██████████| 1068/1068 [00:02<00:00, 493.80it/s]\n"
          ]
        },
        {
          "output_type": "stream",
          "name": "stdout",
          "text": [
            "Average Training Loss: 1.4202\n"
          ]
        },
        {
          "output_type": "stream",
          "name": "stderr",
          "text": [
            "Epoch 7/20 - Validation: 100%|██████████| 138/138 [00:00<00:00, 2406.41it/s]\n",
            "Epoch 8/20 - Training: 100%|██████████| 1068/1068 [00:01<00:00, 638.18it/s]\n"
          ]
        },
        {
          "output_type": "stream",
          "name": "stdout",
          "text": [
            "Average Training Loss: 1.4074\n"
          ]
        },
        {
          "output_type": "stream",
          "name": "stderr",
          "text": [
            "Epoch 8/20 - Validation: 100%|██████████| 138/138 [00:00<00:00, 2391.62it/s]\n",
            "Epoch 9/20 - Training: 100%|██████████| 1068/1068 [00:01<00:00, 635.21it/s]\n"
          ]
        },
        {
          "output_type": "stream",
          "name": "stdout",
          "text": [
            "Average Training Loss: 1.3986\n"
          ]
        },
        {
          "output_type": "stream",
          "name": "stderr",
          "text": [
            "Epoch 9/20 - Validation: 100%|██████████| 138/138 [00:00<00:00, 2020.77it/s]\n",
            "Epoch 10/20 - Training: 100%|██████████| 1068/1068 [00:01<00:00, 639.66it/s]\n"
          ]
        },
        {
          "output_type": "stream",
          "name": "stdout",
          "text": [
            "Average Training Loss: 1.3897\n"
          ]
        },
        {
          "output_type": "stream",
          "name": "stderr",
          "text": [
            "Epoch 10/20 - Validation: 100%|██████████| 138/138 [00:00<00:00, 2463.95it/s]\n",
            "Epoch 11/20 - Training: 100%|██████████| 1068/1068 [00:01<00:00, 635.18it/s]\n"
          ]
        },
        {
          "output_type": "stream",
          "name": "stdout",
          "text": [
            "Average Training Loss: 1.3853\n"
          ]
        },
        {
          "output_type": "stream",
          "name": "stderr",
          "text": [
            "Epoch 11/20 - Validation: 100%|██████████| 138/138 [00:00<00:00, 2267.17it/s]\n",
            "Epoch 12/20 - Training: 100%|██████████| 1068/1068 [00:01<00:00, 656.03it/s]\n"
          ]
        },
        {
          "output_type": "stream",
          "name": "stdout",
          "text": [
            "Average Training Loss: 1.3798\n"
          ]
        },
        {
          "output_type": "stream",
          "name": "stderr",
          "text": [
            "Epoch 12/20 - Validation: 100%|██████████| 138/138 [00:00<00:00, 2348.27it/s]\n",
            "Epoch 13/20 - Training: 100%|██████████| 1068/1068 [00:01<00:00, 572.84it/s]\n"
          ]
        },
        {
          "output_type": "stream",
          "name": "stdout",
          "text": [
            "Average Training Loss: 1.3757\n"
          ]
        },
        {
          "output_type": "stream",
          "name": "stderr",
          "text": [
            "Epoch 13/20 - Validation: 100%|██████████| 138/138 [00:00<00:00, 1586.85it/s]\n",
            "Epoch 14/20 - Training: 100%|██████████| 1068/1068 [00:02<00:00, 464.50it/s]\n"
          ]
        },
        {
          "output_type": "stream",
          "name": "stdout",
          "text": [
            "Average Training Loss: 1.3716\n"
          ]
        },
        {
          "output_type": "stream",
          "name": "stderr",
          "text": [
            "Epoch 14/20 - Validation: 100%|██████████| 138/138 [00:00<00:00, 1883.25it/s]\n",
            "Epoch 15/20 - Training: 100%|██████████| 1068/1068 [00:02<00:00, 500.57it/s]\n"
          ]
        },
        {
          "output_type": "stream",
          "name": "stdout",
          "text": [
            "Average Training Loss: 1.3660\n"
          ]
        },
        {
          "output_type": "stream",
          "name": "stderr",
          "text": [
            "Epoch 15/20 - Validation: 100%|██████████| 138/138 [00:00<00:00, 2667.44it/s]\n",
            "Epoch 16/20 - Training: 100%|██████████| 1068/1068 [00:01<00:00, 639.60it/s]\n"
          ]
        },
        {
          "output_type": "stream",
          "name": "stdout",
          "text": [
            "Average Training Loss: 1.3634\n"
          ]
        },
        {
          "output_type": "stream",
          "name": "stderr",
          "text": [
            "Epoch 16/20 - Validation: 100%|██████████| 138/138 [00:00<00:00, 2346.37it/s]\n",
            "Epoch 17/20 - Training: 100%|██████████| 1068/1068 [00:01<00:00, 631.98it/s]\n"
          ]
        },
        {
          "output_type": "stream",
          "name": "stdout",
          "text": [
            "Average Training Loss: 1.3609\n"
          ]
        },
        {
          "output_type": "stream",
          "name": "stderr",
          "text": [
            "Epoch 17/20 - Validation: 100%|██████████| 138/138 [00:00<00:00, 2578.98it/s]\n",
            "Epoch 18/20 - Training: 100%|██████████| 1068/1068 [00:01<00:00, 638.67it/s]\n"
          ]
        },
        {
          "output_type": "stream",
          "name": "stdout",
          "text": [
            "Average Training Loss: 1.3563\n"
          ]
        },
        {
          "output_type": "stream",
          "name": "stderr",
          "text": [
            "Epoch 18/20 - Validation: 100%|██████████| 138/138 [00:00<00:00, 2350.42it/s]\n",
            "Epoch 19/20 - Training: 100%|██████████| 1068/1068 [00:01<00:00, 623.61it/s]\n"
          ]
        },
        {
          "output_type": "stream",
          "name": "stdout",
          "text": [
            "Average Training Loss: 1.3531\n"
          ]
        },
        {
          "output_type": "stream",
          "name": "stderr",
          "text": [
            "Epoch 19/20 - Validation: 100%|██████████| 138/138 [00:00<00:00, 2659.99it/s]\n",
            "Epoch 20/20 - Training: 100%|██████████| 1068/1068 [00:01<00:00, 630.65it/s]\n"
          ]
        },
        {
          "output_type": "stream",
          "name": "stdout",
          "text": [
            "Average Training Loss: 1.3540\n"
          ]
        },
        {
          "output_type": "stream",
          "name": "stderr",
          "text": [
            "Epoch 20/20 - Validation: 100%|██████████| 138/138 [00:00<00:00, 2001.96it/s]\n",
            "Epoch 1/20 - Training: 100%|██████████| 1068/1068 [00:02<00:00, 488.30it/s]\n"
          ]
        },
        {
          "output_type": "stream",
          "name": "stdout",
          "text": [
            "Average Training Loss: 1.5694\n"
          ]
        },
        {
          "output_type": "stream",
          "name": "stderr",
          "text": [
            "Epoch 1/20 - Validation: 100%|██████████| 138/138 [00:00<00:00, 1902.60it/s]\n",
            "Epoch 2/20 - Training: 100%|██████████| 1068/1068 [00:02<00:00, 452.91it/s]\n"
          ]
        },
        {
          "output_type": "stream",
          "name": "stdout",
          "text": [
            "Average Training Loss: 1.5441\n"
          ]
        },
        {
          "output_type": "stream",
          "name": "stderr",
          "text": [
            "Epoch 2/20 - Validation: 100%|██████████| 138/138 [00:00<00:00, 1755.69it/s]\n",
            "Epoch 3/20 - Training: 100%|██████████| 1068/1068 [00:01<00:00, 564.79it/s]\n"
          ]
        },
        {
          "output_type": "stream",
          "name": "stdout",
          "text": [
            "Average Training Loss: 1.5201\n"
          ]
        },
        {
          "output_type": "stream",
          "name": "stderr",
          "text": [
            "Epoch 3/20 - Validation: 100%|██████████| 138/138 [00:00<00:00, 2142.48it/s]\n",
            "Epoch 4/20 - Training: 100%|██████████| 1068/1068 [00:01<00:00, 623.89it/s]\n"
          ]
        },
        {
          "output_type": "stream",
          "name": "stdout",
          "text": [
            "Average Training Loss: 1.4979\n"
          ]
        },
        {
          "output_type": "stream",
          "name": "stderr",
          "text": [
            "Epoch 4/20 - Validation: 100%|██████████| 138/138 [00:00<00:00, 2069.34it/s]\n",
            "Epoch 5/20 - Training: 100%|██████████| 1068/1068 [00:01<00:00, 627.57it/s]\n"
          ]
        },
        {
          "output_type": "stream",
          "name": "stdout",
          "text": [
            "Average Training Loss: 1.4815\n"
          ]
        },
        {
          "output_type": "stream",
          "name": "stderr",
          "text": [
            "Epoch 5/20 - Validation: 100%|██████████| 138/138 [00:00<00:00, 2507.48it/s]\n",
            "Epoch 6/20 - Training: 100%|██████████| 1068/1068 [00:01<00:00, 615.59it/s]\n"
          ]
        },
        {
          "output_type": "stream",
          "name": "stdout",
          "text": [
            "Average Training Loss: 1.4614\n"
          ]
        },
        {
          "output_type": "stream",
          "name": "stderr",
          "text": [
            "Epoch 6/20 - Validation: 100%|██████████| 138/138 [00:00<00:00, 2315.75it/s]\n",
            "Epoch 7/20 - Training: 100%|██████████| 1068/1068 [00:01<00:00, 597.97it/s]\n"
          ]
        },
        {
          "output_type": "stream",
          "name": "stdout",
          "text": [
            "Average Training Loss: 1.4476\n"
          ]
        },
        {
          "output_type": "stream",
          "name": "stderr",
          "text": [
            "Epoch 7/20 - Validation: 100%|██████████| 138/138 [00:00<00:00, 2532.76it/s]\n",
            "Epoch 8/20 - Training: 100%|██████████| 1068/1068 [00:01<00:00, 561.70it/s]\n"
          ]
        },
        {
          "output_type": "stream",
          "name": "stdout",
          "text": [
            "Average Training Loss: 1.4364\n"
          ]
        },
        {
          "output_type": "stream",
          "name": "stderr",
          "text": [
            "Epoch 8/20 - Validation: 100%|██████████| 138/138 [00:00<00:00, 1945.57it/s]\n",
            "Epoch 9/20 - Training: 100%|██████████| 1068/1068 [00:02<00:00, 429.59it/s]\n"
          ]
        },
        {
          "output_type": "stream",
          "name": "stdout",
          "text": [
            "Average Training Loss: 1.4217\n"
          ]
        },
        {
          "output_type": "stream",
          "name": "stderr",
          "text": [
            "Epoch 9/20 - Validation: 100%|██████████| 138/138 [00:00<00:00, 2038.61it/s]\n",
            "Epoch 10/20 - Training: 100%|██████████| 1068/1068 [00:02<00:00, 509.21it/s]\n"
          ]
        },
        {
          "output_type": "stream",
          "name": "stdout",
          "text": [
            "Average Training Loss: 1.4176\n"
          ]
        },
        {
          "output_type": "stream",
          "name": "stderr",
          "text": [
            "Epoch 10/20 - Validation: 100%|██████████| 138/138 [00:00<00:00, 2267.93it/s]\n",
            "Epoch 11/20 - Training: 100%|██████████| 1068/1068 [00:01<00:00, 623.90it/s]\n"
          ]
        },
        {
          "output_type": "stream",
          "name": "stdout",
          "text": [
            "Average Training Loss: 1.4096\n"
          ]
        },
        {
          "output_type": "stream",
          "name": "stderr",
          "text": [
            "Epoch 11/20 - Validation: 100%|██████████| 138/138 [00:00<00:00, 2410.42it/s]\n",
            "Epoch 12/20 - Training: 100%|██████████| 1068/1068 [00:01<00:00, 621.68it/s]\n"
          ]
        },
        {
          "output_type": "stream",
          "name": "stdout",
          "text": [
            "Average Training Loss: 1.4013\n"
          ]
        },
        {
          "output_type": "stream",
          "name": "stderr",
          "text": [
            "Epoch 12/20 - Validation: 100%|██████████| 138/138 [00:00<00:00, 2360.11it/s]\n",
            "Epoch 13/20 - Training: 100%|██████████| 1068/1068 [00:01<00:00, 632.11it/s]\n"
          ]
        },
        {
          "output_type": "stream",
          "name": "stdout",
          "text": [
            "Average Training Loss: 1.3946\n"
          ]
        },
        {
          "output_type": "stream",
          "name": "stderr",
          "text": [
            "Epoch 13/20 - Validation: 100%|██████████| 138/138 [00:00<00:00, 2221.88it/s]\n",
            "Epoch 14/20 - Training: 100%|██████████| 1068/1068 [00:01<00:00, 629.75it/s]\n"
          ]
        },
        {
          "output_type": "stream",
          "name": "stdout",
          "text": [
            "Average Training Loss: 1.3913\n"
          ]
        },
        {
          "output_type": "stream",
          "name": "stderr",
          "text": [
            "Epoch 14/20 - Validation: 100%|██████████| 138/138 [00:00<00:00, 2377.94it/s]\n",
            "Epoch 15/20 - Training: 100%|██████████| 1068/1068 [00:01<00:00, 636.40it/s]\n"
          ]
        },
        {
          "output_type": "stream",
          "name": "stdout",
          "text": [
            "Average Training Loss: 1.3885\n"
          ]
        },
        {
          "output_type": "stream",
          "name": "stderr",
          "text": [
            "Epoch 15/20 - Validation: 100%|██████████| 138/138 [00:00<00:00, 2338.21it/s]\n",
            "Epoch 16/20 - Training: 100%|██████████| 1068/1068 [00:02<00:00, 513.11it/s]\n"
          ]
        },
        {
          "output_type": "stream",
          "name": "stdout",
          "text": [
            "Average Training Loss: 1.3836\n"
          ]
        },
        {
          "output_type": "stream",
          "name": "stderr",
          "text": [
            "Epoch 16/20 - Validation: 100%|██████████| 138/138 [00:00<00:00, 1921.23it/s]\n",
            "Epoch 17/20 - Training: 100%|██████████| 1068/1068 [00:02<00:00, 495.04it/s]\n"
          ]
        },
        {
          "output_type": "stream",
          "name": "stdout",
          "text": [
            "Average Training Loss: 1.3829\n"
          ]
        },
        {
          "output_type": "stream",
          "name": "stderr",
          "text": [
            "Epoch 17/20 - Validation: 100%|██████████| 138/138 [00:00<00:00, 2064.88it/s]\n",
            "Epoch 18/20 - Training: 100%|██████████| 1068/1068 [00:01<00:00, 549.72it/s]\n"
          ]
        },
        {
          "output_type": "stream",
          "name": "stdout",
          "text": [
            "Average Training Loss: 1.3757\n"
          ]
        },
        {
          "output_type": "stream",
          "name": "stderr",
          "text": [
            "Epoch 18/20 - Validation: 100%|██████████| 138/138 [00:00<00:00, 2245.50it/s]\n",
            "Epoch 19/20 - Training: 100%|██████████| 1068/1068 [00:01<00:00, 631.17it/s]\n"
          ]
        },
        {
          "output_type": "stream",
          "name": "stdout",
          "text": [
            "Average Training Loss: 1.3735\n"
          ]
        },
        {
          "output_type": "stream",
          "name": "stderr",
          "text": [
            "Epoch 19/20 - Validation: 100%|██████████| 138/138 [00:00<00:00, 2567.98it/s]\n",
            "Epoch 20/20 - Training: 100%|██████████| 1068/1068 [00:01<00:00, 643.19it/s]\n"
          ]
        },
        {
          "output_type": "stream",
          "name": "stdout",
          "text": [
            "Average Training Loss: 1.3701\n"
          ]
        },
        {
          "output_type": "stream",
          "name": "stderr",
          "text": [
            "Epoch 20/20 - Validation: 100%|██████████| 138/138 [00:00<00:00, 2094.91it/s]\n",
            "Epoch 1/20 - Training: 100%|██████████| 1068/1068 [00:01<00:00, 626.62it/s]\n"
          ]
        },
        {
          "output_type": "stream",
          "name": "stdout",
          "text": [
            "Average Training Loss: 1.5453\n"
          ]
        },
        {
          "output_type": "stream",
          "name": "stderr",
          "text": [
            "Epoch 1/20 - Validation: 100%|██████████| 138/138 [00:00<00:00, 2241.05it/s]\n",
            "Epoch 2/20 - Training: 100%|██████████| 1068/1068 [00:01<00:00, 634.21it/s]\n"
          ]
        },
        {
          "output_type": "stream",
          "name": "stdout",
          "text": [
            "Average Training Loss: 1.4793\n"
          ]
        },
        {
          "output_type": "stream",
          "name": "stderr",
          "text": [
            "Epoch 2/20 - Validation: 100%|██████████| 138/138 [00:00<00:00, 2208.82it/s]\n",
            "Epoch 3/20 - Training: 100%|██████████| 1068/1068 [00:01<00:00, 631.32it/s]\n"
          ]
        },
        {
          "output_type": "stream",
          "name": "stdout",
          "text": [
            "Average Training Loss: 1.4324\n"
          ]
        },
        {
          "output_type": "stream",
          "name": "stderr",
          "text": [
            "Epoch 3/20 - Validation: 100%|██████████| 138/138 [00:00<00:00, 2029.94it/s]\n",
            "Epoch 4/20 - Training: 100%|██████████| 1068/1068 [00:02<00:00, 474.24it/s]\n"
          ]
        },
        {
          "output_type": "stream",
          "name": "stdout",
          "text": [
            "Average Training Loss: 1.4034\n"
          ]
        },
        {
          "output_type": "stream",
          "name": "stderr",
          "text": [
            "Epoch 4/20 - Validation: 100%|██████████| 138/138 [00:00<00:00, 1904.86it/s]\n",
            "Epoch 5/20 - Training: 100%|██████████| 1068/1068 [00:02<00:00, 470.77it/s]\n"
          ]
        },
        {
          "output_type": "stream",
          "name": "stdout",
          "text": [
            "Average Training Loss: 1.3838\n"
          ]
        },
        {
          "output_type": "stream",
          "name": "stderr",
          "text": [
            "Epoch 5/20 - Validation: 100%|██████████| 138/138 [00:00<00:00, 1828.65it/s]\n",
            "Epoch 6/20 - Training: 100%|██████████| 1068/1068 [00:01<00:00, 582.82it/s]\n"
          ]
        },
        {
          "output_type": "stream",
          "name": "stdout",
          "text": [
            "Average Training Loss: 1.3722\n"
          ]
        },
        {
          "output_type": "stream",
          "name": "stderr",
          "text": [
            "Epoch 6/20 - Validation: 100%|██████████| 138/138 [00:00<00:00, 2265.38it/s]\n",
            "Epoch 7/20 - Training: 100%|██████████| 1068/1068 [00:01<00:00, 615.57it/s]\n"
          ]
        },
        {
          "output_type": "stream",
          "name": "stdout",
          "text": [
            "Average Training Loss: 1.3639\n"
          ]
        },
        {
          "output_type": "stream",
          "name": "stderr",
          "text": [
            "Epoch 7/20 - Validation: 100%|██████████| 138/138 [00:00<00:00, 2305.39it/s]\n",
            "Epoch 8/20 - Training: 100%|██████████| 1068/1068 [00:01<00:00, 589.58it/s]\n"
          ]
        },
        {
          "output_type": "stream",
          "name": "stdout",
          "text": [
            "Average Training Loss: 1.3557\n"
          ]
        },
        {
          "output_type": "stream",
          "name": "stderr",
          "text": [
            "Epoch 8/20 - Validation: 100%|██████████| 138/138 [00:00<00:00, 2246.90it/s]\n",
            "Epoch 9/20 - Training: 100%|██████████| 1068/1068 [00:01<00:00, 612.34it/s]\n"
          ]
        },
        {
          "output_type": "stream",
          "name": "stdout",
          "text": [
            "Average Training Loss: 1.3502\n"
          ]
        },
        {
          "output_type": "stream",
          "name": "stderr",
          "text": [
            "Epoch 9/20 - Validation: 100%|██████████| 138/138 [00:00<00:00, 1993.13it/s]\n",
            "Epoch 10/20 - Training: 100%|██████████| 1068/1068 [00:01<00:00, 629.96it/s]\n"
          ]
        },
        {
          "output_type": "stream",
          "name": "stdout",
          "text": [
            "Average Training Loss: 1.3458\n"
          ]
        },
        {
          "output_type": "stream",
          "name": "stderr",
          "text": [
            "Epoch 10/20 - Validation: 100%|██████████| 138/138 [00:00<00:00, 2019.86it/s]\n",
            "Epoch 11/20 - Training: 100%|██████████| 1068/1068 [00:01<00:00, 544.30it/s]\n"
          ]
        },
        {
          "output_type": "stream",
          "name": "stdout",
          "text": [
            "Average Training Loss: 1.3399\n"
          ]
        },
        {
          "output_type": "stream",
          "name": "stderr",
          "text": [
            "Epoch 11/20 - Validation: 100%|██████████| 138/138 [00:00<00:00, 1726.14it/s]\n",
            "Epoch 12/20 - Training: 100%|██████████| 1068/1068 [00:02<00:00, 450.19it/s]\n"
          ]
        },
        {
          "output_type": "stream",
          "name": "stdout",
          "text": [
            "Average Training Loss: 1.3356\n"
          ]
        },
        {
          "output_type": "stream",
          "name": "stderr",
          "text": [
            "Epoch 12/20 - Validation: 100%|██████████| 138/138 [00:00<00:00, 1856.77it/s]\n",
            "Epoch 13/20 - Training: 100%|██████████| 1068/1068 [00:02<00:00, 511.89it/s]\n"
          ]
        },
        {
          "output_type": "stream",
          "name": "stdout",
          "text": [
            "Average Training Loss: 1.3309\n"
          ]
        },
        {
          "output_type": "stream",
          "name": "stderr",
          "text": [
            "Epoch 13/20 - Validation: 100%|██████████| 138/138 [00:00<00:00, 2143.19it/s]\n",
            "Epoch 14/20 - Training: 100%|██████████| 1068/1068 [00:01<00:00, 633.82it/s]\n"
          ]
        },
        {
          "output_type": "stream",
          "name": "stdout",
          "text": [
            "Average Training Loss: 1.3272\n"
          ]
        },
        {
          "output_type": "stream",
          "name": "stderr",
          "text": [
            "Epoch 14/20 - Validation: 100%|██████████| 138/138 [00:00<00:00, 2285.73it/s]\n",
            "Epoch 15/20 - Training: 100%|██████████| 1068/1068 [00:01<00:00, 629.35it/s]\n"
          ]
        },
        {
          "output_type": "stream",
          "name": "stdout",
          "text": [
            "Average Training Loss: 1.3233\n"
          ]
        },
        {
          "output_type": "stream",
          "name": "stderr",
          "text": [
            "Epoch 15/20 - Validation: 100%|██████████| 138/138 [00:00<00:00, 2390.53it/s]\n",
            "Epoch 16/20 - Training: 100%|██████████| 1068/1068 [00:01<00:00, 619.65it/s]\n"
          ]
        },
        {
          "output_type": "stream",
          "name": "stdout",
          "text": [
            "Average Training Loss: 1.3207\n"
          ]
        },
        {
          "output_type": "stream",
          "name": "stderr",
          "text": [
            "Epoch 16/20 - Validation: 100%|██████████| 138/138 [00:00<00:00, 2080.36it/s]\n",
            "Epoch 17/20 - Training: 100%|██████████| 1068/1068 [00:01<00:00, 603.80it/s]\n"
          ]
        },
        {
          "output_type": "stream",
          "name": "stdout",
          "text": [
            "Average Training Loss: 1.3183\n"
          ]
        },
        {
          "output_type": "stream",
          "name": "stderr",
          "text": [
            "Epoch 17/20 - Validation: 100%|██████████| 138/138 [00:00<00:00, 2057.93it/s]\n",
            "Epoch 18/20 - Training: 100%|██████████| 1068/1068 [00:01<00:00, 627.19it/s]\n"
          ]
        },
        {
          "output_type": "stream",
          "name": "stdout",
          "text": [
            "Average Training Loss: 1.3156\n"
          ]
        },
        {
          "output_type": "stream",
          "name": "stderr",
          "text": [
            "Epoch 18/20 - Validation: 100%|██████████| 138/138 [00:00<00:00, 2018.69it/s]\n",
            "Epoch 19/20 - Training: 100%|██████████| 1068/1068 [00:02<00:00, 481.49it/s]\n"
          ]
        },
        {
          "output_type": "stream",
          "name": "stdout",
          "text": [
            "Average Training Loss: 1.3110\n"
          ]
        },
        {
          "output_type": "stream",
          "name": "stderr",
          "text": [
            "Epoch 19/20 - Validation: 100%|██████████| 138/138 [00:00<00:00, 1804.37it/s]\n",
            "Epoch 20/20 - Training: 100%|██████████| 1068/1068 [00:02<00:00, 459.36it/s]\n"
          ]
        },
        {
          "output_type": "stream",
          "name": "stdout",
          "text": [
            "Average Training Loss: 1.3098\n"
          ]
        },
        {
          "output_type": "stream",
          "name": "stderr",
          "text": [
            "Epoch 20/20 - Validation: 100%|██████████| 138/138 [00:00<00:00, 1461.13it/s]\n",
            "Epoch 1/20 - Training: 100%|██████████| 1068/1068 [00:01<00:00, 546.04it/s]\n"
          ]
        },
        {
          "output_type": "stream",
          "name": "stdout",
          "text": [
            "Average Training Loss: 1.5444\n"
          ]
        },
        {
          "output_type": "stream",
          "name": "stderr",
          "text": [
            "Epoch 1/20 - Validation: 100%|██████████| 138/138 [00:00<00:00, 2262.74it/s]\n",
            "Epoch 2/20 - Training: 100%|██████████| 1068/1068 [00:01<00:00, 569.60it/s]\n"
          ]
        },
        {
          "output_type": "stream",
          "name": "stdout",
          "text": [
            "Average Training Loss: 1.4836\n"
          ]
        },
        {
          "output_type": "stream",
          "name": "stderr",
          "text": [
            "Epoch 2/20 - Validation: 100%|██████████| 138/138 [00:00<00:00, 2228.50it/s]\n",
            "Epoch 3/20 - Training: 100%|██████████| 1068/1068 [00:01<00:00, 570.46it/s]\n"
          ]
        },
        {
          "output_type": "stream",
          "name": "stdout",
          "text": [
            "Average Training Loss: 1.4378\n"
          ]
        },
        {
          "output_type": "stream",
          "name": "stderr",
          "text": [
            "Epoch 3/20 - Validation: 100%|██████████| 138/138 [00:00<00:00, 2140.67it/s]\n",
            "Epoch 4/20 - Training: 100%|██████████| 1068/1068 [00:01<00:00, 564.26it/s]\n"
          ]
        },
        {
          "output_type": "stream",
          "name": "stdout",
          "text": [
            "Average Training Loss: 1.4079\n"
          ]
        },
        {
          "output_type": "stream",
          "name": "stderr",
          "text": [
            "Epoch 4/20 - Validation: 100%|██████████| 138/138 [00:00<00:00, 2307.26it/s]\n",
            "Epoch 5/20 - Training: 100%|██████████| 1068/1068 [00:01<00:00, 564.39it/s]\n"
          ]
        },
        {
          "output_type": "stream",
          "name": "stdout",
          "text": [
            "Average Training Loss: 1.3894\n"
          ]
        },
        {
          "output_type": "stream",
          "name": "stderr",
          "text": [
            "Epoch 5/20 - Validation: 100%|██████████| 138/138 [00:00<00:00, 2227.66it/s]\n",
            "Epoch 6/20 - Training: 100%|██████████| 1068/1068 [00:02<00:00, 460.06it/s]\n"
          ]
        },
        {
          "output_type": "stream",
          "name": "stdout",
          "text": [
            "Average Training Loss: 1.3770\n"
          ]
        },
        {
          "output_type": "stream",
          "name": "stderr",
          "text": [
            "Epoch 6/20 - Validation: 100%|██████████| 138/138 [00:00<00:00, 1835.60it/s]\n",
            "Epoch 7/20 - Training: 100%|██████████| 1068/1068 [00:02<00:00, 417.41it/s]\n"
          ]
        },
        {
          "output_type": "stream",
          "name": "stdout",
          "text": [
            "Average Training Loss: 1.3685\n"
          ]
        },
        {
          "output_type": "stream",
          "name": "stderr",
          "text": [
            "Epoch 7/20 - Validation: 100%|██████████| 138/138 [00:00<00:00, 1669.95it/s]\n",
            "Epoch 8/20 - Training: 100%|██████████| 1068/1068 [00:01<00:00, 534.91it/s]\n"
          ]
        },
        {
          "output_type": "stream",
          "name": "stdout",
          "text": [
            "Average Training Loss: 1.3603\n"
          ]
        },
        {
          "output_type": "stream",
          "name": "stderr",
          "text": [
            "Epoch 8/20 - Validation: 100%|██████████| 138/138 [00:00<00:00, 2255.42it/s]\n",
            "Epoch 9/20 - Training: 100%|██████████| 1068/1068 [00:01<00:00, 560.60it/s]\n"
          ]
        },
        {
          "output_type": "stream",
          "name": "stdout",
          "text": [
            "Average Training Loss: 1.3538\n"
          ]
        },
        {
          "output_type": "stream",
          "name": "stderr",
          "text": [
            "Epoch 9/20 - Validation: 100%|██████████| 138/138 [00:00<00:00, 2183.14it/s]\n",
            "Epoch 10/20 - Training: 100%|██████████| 1068/1068 [00:01<00:00, 550.29it/s]\n"
          ]
        },
        {
          "output_type": "stream",
          "name": "stdout",
          "text": [
            "Average Training Loss: 1.3496\n"
          ]
        },
        {
          "output_type": "stream",
          "name": "stderr",
          "text": [
            "Epoch 10/20 - Validation: 100%|██████████| 138/138 [00:00<00:00, 2327.16it/s]\n",
            "Epoch 11/20 - Training: 100%|██████████| 1068/1068 [00:01<00:00, 563.95it/s]\n"
          ]
        },
        {
          "output_type": "stream",
          "name": "stdout",
          "text": [
            "Average Training Loss: 1.3454\n"
          ]
        },
        {
          "output_type": "stream",
          "name": "stderr",
          "text": [
            "Epoch 11/20 - Validation: 100%|██████████| 138/138 [00:00<00:00, 2226.49it/s]\n",
            "Epoch 12/20 - Training: 100%|██████████| 1068/1068 [00:01<00:00, 541.28it/s]\n"
          ]
        },
        {
          "output_type": "stream",
          "name": "stdout",
          "text": [
            "Average Training Loss: 1.3395\n"
          ]
        },
        {
          "output_type": "stream",
          "name": "stderr",
          "text": [
            "Epoch 12/20 - Validation: 100%|██████████| 138/138 [00:00<00:00, 2327.70it/s]\n",
            "Epoch 13/20 - Training: 100%|██████████| 1068/1068 [00:02<00:00, 444.47it/s]\n"
          ]
        },
        {
          "output_type": "stream",
          "name": "stdout",
          "text": [
            "Average Training Loss: 1.3364\n"
          ]
        },
        {
          "output_type": "stream",
          "name": "stderr",
          "text": [
            "Epoch 13/20 - Validation: 100%|██████████| 138/138 [00:00<00:00, 1488.66it/s]\n",
            "Epoch 14/20 - Training: 100%|██████████| 1068/1068 [00:02<00:00, 425.87it/s]\n"
          ]
        },
        {
          "output_type": "stream",
          "name": "stdout",
          "text": [
            "Average Training Loss: 1.3340\n"
          ]
        },
        {
          "output_type": "stream",
          "name": "stderr",
          "text": [
            "Epoch 14/20 - Validation: 100%|██████████| 138/138 [00:00<00:00, 1622.55it/s]\n",
            "Epoch 15/20 - Training: 100%|██████████| 1068/1068 [00:01<00:00, 564.96it/s]\n"
          ]
        },
        {
          "output_type": "stream",
          "name": "stdout",
          "text": [
            "Average Training Loss: 1.3301\n"
          ]
        },
        {
          "output_type": "stream",
          "name": "stderr",
          "text": [
            "Epoch 15/20 - Validation: 100%|██████████| 138/138 [00:00<00:00, 2213.10it/s]\n",
            "Epoch 16/20 - Training: 100%|██████████| 1068/1068 [00:01<00:00, 565.16it/s]\n"
          ]
        },
        {
          "output_type": "stream",
          "name": "stdout",
          "text": [
            "Average Training Loss: 1.3256\n"
          ]
        },
        {
          "output_type": "stream",
          "name": "stderr",
          "text": [
            "Epoch 16/20 - Validation: 100%|██████████| 138/138 [00:00<00:00, 2202.60it/s]\n",
            "Epoch 17/20 - Training: 100%|██████████| 1068/1068 [00:01<00:00, 562.56it/s]\n"
          ]
        },
        {
          "output_type": "stream",
          "name": "stdout",
          "text": [
            "Average Training Loss: 1.3220\n"
          ]
        },
        {
          "output_type": "stream",
          "name": "stderr",
          "text": [
            "Epoch 17/20 - Validation: 100%|██████████| 138/138 [00:00<00:00, 2310.12it/s]\n",
            "Epoch 18/20 - Training: 100%|██████████| 1068/1068 [00:01<00:00, 554.28it/s]\n"
          ]
        },
        {
          "output_type": "stream",
          "name": "stdout",
          "text": [
            "Average Training Loss: 1.3196\n"
          ]
        },
        {
          "output_type": "stream",
          "name": "stderr",
          "text": [
            "Epoch 18/20 - Validation: 100%|██████████| 138/138 [00:00<00:00, 2249.91it/s]\n",
            "Epoch 19/20 - Training: 100%|██████████| 1068/1068 [00:01<00:00, 579.95it/s]\n"
          ]
        },
        {
          "output_type": "stream",
          "name": "stdout",
          "text": [
            "Average Training Loss: 1.3166\n"
          ]
        },
        {
          "output_type": "stream",
          "name": "stderr",
          "text": [
            "Epoch 19/20 - Validation: 100%|██████████| 138/138 [00:00<00:00, 2212.08it/s]\n",
            "Epoch 20/20 - Training: 100%|██████████| 1068/1068 [00:02<00:00, 437.99it/s]\n"
          ]
        },
        {
          "output_type": "stream",
          "name": "stdout",
          "text": [
            "Average Training Loss: 1.3134\n"
          ]
        },
        {
          "output_type": "stream",
          "name": "stderr",
          "text": [
            "Epoch 20/20 - Validation: 100%|██████████| 138/138 [00:00<00:00, 1670.46it/s]\n",
            "Epoch 1/20 - Training: 100%|██████████| 1068/1068 [00:02<00:00, 430.43it/s]\n"
          ]
        },
        {
          "output_type": "stream",
          "name": "stdout",
          "text": [
            "Average Training Loss: 1.5469\n"
          ]
        },
        {
          "output_type": "stream",
          "name": "stderr",
          "text": [
            "Epoch 1/20 - Validation: 100%|██████████| 138/138 [00:00<00:00, 1456.31it/s]\n",
            "Epoch 2/20 - Training: 100%|██████████| 1068/1068 [00:01<00:00, 591.11it/s]\n"
          ]
        },
        {
          "output_type": "stream",
          "name": "stdout",
          "text": [
            "Average Training Loss: 1.4879\n"
          ]
        },
        {
          "output_type": "stream",
          "name": "stderr",
          "text": [
            "Epoch 2/20 - Validation: 100%|██████████| 138/138 [00:00<00:00, 2075.75it/s]\n",
            "Epoch 3/20 - Training: 100%|██████████| 1068/1068 [00:01<00:00, 587.10it/s]\n"
          ]
        },
        {
          "output_type": "stream",
          "name": "stdout",
          "text": [
            "Average Training Loss: 1.4408\n"
          ]
        },
        {
          "output_type": "stream",
          "name": "stderr",
          "text": [
            "Epoch 3/20 - Validation: 100%|██████████| 138/138 [00:00<00:00, 2217.85it/s]\n",
            "Epoch 4/20 - Training: 100%|██████████| 1068/1068 [00:01<00:00, 583.39it/s]\n"
          ]
        },
        {
          "output_type": "stream",
          "name": "stdout",
          "text": [
            "Average Training Loss: 1.4126\n"
          ]
        },
        {
          "output_type": "stream",
          "name": "stderr",
          "text": [
            "Epoch 4/20 - Validation: 100%|██████████| 138/138 [00:00<00:00, 2202.92it/s]\n",
            "Epoch 5/20 - Training: 100%|██████████| 1068/1068 [00:01<00:00, 577.67it/s]\n"
          ]
        },
        {
          "output_type": "stream",
          "name": "stdout",
          "text": [
            "Average Training Loss: 1.3949\n"
          ]
        },
        {
          "output_type": "stream",
          "name": "stderr",
          "text": [
            "Epoch 5/20 - Validation: 100%|██████████| 138/138 [00:00<00:00, 2248.96it/s]\n",
            "Epoch 6/20 - Training: 100%|██████████| 1068/1068 [00:01<00:00, 582.43it/s]\n"
          ]
        },
        {
          "output_type": "stream",
          "name": "stdout",
          "text": [
            "Average Training Loss: 1.3821\n"
          ]
        },
        {
          "output_type": "stream",
          "name": "stderr",
          "text": [
            "Epoch 6/20 - Validation: 100%|██████████| 138/138 [00:00<00:00, 2230.70it/s]\n",
            "Epoch 7/20 - Training: 100%|██████████| 1068/1068 [00:02<00:00, 458.84it/s]\n"
          ]
        },
        {
          "output_type": "stream",
          "name": "stdout",
          "text": [
            "Average Training Loss: 1.3712\n"
          ]
        },
        {
          "output_type": "stream",
          "name": "stderr",
          "text": [
            "Epoch 7/20 - Validation: 100%|██████████| 138/138 [00:00<00:00, 1523.46it/s]\n",
            "Epoch 8/20 - Training: 100%|██████████| 1068/1068 [00:02<00:00, 430.51it/s]\n"
          ]
        },
        {
          "output_type": "stream",
          "name": "stdout",
          "text": [
            "Average Training Loss: 1.3639\n"
          ]
        },
        {
          "output_type": "stream",
          "name": "stderr",
          "text": [
            "Epoch 8/20 - Validation: 100%|██████████| 138/138 [00:00<00:00, 1523.70it/s]\n",
            "Epoch 9/20 - Training: 100%|██████████| 1068/1068 [00:01<00:00, 544.23it/s]\n"
          ]
        },
        {
          "output_type": "stream",
          "name": "stdout",
          "text": [
            "Average Training Loss: 1.3583\n"
          ]
        },
        {
          "output_type": "stream",
          "name": "stderr",
          "text": [
            "Epoch 9/20 - Validation: 100%|██████████| 138/138 [00:00<00:00, 2083.80it/s]\n",
            "Epoch 10/20 - Training: 100%|██████████| 1068/1068 [00:01<00:00, 585.55it/s]\n"
          ]
        },
        {
          "output_type": "stream",
          "name": "stdout",
          "text": [
            "Average Training Loss: 1.3518\n"
          ]
        },
        {
          "output_type": "stream",
          "name": "stderr",
          "text": [
            "Epoch 10/20 - Validation: 100%|██████████| 138/138 [00:00<00:00, 2355.07it/s]\n",
            "Epoch 11/20 - Training: 100%|██████████| 1068/1068 [00:01<00:00, 586.35it/s]\n"
          ]
        },
        {
          "output_type": "stream",
          "name": "stdout",
          "text": [
            "Average Training Loss: 1.3486\n"
          ]
        },
        {
          "output_type": "stream",
          "name": "stderr",
          "text": [
            "Epoch 11/20 - Validation: 100%|██████████| 138/138 [00:00<00:00, 2023.32it/s]\n",
            "Epoch 12/20 - Training: 100%|██████████| 1068/1068 [00:01<00:00, 593.61it/s]\n"
          ]
        },
        {
          "output_type": "stream",
          "name": "stdout",
          "text": [
            "Average Training Loss: 1.3423\n"
          ]
        },
        {
          "output_type": "stream",
          "name": "stderr",
          "text": [
            "Epoch 12/20 - Validation: 100%|██████████| 138/138 [00:00<00:00, 2190.97it/s]\n",
            "Epoch 13/20 - Training: 100%|██████████| 1068/1068 [00:01<00:00, 556.18it/s]\n"
          ]
        },
        {
          "output_type": "stream",
          "name": "stdout",
          "text": [
            "Average Training Loss: 1.3383\n"
          ]
        },
        {
          "output_type": "stream",
          "name": "stderr",
          "text": [
            "Epoch 13/20 - Validation: 100%|██████████| 138/138 [00:00<00:00, 1979.30it/s]\n",
            "Epoch 14/20 - Training: 100%|██████████| 1068/1068 [00:02<00:00, 439.05it/s]\n"
          ]
        },
        {
          "output_type": "stream",
          "name": "stdout",
          "text": [
            "Average Training Loss: 1.3369\n"
          ]
        },
        {
          "output_type": "stream",
          "name": "stderr",
          "text": [
            "Epoch 14/20 - Validation: 100%|██████████| 138/138 [00:00<00:00, 1764.63it/s]\n",
            "Epoch 15/20 - Training: 100%|██████████| 1068/1068 [00:02<00:00, 428.93it/s]\n"
          ]
        },
        {
          "output_type": "stream",
          "name": "stdout",
          "text": [
            "Average Training Loss: 1.3306\n"
          ]
        },
        {
          "output_type": "stream",
          "name": "stderr",
          "text": [
            "Epoch 15/20 - Validation: 100%|██████████| 138/138 [00:00<00:00, 1809.44it/s]\n",
            "Epoch 16/20 - Training: 100%|██████████| 1068/1068 [00:02<00:00, 529.62it/s]\n"
          ]
        },
        {
          "output_type": "stream",
          "name": "stdout",
          "text": [
            "Average Training Loss: 1.3290\n"
          ]
        },
        {
          "output_type": "stream",
          "name": "stderr",
          "text": [
            "Epoch 16/20 - Validation: 100%|██████████| 138/138 [00:00<00:00, 2204.48it/s]\n",
            "Epoch 17/20 - Training: 100%|██████████| 1068/1068 [00:01<00:00, 596.50it/s]\n"
          ]
        },
        {
          "output_type": "stream",
          "name": "stdout",
          "text": [
            "Average Training Loss: 1.3255\n"
          ]
        },
        {
          "output_type": "stream",
          "name": "stderr",
          "text": [
            "Epoch 17/20 - Validation: 100%|██████████| 138/138 [00:00<00:00, 2007.85it/s]\n",
            "Epoch 18/20 - Training: 100%|██████████| 1068/1068 [00:01<00:00, 595.20it/s]\n"
          ]
        },
        {
          "output_type": "stream",
          "name": "stdout",
          "text": [
            "Average Training Loss: 1.3225\n"
          ]
        },
        {
          "output_type": "stream",
          "name": "stderr",
          "text": [
            "Epoch 18/20 - Validation: 100%|██████████| 138/138 [00:00<00:00, 1816.13it/s]\n",
            "Epoch 19/20 - Training: 100%|██████████| 1068/1068 [00:01<00:00, 580.47it/s]\n"
          ]
        },
        {
          "output_type": "stream",
          "name": "stdout",
          "text": [
            "Average Training Loss: 1.3182\n"
          ]
        },
        {
          "output_type": "stream",
          "name": "stderr",
          "text": [
            "Epoch 19/20 - Validation: 100%|██████████| 138/138 [00:00<00:00, 2165.79it/s]\n",
            "Epoch 20/20 - Training: 100%|██████████| 1068/1068 [00:01<00:00, 588.11it/s]\n"
          ]
        },
        {
          "output_type": "stream",
          "name": "stdout",
          "text": [
            "Average Training Loss: 1.3153\n"
          ]
        },
        {
          "output_type": "stream",
          "name": "stderr",
          "text": [
            "Epoch 20/20 - Validation: 100%|██████████| 138/138 [00:00<00:00, 2196.45it/s]\n",
            "Epoch 1/20 - Training: 100%|██████████| 1068/1068 [00:02<00:00, 484.22it/s]\n"
          ]
        },
        {
          "output_type": "stream",
          "name": "stdout",
          "text": [
            "Average Training Loss: 1.5533\n"
          ]
        },
        {
          "output_type": "stream",
          "name": "stderr",
          "text": [
            "Epoch 1/20 - Validation: 100%|██████████| 138/138 [00:00<00:00, 1821.33it/s]\n",
            "Epoch 2/20 - Training: 100%|██████████| 1068/1068 [00:02<00:00, 432.78it/s]\n"
          ]
        },
        {
          "output_type": "stream",
          "name": "stdout",
          "text": [
            "Average Training Loss: 1.5114\n"
          ]
        },
        {
          "output_type": "stream",
          "name": "stderr",
          "text": [
            "Epoch 2/20 - Validation: 100%|██████████| 138/138 [00:00<00:00, 1494.42it/s]\n",
            "Epoch 3/20 - Training: 100%|██████████| 1068/1068 [00:02<00:00, 486.61it/s]\n"
          ]
        },
        {
          "output_type": "stream",
          "name": "stdout",
          "text": [
            "Average Training Loss: 1.4721\n"
          ]
        },
        {
          "output_type": "stream",
          "name": "stderr",
          "text": [
            "Epoch 3/20 - Validation: 100%|██████████| 138/138 [00:00<00:00, 2160.41it/s]\n",
            "Epoch 4/20 - Training: 100%|██████████| 1068/1068 [00:01<00:00, 575.96it/s]\n"
          ]
        },
        {
          "output_type": "stream",
          "name": "stdout",
          "text": [
            "Average Training Loss: 1.4447\n"
          ]
        },
        {
          "output_type": "stream",
          "name": "stderr",
          "text": [
            "Epoch 4/20 - Validation: 100%|██████████| 138/138 [00:00<00:00, 2238.46it/s]\n",
            "Epoch 5/20 - Training: 100%|██████████| 1068/1068 [00:01<00:00, 574.72it/s]\n"
          ]
        },
        {
          "output_type": "stream",
          "name": "stdout",
          "text": [
            "Average Training Loss: 1.4206\n"
          ]
        },
        {
          "output_type": "stream",
          "name": "stderr",
          "text": [
            "Epoch 5/20 - Validation: 100%|██████████| 138/138 [00:00<00:00, 1905.43it/s]\n",
            "Epoch 6/20 - Training: 100%|██████████| 1068/1068 [00:01<00:00, 549.90it/s]\n"
          ]
        },
        {
          "output_type": "stream",
          "name": "stdout",
          "text": [
            "Average Training Loss: 1.4064\n"
          ]
        },
        {
          "output_type": "stream",
          "name": "stderr",
          "text": [
            "Epoch 6/20 - Validation: 100%|██████████| 138/138 [00:00<00:00, 2104.31it/s]\n",
            "Epoch 7/20 - Training: 100%|██████████| 1068/1068 [00:01<00:00, 568.76it/s]\n"
          ]
        },
        {
          "output_type": "stream",
          "name": "stdout",
          "text": [
            "Average Training Loss: 1.3934\n"
          ]
        },
        {
          "output_type": "stream",
          "name": "stderr",
          "text": [
            "Epoch 7/20 - Validation: 100%|██████████| 138/138 [00:00<00:00, 2263.30it/s]\n",
            "Epoch 8/20 - Training: 100%|██████████| 1068/1068 [00:02<00:00, 475.07it/s]\n"
          ]
        },
        {
          "output_type": "stream",
          "name": "stdout",
          "text": [
            "Average Training Loss: 1.3846\n"
          ]
        },
        {
          "output_type": "stream",
          "name": "stderr",
          "text": [
            "Epoch 8/20 - Validation: 100%|██████████| 138/138 [00:00<00:00, 1598.33it/s]\n",
            "Epoch 9/20 - Training: 100%|██████████| 1068/1068 [00:02<00:00, 424.72it/s]\n"
          ]
        },
        {
          "output_type": "stream",
          "name": "stdout",
          "text": [
            "Average Training Loss: 1.3778\n"
          ]
        },
        {
          "output_type": "stream",
          "name": "stderr",
          "text": [
            "Epoch 9/20 - Validation: 100%|██████████| 138/138 [00:00<00:00, 1593.55it/s]\n",
            "Epoch 10/20 - Training: 100%|██████████| 1068/1068 [00:02<00:00, 503.89it/s]\n"
          ]
        },
        {
          "output_type": "stream",
          "name": "stdout",
          "text": [
            "Average Training Loss: 1.3684\n"
          ]
        },
        {
          "output_type": "stream",
          "name": "stderr",
          "text": [
            "Epoch 10/20 - Validation: 100%|██████████| 138/138 [00:00<00:00, 2084.16it/s]\n",
            "Epoch 11/20 - Training: 100%|██████████| 1068/1068 [00:01<00:00, 571.35it/s]\n"
          ]
        },
        {
          "output_type": "stream",
          "name": "stdout",
          "text": [
            "Average Training Loss: 1.3667\n"
          ]
        },
        {
          "output_type": "stream",
          "name": "stderr",
          "text": [
            "Epoch 11/20 - Validation: 100%|██████████| 138/138 [00:00<00:00, 1790.85it/s]\n",
            "Epoch 12/20 - Training: 100%|██████████| 1068/1068 [00:01<00:00, 567.94it/s]\n"
          ]
        },
        {
          "output_type": "stream",
          "name": "stdout",
          "text": [
            "Average Training Loss: 1.3610\n"
          ]
        },
        {
          "output_type": "stream",
          "name": "stderr",
          "text": [
            "Epoch 12/20 - Validation: 100%|██████████| 138/138 [00:00<00:00, 1929.51it/s]\n",
            "Epoch 13/20 - Training: 100%|██████████| 1068/1068 [00:01<00:00, 575.76it/s]\n"
          ]
        },
        {
          "output_type": "stream",
          "name": "stdout",
          "text": [
            "Average Training Loss: 1.3588\n"
          ]
        },
        {
          "output_type": "stream",
          "name": "stderr",
          "text": [
            "Epoch 13/20 - Validation: 100%|██████████| 138/138 [00:00<00:00, 2194.97it/s]\n",
            "Epoch 14/20 - Training: 100%|██████████| 1068/1068 [00:01<00:00, 554.41it/s]\n"
          ]
        },
        {
          "output_type": "stream",
          "name": "stdout",
          "text": [
            "Average Training Loss: 1.3553\n"
          ]
        },
        {
          "output_type": "stream",
          "name": "stderr",
          "text": [
            "Epoch 14/20 - Validation: 100%|██████████| 138/138 [00:00<00:00, 2200.34it/s]\n",
            "Epoch 15/20 - Training: 100%|██████████| 1068/1068 [00:02<00:00, 449.47it/s]\n"
          ]
        },
        {
          "output_type": "stream",
          "name": "stdout",
          "text": [
            "Average Training Loss: 1.3515\n"
          ]
        },
        {
          "output_type": "stream",
          "name": "stderr",
          "text": [
            "Epoch 15/20 - Validation: 100%|██████████| 138/138 [00:00<00:00, 1800.96it/s]\n",
            "Epoch 16/20 - Training: 100%|██████████| 1068/1068 [00:02<00:00, 438.65it/s]\n"
          ]
        },
        {
          "output_type": "stream",
          "name": "stdout",
          "text": [
            "Average Training Loss: 1.3472\n"
          ]
        },
        {
          "output_type": "stream",
          "name": "stderr",
          "text": [
            "Epoch 16/20 - Validation: 100%|██████████| 138/138 [00:00<00:00, 1811.28it/s]\n",
            "Epoch 17/20 - Training: 100%|██████████| 1068/1068 [00:02<00:00, 530.48it/s]\n"
          ]
        },
        {
          "output_type": "stream",
          "name": "stdout",
          "text": [
            "Average Training Loss: 1.3443\n"
          ]
        },
        {
          "output_type": "stream",
          "name": "stderr",
          "text": [
            "Epoch 17/20 - Validation: 100%|██████████| 138/138 [00:00<00:00, 2339.98it/s]\n",
            "Epoch 18/20 - Training: 100%|██████████| 1068/1068 [00:01<00:00, 569.34it/s]\n"
          ]
        },
        {
          "output_type": "stream",
          "name": "stdout",
          "text": [
            "Average Training Loss: 1.3403\n"
          ]
        },
        {
          "output_type": "stream",
          "name": "stderr",
          "text": [
            "Epoch 18/20 - Validation: 100%|██████████| 138/138 [00:00<00:00, 2061.99it/s]\n",
            "Epoch 19/20 - Training: 100%|██████████| 1068/1068 [00:01<00:00, 567.18it/s]\n"
          ]
        },
        {
          "output_type": "stream",
          "name": "stdout",
          "text": [
            "Average Training Loss: 1.3387\n"
          ]
        },
        {
          "output_type": "stream",
          "name": "stderr",
          "text": [
            "Epoch 19/20 - Validation: 100%|██████████| 138/138 [00:00<00:00, 2141.98it/s]\n",
            "Epoch 20/20 - Training: 100%|██████████| 1068/1068 [00:01<00:00, 571.95it/s]\n"
          ]
        },
        {
          "output_type": "stream",
          "name": "stdout",
          "text": [
            "Average Training Loss: 1.3357\n"
          ]
        },
        {
          "output_type": "stream",
          "name": "stderr",
          "text": [
            "Epoch 20/20 - Validation: 100%|██████████| 138/138 [00:00<00:00, 1976.93it/s]\n",
            "Epoch 1/20 - Training: 100%|██████████| 1068/1068 [00:01<00:00, 555.81it/s]\n"
          ]
        },
        {
          "output_type": "stream",
          "name": "stdout",
          "text": [
            "Average Training Loss: 1.5635\n"
          ]
        },
        {
          "output_type": "stream",
          "name": "stderr",
          "text": [
            "Epoch 1/20 - Validation: 100%|██████████| 138/138 [00:00<00:00, 2111.61it/s]\n",
            "Epoch 2/20 - Training: 100%|██████████| 1068/1068 [00:02<00:00, 432.59it/s]\n"
          ]
        },
        {
          "output_type": "stream",
          "name": "stdout",
          "text": [
            "Average Training Loss: 1.5301\n"
          ]
        },
        {
          "output_type": "stream",
          "name": "stderr",
          "text": [
            "Epoch 2/20 - Validation: 100%|██████████| 138/138 [00:00<00:00, 1631.93it/s]\n",
            "Epoch 3/20 - Training: 100%|██████████| 1068/1068 [00:02<00:00, 412.40it/s]\n"
          ]
        },
        {
          "output_type": "stream",
          "name": "stdout",
          "text": [
            "Average Training Loss: 1.4994\n"
          ]
        },
        {
          "output_type": "stream",
          "name": "stderr",
          "text": [
            "Epoch 3/20 - Validation: 100%|██████████| 138/138 [00:00<00:00, 1693.72it/s]\n",
            "Epoch 4/20 - Training: 100%|██████████| 1068/1068 [00:02<00:00, 522.82it/s]\n"
          ]
        },
        {
          "output_type": "stream",
          "name": "stdout",
          "text": [
            "Average Training Loss: 1.4752\n"
          ]
        },
        {
          "output_type": "stream",
          "name": "stderr",
          "text": [
            "Epoch 4/20 - Validation: 100%|██████████| 138/138 [00:00<00:00, 2227.71it/s]\n",
            "Epoch 5/20 - Training: 100%|██████████| 1068/1068 [00:01<00:00, 555.40it/s]\n"
          ]
        },
        {
          "output_type": "stream",
          "name": "stdout",
          "text": [
            "Average Training Loss: 1.4534\n"
          ]
        },
        {
          "output_type": "stream",
          "name": "stderr",
          "text": [
            "Epoch 5/20 - Validation: 100%|██████████| 138/138 [00:00<00:00, 2123.50it/s]\n",
            "Epoch 6/20 - Training: 100%|██████████| 1068/1068 [00:01<00:00, 560.02it/s]\n"
          ]
        },
        {
          "output_type": "stream",
          "name": "stdout",
          "text": [
            "Average Training Loss: 1.4323\n"
          ]
        },
        {
          "output_type": "stream",
          "name": "stderr",
          "text": [
            "Epoch 6/20 - Validation: 100%|██████████| 138/138 [00:00<00:00, 1996.89it/s]\n",
            "Epoch 7/20 - Training: 100%|██████████| 1068/1068 [00:01<00:00, 564.85it/s]\n"
          ]
        },
        {
          "output_type": "stream",
          "name": "stdout",
          "text": [
            "Average Training Loss: 1.4200\n"
          ]
        },
        {
          "output_type": "stream",
          "name": "stderr",
          "text": [
            "Epoch 7/20 - Validation: 100%|██████████| 138/138 [00:00<00:00, 2111.52it/s]\n",
            "Epoch 8/20 - Training: 100%|██████████| 1068/1068 [00:01<00:00, 559.38it/s]\n"
          ]
        },
        {
          "output_type": "stream",
          "name": "stdout",
          "text": [
            "Average Training Loss: 1.4091\n"
          ]
        },
        {
          "output_type": "stream",
          "name": "stderr",
          "text": [
            "Epoch 8/20 - Validation: 100%|██████████| 138/138 [00:00<00:00, 1983.35it/s]\n",
            "Epoch 9/20 - Training: 100%|██████████| 1068/1068 [00:02<00:00, 439.13it/s]\n"
          ]
        },
        {
          "output_type": "stream",
          "name": "stdout",
          "text": [
            "Average Training Loss: 1.3989\n"
          ]
        },
        {
          "output_type": "stream",
          "name": "stderr",
          "text": [
            "Epoch 9/20 - Validation: 100%|██████████| 138/138 [00:00<00:00, 1773.66it/s]\n",
            "Epoch 10/20 - Training: 100%|██████████| 1068/1068 [00:02<00:00, 411.39it/s]\n"
          ]
        },
        {
          "output_type": "stream",
          "name": "stdout",
          "text": [
            "Average Training Loss: 1.3961\n"
          ]
        },
        {
          "output_type": "stream",
          "name": "stderr",
          "text": [
            "Epoch 10/20 - Validation: 100%|██████████| 138/138 [00:00<00:00, 1533.59it/s]\n",
            "Epoch 11/20 - Training: 100%|██████████| 1068/1068 [00:01<00:00, 563.50it/s]\n"
          ]
        },
        {
          "output_type": "stream",
          "name": "stdout",
          "text": [
            "Average Training Loss: 1.3887\n"
          ]
        },
        {
          "output_type": "stream",
          "name": "stderr",
          "text": [
            "Epoch 11/20 - Validation: 100%|██████████| 138/138 [00:00<00:00, 2051.50it/s]\n",
            "Epoch 12/20 - Training: 100%|██████████| 1068/1068 [00:01<00:00, 553.52it/s]\n"
          ]
        },
        {
          "output_type": "stream",
          "name": "stdout",
          "text": [
            "Average Training Loss: 1.3829\n"
          ]
        },
        {
          "output_type": "stream",
          "name": "stderr",
          "text": [
            "Epoch 12/20 - Validation: 100%|██████████| 138/138 [00:00<00:00, 1991.86it/s]\n",
            "Epoch 13/20 - Training: 100%|██████████| 1068/1068 [00:01<00:00, 553.48it/s]\n"
          ]
        },
        {
          "output_type": "stream",
          "name": "stdout",
          "text": [
            "Average Training Loss: 1.3777\n"
          ]
        },
        {
          "output_type": "stream",
          "name": "stderr",
          "text": [
            "Epoch 13/20 - Validation: 100%|██████████| 138/138 [00:00<00:00, 2122.94it/s]\n",
            "Epoch 14/20 - Training: 100%|██████████| 1068/1068 [00:01<00:00, 566.00it/s]\n"
          ]
        },
        {
          "output_type": "stream",
          "name": "stdout",
          "text": [
            "Average Training Loss: 1.3760\n"
          ]
        },
        {
          "output_type": "stream",
          "name": "stderr",
          "text": [
            "Epoch 14/20 - Validation: 100%|██████████| 138/138 [00:00<00:00, 1617.31it/s]\n",
            "Epoch 15/20 - Training: 100%|██████████| 1068/1068 [00:01<00:00, 560.75it/s]\n"
          ]
        },
        {
          "output_type": "stream",
          "name": "stdout",
          "text": [
            "Average Training Loss: 1.3709\n"
          ]
        },
        {
          "output_type": "stream",
          "name": "stderr",
          "text": [
            "Epoch 15/20 - Validation: 100%|██████████| 138/138 [00:00<00:00, 2151.95it/s]\n",
            "Epoch 16/20 - Training: 100%|██████████| 1068/1068 [00:02<00:00, 426.01it/s]\n"
          ]
        },
        {
          "output_type": "stream",
          "name": "stdout",
          "text": [
            "Average Training Loss: 1.3668\n"
          ]
        },
        {
          "output_type": "stream",
          "name": "stderr",
          "text": [
            "Epoch 16/20 - Validation: 100%|██████████| 138/138 [00:00<00:00, 1572.65it/s]\n",
            "Epoch 17/20 - Training: 100%|██████████| 1068/1068 [00:02<00:00, 422.88it/s]\n"
          ]
        },
        {
          "output_type": "stream",
          "name": "stdout",
          "text": [
            "Average Training Loss: 1.3672\n"
          ]
        },
        {
          "output_type": "stream",
          "name": "stderr",
          "text": [
            "Epoch 17/20 - Validation: 100%|██████████| 138/138 [00:00<00:00, 2156.11it/s]\n",
            "Epoch 18/20 - Training: 100%|██████████| 1068/1068 [00:01<00:00, 561.02it/s]\n"
          ]
        },
        {
          "output_type": "stream",
          "name": "stdout",
          "text": [
            "Average Training Loss: 1.3598\n"
          ]
        },
        {
          "output_type": "stream",
          "name": "stderr",
          "text": [
            "Epoch 18/20 - Validation: 100%|██████████| 138/138 [00:00<00:00, 2159.59it/s]\n",
            "Epoch 19/20 - Training: 100%|██████████| 1068/1068 [00:01<00:00, 557.12it/s]\n"
          ]
        },
        {
          "output_type": "stream",
          "name": "stdout",
          "text": [
            "Average Training Loss: 1.3568\n"
          ]
        },
        {
          "output_type": "stream",
          "name": "stderr",
          "text": [
            "Epoch 19/20 - Validation: 100%|██████████| 138/138 [00:00<00:00, 2000.77it/s]\n",
            "Epoch 20/20 - Training: 100%|██████████| 1068/1068 [00:01<00:00, 556.65it/s]\n"
          ]
        },
        {
          "output_type": "stream",
          "name": "stdout",
          "text": [
            "Average Training Loss: 1.3552\n"
          ]
        },
        {
          "output_type": "stream",
          "name": "stderr",
          "text": [
            "Epoch 20/20 - Validation: 100%|██████████| 138/138 [00:00<00:00, 2108.96it/s]\n",
            "Epoch 1/20 - Training: 100%|██████████| 1068/1068 [00:01<00:00, 729.83it/s]\n"
          ]
        },
        {
          "output_type": "stream",
          "name": "stdout",
          "text": [
            "Average Training Loss: 1.4750\n"
          ]
        },
        {
          "output_type": "stream",
          "name": "stderr",
          "text": [
            "Epoch 1/20 - Validation: 100%|██████████| 138/138 [00:00<00:00, 1925.00it/s]\n",
            "Epoch 2/20 - Training: 100%|██████████| 1068/1068 [00:01<00:00, 713.60it/s]\n"
          ]
        },
        {
          "output_type": "stream",
          "name": "stdout",
          "text": [
            "Average Training Loss: 1.3880\n"
          ]
        },
        {
          "output_type": "stream",
          "name": "stderr",
          "text": [
            "Epoch 2/20 - Validation: 100%|██████████| 138/138 [00:00<00:00, 2532.96it/s]\n",
            "Epoch 3/20 - Training: 100%|██████████| 1068/1068 [00:01<00:00, 570.00it/s]\n"
          ]
        },
        {
          "output_type": "stream",
          "name": "stdout",
          "text": [
            "Average Training Loss: 1.3638\n"
          ]
        },
        {
          "output_type": "stream",
          "name": "stderr",
          "text": [
            "Epoch 3/20 - Validation: 100%|██████████| 138/138 [00:00<00:00, 1831.66it/s]\n",
            "Epoch 4/20 - Training: 100%|██████████| 1068/1068 [00:02<00:00, 523.67it/s]\n"
          ]
        },
        {
          "output_type": "stream",
          "name": "stdout",
          "text": [
            "Average Training Loss: 1.3505\n"
          ]
        },
        {
          "output_type": "stream",
          "name": "stderr",
          "text": [
            "Epoch 4/20 - Validation: 100%|██████████| 138/138 [00:00<00:00, 1989.48it/s]\n",
            "Epoch 5/20 - Training: 100%|██████████| 1068/1068 [00:01<00:00, 560.22it/s]\n"
          ]
        },
        {
          "output_type": "stream",
          "name": "stdout",
          "text": [
            "Average Training Loss: 1.3410\n"
          ]
        },
        {
          "output_type": "stream",
          "name": "stderr",
          "text": [
            "Epoch 5/20 - Validation: 100%|██████████| 138/138 [00:00<00:00, 2343.54it/s]\n",
            "Epoch 6/20 - Training: 100%|██████████| 1068/1068 [00:01<00:00, 714.67it/s]\n"
          ]
        },
        {
          "output_type": "stream",
          "name": "stdout",
          "text": [
            "Average Training Loss: 1.3312\n"
          ]
        },
        {
          "output_type": "stream",
          "name": "stderr",
          "text": [
            "Epoch 6/20 - Validation: 100%|██████████| 138/138 [00:00<00:00, 2205.19it/s]\n",
            "Epoch 7/20 - Training: 100%|██████████| 1068/1068 [00:01<00:00, 699.96it/s]\n"
          ]
        },
        {
          "output_type": "stream",
          "name": "stdout",
          "text": [
            "Average Training Loss: 1.3209\n"
          ]
        },
        {
          "output_type": "stream",
          "name": "stderr",
          "text": [
            "Epoch 7/20 - Validation: 100%|██████████| 138/138 [00:00<00:00, 2464.34it/s]\n",
            "Epoch 8/20 - Training: 100%|██████████| 1068/1068 [00:01<00:00, 708.21it/s]\n"
          ]
        },
        {
          "output_type": "stream",
          "name": "stdout",
          "text": [
            "Average Training Loss: 1.3119\n"
          ]
        },
        {
          "output_type": "stream",
          "name": "stderr",
          "text": [
            "Epoch 8/20 - Validation: 100%|██████████| 138/138 [00:00<00:00, 1807.71it/s]\n",
            "Epoch 9/20 - Training: 100%|██████████| 1068/1068 [00:01<00:00, 710.25it/s]\n"
          ]
        },
        {
          "output_type": "stream",
          "name": "stdout",
          "text": [
            "Average Training Loss: 1.3024\n"
          ]
        },
        {
          "output_type": "stream",
          "name": "stderr",
          "text": [
            "Epoch 9/20 - Validation: 100%|██████████| 138/138 [00:00<00:00, 2510.66it/s]\n",
            "Epoch 10/20 - Training: 100%|██████████| 1068/1068 [00:01<00:00, 701.40it/s]\n"
          ]
        },
        {
          "output_type": "stream",
          "name": "stdout",
          "text": [
            "Average Training Loss: 1.2961\n"
          ]
        },
        {
          "output_type": "stream",
          "name": "stderr",
          "text": [
            "Epoch 10/20 - Validation: 100%|██████████| 138/138 [00:00<00:00, 2320.20it/s]\n",
            "Epoch 11/20 - Training: 100%|██████████| 1068/1068 [00:01<00:00, 714.81it/s]\n"
          ]
        },
        {
          "output_type": "stream",
          "name": "stdout",
          "text": [
            "Average Training Loss: 1.2852\n"
          ]
        },
        {
          "output_type": "stream",
          "name": "stderr",
          "text": [
            "Epoch 11/20 - Validation: 100%|██████████| 138/138 [00:00<00:00, 2454.07it/s]\n",
            "Epoch 12/20 - Training: 100%|██████████| 1068/1068 [00:01<00:00, 540.33it/s]\n"
          ]
        },
        {
          "output_type": "stream",
          "name": "stdout",
          "text": [
            "Average Training Loss: 1.2795\n"
          ]
        },
        {
          "output_type": "stream",
          "name": "stderr",
          "text": [
            "Epoch 12/20 - Validation: 100%|██████████| 138/138 [00:00<00:00, 2088.65it/s]\n",
            "Epoch 13/20 - Training: 100%|██████████| 1068/1068 [00:01<00:00, 535.91it/s]\n"
          ]
        },
        {
          "output_type": "stream",
          "name": "stdout",
          "text": [
            "Average Training Loss: 1.2693\n"
          ]
        },
        {
          "output_type": "stream",
          "name": "stderr",
          "text": [
            "Epoch 13/20 - Validation: 100%|██████████| 138/138 [00:00<00:00, 2153.69it/s]\n",
            "Epoch 14/20 - Training: 100%|██████████| 1068/1068 [00:01<00:00, 574.53it/s]\n"
          ]
        },
        {
          "output_type": "stream",
          "name": "stdout",
          "text": [
            "Average Training Loss: 1.2574\n"
          ]
        },
        {
          "output_type": "stream",
          "name": "stderr",
          "text": [
            "Epoch 14/20 - Validation: 100%|██████████| 138/138 [00:00<00:00, 2454.54it/s]\n",
            "Epoch 15/20 - Training: 100%|██████████| 1068/1068 [00:01<00:00, 710.47it/s]\n"
          ]
        },
        {
          "output_type": "stream",
          "name": "stdout",
          "text": [
            "Average Training Loss: 1.2480\n"
          ]
        },
        {
          "output_type": "stream",
          "name": "stderr",
          "text": [
            "Epoch 15/20 - Validation: 100%|██████████| 138/138 [00:00<00:00, 2444.79it/s]\n",
            "Epoch 16/20 - Training: 100%|██████████| 1068/1068 [00:01<00:00, 715.97it/s]\n"
          ]
        },
        {
          "output_type": "stream",
          "name": "stdout",
          "text": [
            "Average Training Loss: 1.2385\n"
          ]
        },
        {
          "output_type": "stream",
          "name": "stderr",
          "text": [
            "Epoch 16/20 - Validation: 100%|██████████| 138/138 [00:00<00:00, 2269.01it/s]\n",
            "Epoch 17/20 - Training: 100%|██████████| 1068/1068 [00:01<00:00, 713.95it/s]\n"
          ]
        },
        {
          "output_type": "stream",
          "name": "stdout",
          "text": [
            "Average Training Loss: 1.2261\n"
          ]
        },
        {
          "output_type": "stream",
          "name": "stderr",
          "text": [
            "Epoch 17/20 - Validation: 100%|██████████| 138/138 [00:00<00:00, 2077.14it/s]\n",
            "Epoch 18/20 - Training: 100%|██████████| 1068/1068 [00:01<00:00, 695.65it/s]\n"
          ]
        },
        {
          "output_type": "stream",
          "name": "stdout",
          "text": [
            "Average Training Loss: 1.2200\n"
          ]
        },
        {
          "output_type": "stream",
          "name": "stderr",
          "text": [
            "Epoch 18/20 - Validation: 100%|██████████| 138/138 [00:00<00:00, 2192.84it/s]\n",
            "Epoch 19/20 - Training: 100%|██████████| 1068/1068 [00:01<00:00, 695.98it/s]\n"
          ]
        },
        {
          "output_type": "stream",
          "name": "stdout",
          "text": [
            "Average Training Loss: 1.2120\n"
          ]
        },
        {
          "output_type": "stream",
          "name": "stderr",
          "text": [
            "Epoch 19/20 - Validation: 100%|██████████| 138/138 [00:00<00:00, 2183.67it/s]\n",
            "Epoch 20/20 - Training: 100%|██████████| 1068/1068 [00:01<00:00, 679.48it/s]\n"
          ]
        },
        {
          "output_type": "stream",
          "name": "stdout",
          "text": [
            "Average Training Loss: 1.2013\n"
          ]
        },
        {
          "output_type": "stream",
          "name": "stderr",
          "text": [
            "Epoch 20/20 - Validation: 100%|██████████| 138/138 [00:00<00:00, 1993.17it/s]\n",
            "Epoch 1/20 - Training: 100%|██████████| 1068/1068 [00:02<00:00, 501.96it/s]\n"
          ]
        },
        {
          "output_type": "stream",
          "name": "stdout",
          "text": [
            "Average Training Loss: 1.4820\n"
          ]
        },
        {
          "output_type": "stream",
          "name": "stderr",
          "text": [
            "Epoch 1/20 - Validation: 100%|██████████| 138/138 [00:00<00:00, 1725.06it/s]\n",
            "Epoch 2/20 - Training: 100%|██████████| 1068/1068 [00:02<00:00, 509.91it/s]\n"
          ]
        },
        {
          "output_type": "stream",
          "name": "stdout",
          "text": [
            "Average Training Loss: 1.3948\n"
          ]
        },
        {
          "output_type": "stream",
          "name": "stderr",
          "text": [
            "Epoch 2/20 - Validation: 100%|██████████| 138/138 [00:00<00:00, 1980.83it/s]\n",
            "Epoch 3/20 - Training: 100%|██████████| 1068/1068 [00:01<00:00, 635.30it/s]\n"
          ]
        },
        {
          "output_type": "stream",
          "name": "stdout",
          "text": [
            "Average Training Loss: 1.3689\n"
          ]
        },
        {
          "output_type": "stream",
          "name": "stderr",
          "text": [
            "Epoch 3/20 - Validation: 100%|██████████| 138/138 [00:00<00:00, 2327.90it/s]\n",
            "Epoch 4/20 - Training: 100%|██████████| 1068/1068 [00:01<00:00, 673.88it/s]\n"
          ]
        },
        {
          "output_type": "stream",
          "name": "stdout",
          "text": [
            "Average Training Loss: 1.3578\n"
          ]
        },
        {
          "output_type": "stream",
          "name": "stderr",
          "text": [
            "Epoch 4/20 - Validation: 100%|██████████| 138/138 [00:00<00:00, 2007.67it/s]\n",
            "Epoch 5/20 - Training: 100%|██████████| 1068/1068 [00:01<00:00, 667.25it/s]\n"
          ]
        },
        {
          "output_type": "stream",
          "name": "stdout",
          "text": [
            "Average Training Loss: 1.3463\n"
          ]
        },
        {
          "output_type": "stream",
          "name": "stderr",
          "text": [
            "Epoch 5/20 - Validation: 100%|██████████| 138/138 [00:00<00:00, 2447.78it/s]\n",
            "Epoch 6/20 - Training: 100%|██████████| 1068/1068 [00:01<00:00, 641.48it/s]\n"
          ]
        },
        {
          "output_type": "stream",
          "name": "stdout",
          "text": [
            "Average Training Loss: 1.3387\n"
          ]
        },
        {
          "output_type": "stream",
          "name": "stderr",
          "text": [
            "Epoch 6/20 - Validation: 100%|██████████| 138/138 [00:00<00:00, 2304.92it/s]\n",
            "Epoch 7/20 - Training: 100%|██████████| 1068/1068 [00:01<00:00, 650.10it/s]\n"
          ]
        },
        {
          "output_type": "stream",
          "name": "stdout",
          "text": [
            "Average Training Loss: 1.3320\n"
          ]
        },
        {
          "output_type": "stream",
          "name": "stderr",
          "text": [
            "Epoch 7/20 - Validation: 100%|██████████| 138/138 [00:00<00:00, 2389.25it/s]\n",
            "Epoch 8/20 - Training: 100%|██████████| 1068/1068 [00:01<00:00, 669.87it/s]\n"
          ]
        },
        {
          "output_type": "stream",
          "name": "stdout",
          "text": [
            "Average Training Loss: 1.3194\n"
          ]
        },
        {
          "output_type": "stream",
          "name": "stderr",
          "text": [
            "Epoch 8/20 - Validation: 100%|██████████| 138/138 [00:00<00:00, 2518.49it/s]\n",
            "Epoch 9/20 - Training: 100%|██████████| 1068/1068 [00:02<00:00, 482.12it/s]\n"
          ]
        },
        {
          "output_type": "stream",
          "name": "stdout",
          "text": [
            "Average Training Loss: 1.3180\n"
          ]
        },
        {
          "output_type": "stream",
          "name": "stderr",
          "text": [
            "Epoch 9/20 - Validation: 100%|██████████| 138/138 [00:00<00:00, 1771.69it/s]\n",
            "Epoch 10/20 - Training: 100%|██████████| 1068/1068 [00:02<00:00, 488.41it/s]\n"
          ]
        },
        {
          "output_type": "stream",
          "name": "stdout",
          "text": [
            "Average Training Loss: 1.3107\n"
          ]
        },
        {
          "output_type": "stream",
          "name": "stderr",
          "text": [
            "Epoch 10/20 - Validation: 100%|██████████| 138/138 [00:00<00:00, 1835.65it/s]\n",
            "Epoch 11/20 - Training: 100%|██████████| 1068/1068 [00:01<00:00, 605.89it/s]\n"
          ]
        },
        {
          "output_type": "stream",
          "name": "stdout",
          "text": [
            "Average Training Loss: 1.3060\n"
          ]
        },
        {
          "output_type": "stream",
          "name": "stderr",
          "text": [
            "Epoch 11/20 - Validation: 100%|██████████| 138/138 [00:00<00:00, 1775.43it/s]\n",
            "Epoch 12/20 - Training: 100%|██████████| 1068/1068 [00:01<00:00, 661.44it/s]\n"
          ]
        },
        {
          "output_type": "stream",
          "name": "stdout",
          "text": [
            "Average Training Loss: 1.2906\n"
          ]
        },
        {
          "output_type": "stream",
          "name": "stderr",
          "text": [
            "Epoch 12/20 - Validation: 100%|██████████| 138/138 [00:00<00:00, 2461.05it/s]\n",
            "Epoch 13/20 - Training: 100%|██████████| 1068/1068 [00:01<00:00, 672.68it/s]\n"
          ]
        },
        {
          "output_type": "stream",
          "name": "stdout",
          "text": [
            "Average Training Loss: 1.2905\n"
          ]
        },
        {
          "output_type": "stream",
          "name": "stderr",
          "text": [
            "Epoch 13/20 - Validation: 100%|██████████| 138/138 [00:00<00:00, 2516.43it/s]\n",
            "Epoch 14/20 - Training: 100%|██████████| 1068/1068 [00:01<00:00, 677.18it/s]\n"
          ]
        },
        {
          "output_type": "stream",
          "name": "stdout",
          "text": [
            "Average Training Loss: 1.2811\n"
          ]
        },
        {
          "output_type": "stream",
          "name": "stderr",
          "text": [
            "Epoch 14/20 - Validation: 100%|██████████| 138/138 [00:00<00:00, 2244.00it/s]\n",
            "Epoch 15/20 - Training: 100%|██████████| 1068/1068 [00:01<00:00, 670.00it/s]\n"
          ]
        },
        {
          "output_type": "stream",
          "name": "stdout",
          "text": [
            "Average Training Loss: 1.2699\n"
          ]
        },
        {
          "output_type": "stream",
          "name": "stderr",
          "text": [
            "Epoch 15/20 - Validation: 100%|██████████| 138/138 [00:00<00:00, 2101.42it/s]\n",
            "Epoch 16/20 - Training: 100%|██████████| 1068/1068 [00:01<00:00, 665.00it/s]\n"
          ]
        },
        {
          "output_type": "stream",
          "name": "stdout",
          "text": [
            "Average Training Loss: 1.2651\n"
          ]
        },
        {
          "output_type": "stream",
          "name": "stderr",
          "text": [
            "Epoch 16/20 - Validation: 100%|██████████| 138/138 [00:00<00:00, 2426.51it/s]\n",
            "Epoch 17/20 - Training: 100%|██████████| 1068/1068 [00:02<00:00, 521.32it/s]\n"
          ]
        },
        {
          "output_type": "stream",
          "name": "stdout",
          "text": [
            "Average Training Loss: 1.2604\n"
          ]
        },
        {
          "output_type": "stream",
          "name": "stderr",
          "text": [
            "Epoch 17/20 - Validation: 100%|██████████| 138/138 [00:00<00:00, 1657.00it/s]\n",
            "Epoch 18/20 - Training: 100%|██████████| 1068/1068 [00:02<00:00, 488.57it/s]\n"
          ]
        },
        {
          "output_type": "stream",
          "name": "stdout",
          "text": [
            "Average Training Loss: 1.2515\n"
          ]
        },
        {
          "output_type": "stream",
          "name": "stderr",
          "text": [
            "Epoch 18/20 - Validation: 100%|██████████| 138/138 [00:00<00:00, 1927.18it/s]\n",
            "Epoch 19/20 - Training: 100%|██████████| 1068/1068 [00:01<00:00, 562.38it/s]\n"
          ]
        },
        {
          "output_type": "stream",
          "name": "stdout",
          "text": [
            "Average Training Loss: 1.2436\n"
          ]
        },
        {
          "output_type": "stream",
          "name": "stderr",
          "text": [
            "Epoch 19/20 - Validation: 100%|██████████| 138/138 [00:00<00:00, 2434.24it/s]\n",
            "Epoch 20/20 - Training: 100%|██████████| 1068/1068 [00:01<00:00, 659.95it/s]\n"
          ]
        },
        {
          "output_type": "stream",
          "name": "stdout",
          "text": [
            "Average Training Loss: 1.2367\n"
          ]
        },
        {
          "output_type": "stream",
          "name": "stderr",
          "text": [
            "Epoch 20/20 - Validation: 100%|██████████| 138/138 [00:00<00:00, 2326.12it/s]\n",
            "Epoch 1/20 - Training: 100%|██████████| 1068/1068 [00:01<00:00, 643.81it/s]\n"
          ]
        },
        {
          "output_type": "stream",
          "name": "stdout",
          "text": [
            "Average Training Loss: 1.4914\n"
          ]
        },
        {
          "output_type": "stream",
          "name": "stderr",
          "text": [
            "Epoch 1/20 - Validation: 100%|██████████| 138/138 [00:00<00:00, 2011.37it/s]\n",
            "Epoch 2/20 - Training: 100%|██████████| 1068/1068 [00:01<00:00, 617.51it/s]\n"
          ]
        },
        {
          "output_type": "stream",
          "name": "stdout",
          "text": [
            "Average Training Loss: 1.3977\n"
          ]
        },
        {
          "output_type": "stream",
          "name": "stderr",
          "text": [
            "Epoch 2/20 - Validation: 100%|██████████| 138/138 [00:00<00:00, 2337.23it/s]\n",
            "Epoch 3/20 - Training: 100%|██████████| 1068/1068 [00:01<00:00, 651.41it/s]\n"
          ]
        },
        {
          "output_type": "stream",
          "name": "stdout",
          "text": [
            "Average Training Loss: 1.3751\n"
          ]
        },
        {
          "output_type": "stream",
          "name": "stderr",
          "text": [
            "Epoch 3/20 - Validation: 100%|██████████| 138/138 [00:00<00:00, 2495.93it/s]\n",
            "Epoch 4/20 - Training: 100%|██████████| 1068/1068 [00:01<00:00, 645.29it/s]\n"
          ]
        },
        {
          "output_type": "stream",
          "name": "stdout",
          "text": [
            "Average Training Loss: 1.3656\n"
          ]
        },
        {
          "output_type": "stream",
          "name": "stderr",
          "text": [
            "Epoch 4/20 - Validation: 100%|██████████| 138/138 [00:00<00:00, 2044.72it/s]\n",
            "Epoch 5/20 - Training: 100%|██████████| 1068/1068 [00:02<00:00, 486.95it/s]\n"
          ]
        },
        {
          "output_type": "stream",
          "name": "stdout",
          "text": [
            "Average Training Loss: 1.3528\n"
          ]
        },
        {
          "output_type": "stream",
          "name": "stderr",
          "text": [
            "Epoch 5/20 - Validation: 100%|██████████| 138/138 [00:00<00:00, 1630.43it/s]\n",
            "Epoch 6/20 - Training: 100%|██████████| 1068/1068 [00:02<00:00, 458.57it/s]\n"
          ]
        },
        {
          "output_type": "stream",
          "name": "stdout",
          "text": [
            "Average Training Loss: 1.3440\n"
          ]
        },
        {
          "output_type": "stream",
          "name": "stderr",
          "text": [
            "Epoch 6/20 - Validation: 100%|██████████| 138/138 [00:00<00:00, 1744.01it/s]\n",
            "Epoch 7/20 - Training: 100%|██████████| 1068/1068 [00:01<00:00, 556.12it/s]\n"
          ]
        },
        {
          "output_type": "stream",
          "name": "stdout",
          "text": [
            "Average Training Loss: 1.3399\n"
          ]
        },
        {
          "output_type": "stream",
          "name": "stderr",
          "text": [
            "Epoch 7/20 - Validation: 100%|██████████| 138/138 [00:00<00:00, 1945.77it/s]\n",
            "Epoch 8/20 - Training: 100%|██████████| 1068/1068 [00:01<00:00, 639.02it/s]\n"
          ]
        },
        {
          "output_type": "stream",
          "name": "stdout",
          "text": [
            "Average Training Loss: 1.3311\n"
          ]
        },
        {
          "output_type": "stream",
          "name": "stderr",
          "text": [
            "Epoch 8/20 - Validation: 100%|██████████| 138/138 [00:00<00:00, 2349.28it/s]\n",
            "Epoch 9/20 - Training: 100%|██████████| 1068/1068 [00:01<00:00, 641.35it/s]\n"
          ]
        },
        {
          "output_type": "stream",
          "name": "stdout",
          "text": [
            "Average Training Loss: 1.3250\n"
          ]
        },
        {
          "output_type": "stream",
          "name": "stderr",
          "text": [
            "Epoch 9/20 - Validation: 100%|██████████| 138/138 [00:00<00:00, 2450.19it/s]\n",
            "Epoch 10/20 - Training: 100%|██████████| 1068/1068 [00:01<00:00, 629.10it/s]\n"
          ]
        },
        {
          "output_type": "stream",
          "name": "stdout",
          "text": [
            "Average Training Loss: 1.3175\n"
          ]
        },
        {
          "output_type": "stream",
          "name": "stderr",
          "text": [
            "Epoch 10/20 - Validation: 100%|██████████| 138/138 [00:00<00:00, 2239.27it/s]\n",
            "Epoch 11/20 - Training: 100%|██████████| 1068/1068 [00:01<00:00, 625.79it/s]\n"
          ]
        },
        {
          "output_type": "stream",
          "name": "stdout",
          "text": [
            "Average Training Loss: 1.3128\n"
          ]
        },
        {
          "output_type": "stream",
          "name": "stderr",
          "text": [
            "Epoch 11/20 - Validation: 100%|██████████| 138/138 [00:00<00:00, 1976.36it/s]\n",
            "Epoch 12/20 - Training: 100%|██████████| 1068/1068 [00:01<00:00, 603.89it/s]\n"
          ]
        },
        {
          "output_type": "stream",
          "name": "stdout",
          "text": [
            "Average Training Loss: 1.3099\n"
          ]
        },
        {
          "output_type": "stream",
          "name": "stderr",
          "text": [
            "Epoch 12/20 - Validation: 100%|██████████| 138/138 [00:00<00:00, 1687.60it/s]\n",
            "Epoch 13/20 - Training: 100%|██████████| 1068/1068 [00:02<00:00, 446.79it/s]\n"
          ]
        },
        {
          "output_type": "stream",
          "name": "stdout",
          "text": [
            "Average Training Loss: 1.3053\n"
          ]
        },
        {
          "output_type": "stream",
          "name": "stderr",
          "text": [
            "Epoch 13/20 - Validation: 100%|██████████| 138/138 [00:00<00:00, 1430.94it/s]\n",
            "Epoch 14/20 - Training: 100%|██████████| 1068/1068 [00:02<00:00, 460.37it/s]\n"
          ]
        },
        {
          "output_type": "stream",
          "name": "stdout",
          "text": [
            "Average Training Loss: 1.2932\n"
          ]
        },
        {
          "output_type": "stream",
          "name": "stderr",
          "text": [
            "Epoch 14/20 - Validation: 100%|██████████| 138/138 [00:00<00:00, 2214.73it/s]\n",
            "Epoch 15/20 - Training: 100%|██████████| 1068/1068 [00:01<00:00, 640.01it/s]\n"
          ]
        },
        {
          "output_type": "stream",
          "name": "stdout",
          "text": [
            "Average Training Loss: 1.2889\n"
          ]
        },
        {
          "output_type": "stream",
          "name": "stderr",
          "text": [
            "Epoch 15/20 - Validation: 100%|██████████| 138/138 [00:00<00:00, 1986.55it/s]\n",
            "Epoch 16/20 - Training: 100%|██████████| 1068/1068 [00:01<00:00, 652.02it/s]\n"
          ]
        },
        {
          "output_type": "stream",
          "name": "stdout",
          "text": [
            "Average Training Loss: 1.2840\n"
          ]
        },
        {
          "output_type": "stream",
          "name": "stderr",
          "text": [
            "Epoch 16/20 - Validation: 100%|██████████| 138/138 [00:00<00:00, 2468.28it/s]\n",
            "Epoch 17/20 - Training: 100%|██████████| 1068/1068 [00:01<00:00, 602.92it/s]\n"
          ]
        },
        {
          "output_type": "stream",
          "name": "stdout",
          "text": [
            "Average Training Loss: 1.2827\n"
          ]
        },
        {
          "output_type": "stream",
          "name": "stderr",
          "text": [
            "Epoch 17/20 - Validation: 100%|██████████| 138/138 [00:00<00:00, 2463.93it/s]\n",
            "Epoch 18/20 - Training: 100%|██████████| 1068/1068 [00:01<00:00, 595.22it/s]\n"
          ]
        },
        {
          "output_type": "stream",
          "name": "stdout",
          "text": [
            "Average Training Loss: 1.2721\n"
          ]
        },
        {
          "output_type": "stream",
          "name": "stderr",
          "text": [
            "Epoch 18/20 - Validation: 100%|██████████| 138/138 [00:00<00:00, 2006.23it/s]\n",
            "Epoch 19/20 - Training: 100%|██████████| 1068/1068 [00:01<00:00, 610.39it/s]\n"
          ]
        },
        {
          "output_type": "stream",
          "name": "stdout",
          "text": [
            "Average Training Loss: 1.2707\n"
          ]
        },
        {
          "output_type": "stream",
          "name": "stderr",
          "text": [
            "Epoch 19/20 - Validation: 100%|██████████| 138/138 [00:00<00:00, 2267.14it/s]\n",
            "Epoch 20/20 - Training: 100%|██████████| 1068/1068 [00:02<00:00, 471.61it/s]\n"
          ]
        },
        {
          "output_type": "stream",
          "name": "stdout",
          "text": [
            "Average Training Loss: 1.2620\n"
          ]
        },
        {
          "output_type": "stream",
          "name": "stderr",
          "text": [
            "Epoch 20/20 - Validation: 100%|██████████| 138/138 [00:00<00:00, 1567.43it/s]\n",
            "Epoch 1/20 - Training: 100%|██████████| 1068/1068 [00:02<00:00, 444.85it/s]\n"
          ]
        },
        {
          "output_type": "stream",
          "name": "stdout",
          "text": [
            "Average Training Loss: 1.5071\n"
          ]
        },
        {
          "output_type": "stream",
          "name": "stderr",
          "text": [
            "Epoch 1/20 - Validation: 100%|██████████| 138/138 [00:00<00:00, 1873.84it/s]\n",
            "Epoch 2/20 - Training: 100%|██████████| 1068/1068 [00:01<00:00, 549.45it/s]\n"
          ]
        },
        {
          "output_type": "stream",
          "name": "stdout",
          "text": [
            "Average Training Loss: 1.4205\n"
          ]
        },
        {
          "output_type": "stream",
          "name": "stderr",
          "text": [
            "Epoch 2/20 - Validation: 100%|██████████| 138/138 [00:00<00:00, 2082.41it/s]\n",
            "Epoch 3/20 - Training: 100%|██████████| 1068/1068 [00:01<00:00, 629.13it/s]\n"
          ]
        },
        {
          "output_type": "stream",
          "name": "stdout",
          "text": [
            "Average Training Loss: 1.3978\n"
          ]
        },
        {
          "output_type": "stream",
          "name": "stderr",
          "text": [
            "Epoch 3/20 - Validation: 100%|██████████| 138/138 [00:00<00:00, 2180.59it/s]\n",
            "Epoch 4/20 - Training: 100%|██████████| 1068/1068 [00:01<00:00, 638.70it/s]\n"
          ]
        },
        {
          "output_type": "stream",
          "name": "stdout",
          "text": [
            "Average Training Loss: 1.3882\n"
          ]
        },
        {
          "output_type": "stream",
          "name": "stderr",
          "text": [
            "Epoch 4/20 - Validation: 100%|██████████| 138/138 [00:00<00:00, 2292.19it/s]\n",
            "Epoch 5/20 - Training: 100%|██████████| 1068/1068 [00:01<00:00, 621.08it/s]\n"
          ]
        },
        {
          "output_type": "stream",
          "name": "stdout",
          "text": [
            "Average Training Loss: 1.3783\n"
          ]
        },
        {
          "output_type": "stream",
          "name": "stderr",
          "text": [
            "Epoch 5/20 - Validation: 100%|██████████| 138/138 [00:00<00:00, 2182.84it/s]\n",
            "Epoch 6/20 - Training: 100%|██████████| 1068/1068 [00:01<00:00, 611.26it/s]\n"
          ]
        },
        {
          "output_type": "stream",
          "name": "stdout",
          "text": [
            "Average Training Loss: 1.3709\n"
          ]
        },
        {
          "output_type": "stream",
          "name": "stderr",
          "text": [
            "Epoch 6/20 - Validation: 100%|██████████| 138/138 [00:00<00:00, 2041.38it/s]\n",
            "Epoch 7/20 - Training: 100%|██████████| 1068/1068 [00:01<00:00, 629.42it/s]\n"
          ]
        },
        {
          "output_type": "stream",
          "name": "stdout",
          "text": [
            "Average Training Loss: 1.3638\n"
          ]
        },
        {
          "output_type": "stream",
          "name": "stderr",
          "text": [
            "Epoch 7/20 - Validation: 100%|██████████| 138/138 [00:00<00:00, 1416.96it/s]\n",
            "Epoch 8/20 - Training: 100%|██████████| 1068/1068 [00:02<00:00, 461.07it/s]\n"
          ]
        },
        {
          "output_type": "stream",
          "name": "stdout",
          "text": [
            "Average Training Loss: 1.3608\n"
          ]
        },
        {
          "output_type": "stream",
          "name": "stderr",
          "text": [
            "Epoch 8/20 - Validation: 100%|██████████| 138/138 [00:00<00:00, 1844.85it/s]\n",
            "Epoch 9/20 - Training: 100%|██████████| 1068/1068 [00:02<00:00, 460.61it/s]\n"
          ]
        },
        {
          "output_type": "stream",
          "name": "stdout",
          "text": [
            "Average Training Loss: 1.3509\n"
          ]
        },
        {
          "output_type": "stream",
          "name": "stderr",
          "text": [
            "Epoch 9/20 - Validation: 100%|██████████| 138/138 [00:00<00:00, 1662.04it/s]\n",
            "Epoch 10/20 - Training: 100%|██████████| 1068/1068 [00:01<00:00, 652.86it/s]\n"
          ]
        },
        {
          "output_type": "stream",
          "name": "stdout",
          "text": [
            "Average Training Loss: 1.3547\n"
          ]
        },
        {
          "output_type": "stream",
          "name": "stderr",
          "text": [
            "Epoch 10/20 - Validation: 100%|██████████| 138/138 [00:00<00:00, 2314.09it/s]\n",
            "Epoch 11/20 - Training: 100%|██████████| 1068/1068 [00:01<00:00, 644.60it/s]\n"
          ]
        },
        {
          "output_type": "stream",
          "name": "stdout",
          "text": [
            "Average Training Loss: 1.3447\n"
          ]
        },
        {
          "output_type": "stream",
          "name": "stderr",
          "text": [
            "Epoch 11/20 - Validation: 100%|██████████| 138/138 [00:00<00:00, 2265.28it/s]\n",
            "Epoch 12/20 - Training: 100%|██████████| 1068/1068 [00:01<00:00, 649.82it/s]\n"
          ]
        },
        {
          "output_type": "stream",
          "name": "stdout",
          "text": [
            "Average Training Loss: 1.3450\n"
          ]
        },
        {
          "output_type": "stream",
          "name": "stderr",
          "text": [
            "Epoch 12/20 - Validation: 100%|██████████| 138/138 [00:00<00:00, 2029.17it/s]\n",
            "Epoch 13/20 - Training: 100%|██████████| 1068/1068 [00:01<00:00, 660.02it/s]\n"
          ]
        },
        {
          "output_type": "stream",
          "name": "stdout",
          "text": [
            "Average Training Loss: 1.3406\n"
          ]
        },
        {
          "output_type": "stream",
          "name": "stderr",
          "text": [
            "Epoch 13/20 - Validation: 100%|██████████| 138/138 [00:00<00:00, 2087.24it/s]\n",
            "Epoch 14/20 - Training: 100%|██████████| 1068/1068 [00:01<00:00, 634.72it/s]\n"
          ]
        },
        {
          "output_type": "stream",
          "name": "stdout",
          "text": [
            "Average Training Loss: 1.3354\n"
          ]
        },
        {
          "output_type": "stream",
          "name": "stderr",
          "text": [
            "Epoch 14/20 - Validation: 100%|██████████| 138/138 [00:00<00:00, 2285.54it/s]\n",
            "Epoch 15/20 - Training: 100%|██████████| 1068/1068 [00:01<00:00, 616.47it/s]\n"
          ]
        },
        {
          "output_type": "stream",
          "name": "stdout",
          "text": [
            "Average Training Loss: 1.3342\n"
          ]
        },
        {
          "output_type": "stream",
          "name": "stderr",
          "text": [
            "Epoch 15/20 - Validation: 100%|██████████| 138/138 [00:00<00:00, 2024.66it/s]\n",
            "Epoch 16/20 - Training: 100%|██████████| 1068/1068 [00:02<00:00, 500.94it/s]\n"
          ]
        },
        {
          "output_type": "stream",
          "name": "stdout",
          "text": [
            "Average Training Loss: 1.3331\n"
          ]
        },
        {
          "output_type": "stream",
          "name": "stderr",
          "text": [
            "Epoch 16/20 - Validation: 100%|██████████| 138/138 [00:00<00:00, 2047.39it/s]\n",
            "Epoch 17/20 - Training: 100%|██████████| 1068/1068 [00:02<00:00, 486.51it/s]\n"
          ]
        },
        {
          "output_type": "stream",
          "name": "stdout",
          "text": [
            "Average Training Loss: 1.3275\n"
          ]
        },
        {
          "output_type": "stream",
          "name": "stderr",
          "text": [
            "Epoch 17/20 - Validation: 100%|██████████| 138/138 [00:00<00:00, 1907.47it/s]\n",
            "Epoch 18/20 - Training: 100%|██████████| 1068/1068 [00:01<00:00, 625.33it/s]\n"
          ]
        },
        {
          "output_type": "stream",
          "name": "stdout",
          "text": [
            "Average Training Loss: 1.3223\n"
          ]
        },
        {
          "output_type": "stream",
          "name": "stderr",
          "text": [
            "Epoch 18/20 - Validation: 100%|██████████| 138/138 [00:00<00:00, 2332.83it/s]\n",
            "Epoch 19/20 - Training: 100%|██████████| 1068/1068 [00:01<00:00, 641.91it/s]\n"
          ]
        },
        {
          "output_type": "stream",
          "name": "stdout",
          "text": [
            "Average Training Loss: 1.3256\n"
          ]
        },
        {
          "output_type": "stream",
          "name": "stderr",
          "text": [
            "Epoch 19/20 - Validation: 100%|██████████| 138/138 [00:00<00:00, 2113.18it/s]\n",
            "Epoch 20/20 - Training: 100%|██████████| 1068/1068 [00:01<00:00, 655.56it/s]\n"
          ]
        },
        {
          "output_type": "stream",
          "name": "stdout",
          "text": [
            "Average Training Loss: 1.3158\n"
          ]
        },
        {
          "output_type": "stream",
          "name": "stderr",
          "text": [
            "Epoch 20/20 - Validation: 100%|██████████| 138/138 [00:00<00:00, 2287.64it/s]\n",
            "Epoch 1/20 - Training: 100%|██████████| 1068/1068 [00:01<00:00, 665.79it/s]\n"
          ]
        },
        {
          "output_type": "stream",
          "name": "stdout",
          "text": [
            "Average Training Loss: 1.5351\n"
          ]
        },
        {
          "output_type": "stream",
          "name": "stderr",
          "text": [
            "Epoch 1/20 - Validation: 100%|██████████| 138/138 [00:00<00:00, 2642.38it/s]\n",
            "Epoch 2/20 - Training: 100%|██████████| 1068/1068 [00:01<00:00, 662.16it/s]\n"
          ]
        },
        {
          "output_type": "stream",
          "name": "stdout",
          "text": [
            "Average Training Loss: 1.4615\n"
          ]
        },
        {
          "output_type": "stream",
          "name": "stderr",
          "text": [
            "Epoch 2/20 - Validation: 100%|██████████| 138/138 [00:00<00:00, 2423.45it/s]\n",
            "Epoch 3/20 - Training: 100%|██████████| 1068/1068 [00:01<00:00, 643.93it/s]\n"
          ]
        },
        {
          "output_type": "stream",
          "name": "stdout",
          "text": [
            "Average Training Loss: 1.4317\n"
          ]
        },
        {
          "output_type": "stream",
          "name": "stderr",
          "text": [
            "Epoch 3/20 - Validation: 100%|██████████| 138/138 [00:00<00:00, 1852.14it/s]\n",
            "Epoch 4/20 - Training: 100%|██████████| 1068/1068 [00:02<00:00, 501.32it/s]\n"
          ]
        },
        {
          "output_type": "stream",
          "name": "stdout",
          "text": [
            "Average Training Loss: 1.4191\n"
          ]
        },
        {
          "output_type": "stream",
          "name": "stderr",
          "text": [
            "Epoch 4/20 - Validation: 100%|██████████| 138/138 [00:00<00:00, 2091.71it/s]\n",
            "Epoch 5/20 - Training: 100%|██████████| 1068/1068 [00:02<00:00, 495.75it/s]\n"
          ]
        },
        {
          "output_type": "stream",
          "name": "stdout",
          "text": [
            "Average Training Loss: 1.4066\n"
          ]
        },
        {
          "output_type": "stream",
          "name": "stderr",
          "text": [
            "Epoch 5/20 - Validation: 100%|██████████| 138/138 [00:00<00:00, 2132.86it/s]\n",
            "Epoch 6/20 - Training: 100%|██████████| 1068/1068 [00:01<00:00, 584.63it/s]\n"
          ]
        },
        {
          "output_type": "stream",
          "name": "stdout",
          "text": [
            "Average Training Loss: 1.3976\n"
          ]
        },
        {
          "output_type": "stream",
          "name": "stderr",
          "text": [
            "Epoch 6/20 - Validation: 100%|██████████| 138/138 [00:00<00:00, 2235.06it/s]\n",
            "Epoch 7/20 - Training: 100%|██████████| 1068/1068 [00:01<00:00, 649.06it/s]\n"
          ]
        },
        {
          "output_type": "stream",
          "name": "stdout",
          "text": [
            "Average Training Loss: 1.3948\n"
          ]
        },
        {
          "output_type": "stream",
          "name": "stderr",
          "text": [
            "Epoch 7/20 - Validation: 100%|██████████| 138/138 [00:00<00:00, 2299.96it/s]\n",
            "Epoch 8/20 - Training: 100%|██████████| 1068/1068 [00:01<00:00, 644.32it/s]\n"
          ]
        },
        {
          "output_type": "stream",
          "name": "stdout",
          "text": [
            "Average Training Loss: 1.3918\n"
          ]
        },
        {
          "output_type": "stream",
          "name": "stderr",
          "text": [
            "Epoch 8/20 - Validation: 100%|██████████| 138/138 [00:00<00:00, 2301.13it/s]\n",
            "Epoch 9/20 - Training: 100%|██████████| 1068/1068 [00:01<00:00, 641.58it/s]\n"
          ]
        },
        {
          "output_type": "stream",
          "name": "stdout",
          "text": [
            "Average Training Loss: 1.3873\n"
          ]
        },
        {
          "output_type": "stream",
          "name": "stderr",
          "text": [
            "Epoch 9/20 - Validation: 100%|██████████| 138/138 [00:00<00:00, 2065.57it/s]\n",
            "Epoch 10/20 - Training: 100%|██████████| 1068/1068 [00:01<00:00, 642.59it/s]\n"
          ]
        },
        {
          "output_type": "stream",
          "name": "stdout",
          "text": [
            "Average Training Loss: 1.3798\n"
          ]
        },
        {
          "output_type": "stream",
          "name": "stderr",
          "text": [
            "Epoch 10/20 - Validation: 100%|██████████| 138/138 [00:00<00:00, 2387.16it/s]\n",
            "Epoch 11/20 - Training: 100%|██████████| 1068/1068 [00:01<00:00, 658.17it/s]\n"
          ]
        },
        {
          "output_type": "stream",
          "name": "stdout",
          "text": [
            "Average Training Loss: 1.3814\n"
          ]
        },
        {
          "output_type": "stream",
          "name": "stderr",
          "text": [
            "Epoch 11/20 - Validation: 100%|██████████| 138/138 [00:00<00:00, 2480.94it/s]\n",
            "Epoch 12/20 - Training: 100%|██████████| 1068/1068 [00:02<00:00, 497.63it/s]\n"
          ]
        },
        {
          "output_type": "stream",
          "name": "stdout",
          "text": [
            "Average Training Loss: 1.3814\n"
          ]
        },
        {
          "output_type": "stream",
          "name": "stderr",
          "text": [
            "Epoch 12/20 - Validation: 100%|██████████| 138/138 [00:00<00:00, 1855.56it/s]\n",
            "Epoch 13/20 - Training: 100%|██████████| 1068/1068 [00:02<00:00, 498.09it/s]\n"
          ]
        },
        {
          "output_type": "stream",
          "name": "stdout",
          "text": [
            "Average Training Loss: 1.3759\n"
          ]
        },
        {
          "output_type": "stream",
          "name": "stderr",
          "text": [
            "Epoch 13/20 - Validation: 100%|██████████| 138/138 [00:00<00:00, 2034.42it/s]\n",
            "Epoch 14/20 - Training: 100%|██████████| 1068/1068 [00:01<00:00, 586.52it/s]\n"
          ]
        },
        {
          "output_type": "stream",
          "name": "stdout",
          "text": [
            "Average Training Loss: 1.3735\n"
          ]
        },
        {
          "output_type": "stream",
          "name": "stderr",
          "text": [
            "Epoch 14/20 - Validation: 100%|██████████| 138/138 [00:00<00:00, 2274.61it/s]\n",
            "Epoch 15/20 - Training: 100%|██████████| 1068/1068 [00:01<00:00, 651.56it/s]\n"
          ]
        },
        {
          "output_type": "stream",
          "name": "stdout",
          "text": [
            "Average Training Loss: 1.3754\n"
          ]
        },
        {
          "output_type": "stream",
          "name": "stderr",
          "text": [
            "Epoch 15/20 - Validation: 100%|██████████| 138/138 [00:00<00:00, 2403.56it/s]\n",
            "Epoch 16/20 - Training: 100%|██████████| 1068/1068 [00:01<00:00, 646.27it/s]\n"
          ]
        },
        {
          "output_type": "stream",
          "name": "stdout",
          "text": [
            "Average Training Loss: 1.3696\n"
          ]
        },
        {
          "output_type": "stream",
          "name": "stderr",
          "text": [
            "Epoch 16/20 - Validation: 100%|██████████| 138/138 [00:00<00:00, 2401.64it/s]\n",
            "Epoch 17/20 - Training: 100%|██████████| 1068/1068 [00:01<00:00, 656.29it/s]\n"
          ]
        },
        {
          "output_type": "stream",
          "name": "stdout",
          "text": [
            "Average Training Loss: 1.3662\n"
          ]
        },
        {
          "output_type": "stream",
          "name": "stderr",
          "text": [
            "Epoch 17/20 - Validation: 100%|██████████| 138/138 [00:00<00:00, 2443.60it/s]\n",
            "Epoch 18/20 - Training: 100%|██████████| 1068/1068 [00:01<00:00, 647.19it/s]\n"
          ]
        },
        {
          "output_type": "stream",
          "name": "stdout",
          "text": [
            "Average Training Loss: 1.3693\n"
          ]
        },
        {
          "output_type": "stream",
          "name": "stderr",
          "text": [
            "Epoch 18/20 - Validation: 100%|██████████| 138/138 [00:00<00:00, 2077.09it/s]\n",
            "Epoch 19/20 - Training: 100%|██████████| 1068/1068 [00:01<00:00, 653.26it/s]\n"
          ]
        },
        {
          "output_type": "stream",
          "name": "stdout",
          "text": [
            "Average Training Loss: 1.3642\n"
          ]
        },
        {
          "output_type": "stream",
          "name": "stderr",
          "text": [
            "Epoch 19/20 - Validation: 100%|██████████| 138/138 [00:00<00:00, 2266.11it/s]\n",
            "Epoch 20/20 - Training: 100%|██████████| 1068/1068 [00:02<00:00, 508.82it/s]\n"
          ]
        },
        {
          "output_type": "stream",
          "name": "stdout",
          "text": [
            "Average Training Loss: 1.3608\n"
          ]
        },
        {
          "output_type": "stream",
          "name": "stderr",
          "text": [
            "Epoch 20/20 - Validation: 100%|██████████| 138/138 [00:00<00:00, 1884.81it/s]\n",
            "Epoch 1/20 - Training: 100%|██████████| 1068/1068 [00:02<00:00, 514.00it/s]\n"
          ]
        },
        {
          "output_type": "stream",
          "name": "stdout",
          "text": [
            "Average Training Loss: 1.4639\n"
          ]
        },
        {
          "output_type": "stream",
          "name": "stderr",
          "text": [
            "Epoch 1/20 - Validation: 100%|██████████| 138/138 [00:00<00:00, 2000.09it/s]\n",
            "Epoch 2/20 - Training: 100%|██████████| 1068/1068 [00:01<00:00, 540.05it/s]\n"
          ]
        },
        {
          "output_type": "stream",
          "name": "stdout",
          "text": [
            "Average Training Loss: 1.3837\n"
          ]
        },
        {
          "output_type": "stream",
          "name": "stderr",
          "text": [
            "Epoch 2/20 - Validation: 100%|██████████| 138/138 [00:00<00:00, 2328.42it/s]\n",
            "Epoch 3/20 - Training: 100%|██████████| 1068/1068 [00:01<00:00, 623.43it/s]\n"
          ]
        },
        {
          "output_type": "stream",
          "name": "stdout",
          "text": [
            "Average Training Loss: 1.3611\n"
          ]
        },
        {
          "output_type": "stream",
          "name": "stderr",
          "text": [
            "Epoch 3/20 - Validation: 100%|██████████| 138/138 [00:00<00:00, 2304.59it/s]\n",
            "Epoch 4/20 - Training: 100%|██████████| 1068/1068 [00:01<00:00, 619.22it/s]\n"
          ]
        },
        {
          "output_type": "stream",
          "name": "stdout",
          "text": [
            "Average Training Loss: 1.3452\n"
          ]
        },
        {
          "output_type": "stream",
          "name": "stderr",
          "text": [
            "Epoch 4/20 - Validation: 100%|██████████| 138/138 [00:00<00:00, 2453.02it/s]\n",
            "Epoch 5/20 - Training: 100%|██████████| 1068/1068 [00:01<00:00, 626.49it/s]\n"
          ]
        },
        {
          "output_type": "stream",
          "name": "stdout",
          "text": [
            "Average Training Loss: 1.3338\n"
          ]
        },
        {
          "output_type": "stream",
          "name": "stderr",
          "text": [
            "Epoch 5/20 - Validation: 100%|██████████| 138/138 [00:00<00:00, 2331.28it/s]\n",
            "Epoch 6/20 - Training: 100%|██████████| 1068/1068 [00:01<00:00, 625.94it/s]\n"
          ]
        },
        {
          "output_type": "stream",
          "name": "stdout",
          "text": [
            "Average Training Loss: 1.3267\n"
          ]
        },
        {
          "output_type": "stream",
          "name": "stderr",
          "text": [
            "Epoch 6/20 - Validation: 100%|██████████| 138/138 [00:00<00:00, 2187.79it/s]\n",
            "Epoch 7/20 - Training: 100%|██████████| 1068/1068 [00:01<00:00, 632.05it/s]\n"
          ]
        },
        {
          "output_type": "stream",
          "name": "stdout",
          "text": [
            "Average Training Loss: 1.3131\n"
          ]
        },
        {
          "output_type": "stream",
          "name": "stderr",
          "text": [
            "Epoch 7/20 - Validation: 100%|██████████| 138/138 [00:00<00:00, 2187.29it/s]\n",
            "Epoch 8/20 - Training: 100%|██████████| 1068/1068 [00:02<00:00, 484.13it/s]\n"
          ]
        },
        {
          "output_type": "stream",
          "name": "stdout",
          "text": [
            "Average Training Loss: 1.3045\n"
          ]
        },
        {
          "output_type": "stream",
          "name": "stderr",
          "text": [
            "Epoch 8/20 - Validation: 100%|██████████| 138/138 [00:00<00:00, 1537.63it/s]\n",
            "Epoch 9/20 - Training: 100%|██████████| 1068/1068 [00:02<00:00, 470.40it/s]\n"
          ]
        },
        {
          "output_type": "stream",
          "name": "stdout",
          "text": [
            "Average Training Loss: 1.2951\n"
          ]
        },
        {
          "output_type": "stream",
          "name": "stderr",
          "text": [
            "Epoch 9/20 - Validation: 100%|██████████| 138/138 [00:00<00:00, 1879.49it/s]\n",
            "Epoch 10/20 - Training: 100%|██████████| 1068/1068 [00:01<00:00, 570.68it/s]\n"
          ]
        },
        {
          "output_type": "stream",
          "name": "stdout",
          "text": [
            "Average Training Loss: 1.2836\n"
          ]
        },
        {
          "output_type": "stream",
          "name": "stderr",
          "text": [
            "Epoch 10/20 - Validation: 100%|██████████| 138/138 [00:00<00:00, 2043.72it/s]\n",
            "Epoch 11/20 - Training: 100%|██████████| 1068/1068 [00:01<00:00, 632.03it/s]\n"
          ]
        },
        {
          "output_type": "stream",
          "name": "stdout",
          "text": [
            "Average Training Loss: 1.2739\n"
          ]
        },
        {
          "output_type": "stream",
          "name": "stderr",
          "text": [
            "Epoch 11/20 - Validation: 100%|██████████| 138/138 [00:00<00:00, 1882.47it/s]\n",
            "Epoch 12/20 - Training: 100%|██████████| 1068/1068 [00:01<00:00, 645.73it/s]\n"
          ]
        },
        {
          "output_type": "stream",
          "name": "stdout",
          "text": [
            "Average Training Loss: 1.2614\n"
          ]
        },
        {
          "output_type": "stream",
          "name": "stderr",
          "text": [
            "Epoch 12/20 - Validation: 100%|██████████| 138/138 [00:00<00:00, 2146.91it/s]\n",
            "Epoch 13/20 - Training: 100%|██████████| 1068/1068 [00:01<00:00, 642.12it/s]\n"
          ]
        },
        {
          "output_type": "stream",
          "name": "stdout",
          "text": [
            "Average Training Loss: 1.2456\n"
          ]
        },
        {
          "output_type": "stream",
          "name": "stderr",
          "text": [
            "Epoch 13/20 - Validation: 100%|██████████| 138/138 [00:00<00:00, 2177.69it/s]\n",
            "Epoch 14/20 - Training: 100%|██████████| 1068/1068 [00:01<00:00, 648.81it/s]\n"
          ]
        },
        {
          "output_type": "stream",
          "name": "stdout",
          "text": [
            "Average Training Loss: 1.2359\n"
          ]
        },
        {
          "output_type": "stream",
          "name": "stderr",
          "text": [
            "Epoch 14/20 - Validation: 100%|██████████| 138/138 [00:00<00:00, 2041.12it/s]\n",
            "Epoch 15/20 - Training: 100%|██████████| 1068/1068 [00:01<00:00, 651.53it/s]\n"
          ]
        },
        {
          "output_type": "stream",
          "name": "stdout",
          "text": [
            "Average Training Loss: 1.2233\n"
          ]
        },
        {
          "output_type": "stream",
          "name": "stderr",
          "text": [
            "Epoch 15/20 - Validation: 100%|██████████| 138/138 [00:00<00:00, 2012.32it/s]\n",
            "Epoch 16/20 - Training: 100%|██████████| 1068/1068 [00:02<00:00, 482.46it/s]\n"
          ]
        },
        {
          "output_type": "stream",
          "name": "stdout",
          "text": [
            "Average Training Loss: 1.2087\n"
          ]
        },
        {
          "output_type": "stream",
          "name": "stderr",
          "text": [
            "Epoch 16/20 - Validation: 100%|██████████| 138/138 [00:00<00:00, 1585.67it/s]\n",
            "Epoch 17/20 - Training: 100%|██████████| 1068/1068 [00:02<00:00, 476.02it/s]\n"
          ]
        },
        {
          "output_type": "stream",
          "name": "stdout",
          "text": [
            "Average Training Loss: 1.1970\n"
          ]
        },
        {
          "output_type": "stream",
          "name": "stderr",
          "text": [
            "Epoch 17/20 - Validation: 100%|██████████| 138/138 [00:00<00:00, 1815.85it/s]\n",
            "Epoch 18/20 - Training: 100%|██████████| 1068/1068 [00:01<00:00, 586.28it/s]\n"
          ]
        },
        {
          "output_type": "stream",
          "name": "stdout",
          "text": [
            "Average Training Loss: 1.1829\n"
          ]
        },
        {
          "output_type": "stream",
          "name": "stderr",
          "text": [
            "Epoch 18/20 - Validation: 100%|██████████| 138/138 [00:00<00:00, 2211.81it/s]\n",
            "Epoch 19/20 - Training: 100%|██████████| 1068/1068 [00:01<00:00, 631.32it/s]\n"
          ]
        },
        {
          "output_type": "stream",
          "name": "stdout",
          "text": [
            "Average Training Loss: 1.1684\n"
          ]
        },
        {
          "output_type": "stream",
          "name": "stderr",
          "text": [
            "Epoch 19/20 - Validation: 100%|██████████| 138/138 [00:00<00:00, 2273.47it/s]\n",
            "Epoch 20/20 - Training: 100%|██████████| 1068/1068 [00:01<00:00, 612.44it/s]\n"
          ]
        },
        {
          "output_type": "stream",
          "name": "stdout",
          "text": [
            "Average Training Loss: 1.1538\n"
          ]
        },
        {
          "output_type": "stream",
          "name": "stderr",
          "text": [
            "Epoch 20/20 - Validation: 100%|██████████| 138/138 [00:00<00:00, 2131.91it/s]\n",
            "Epoch 1/20 - Training: 100%|██████████| 1068/1068 [00:01<00:00, 594.33it/s]\n"
          ]
        },
        {
          "output_type": "stream",
          "name": "stdout",
          "text": [
            "Average Training Loss: 1.4699\n"
          ]
        },
        {
          "output_type": "stream",
          "name": "stderr",
          "text": [
            "Epoch 1/20 - Validation: 100%|██████████| 138/138 [00:00<00:00, 1902.37it/s]\n",
            "Epoch 2/20 - Training: 100%|██████████| 1068/1068 [00:01<00:00, 568.70it/s]\n"
          ]
        },
        {
          "output_type": "stream",
          "name": "stdout",
          "text": [
            "Average Training Loss: 1.3850\n"
          ]
        },
        {
          "output_type": "stream",
          "name": "stderr",
          "text": [
            "Epoch 2/20 - Validation: 100%|██████████| 138/138 [00:00<00:00, 2015.03it/s]\n",
            "Epoch 3/20 - Training: 100%|██████████| 1068/1068 [00:01<00:00, 534.24it/s]\n"
          ]
        },
        {
          "output_type": "stream",
          "name": "stdout",
          "text": [
            "Average Training Loss: 1.3683\n"
          ]
        },
        {
          "output_type": "stream",
          "name": "stderr",
          "text": [
            "Epoch 3/20 - Validation: 100%|██████████| 138/138 [00:00<00:00, 1557.96it/s]\n",
            "Epoch 4/20 - Training: 100%|██████████| 1068/1068 [00:02<00:00, 442.03it/s]\n"
          ]
        },
        {
          "output_type": "stream",
          "name": "stdout",
          "text": [
            "Average Training Loss: 1.3506\n"
          ]
        },
        {
          "output_type": "stream",
          "name": "stderr",
          "text": [
            "Epoch 4/20 - Validation: 100%|██████████| 138/138 [00:00<00:00, 1917.03it/s]\n",
            "Epoch 5/20 - Training: 100%|██████████| 1068/1068 [00:02<00:00, 494.38it/s]\n"
          ]
        },
        {
          "output_type": "stream",
          "name": "stdout",
          "text": [
            "Average Training Loss: 1.3425\n"
          ]
        },
        {
          "output_type": "stream",
          "name": "stderr",
          "text": [
            "Epoch 5/20 - Validation: 100%|██████████| 138/138 [00:00<00:00, 2027.75it/s]\n",
            "Epoch 6/20 - Training: 100%|██████████| 1068/1068 [00:01<00:00, 595.74it/s]\n"
          ]
        },
        {
          "output_type": "stream",
          "name": "stdout",
          "text": [
            "Average Training Loss: 1.3334\n"
          ]
        },
        {
          "output_type": "stream",
          "name": "stderr",
          "text": [
            "Epoch 6/20 - Validation: 100%|██████████| 138/138 [00:00<00:00, 2325.29it/s]\n",
            "Epoch 7/20 - Training: 100%|██████████| 1068/1068 [00:01<00:00, 602.33it/s]\n"
          ]
        },
        {
          "output_type": "stream",
          "name": "stdout",
          "text": [
            "Average Training Loss: 1.3253\n"
          ]
        },
        {
          "output_type": "stream",
          "name": "stderr",
          "text": [
            "Epoch 7/20 - Validation: 100%|██████████| 138/138 [00:00<00:00, 2412.22it/s]\n",
            "Epoch 8/20 - Training: 100%|██████████| 1068/1068 [00:01<00:00, 601.38it/s]\n"
          ]
        },
        {
          "output_type": "stream",
          "name": "stdout",
          "text": [
            "Average Training Loss: 1.3125\n"
          ]
        },
        {
          "output_type": "stream",
          "name": "stderr",
          "text": [
            "Epoch 8/20 - Validation: 100%|██████████| 138/138 [00:00<00:00, 2274.40it/s]\n",
            "Epoch 9/20 - Training: 100%|██████████| 1068/1068 [00:01<00:00, 619.15it/s]\n"
          ]
        },
        {
          "output_type": "stream",
          "name": "stdout",
          "text": [
            "Average Training Loss: 1.3063\n"
          ]
        },
        {
          "output_type": "stream",
          "name": "stderr",
          "text": [
            "Epoch 9/20 - Validation: 100%|██████████| 138/138 [00:00<00:00, 2101.42it/s]\n",
            "Epoch 10/20 - Training: 100%|██████████| 1068/1068 [00:01<00:00, 625.80it/s]\n"
          ]
        },
        {
          "output_type": "stream",
          "name": "stdout",
          "text": [
            "Average Training Loss: 1.3002\n"
          ]
        },
        {
          "output_type": "stream",
          "name": "stderr",
          "text": [
            "Epoch 10/20 - Validation: 100%|██████████| 138/138 [00:00<00:00, 2127.66it/s]\n",
            "Epoch 11/20 - Training: 100%|██████████| 1068/1068 [00:02<00:00, 463.51it/s]\n"
          ]
        },
        {
          "output_type": "stream",
          "name": "stdout",
          "text": [
            "Average Training Loss: 1.2854\n"
          ]
        },
        {
          "output_type": "stream",
          "name": "stderr",
          "text": [
            "Epoch 11/20 - Validation: 100%|██████████| 138/138 [00:00<00:00, 1666.89it/s]\n",
            "Epoch 12/20 - Training: 100%|██████████| 1068/1068 [00:02<00:00, 455.60it/s]\n"
          ]
        },
        {
          "output_type": "stream",
          "name": "stdout",
          "text": [
            "Average Training Loss: 1.2762\n"
          ]
        },
        {
          "output_type": "stream",
          "name": "stderr",
          "text": [
            "Epoch 12/20 - Validation: 100%|██████████| 138/138 [00:00<00:00, 1601.94it/s]\n",
            "Epoch 13/20 - Training: 100%|██████████| 1068/1068 [00:01<00:00, 567.68it/s]\n"
          ]
        },
        {
          "output_type": "stream",
          "name": "stdout",
          "text": [
            "Average Training Loss: 1.2672\n"
          ]
        },
        {
          "output_type": "stream",
          "name": "stderr",
          "text": [
            "Epoch 13/20 - Validation: 100%|██████████| 138/138 [00:00<00:00, 2325.64it/s]\n",
            "Epoch 14/20 - Training: 100%|██████████| 1068/1068 [00:01<00:00, 606.53it/s]\n"
          ]
        },
        {
          "output_type": "stream",
          "name": "stdout",
          "text": [
            "Average Training Loss: 1.2605\n"
          ]
        },
        {
          "output_type": "stream",
          "name": "stderr",
          "text": [
            "Epoch 14/20 - Validation: 100%|██████████| 138/138 [00:00<00:00, 2205.35it/s]\n",
            "Epoch 15/20 - Training: 100%|██████████| 1068/1068 [00:01<00:00, 625.90it/s]\n"
          ]
        },
        {
          "output_type": "stream",
          "name": "stdout",
          "text": [
            "Average Training Loss: 1.2456\n"
          ]
        },
        {
          "output_type": "stream",
          "name": "stderr",
          "text": [
            "Epoch 15/20 - Validation: 100%|██████████| 138/138 [00:00<00:00, 2248.55it/s]\n",
            "Epoch 16/20 - Training: 100%|██████████| 1068/1068 [00:01<00:00, 613.78it/s]\n"
          ]
        },
        {
          "output_type": "stream",
          "name": "stdout",
          "text": [
            "Average Training Loss: 1.2345\n"
          ]
        },
        {
          "output_type": "stream",
          "name": "stderr",
          "text": [
            "Epoch 16/20 - Validation: 100%|██████████| 138/138 [00:00<00:00, 2300.81it/s]\n",
            "Epoch 17/20 - Training: 100%|██████████| 1068/1068 [00:01<00:00, 618.18it/s]\n"
          ]
        },
        {
          "output_type": "stream",
          "name": "stdout",
          "text": [
            "Average Training Loss: 1.2255\n"
          ]
        },
        {
          "output_type": "stream",
          "name": "stderr",
          "text": [
            "Epoch 17/20 - Validation: 100%|██████████| 138/138 [00:00<00:00, 2016.06it/s]\n",
            "Epoch 18/20 - Training: 100%|██████████| 1068/1068 [00:01<00:00, 541.21it/s]\n"
          ]
        },
        {
          "output_type": "stream",
          "name": "stdout",
          "text": [
            "Average Training Loss: 1.2176\n"
          ]
        },
        {
          "output_type": "stream",
          "name": "stderr",
          "text": [
            "Epoch 18/20 - Validation: 100%|██████████| 138/138 [00:00<00:00, 1685.21it/s]\n",
            "Epoch 19/20 - Training: 100%|██████████| 1068/1068 [00:02<00:00, 467.55it/s]\n"
          ]
        },
        {
          "output_type": "stream",
          "name": "stdout",
          "text": [
            "Average Training Loss: 1.2087\n"
          ]
        },
        {
          "output_type": "stream",
          "name": "stderr",
          "text": [
            "Epoch 19/20 - Validation: 100%|██████████| 138/138 [00:00<00:00, 1706.50it/s]\n",
            "Epoch 20/20 - Training: 100%|██████████| 1068/1068 [00:02<00:00, 482.62it/s]\n"
          ]
        },
        {
          "output_type": "stream",
          "name": "stdout",
          "text": [
            "Average Training Loss: 1.1930\n"
          ]
        },
        {
          "output_type": "stream",
          "name": "stderr",
          "text": [
            "Epoch 20/20 - Validation: 100%|██████████| 138/138 [00:00<00:00, 2235.10it/s]\n",
            "Epoch 1/20 - Training: 100%|██████████| 1068/1068 [00:01<00:00, 637.65it/s]\n"
          ]
        },
        {
          "output_type": "stream",
          "name": "stdout",
          "text": [
            "Average Training Loss: 1.4748\n"
          ]
        },
        {
          "output_type": "stream",
          "name": "stderr",
          "text": [
            "Epoch 1/20 - Validation: 100%|██████████| 138/138 [00:00<00:00, 2139.24it/s]\n",
            "Epoch 2/20 - Training: 100%|██████████| 1068/1068 [00:01<00:00, 610.97it/s]\n"
          ]
        },
        {
          "output_type": "stream",
          "name": "stdout",
          "text": [
            "Average Training Loss: 1.3907\n"
          ]
        },
        {
          "output_type": "stream",
          "name": "stderr",
          "text": [
            "Epoch 2/20 - Validation: 100%|██████████| 138/138 [00:00<00:00, 2059.89it/s]\n",
            "Epoch 3/20 - Training: 100%|██████████| 1068/1068 [00:01<00:00, 607.28it/s]\n"
          ]
        },
        {
          "output_type": "stream",
          "name": "stdout",
          "text": [
            "Average Training Loss: 1.3723\n"
          ]
        },
        {
          "output_type": "stream",
          "name": "stderr",
          "text": [
            "Epoch 3/20 - Validation: 100%|██████████| 138/138 [00:00<00:00, 2166.28it/s]\n",
            "Epoch 4/20 - Training: 100%|██████████| 1068/1068 [00:01<00:00, 623.53it/s]\n"
          ]
        },
        {
          "output_type": "stream",
          "name": "stdout",
          "text": [
            "Average Training Loss: 1.3593\n"
          ]
        },
        {
          "output_type": "stream",
          "name": "stderr",
          "text": [
            "Epoch 4/20 - Validation: 100%|██████████| 138/138 [00:00<00:00, 2381.57it/s]\n",
            "Epoch 5/20 - Training: 100%|██████████| 1068/1068 [00:01<00:00, 601.55it/s]\n"
          ]
        },
        {
          "output_type": "stream",
          "name": "stdout",
          "text": [
            "Average Training Loss: 1.3462\n"
          ]
        },
        {
          "output_type": "stream",
          "name": "stderr",
          "text": [
            "Epoch 5/20 - Validation: 100%|██████████| 138/138 [00:00<00:00, 2292.91it/s]\n",
            "Epoch 6/20 - Training: 100%|██████████| 1068/1068 [00:02<00:00, 491.87it/s]\n"
          ]
        },
        {
          "output_type": "stream",
          "name": "stdout",
          "text": [
            "Average Training Loss: 1.3374\n"
          ]
        },
        {
          "output_type": "stream",
          "name": "stderr",
          "text": [
            "Epoch 6/20 - Validation: 100%|██████████| 138/138 [00:00<00:00, 1949.84it/s]\n",
            "Epoch 7/20 - Training: 100%|██████████| 1068/1068 [00:02<00:00, 448.54it/s]\n"
          ]
        },
        {
          "output_type": "stream",
          "name": "stdout",
          "text": [
            "Average Training Loss: 1.3299\n"
          ]
        },
        {
          "output_type": "stream",
          "name": "stderr",
          "text": [
            "Epoch 7/20 - Validation: 100%|██████████| 138/138 [00:00<00:00, 1672.59it/s]\n",
            "Epoch 8/20 - Training: 100%|██████████| 1068/1068 [00:02<00:00, 528.77it/s]\n"
          ]
        },
        {
          "output_type": "stream",
          "name": "stdout",
          "text": [
            "Average Training Loss: 1.3226\n"
          ]
        },
        {
          "output_type": "stream",
          "name": "stderr",
          "text": [
            "Epoch 8/20 - Validation: 100%|██████████| 138/138 [00:00<00:00, 2107.44it/s]\n",
            "Epoch 9/20 - Training: 100%|██████████| 1068/1068 [00:01<00:00, 607.61it/s]\n"
          ]
        },
        {
          "output_type": "stream",
          "name": "stdout",
          "text": [
            "Average Training Loss: 1.3139\n"
          ]
        },
        {
          "output_type": "stream",
          "name": "stderr",
          "text": [
            "Epoch 9/20 - Validation: 100%|██████████| 138/138 [00:00<00:00, 1976.49it/s]\n",
            "Epoch 10/20 - Training: 100%|██████████| 1068/1068 [00:01<00:00, 601.55it/s]\n"
          ]
        },
        {
          "output_type": "stream",
          "name": "stdout",
          "text": [
            "Average Training Loss: 1.3029\n"
          ]
        },
        {
          "output_type": "stream",
          "name": "stderr",
          "text": [
            "Epoch 10/20 - Validation: 100%|██████████| 138/138 [00:00<00:00, 2119.14it/s]\n",
            "Epoch 11/20 - Training: 100%|██████████| 1068/1068 [00:01<00:00, 584.17it/s]\n"
          ]
        },
        {
          "output_type": "stream",
          "name": "stdout",
          "text": [
            "Average Training Loss: 1.2966\n"
          ]
        },
        {
          "output_type": "stream",
          "name": "stderr",
          "text": [
            "Epoch 11/20 - Validation: 100%|██████████| 138/138 [00:00<00:00, 2222.31it/s]\n",
            "Epoch 12/20 - Training: 100%|██████████| 1068/1068 [00:01<00:00, 590.03it/s]\n"
          ]
        },
        {
          "output_type": "stream",
          "name": "stdout",
          "text": [
            "Average Training Loss: 1.2897\n"
          ]
        },
        {
          "output_type": "stream",
          "name": "stderr",
          "text": [
            "Epoch 12/20 - Validation: 100%|██████████| 138/138 [00:00<00:00, 2096.68it/s]\n",
            "Epoch 13/20 - Training: 100%|██████████| 1068/1068 [00:01<00:00, 540.14it/s]\n"
          ]
        },
        {
          "output_type": "stream",
          "name": "stdout",
          "text": [
            "Average Training Loss: 1.2793\n"
          ]
        },
        {
          "output_type": "stream",
          "name": "stderr",
          "text": [
            "Epoch 13/20 - Validation: 100%|██████████| 138/138 [00:00<00:00, 1497.43it/s]\n",
            "Epoch 14/20 - Training: 100%|██████████| 1068/1068 [00:02<00:00, 447.47it/s]\n"
          ]
        },
        {
          "output_type": "stream",
          "name": "stdout",
          "text": [
            "Average Training Loss: 1.2699\n"
          ]
        },
        {
          "output_type": "stream",
          "name": "stderr",
          "text": [
            "Epoch 14/20 - Validation: 100%|██████████| 138/138 [00:00<00:00, 1639.27it/s]\n",
            "Epoch 15/20 - Training: 100%|██████████| 1068/1068 [00:02<00:00, 452.04it/s]\n"
          ]
        },
        {
          "output_type": "stream",
          "name": "stdout",
          "text": [
            "Average Training Loss: 1.2659\n"
          ]
        },
        {
          "output_type": "stream",
          "name": "stderr",
          "text": [
            "Epoch 15/20 - Validation: 100%|██████████| 138/138 [00:00<00:00, 2198.04it/s]\n",
            "Epoch 16/20 - Training: 100%|██████████| 1068/1068 [00:01<00:00, 604.20it/s]\n"
          ]
        },
        {
          "output_type": "stream",
          "name": "stdout",
          "text": [
            "Average Training Loss: 1.2577\n"
          ]
        },
        {
          "output_type": "stream",
          "name": "stderr",
          "text": [
            "Epoch 16/20 - Validation: 100%|██████████| 138/138 [00:00<00:00, 1884.90it/s]\n",
            "Epoch 17/20 - Training: 100%|██████████| 1068/1068 [00:01<00:00, 605.20it/s]\n"
          ]
        },
        {
          "output_type": "stream",
          "name": "stdout",
          "text": [
            "Average Training Loss: 1.2410\n"
          ]
        },
        {
          "output_type": "stream",
          "name": "stderr",
          "text": [
            "Epoch 17/20 - Validation: 100%|██████████| 138/138 [00:00<00:00, 1962.87it/s]\n",
            "Epoch 18/20 - Training: 100%|██████████| 1068/1068 [00:01<00:00, 602.64it/s]\n"
          ]
        },
        {
          "output_type": "stream",
          "name": "stdout",
          "text": [
            "Average Training Loss: 1.2367\n"
          ]
        },
        {
          "output_type": "stream",
          "name": "stderr",
          "text": [
            "Epoch 18/20 - Validation: 100%|██████████| 138/138 [00:00<00:00, 2066.71it/s]\n",
            "Epoch 19/20 - Training: 100%|██████████| 1068/1068 [00:01<00:00, 625.31it/s]\n"
          ]
        },
        {
          "output_type": "stream",
          "name": "stdout",
          "text": [
            "Average Training Loss: 1.2275\n"
          ]
        },
        {
          "output_type": "stream",
          "name": "stderr",
          "text": [
            "Epoch 19/20 - Validation: 100%|██████████| 138/138 [00:00<00:00, 1917.62it/s]\n",
            "Epoch 20/20 - Training: 100%|██████████| 1068/1068 [00:01<00:00, 611.43it/s]\n"
          ]
        },
        {
          "output_type": "stream",
          "name": "stdout",
          "text": [
            "Average Training Loss: 1.2170\n"
          ]
        },
        {
          "output_type": "stream",
          "name": "stderr",
          "text": [
            "Epoch 20/20 - Validation: 100%|██████████| 138/138 [00:00<00:00, 2351.45it/s]\n",
            "Epoch 1/20 - Training: 100%|██████████| 1068/1068 [00:02<00:00, 471.63it/s]\n"
          ]
        },
        {
          "output_type": "stream",
          "name": "stdout",
          "text": [
            "Average Training Loss: 1.4989\n"
          ]
        },
        {
          "output_type": "stream",
          "name": "stderr",
          "text": [
            "Epoch 1/20 - Validation: 100%|██████████| 138/138 [00:00<00:00, 1682.70it/s]\n",
            "Epoch 2/20 - Training: 100%|██████████| 1068/1068 [00:02<00:00, 452.85it/s]\n"
          ]
        },
        {
          "output_type": "stream",
          "name": "stdout",
          "text": [
            "Average Training Loss: 1.4166\n"
          ]
        },
        {
          "output_type": "stream",
          "name": "stderr",
          "text": [
            "Epoch 2/20 - Validation: 100%|██████████| 138/138 [00:00<00:00, 1414.67it/s]\n",
            "Epoch 3/20 - Training: 100%|██████████| 1068/1068 [00:01<00:00, 547.95it/s]\n"
          ]
        },
        {
          "output_type": "stream",
          "name": "stdout",
          "text": [
            "Average Training Loss: 1.3964\n"
          ]
        },
        {
          "output_type": "stream",
          "name": "stderr",
          "text": [
            "Epoch 3/20 - Validation: 100%|██████████| 138/138 [00:00<00:00, 2119.02it/s]\n",
            "Epoch 4/20 - Training: 100%|██████████| 1068/1068 [00:01<00:00, 581.24it/s]\n"
          ]
        },
        {
          "output_type": "stream",
          "name": "stdout",
          "text": [
            "Average Training Loss: 1.3823\n"
          ]
        },
        {
          "output_type": "stream",
          "name": "stderr",
          "text": [
            "Epoch 4/20 - Validation: 100%|██████████| 138/138 [00:00<00:00, 2397.30it/s]\n",
            "Epoch 5/20 - Training: 100%|██████████| 1068/1068 [00:01<00:00, 598.88it/s]\n"
          ]
        },
        {
          "output_type": "stream",
          "name": "stdout",
          "text": [
            "Average Training Loss: 1.3739\n"
          ]
        },
        {
          "output_type": "stream",
          "name": "stderr",
          "text": [
            "Epoch 5/20 - Validation: 100%|██████████| 138/138 [00:00<00:00, 1938.46it/s]\n",
            "Epoch 6/20 - Training: 100%|██████████| 1068/1068 [00:01<00:00, 586.43it/s]\n"
          ]
        },
        {
          "output_type": "stream",
          "name": "stdout",
          "text": [
            "Average Training Loss: 1.3583\n"
          ]
        },
        {
          "output_type": "stream",
          "name": "stderr",
          "text": [
            "Epoch 6/20 - Validation: 100%|██████████| 138/138 [00:00<00:00, 2233.12it/s]\n",
            "Epoch 7/20 - Training: 100%|██████████| 1068/1068 [00:01<00:00, 588.79it/s]\n"
          ]
        },
        {
          "output_type": "stream",
          "name": "stdout",
          "text": [
            "Average Training Loss: 1.3582\n"
          ]
        },
        {
          "output_type": "stream",
          "name": "stderr",
          "text": [
            "Epoch 7/20 - Validation: 100%|██████████| 138/138 [00:00<00:00, 2028.40it/s]\n",
            "Epoch 8/20 - Training: 100%|██████████| 1068/1068 [00:02<00:00, 495.80it/s]\n"
          ]
        },
        {
          "output_type": "stream",
          "name": "stdout",
          "text": [
            "Average Training Loss: 1.3553\n"
          ]
        },
        {
          "output_type": "stream",
          "name": "stderr",
          "text": [
            "Epoch 8/20 - Validation: 100%|██████████| 138/138 [00:00<00:00, 1825.49it/s]\n",
            "Epoch 9/20 - Training: 100%|██████████| 1068/1068 [00:02<00:00, 453.14it/s]\n"
          ]
        },
        {
          "output_type": "stream",
          "name": "stdout",
          "text": [
            "Average Training Loss: 1.3507\n"
          ]
        },
        {
          "output_type": "stream",
          "name": "stderr",
          "text": [
            "Epoch 9/20 - Validation: 100%|██████████| 138/138 [00:00<00:00, 1997.59it/s]\n",
            "Epoch 10/20 - Training: 100%|██████████| 1068/1068 [00:02<00:00, 503.11it/s]\n"
          ]
        },
        {
          "output_type": "stream",
          "name": "stdout",
          "text": [
            "Average Training Loss: 1.3412\n"
          ]
        },
        {
          "output_type": "stream",
          "name": "stderr",
          "text": [
            "Epoch 10/20 - Validation: 100%|██████████| 138/138 [00:00<00:00, 2048.45it/s]\n",
            "Epoch 11/20 - Training: 100%|██████████| 1068/1068 [00:01<00:00, 588.80it/s]\n"
          ]
        },
        {
          "output_type": "stream",
          "name": "stdout",
          "text": [
            "Average Training Loss: 1.3401\n"
          ]
        },
        {
          "output_type": "stream",
          "name": "stderr",
          "text": [
            "Epoch 11/20 - Validation: 100%|██████████| 138/138 [00:00<00:00, 1761.49it/s]\n",
            "Epoch 12/20 - Training: 100%|██████████| 1068/1068 [00:01<00:00, 588.69it/s]\n"
          ]
        },
        {
          "output_type": "stream",
          "name": "stdout",
          "text": [
            "Average Training Loss: 1.3350\n"
          ]
        },
        {
          "output_type": "stream",
          "name": "stderr",
          "text": [
            "Epoch 12/20 - Validation: 100%|██████████| 138/138 [00:00<00:00, 2274.77it/s]\n",
            "Epoch 13/20 - Training: 100%|██████████| 1068/1068 [00:01<00:00, 586.19it/s]\n"
          ]
        },
        {
          "output_type": "stream",
          "name": "stdout",
          "text": [
            "Average Training Loss: 1.3269\n"
          ]
        },
        {
          "output_type": "stream",
          "name": "stderr",
          "text": [
            "Epoch 13/20 - Validation: 100%|██████████| 138/138 [00:00<00:00, 2166.71it/s]\n",
            "Epoch 14/20 - Training: 100%|██████████| 1068/1068 [00:01<00:00, 590.13it/s]\n"
          ]
        },
        {
          "output_type": "stream",
          "name": "stdout",
          "text": [
            "Average Training Loss: 1.3253\n"
          ]
        },
        {
          "output_type": "stream",
          "name": "stderr",
          "text": [
            "Epoch 14/20 - Validation: 100%|██████████| 138/138 [00:00<00:00, 2162.40it/s]\n",
            "Epoch 15/20 - Training: 100%|██████████| 1068/1068 [00:01<00:00, 572.18it/s]\n"
          ]
        },
        {
          "output_type": "stream",
          "name": "stdout",
          "text": [
            "Average Training Loss: 1.3250\n"
          ]
        },
        {
          "output_type": "stream",
          "name": "stderr",
          "text": [
            "Epoch 15/20 - Validation: 100%|██████████| 138/138 [00:00<00:00, 1903.37it/s]\n",
            "Epoch 16/20 - Training: 100%|██████████| 1068/1068 [00:02<00:00, 445.59it/s]\n"
          ]
        },
        {
          "output_type": "stream",
          "name": "stdout",
          "text": [
            "Average Training Loss: 1.3158\n"
          ]
        },
        {
          "output_type": "stream",
          "name": "stderr",
          "text": [
            "Epoch 16/20 - Validation: 100%|██████████| 138/138 [00:00<00:00, 1808.05it/s]\n",
            "Epoch 17/20 - Training: 100%|██████████| 1068/1068 [00:02<00:00, 444.60it/s]\n"
          ]
        },
        {
          "output_type": "stream",
          "name": "stdout",
          "text": [
            "Average Training Loss: 1.3144\n"
          ]
        },
        {
          "output_type": "stream",
          "name": "stderr",
          "text": [
            "Epoch 17/20 - Validation: 100%|██████████| 138/138 [00:00<00:00, 2267.80it/s]\n",
            "Epoch 18/20 - Training: 100%|██████████| 1068/1068 [00:01<00:00, 594.52it/s]\n"
          ]
        },
        {
          "output_type": "stream",
          "name": "stdout",
          "text": [
            "Average Training Loss: 1.3043\n"
          ]
        },
        {
          "output_type": "stream",
          "name": "stderr",
          "text": [
            "Epoch 18/20 - Validation: 100%|██████████| 138/138 [00:00<00:00, 2147.71it/s]\n",
            "Epoch 19/20 - Training: 100%|██████████| 1068/1068 [00:01<00:00, 581.98it/s]\n"
          ]
        },
        {
          "output_type": "stream",
          "name": "stdout",
          "text": [
            "Average Training Loss: 1.3065\n"
          ]
        },
        {
          "output_type": "stream",
          "name": "stderr",
          "text": [
            "Epoch 19/20 - Validation: 100%|██████████| 138/138 [00:00<00:00, 1919.27it/s]\n",
            "Epoch 20/20 - Training: 100%|██████████| 1068/1068 [00:01<00:00, 581.57it/s]\n"
          ]
        },
        {
          "output_type": "stream",
          "name": "stdout",
          "text": [
            "Average Training Loss: 1.3073\n"
          ]
        },
        {
          "output_type": "stream",
          "name": "stderr",
          "text": [
            "Epoch 20/20 - Validation: 100%|██████████| 138/138 [00:00<00:00, 1985.19it/s]\n",
            "Epoch 1/20 - Training: 100%|██████████| 1068/1068 [00:01<00:00, 626.48it/s]\n"
          ]
        },
        {
          "output_type": "stream",
          "name": "stdout",
          "text": [
            "Average Training Loss: 1.5297\n"
          ]
        },
        {
          "output_type": "stream",
          "name": "stderr",
          "text": [
            "Epoch 1/20 - Validation: 100%|██████████| 138/138 [00:00<00:00, 1905.55it/s]\n",
            "Epoch 2/20 - Training: 100%|██████████| 1068/1068 [00:01<00:00, 593.09it/s]\n"
          ]
        },
        {
          "output_type": "stream",
          "name": "stdout",
          "text": [
            "Average Training Loss: 1.4466\n"
          ]
        },
        {
          "output_type": "stream",
          "name": "stderr",
          "text": [
            "Epoch 2/20 - Validation: 100%|██████████| 138/138 [00:00<00:00, 2329.34it/s]\n",
            "Epoch 3/20 - Training: 100%|██████████| 1068/1068 [00:02<00:00, 454.15it/s]\n"
          ]
        },
        {
          "output_type": "stream",
          "name": "stdout",
          "text": [
            "Average Training Loss: 1.4240\n"
          ]
        },
        {
          "output_type": "stream",
          "name": "stderr",
          "text": [
            "Epoch 3/20 - Validation: 100%|██████████| 138/138 [00:00<00:00, 1843.54it/s]\n",
            "Epoch 4/20 - Training: 100%|██████████| 1068/1068 [00:02<00:00, 423.94it/s]\n"
          ]
        },
        {
          "output_type": "stream",
          "name": "stdout",
          "text": [
            "Average Training Loss: 1.4076\n"
          ]
        },
        {
          "output_type": "stream",
          "name": "stderr",
          "text": [
            "Epoch 4/20 - Validation: 100%|██████████| 138/138 [00:00<00:00, 1592.29it/s]\n",
            "Epoch 5/20 - Training: 100%|██████████| 1068/1068 [00:01<00:00, 567.37it/s]\n"
          ]
        },
        {
          "output_type": "stream",
          "name": "stdout",
          "text": [
            "Average Training Loss: 1.3988\n"
          ]
        },
        {
          "output_type": "stream",
          "name": "stderr",
          "text": [
            "Epoch 5/20 - Validation: 100%|██████████| 138/138 [00:00<00:00, 2051.38it/s]\n",
            "Epoch 6/20 - Training: 100%|██████████| 1068/1068 [00:01<00:00, 576.91it/s]\n"
          ]
        },
        {
          "output_type": "stream",
          "name": "stdout",
          "text": [
            "Average Training Loss: 1.3938\n"
          ]
        },
        {
          "output_type": "stream",
          "name": "stderr",
          "text": [
            "Epoch 6/20 - Validation: 100%|██████████| 138/138 [00:00<00:00, 1657.03it/s]\n",
            "Epoch 7/20 - Training: 100%|██████████| 1068/1068 [00:01<00:00, 583.85it/s]\n"
          ]
        },
        {
          "output_type": "stream",
          "name": "stdout",
          "text": [
            "Average Training Loss: 1.3876\n"
          ]
        },
        {
          "output_type": "stream",
          "name": "stderr",
          "text": [
            "Epoch 7/20 - Validation: 100%|██████████| 138/138 [00:00<00:00, 2300.27it/s]\n",
            "Epoch 8/20 - Training: 100%|██████████| 1068/1068 [00:01<00:00, 580.91it/s]\n"
          ]
        },
        {
          "output_type": "stream",
          "name": "stdout",
          "text": [
            "Average Training Loss: 1.3867\n"
          ]
        },
        {
          "output_type": "stream",
          "name": "stderr",
          "text": [
            "Epoch 8/20 - Validation: 100%|██████████| 138/138 [00:00<00:00, 2448.41it/s]\n",
            "Epoch 9/20 - Training: 100%|██████████| 1068/1068 [00:01<00:00, 589.75it/s]\n"
          ]
        },
        {
          "output_type": "stream",
          "name": "stdout",
          "text": [
            "Average Training Loss: 1.3784\n"
          ]
        },
        {
          "output_type": "stream",
          "name": "stderr",
          "text": [
            "Epoch 9/20 - Validation: 100%|██████████| 138/138 [00:00<00:00, 2224.15it/s]\n",
            "Epoch 10/20 - Training: 100%|██████████| 1068/1068 [00:02<00:00, 474.47it/s]\n"
          ]
        },
        {
          "output_type": "stream",
          "name": "stdout",
          "text": [
            "Average Training Loss: 1.3728\n"
          ]
        },
        {
          "output_type": "stream",
          "name": "stderr",
          "text": [
            "Epoch 10/20 - Validation: 100%|██████████| 138/138 [00:00<00:00, 1854.26it/s]\n",
            "Epoch 11/20 - Training: 100%|██████████| 1068/1068 [00:02<00:00, 450.65it/s]\n"
          ]
        },
        {
          "output_type": "stream",
          "name": "stdout",
          "text": [
            "Average Training Loss: 1.3648\n"
          ]
        },
        {
          "output_type": "stream",
          "name": "stderr",
          "text": [
            "Epoch 11/20 - Validation: 100%|██████████| 138/138 [00:00<00:00, 1999.16it/s]\n",
            "Epoch 12/20 - Training: 100%|██████████| 1068/1068 [00:02<00:00, 507.59it/s]\n"
          ]
        },
        {
          "output_type": "stream",
          "name": "stdout",
          "text": [
            "Average Training Loss: 1.3703\n"
          ]
        },
        {
          "output_type": "stream",
          "name": "stderr",
          "text": [
            "Epoch 12/20 - Validation: 100%|██████████| 138/138 [00:00<00:00, 2220.14it/s]\n",
            "Epoch 13/20 - Training: 100%|██████████| 1068/1068 [00:01<00:00, 577.11it/s]\n"
          ]
        },
        {
          "output_type": "stream",
          "name": "stdout",
          "text": [
            "Average Training Loss: 1.3661\n"
          ]
        },
        {
          "output_type": "stream",
          "name": "stderr",
          "text": [
            "Epoch 13/20 - Validation: 100%|██████████| 138/138 [00:00<00:00, 1968.71it/s]\n",
            "Epoch 14/20 - Training: 100%|██████████| 1068/1068 [00:01<00:00, 589.18it/s]\n"
          ]
        },
        {
          "output_type": "stream",
          "name": "stdout",
          "text": [
            "Average Training Loss: 1.3616\n"
          ]
        },
        {
          "output_type": "stream",
          "name": "stderr",
          "text": [
            "Epoch 14/20 - Validation: 100%|██████████| 138/138 [00:00<00:00, 2298.11it/s]\n",
            "Epoch 15/20 - Training: 100%|██████████| 1068/1068 [00:01<00:00, 574.37it/s]\n"
          ]
        },
        {
          "output_type": "stream",
          "name": "stdout",
          "text": [
            "Average Training Loss: 1.3594\n"
          ]
        },
        {
          "output_type": "stream",
          "name": "stderr",
          "text": [
            "Epoch 15/20 - Validation: 100%|██████████| 138/138 [00:00<00:00, 2248.55it/s]\n",
            "Epoch 16/20 - Training: 100%|██████████| 1068/1068 [00:01<00:00, 591.19it/s]\n"
          ]
        },
        {
          "output_type": "stream",
          "name": "stdout",
          "text": [
            "Average Training Loss: 1.3558\n"
          ]
        },
        {
          "output_type": "stream",
          "name": "stderr",
          "text": [
            "Epoch 16/20 - Validation: 100%|██████████| 138/138 [00:00<00:00, 2020.96it/s]\n",
            "Epoch 17/20 - Training: 100%|██████████| 1068/1068 [00:02<00:00, 524.03it/s]\n"
          ]
        },
        {
          "output_type": "stream",
          "name": "stdout",
          "text": [
            "Average Training Loss: 1.3555\n"
          ]
        },
        {
          "output_type": "stream",
          "name": "stderr",
          "text": [
            "Epoch 17/20 - Validation: 100%|██████████| 138/138 [00:00<00:00, 1694.64it/s]\n",
            "Epoch 18/20 - Training: 100%|██████████| 1068/1068 [00:02<00:00, 444.05it/s]\n"
          ]
        },
        {
          "output_type": "stream",
          "name": "stdout",
          "text": [
            "Average Training Loss: 1.3545\n"
          ]
        },
        {
          "output_type": "stream",
          "name": "stderr",
          "text": [
            "Epoch 18/20 - Validation: 100%|██████████| 138/138 [00:00<00:00, 2052.50it/s]\n",
            "Epoch 19/20 - Training: 100%|██████████| 1068/1068 [00:02<00:00, 451.58it/s]\n"
          ]
        },
        {
          "output_type": "stream",
          "name": "stdout",
          "text": [
            "Average Training Loss: 1.3484\n"
          ]
        },
        {
          "output_type": "stream",
          "name": "stderr",
          "text": [
            "Epoch 19/20 - Validation: 100%|██████████| 138/138 [00:00<00:00, 2012.71it/s]\n",
            "Epoch 20/20 - Training: 100%|██████████| 1068/1068 [00:01<00:00, 587.87it/s]\n"
          ]
        },
        {
          "output_type": "stream",
          "name": "stdout",
          "text": [
            "Average Training Loss: 1.3510\n"
          ]
        },
        {
          "output_type": "stream",
          "name": "stderr",
          "text": [
            "Epoch 20/20 - Validation: 100%|██████████| 138/138 [00:00<00:00, 2040.39it/s]\n",
            "Epoch 1/20 - Training: 100%|██████████| 1068/1068 [00:01<00:00, 596.82it/s]\n"
          ]
        },
        {
          "output_type": "stream",
          "name": "stdout",
          "text": [
            "Average Training Loss: 1.4520\n"
          ]
        },
        {
          "output_type": "stream",
          "name": "stderr",
          "text": [
            "Epoch 1/20 - Validation: 100%|██████████| 138/138 [00:00<00:00, 1726.79it/s]\n",
            "Epoch 2/20 - Training: 100%|██████████| 1068/1068 [00:01<00:00, 569.76it/s]\n"
          ]
        },
        {
          "output_type": "stream",
          "name": "stdout",
          "text": [
            "Average Training Loss: 1.3804\n"
          ]
        },
        {
          "output_type": "stream",
          "name": "stderr",
          "text": [
            "Epoch 2/20 - Validation: 100%|██████████| 138/138 [00:00<00:00, 1936.54it/s]\n",
            "Epoch 3/20 - Training: 100%|██████████| 1068/1068 [00:01<00:00, 565.16it/s]\n"
          ]
        },
        {
          "output_type": "stream",
          "name": "stdout",
          "text": [
            "Average Training Loss: 1.3604\n"
          ]
        },
        {
          "output_type": "stream",
          "name": "stderr",
          "text": [
            "Epoch 3/20 - Validation: 100%|██████████| 138/138 [00:00<00:00, 1981.13it/s]\n",
            "Epoch 4/20 - Training: 100%|██████████| 1068/1068 [00:01<00:00, 538.39it/s]\n"
          ]
        },
        {
          "output_type": "stream",
          "name": "stdout",
          "text": [
            "Average Training Loss: 1.3440\n"
          ]
        },
        {
          "output_type": "stream",
          "name": "stderr",
          "text": [
            "Epoch 4/20 - Validation: 100%|██████████| 138/138 [00:00<00:00, 1608.80it/s]\n",
            "Epoch 5/20 - Training: 100%|██████████| 1068/1068 [00:02<00:00, 415.50it/s]\n"
          ]
        },
        {
          "output_type": "stream",
          "name": "stdout",
          "text": [
            "Average Training Loss: 1.3306\n"
          ]
        },
        {
          "output_type": "stream",
          "name": "stderr",
          "text": [
            "Epoch 5/20 - Validation: 100%|██████████| 138/138 [00:00<00:00, 1499.18it/s]\n",
            "Epoch 6/20 - Training: 100%|██████████| 1068/1068 [00:02<00:00, 427.09it/s]\n"
          ]
        },
        {
          "output_type": "stream",
          "name": "stdout",
          "text": [
            "Average Training Loss: 1.3179\n"
          ]
        },
        {
          "output_type": "stream",
          "name": "stderr",
          "text": [
            "Epoch 6/20 - Validation: 100%|██████████| 138/138 [00:00<00:00, 1972.32it/s]\n",
            "Epoch 7/20 - Training: 100%|██████████| 1068/1068 [00:01<00:00, 539.75it/s]\n"
          ]
        },
        {
          "output_type": "stream",
          "name": "stdout",
          "text": [
            "Average Training Loss: 1.3045\n"
          ]
        },
        {
          "output_type": "stream",
          "name": "stderr",
          "text": [
            "Epoch 7/20 - Validation: 100%|██████████| 138/138 [00:00<00:00, 2005.49it/s]\n",
            "Epoch 8/20 - Training: 100%|██████████| 1068/1068 [00:01<00:00, 549.14it/s]\n"
          ]
        },
        {
          "output_type": "stream",
          "name": "stdout",
          "text": [
            "Average Training Loss: 1.2972\n"
          ]
        },
        {
          "output_type": "stream",
          "name": "stderr",
          "text": [
            "Epoch 8/20 - Validation: 100%|██████████| 138/138 [00:00<00:00, 2112.94it/s]\n",
            "Epoch 9/20 - Training: 100%|██████████| 1068/1068 [00:01<00:00, 549.09it/s]\n"
          ]
        },
        {
          "output_type": "stream",
          "name": "stdout",
          "text": [
            "Average Training Loss: 1.2772\n"
          ]
        },
        {
          "output_type": "stream",
          "name": "stderr",
          "text": [
            "Epoch 9/20 - Validation: 100%|██████████| 138/138 [00:00<00:00, 1951.49it/s]\n",
            "Epoch 10/20 - Training: 100%|██████████| 1068/1068 [00:01<00:00, 558.64it/s]\n"
          ]
        },
        {
          "output_type": "stream",
          "name": "stdout",
          "text": [
            "Average Training Loss: 1.2629\n"
          ]
        },
        {
          "output_type": "stream",
          "name": "stderr",
          "text": [
            "Epoch 10/20 - Validation: 100%|██████████| 138/138 [00:00<00:00, 1949.64it/s]\n",
            "Epoch 11/20 - Training: 100%|██████████| 1068/1068 [00:02<00:00, 517.39it/s]\n"
          ]
        },
        {
          "output_type": "stream",
          "name": "stdout",
          "text": [
            "Average Training Loss: 1.2504\n"
          ]
        },
        {
          "output_type": "stream",
          "name": "stderr",
          "text": [
            "Epoch 11/20 - Validation: 100%|██████████| 138/138 [00:00<00:00, 1324.56it/s]\n",
            "Epoch 12/20 - Training: 100%|██████████| 1068/1068 [00:02<00:00, 414.34it/s]\n"
          ]
        },
        {
          "output_type": "stream",
          "name": "stdout",
          "text": [
            "Average Training Loss: 1.2313\n"
          ]
        },
        {
          "output_type": "stream",
          "name": "stderr",
          "text": [
            "Epoch 12/20 - Validation: 100%|██████████| 138/138 [00:00<00:00, 1782.79it/s]\n",
            "Epoch 13/20 - Training: 100%|██████████| 1068/1068 [00:02<00:00, 456.18it/s]\n"
          ]
        },
        {
          "output_type": "stream",
          "name": "stdout",
          "text": [
            "Average Training Loss: 1.2198\n"
          ]
        },
        {
          "output_type": "stream",
          "name": "stderr",
          "text": [
            "Epoch 13/20 - Validation: 100%|██████████| 138/138 [00:00<00:00, 2078.01it/s]\n",
            "Epoch 14/20 - Training: 100%|██████████| 1068/1068 [00:01<00:00, 554.42it/s]\n"
          ]
        },
        {
          "output_type": "stream",
          "name": "stdout",
          "text": [
            "Average Training Loss: 1.2007\n"
          ]
        },
        {
          "output_type": "stream",
          "name": "stderr",
          "text": [
            "Epoch 14/20 - Validation: 100%|██████████| 138/138 [00:00<00:00, 1739.80it/s]\n",
            "Epoch 15/20 - Training: 100%|██████████| 1068/1068 [00:01<00:00, 549.55it/s]\n"
          ]
        },
        {
          "output_type": "stream",
          "name": "stdout",
          "text": [
            "Average Training Loss: 1.1842\n"
          ]
        },
        {
          "output_type": "stream",
          "name": "stderr",
          "text": [
            "Epoch 15/20 - Validation: 100%|██████████| 138/138 [00:00<00:00, 2036.31it/s]\n",
            "Epoch 16/20 - Training: 100%|██████████| 1068/1068 [00:01<00:00, 543.87it/s]\n"
          ]
        },
        {
          "output_type": "stream",
          "name": "stdout",
          "text": [
            "Average Training Loss: 1.1665\n"
          ]
        },
        {
          "output_type": "stream",
          "name": "stderr",
          "text": [
            "Epoch 16/20 - Validation: 100%|██████████| 138/138 [00:00<00:00, 1848.01it/s]\n",
            "Epoch 17/20 - Training: 100%|██████████| 1068/1068 [00:01<00:00, 560.61it/s]\n"
          ]
        },
        {
          "output_type": "stream",
          "name": "stdout",
          "text": [
            "Average Training Loss: 1.1495\n"
          ]
        },
        {
          "output_type": "stream",
          "name": "stderr",
          "text": [
            "Epoch 17/20 - Validation: 100%|██████████| 138/138 [00:00<00:00, 1938.36it/s]\n",
            "Epoch 18/20 - Training: 100%|██████████| 1068/1068 [00:02<00:00, 493.42it/s]\n"
          ]
        },
        {
          "output_type": "stream",
          "name": "stdout",
          "text": [
            "Average Training Loss: 1.1321\n"
          ]
        },
        {
          "output_type": "stream",
          "name": "stderr",
          "text": [
            "Epoch 18/20 - Validation: 100%|██████████| 138/138 [00:00<00:00, 1542.46it/s]\n",
            "Epoch 19/20 - Training: 100%|██████████| 1068/1068 [00:02<00:00, 409.81it/s]\n"
          ]
        },
        {
          "output_type": "stream",
          "name": "stdout",
          "text": [
            "Average Training Loss: 1.1144\n"
          ]
        },
        {
          "output_type": "stream",
          "name": "stderr",
          "text": [
            "Epoch 19/20 - Validation: 100%|██████████| 138/138 [00:00<00:00, 1582.59it/s]\n",
            "Epoch 20/20 - Training: 100%|██████████| 1068/1068 [00:02<00:00, 471.91it/s]\n"
          ]
        },
        {
          "output_type": "stream",
          "name": "stdout",
          "text": [
            "Average Training Loss: 1.0945\n"
          ]
        },
        {
          "output_type": "stream",
          "name": "stderr",
          "text": [
            "Epoch 20/20 - Validation: 100%|██████████| 138/138 [00:00<00:00, 1842.54it/s]\n",
            "Epoch 1/20 - Training: 100%|██████████| 1068/1068 [00:01<00:00, 573.31it/s]\n"
          ]
        },
        {
          "output_type": "stream",
          "name": "stdout",
          "text": [
            "Average Training Loss: 1.4581\n"
          ]
        },
        {
          "output_type": "stream",
          "name": "stderr",
          "text": [
            "Epoch 1/20 - Validation: 100%|██████████| 138/138 [00:00<00:00, 1714.79it/s]\n",
            "Epoch 2/20 - Training: 100%|██████████| 1068/1068 [00:01<00:00, 538.18it/s]\n"
          ]
        },
        {
          "output_type": "stream",
          "name": "stdout",
          "text": [
            "Average Training Loss: 1.3842\n"
          ]
        },
        {
          "output_type": "stream",
          "name": "stderr",
          "text": [
            "Epoch 2/20 - Validation: 100%|██████████| 138/138 [00:00<00:00, 1856.37it/s]\n",
            "Epoch 3/20 - Training: 100%|██████████| 1068/1068 [00:02<00:00, 530.65it/s]\n"
          ]
        },
        {
          "output_type": "stream",
          "name": "stdout",
          "text": [
            "Average Training Loss: 1.3685\n"
          ]
        },
        {
          "output_type": "stream",
          "name": "stderr",
          "text": [
            "Epoch 3/20 - Validation: 100%|██████████| 138/138 [00:00<00:00, 2051.54it/s]\n",
            "Epoch 4/20 - Training: 100%|██████████| 1068/1068 [00:02<00:00, 533.65it/s]\n"
          ]
        },
        {
          "output_type": "stream",
          "name": "stdout",
          "text": [
            "Average Training Loss: 1.3516\n"
          ]
        },
        {
          "output_type": "stream",
          "name": "stderr",
          "text": [
            "Epoch 4/20 - Validation: 100%|██████████| 138/138 [00:00<00:00, 1857.85it/s]\n",
            "Epoch 5/20 - Training: 100%|██████████| 1068/1068 [00:02<00:00, 433.23it/s]\n"
          ]
        },
        {
          "output_type": "stream",
          "name": "stdout",
          "text": [
            "Average Training Loss: 1.3360\n"
          ]
        },
        {
          "output_type": "stream",
          "name": "stderr",
          "text": [
            "Epoch 5/20 - Validation: 100%|██████████| 138/138 [00:00<00:00, 1556.77it/s]\n",
            "Epoch 6/20 - Training: 100%|██████████| 1068/1068 [00:02<00:00, 394.28it/s]\n"
          ]
        },
        {
          "output_type": "stream",
          "name": "stdout",
          "text": [
            "Average Training Loss: 1.3265\n"
          ]
        },
        {
          "output_type": "stream",
          "name": "stderr",
          "text": [
            "Epoch 6/20 - Validation: 100%|██████████| 138/138 [00:00<00:00, 1863.56it/s]\n",
            "Epoch 7/20 - Training: 100%|██████████| 1068/1068 [00:02<00:00, 488.35it/s]\n"
          ]
        },
        {
          "output_type": "stream",
          "name": "stdout",
          "text": [
            "Average Training Loss: 1.3163\n"
          ]
        },
        {
          "output_type": "stream",
          "name": "stderr",
          "text": [
            "Epoch 7/20 - Validation: 100%|██████████| 138/138 [00:00<00:00, 1997.05it/s]\n",
            "Epoch 8/20 - Training: 100%|██████████| 1068/1068 [00:02<00:00, 532.75it/s]\n"
          ]
        },
        {
          "output_type": "stream",
          "name": "stdout",
          "text": [
            "Average Training Loss: 1.3045\n"
          ]
        },
        {
          "output_type": "stream",
          "name": "stderr",
          "text": [
            "Epoch 8/20 - Validation: 100%|██████████| 138/138 [00:00<00:00, 1859.18it/s]\n",
            "Epoch 9/20 - Training: 100%|██████████| 1068/1068 [00:02<00:00, 519.44it/s]\n"
          ]
        },
        {
          "output_type": "stream",
          "name": "stdout",
          "text": [
            "Average Training Loss: 1.2950\n"
          ]
        },
        {
          "output_type": "stream",
          "name": "stderr",
          "text": [
            "Epoch 9/20 - Validation: 100%|██████████| 138/138 [00:00<00:00, 2002.64it/s]\n",
            "Epoch 10/20 - Training: 100%|██████████| 1068/1068 [00:01<00:00, 540.67it/s]\n"
          ]
        },
        {
          "output_type": "stream",
          "name": "stdout",
          "text": [
            "Average Training Loss: 1.2861\n"
          ]
        },
        {
          "output_type": "stream",
          "name": "stderr",
          "text": [
            "Epoch 10/20 - Validation: 100%|██████████| 138/138 [00:00<00:00, 2051.95it/s]\n",
            "Epoch 11/20 - Training: 100%|██████████| 1068/1068 [00:01<00:00, 536.37it/s]\n"
          ]
        },
        {
          "output_type": "stream",
          "name": "stdout",
          "text": [
            "Average Training Loss: 1.2671\n"
          ]
        },
        {
          "output_type": "stream",
          "name": "stderr",
          "text": [
            "Epoch 11/20 - Validation: 100%|██████████| 138/138 [00:00<00:00, 1983.65it/s]\n",
            "Epoch 12/20 - Training: 100%|██████████| 1068/1068 [00:02<00:00, 402.63it/s]\n"
          ]
        },
        {
          "output_type": "stream",
          "name": "stdout",
          "text": [
            "Average Training Loss: 1.2609\n"
          ]
        },
        {
          "output_type": "stream",
          "name": "stderr",
          "text": [
            "Epoch 12/20 - Validation: 100%|██████████| 138/138 [00:00<00:00, 1371.52it/s]\n",
            "Epoch 13/20 - Training: 100%|██████████| 1068/1068 [00:02<00:00, 409.10it/s]\n"
          ]
        },
        {
          "output_type": "stream",
          "name": "stdout",
          "text": [
            "Average Training Loss: 1.2460\n"
          ]
        },
        {
          "output_type": "stream",
          "name": "stderr",
          "text": [
            "Epoch 13/20 - Validation: 100%|██████████| 138/138 [00:00<00:00, 1684.21it/s]\n",
            "Epoch 14/20 - Training: 100%|██████████| 1068/1068 [00:01<00:00, 535.33it/s]\n"
          ]
        },
        {
          "output_type": "stream",
          "name": "stdout",
          "text": [
            "Average Training Loss: 1.2298\n"
          ]
        },
        {
          "output_type": "stream",
          "name": "stderr",
          "text": [
            "Epoch 14/20 - Validation: 100%|██████████| 138/138 [00:00<00:00, 1767.21it/s]\n",
            "Epoch 15/20 - Training: 100%|██████████| 1068/1068 [00:02<00:00, 513.75it/s]\n"
          ]
        },
        {
          "output_type": "stream",
          "name": "stdout",
          "text": [
            "Average Training Loss: 1.2145\n"
          ]
        },
        {
          "output_type": "stream",
          "name": "stderr",
          "text": [
            "Epoch 15/20 - Validation: 100%|██████████| 138/138 [00:00<00:00, 1843.67it/s]\n",
            "Epoch 16/20 - Training: 100%|██████████| 1068/1068 [00:01<00:00, 536.90it/s]\n"
          ]
        },
        {
          "output_type": "stream",
          "name": "stdout",
          "text": [
            "Average Training Loss: 1.2020\n"
          ]
        },
        {
          "output_type": "stream",
          "name": "stderr",
          "text": [
            "Epoch 16/20 - Validation: 100%|██████████| 138/138 [00:00<00:00, 1918.72it/s]\n",
            "Epoch 17/20 - Training: 100%|██████████| 1068/1068 [00:02<00:00, 530.74it/s]\n"
          ]
        },
        {
          "output_type": "stream",
          "name": "stdout",
          "text": [
            "Average Training Loss: 1.1883\n"
          ]
        },
        {
          "output_type": "stream",
          "name": "stderr",
          "text": [
            "Epoch 17/20 - Validation: 100%|██████████| 138/138 [00:00<00:00, 1972.90it/s]\n",
            "Epoch 18/20 - Training: 100%|██████████| 1068/1068 [00:02<00:00, 452.98it/s]\n"
          ]
        },
        {
          "output_type": "stream",
          "name": "stdout",
          "text": [
            "Average Training Loss: 1.1729\n"
          ]
        },
        {
          "output_type": "stream",
          "name": "stderr",
          "text": [
            "Epoch 18/20 - Validation: 100%|██████████| 138/138 [00:00<00:00, 1572.59it/s]\n",
            "Epoch 19/20 - Training: 100%|██████████| 1068/1068 [00:02<00:00, 379.76it/s]\n"
          ]
        },
        {
          "output_type": "stream",
          "name": "stdout",
          "text": [
            "Average Training Loss: 1.1603\n"
          ]
        },
        {
          "output_type": "stream",
          "name": "stderr",
          "text": [
            "Epoch 19/20 - Validation: 100%|██████████| 138/138 [00:00<00:00, 1466.20it/s]\n",
            "Epoch 20/20 - Training: 100%|██████████| 1068/1068 [00:02<00:00, 453.74it/s]\n"
          ]
        },
        {
          "output_type": "stream",
          "name": "stdout",
          "text": [
            "Average Training Loss: 1.1406\n"
          ]
        },
        {
          "output_type": "stream",
          "name": "stderr",
          "text": [
            "Epoch 20/20 - Validation: 100%|██████████| 138/138 [00:00<00:00, 1767.20it/s]\n",
            "Epoch 1/20 - Training: 100%|██████████| 1068/1068 [00:01<00:00, 562.61it/s]\n"
          ]
        },
        {
          "output_type": "stream",
          "name": "stdout",
          "text": [
            "Average Training Loss: 1.4669\n"
          ]
        },
        {
          "output_type": "stream",
          "name": "stderr",
          "text": [
            "Epoch 1/20 - Validation: 100%|██████████| 138/138 [00:00<00:00, 1782.48it/s]\n",
            "Epoch 2/20 - Training: 100%|██████████| 1068/1068 [00:02<00:00, 526.75it/s]\n"
          ]
        },
        {
          "output_type": "stream",
          "name": "stdout",
          "text": [
            "Average Training Loss: 1.3860\n"
          ]
        },
        {
          "output_type": "stream",
          "name": "stderr",
          "text": [
            "Epoch 2/20 - Validation: 100%|██████████| 138/138 [00:00<00:00, 2006.30it/s]\n",
            "Epoch 3/20 - Training: 100%|██████████| 1068/1068 [00:02<00:00, 533.59it/s]\n"
          ]
        },
        {
          "output_type": "stream",
          "name": "stdout",
          "text": [
            "Average Training Loss: 1.3678\n"
          ]
        },
        {
          "output_type": "stream",
          "name": "stderr",
          "text": [
            "Epoch 3/20 - Validation: 100%|██████████| 138/138 [00:00<00:00, 2032.80it/s]\n",
            "Epoch 4/20 - Training: 100%|██████████| 1068/1068 [00:02<00:00, 517.55it/s]\n"
          ]
        },
        {
          "output_type": "stream",
          "name": "stdout",
          "text": [
            "Average Training Loss: 1.3570\n"
          ]
        },
        {
          "output_type": "stream",
          "name": "stderr",
          "text": [
            "Epoch 4/20 - Validation: 100%|██████████| 138/138 [00:00<00:00, 1951.52it/s]\n",
            "Epoch 5/20 - Training: 100%|██████████| 1068/1068 [00:02<00:00, 398.24it/s]\n"
          ]
        },
        {
          "output_type": "stream",
          "name": "stdout",
          "text": [
            "Average Training Loss: 1.3451\n"
          ]
        },
        {
          "output_type": "stream",
          "name": "stderr",
          "text": [
            "Epoch 5/20 - Validation: 100%|██████████| 138/138 [00:00<00:00, 1321.50it/s]\n",
            "Epoch 6/20 - Training: 100%|██████████| 1068/1068 [00:02<00:00, 392.08it/s]\n"
          ]
        },
        {
          "output_type": "stream",
          "name": "stdout",
          "text": [
            "Average Training Loss: 1.3340\n"
          ]
        },
        {
          "output_type": "stream",
          "name": "stderr",
          "text": [
            "Epoch 6/20 - Validation: 100%|██████████| 138/138 [00:00<00:00, 1834.71it/s]\n",
            "Epoch 7/20 - Training: 100%|██████████| 1068/1068 [00:02<00:00, 403.84it/s]\n"
          ]
        },
        {
          "output_type": "stream",
          "name": "stdout",
          "text": [
            "Average Training Loss: 1.3267\n"
          ]
        },
        {
          "output_type": "stream",
          "name": "stderr",
          "text": [
            "Epoch 7/20 - Validation: 100%|██████████| 138/138 [00:00<00:00, 1950.22it/s]\n",
            "Epoch 8/20 - Training: 100%|██████████| 1068/1068 [00:02<00:00, 502.12it/s]\n"
          ]
        },
        {
          "output_type": "stream",
          "name": "stdout",
          "text": [
            "Average Training Loss: 1.3197\n"
          ]
        },
        {
          "output_type": "stream",
          "name": "stderr",
          "text": [
            "Epoch 8/20 - Validation: 100%|██████████| 138/138 [00:00<00:00, 2036.71it/s]\n",
            "Epoch 9/20 - Training: 100%|██████████| 1068/1068 [00:02<00:00, 501.28it/s]\n"
          ]
        },
        {
          "output_type": "stream",
          "name": "stdout",
          "text": [
            "Average Training Loss: 1.3066\n"
          ]
        },
        {
          "output_type": "stream",
          "name": "stderr",
          "text": [
            "Epoch 9/20 - Validation: 100%|██████████| 138/138 [00:00<00:00, 1791.59it/s]\n",
            "Epoch 10/20 - Training: 100%|██████████| 1068/1068 [00:02<00:00, 474.75it/s]\n"
          ]
        },
        {
          "output_type": "stream",
          "name": "stdout",
          "text": [
            "Average Training Loss: 1.2954\n"
          ]
        },
        {
          "output_type": "stream",
          "name": "stderr",
          "text": [
            "Epoch 10/20 - Validation: 100%|██████████| 138/138 [00:00<00:00, 1705.92it/s]\n",
            "Epoch 11/20 - Training: 100%|██████████| 1068/1068 [00:03<00:00, 341.35it/s]\n"
          ]
        },
        {
          "output_type": "stream",
          "name": "stdout",
          "text": [
            "Average Training Loss: 1.2843\n"
          ]
        },
        {
          "output_type": "stream",
          "name": "stderr",
          "text": [
            "Epoch 11/20 - Validation: 100%|██████████| 138/138 [00:00<00:00, 1704.44it/s]\n",
            "Epoch 12/20 - Training: 100%|██████████| 1068/1068 [00:02<00:00, 361.50it/s]\n"
          ]
        },
        {
          "output_type": "stream",
          "name": "stdout",
          "text": [
            "Average Training Loss: 1.2779\n"
          ]
        },
        {
          "output_type": "stream",
          "name": "stderr",
          "text": [
            "Epoch 12/20 - Validation: 100%|██████████| 138/138 [00:00<00:00, 1698.29it/s]\n",
            "Epoch 13/20 - Training: 100%|██████████| 1068/1068 [00:02<00:00, 414.20it/s]\n"
          ]
        },
        {
          "output_type": "stream",
          "name": "stdout",
          "text": [
            "Average Training Loss: 1.2639\n"
          ]
        },
        {
          "output_type": "stream",
          "name": "stderr",
          "text": [
            "Epoch 13/20 - Validation: 100%|██████████| 138/138 [00:00<00:00, 1833.83it/s]\n",
            "Epoch 14/20 - Training: 100%|██████████| 1068/1068 [00:02<00:00, 493.41it/s]\n"
          ]
        },
        {
          "output_type": "stream",
          "name": "stdout",
          "text": [
            "Average Training Loss: 1.2442\n"
          ]
        },
        {
          "output_type": "stream",
          "name": "stderr",
          "text": [
            "Epoch 14/20 - Validation: 100%|██████████| 138/138 [00:00<00:00, 1816.59it/s]\n",
            "Epoch 15/20 - Training: 100%|██████████| 1068/1068 [00:02<00:00, 519.30it/s]\n"
          ]
        },
        {
          "output_type": "stream",
          "name": "stdout",
          "text": [
            "Average Training Loss: 1.2414\n"
          ]
        },
        {
          "output_type": "stream",
          "name": "stderr",
          "text": [
            "Epoch 15/20 - Validation: 100%|██████████| 138/138 [00:00<00:00, 1988.64it/s]\n",
            "Epoch 16/20 - Training: 100%|██████████| 1068/1068 [00:02<00:00, 491.39it/s]\n"
          ]
        },
        {
          "output_type": "stream",
          "name": "stdout",
          "text": [
            "Average Training Loss: 1.2310\n"
          ]
        },
        {
          "output_type": "stream",
          "name": "stderr",
          "text": [
            "Epoch 16/20 - Validation: 100%|██████████| 138/138 [00:00<00:00, 1449.03it/s]\n",
            "Epoch 17/20 - Training: 100%|██████████| 1068/1068 [00:02<00:00, 376.66it/s]\n"
          ]
        },
        {
          "output_type": "stream",
          "name": "stdout",
          "text": [
            "Average Training Loss: 1.2178\n"
          ]
        },
        {
          "output_type": "stream",
          "name": "stderr",
          "text": [
            "Epoch 17/20 - Validation: 100%|██████████| 138/138 [00:00<00:00, 1521.28it/s]\n",
            "Epoch 18/20 - Training: 100%|██████████| 1068/1068 [00:02<00:00, 385.50it/s]\n"
          ]
        },
        {
          "output_type": "stream",
          "name": "stdout",
          "text": [
            "Average Training Loss: 1.2077\n"
          ]
        },
        {
          "output_type": "stream",
          "name": "stderr",
          "text": [
            "Epoch 18/20 - Validation: 100%|██████████| 138/138 [00:00<00:00, 1830.41it/s]\n",
            "Epoch 19/20 - Training: 100%|██████████| 1068/1068 [00:02<00:00, 516.84it/s]\n"
          ]
        },
        {
          "output_type": "stream",
          "name": "stdout",
          "text": [
            "Average Training Loss: 1.1875\n"
          ]
        },
        {
          "output_type": "stream",
          "name": "stderr",
          "text": [
            "Epoch 19/20 - Validation: 100%|██████████| 138/138 [00:00<00:00, 1632.45it/s]\n",
            "Epoch 20/20 - Training: 100%|██████████| 1068/1068 [00:02<00:00, 528.71it/s]\n"
          ]
        },
        {
          "output_type": "stream",
          "name": "stdout",
          "text": [
            "Average Training Loss: 1.1826\n"
          ]
        },
        {
          "output_type": "stream",
          "name": "stderr",
          "text": [
            "Epoch 20/20 - Validation: 100%|██████████| 138/138 [00:00<00:00, 1911.73it/s]\n",
            "Epoch 1/20 - Training: 100%|██████████| 1068/1068 [00:01<00:00, 553.62it/s]\n"
          ]
        },
        {
          "output_type": "stream",
          "name": "stdout",
          "text": [
            "Average Training Loss: 1.4876\n"
          ]
        },
        {
          "output_type": "stream",
          "name": "stderr",
          "text": [
            "Epoch 1/20 - Validation: 100%|██████████| 138/138 [00:00<00:00, 1933.92it/s]\n",
            "Epoch 2/20 - Training: 100%|██████████| 1068/1068 [00:02<00:00, 524.13it/s]\n"
          ]
        },
        {
          "output_type": "stream",
          "name": "stdout",
          "text": [
            "Average Training Loss: 1.4112\n"
          ]
        },
        {
          "output_type": "stream",
          "name": "stderr",
          "text": [
            "Epoch 2/20 - Validation: 100%|██████████| 138/138 [00:00<00:00, 1974.23it/s]\n",
            "Epoch 3/20 - Training: 100%|██████████| 1068/1068 [00:02<00:00, 423.64it/s]\n"
          ]
        },
        {
          "output_type": "stream",
          "name": "stdout",
          "text": [
            "Average Training Loss: 1.3906\n"
          ]
        },
        {
          "output_type": "stream",
          "name": "stderr",
          "text": [
            "Epoch 3/20 - Validation: 100%|██████████| 138/138 [00:00<00:00, 1394.86it/s]\n",
            "Epoch 4/20 - Training: 100%|██████████| 1068/1068 [00:02<00:00, 398.14it/s]\n"
          ]
        },
        {
          "output_type": "stream",
          "name": "stdout",
          "text": [
            "Average Training Loss: 1.3812\n"
          ]
        },
        {
          "output_type": "stream",
          "name": "stderr",
          "text": [
            "Epoch 4/20 - Validation: 100%|██████████| 138/138 [00:00<00:00, 1614.62it/s]\n",
            "Epoch 5/20 - Training: 100%|██████████| 1068/1068 [00:02<00:00, 480.04it/s]\n"
          ]
        },
        {
          "output_type": "stream",
          "name": "stdout",
          "text": [
            "Average Training Loss: 1.3714\n"
          ]
        },
        {
          "output_type": "stream",
          "name": "stderr",
          "text": [
            "Epoch 5/20 - Validation: 100%|██████████| 138/138 [00:00<00:00, 2051.10it/s]\n",
            "Epoch 6/20 - Training: 100%|██████████| 1068/1068 [00:02<00:00, 513.98it/s]\n"
          ]
        },
        {
          "output_type": "stream",
          "name": "stdout",
          "text": [
            "Average Training Loss: 1.3634\n"
          ]
        },
        {
          "output_type": "stream",
          "name": "stderr",
          "text": [
            "Epoch 6/20 - Validation: 100%|██████████| 138/138 [00:00<00:00, 2056.86it/s]\n",
            "Epoch 7/20 - Training: 100%|██████████| 1068/1068 [00:02<00:00, 502.88it/s]\n"
          ]
        },
        {
          "output_type": "stream",
          "name": "stdout",
          "text": [
            "Average Training Loss: 1.3559\n"
          ]
        },
        {
          "output_type": "stream",
          "name": "stderr",
          "text": [
            "Epoch 7/20 - Validation: 100%|██████████| 138/138 [00:00<00:00, 1944.65it/s]\n",
            "Epoch 8/20 - Training: 100%|██████████| 1068/1068 [00:02<00:00, 508.79it/s]\n"
          ]
        },
        {
          "output_type": "stream",
          "name": "stdout",
          "text": [
            "Average Training Loss: 1.3528\n"
          ]
        },
        {
          "output_type": "stream",
          "name": "stderr",
          "text": [
            "Epoch 8/20 - Validation: 100%|██████████| 138/138 [00:00<00:00, 1872.49it/s]\n",
            "Epoch 9/20 - Training: 100%|██████████| 1068/1068 [00:02<00:00, 459.65it/s]\n"
          ]
        },
        {
          "output_type": "stream",
          "name": "stdout",
          "text": [
            "Average Training Loss: 1.3447\n"
          ]
        },
        {
          "output_type": "stream",
          "name": "stderr",
          "text": [
            "Epoch 9/20 - Validation: 100%|██████████| 138/138 [00:00<00:00, 1244.98it/s]\n",
            "Epoch 10/20 - Training: 100%|██████████| 1068/1068 [00:02<00:00, 382.31it/s]\n"
          ]
        },
        {
          "output_type": "stream",
          "name": "stdout",
          "text": [
            "Average Training Loss: 1.3385\n"
          ]
        },
        {
          "output_type": "stream",
          "name": "stderr",
          "text": [
            "Epoch 10/20 - Validation: 100%|██████████| 138/138 [00:00<00:00, 1384.30it/s]\n",
            "Epoch 11/20 - Training: 100%|██████████| 1068/1068 [00:02<00:00, 410.63it/s]\n"
          ]
        },
        {
          "output_type": "stream",
          "name": "stdout",
          "text": [
            "Average Training Loss: 1.3357\n"
          ]
        },
        {
          "output_type": "stream",
          "name": "stderr",
          "text": [
            "Epoch 11/20 - Validation: 100%|██████████| 138/138 [00:00<00:00, 2095.47it/s]\n",
            "Epoch 12/20 - Training: 100%|██████████| 1068/1068 [00:02<00:00, 495.78it/s]\n"
          ]
        },
        {
          "output_type": "stream",
          "name": "stdout",
          "text": [
            "Average Training Loss: 1.3244\n"
          ]
        },
        {
          "output_type": "stream",
          "name": "stderr",
          "text": [
            "Epoch 12/20 - Validation: 100%|██████████| 138/138 [00:00<00:00, 1873.75it/s]\n",
            "Epoch 13/20 - Training: 100%|██████████| 1068/1068 [00:02<00:00, 500.63it/s]\n"
          ]
        },
        {
          "output_type": "stream",
          "name": "stdout",
          "text": [
            "Average Training Loss: 1.3257\n"
          ]
        },
        {
          "output_type": "stream",
          "name": "stderr",
          "text": [
            "Epoch 13/20 - Validation: 100%|██████████| 138/138 [00:00<00:00, 1698.15it/s]\n",
            "Epoch 14/20 - Training: 100%|██████████| 1068/1068 [00:02<00:00, 501.95it/s]\n"
          ]
        },
        {
          "output_type": "stream",
          "name": "stdout",
          "text": [
            "Average Training Loss: 1.3166\n"
          ]
        },
        {
          "output_type": "stream",
          "name": "stderr",
          "text": [
            "Epoch 14/20 - Validation: 100%|██████████| 138/138 [00:00<00:00, 1848.05it/s]\n",
            "Epoch 15/20 - Training: 100%|██████████| 1068/1068 [00:02<00:00, 503.50it/s]\n"
          ]
        },
        {
          "output_type": "stream",
          "name": "stdout",
          "text": [
            "Average Training Loss: 1.3147\n"
          ]
        },
        {
          "output_type": "stream",
          "name": "stderr",
          "text": [
            "Epoch 15/20 - Validation: 100%|██████████| 138/138 [00:00<00:00, 1475.51it/s]\n",
            "Epoch 16/20 - Training: 100%|██████████| 1068/1068 [00:02<00:00, 373.47it/s]\n"
          ]
        },
        {
          "output_type": "stream",
          "name": "stdout",
          "text": [
            "Average Training Loss: 1.3068\n"
          ]
        },
        {
          "output_type": "stream",
          "name": "stderr",
          "text": [
            "Epoch 16/20 - Validation: 100%|██████████| 138/138 [00:00<00:00, 1400.72it/s]\n",
            "Epoch 17/20 - Training: 100%|██████████| 1068/1068 [00:02<00:00, 400.82it/s]\n"
          ]
        },
        {
          "output_type": "stream",
          "name": "stdout",
          "text": [
            "Average Training Loss: 1.3031\n"
          ]
        },
        {
          "output_type": "stream",
          "name": "stderr",
          "text": [
            "Epoch 17/20 - Validation: 100%|██████████| 138/138 [00:00<00:00, 2019.40it/s]\n",
            "Epoch 18/20 - Training: 100%|██████████| 1068/1068 [00:02<00:00, 515.10it/s]\n"
          ]
        },
        {
          "output_type": "stream",
          "name": "stdout",
          "text": [
            "Average Training Loss: 1.2942\n"
          ]
        },
        {
          "output_type": "stream",
          "name": "stderr",
          "text": [
            "Epoch 18/20 - Validation: 100%|██████████| 138/138 [00:00<00:00, 2000.35it/s]\n",
            "Epoch 19/20 - Training: 100%|██████████| 1068/1068 [00:02<00:00, 499.16it/s]\n"
          ]
        },
        {
          "output_type": "stream",
          "name": "stdout",
          "text": [
            "Average Training Loss: 1.2877\n"
          ]
        },
        {
          "output_type": "stream",
          "name": "stderr",
          "text": [
            "Epoch 19/20 - Validation: 100%|██████████| 138/138 [00:00<00:00, 1790.88it/s]\n",
            "Epoch 20/20 - Training: 100%|██████████| 1068/1068 [00:02<00:00, 494.18it/s]\n"
          ]
        },
        {
          "output_type": "stream",
          "name": "stdout",
          "text": [
            "Average Training Loss: 1.2857\n"
          ]
        },
        {
          "output_type": "stream",
          "name": "stderr",
          "text": [
            "Epoch 20/20 - Validation: 100%|██████████| 138/138 [00:00<00:00, 1897.41it/s]\n",
            "Epoch 1/20 - Training: 100%|██████████| 1068/1068 [00:01<00:00, 537.50it/s]\n"
          ]
        },
        {
          "output_type": "stream",
          "name": "stdout",
          "text": [
            "Average Training Loss: 1.5209\n"
          ]
        },
        {
          "output_type": "stream",
          "name": "stderr",
          "text": [
            "Epoch 1/20 - Validation: 100%|██████████| 138/138 [00:00<00:00, 1914.42it/s]\n",
            "Epoch 2/20 - Training: 100%|██████████| 1068/1068 [00:02<00:00, 397.53it/s]\n"
          ]
        },
        {
          "output_type": "stream",
          "name": "stdout",
          "text": [
            "Average Training Loss: 1.4401\n"
          ]
        },
        {
          "output_type": "stream",
          "name": "stderr",
          "text": [
            "Epoch 2/20 - Validation: 100%|██████████| 138/138 [00:00<00:00, 1793.59it/s]\n",
            "Epoch 3/20 - Training: 100%|██████████| 1068/1068 [00:02<00:00, 363.97it/s]\n"
          ]
        },
        {
          "output_type": "stream",
          "name": "stdout",
          "text": [
            "Average Training Loss: 1.4113\n"
          ]
        },
        {
          "output_type": "stream",
          "name": "stderr",
          "text": [
            "Epoch 3/20 - Validation: 100%|██████████| 138/138 [00:00<00:00, 1634.64it/s]\n",
            "Epoch 4/20 - Training: 100%|██████████| 1068/1068 [00:02<00:00, 442.55it/s]\n"
          ]
        },
        {
          "output_type": "stream",
          "name": "stdout",
          "text": [
            "Average Training Loss: 1.4031\n"
          ]
        },
        {
          "output_type": "stream",
          "name": "stderr",
          "text": [
            "Epoch 4/20 - Validation: 100%|██████████| 138/138 [00:00<00:00, 1939.16it/s]\n",
            "Epoch 5/20 - Training: 100%|██████████| 1068/1068 [00:02<00:00, 472.41it/s]\n"
          ]
        },
        {
          "output_type": "stream",
          "name": "stdout",
          "text": [
            "Average Training Loss: 1.3959\n"
          ]
        },
        {
          "output_type": "stream",
          "name": "stderr",
          "text": [
            "Epoch 5/20 - Validation: 100%|██████████| 138/138 [00:00<00:00, 1917.15it/s]\n",
            "Epoch 6/20 - Training: 100%|██████████| 1068/1068 [00:02<00:00, 467.95it/s]\n"
          ]
        },
        {
          "output_type": "stream",
          "name": "stdout",
          "text": [
            "Average Training Loss: 1.3859\n"
          ]
        },
        {
          "output_type": "stream",
          "name": "stderr",
          "text": [
            "Epoch 6/20 - Validation: 100%|██████████| 138/138 [00:00<00:00, 2033.60it/s]\n",
            "Epoch 7/20 - Training: 100%|██████████| 1068/1068 [00:02<00:00, 457.35it/s]\n"
          ]
        },
        {
          "output_type": "stream",
          "name": "stdout",
          "text": [
            "Average Training Loss: 1.3844\n"
          ]
        },
        {
          "output_type": "stream",
          "name": "stderr",
          "text": [
            "Epoch 7/20 - Validation: 100%|██████████| 138/138 [00:00<00:00, 1723.33it/s]\n",
            "Epoch 8/20 - Training: 100%|██████████| 1068/1068 [00:02<00:00, 381.27it/s]\n"
          ]
        },
        {
          "output_type": "stream",
          "name": "stdout",
          "text": [
            "Average Training Loss: 1.3841\n"
          ]
        },
        {
          "output_type": "stream",
          "name": "stderr",
          "text": [
            "Epoch 8/20 - Validation: 100%|██████████| 138/138 [00:00<00:00, 1792.88it/s]\n",
            "Epoch 9/20 - Training: 100%|██████████| 1068/1068 [00:02<00:00, 364.97it/s]\n"
          ]
        },
        {
          "output_type": "stream",
          "name": "stdout",
          "text": [
            "Average Training Loss: 1.3785\n"
          ]
        },
        {
          "output_type": "stream",
          "name": "stderr",
          "text": [
            "Epoch 9/20 - Validation: 100%|██████████| 138/138 [00:00<00:00, 1576.33it/s]\n",
            "Epoch 10/20 - Training: 100%|██████████| 1068/1068 [00:02<00:00, 473.32it/s]\n"
          ]
        },
        {
          "output_type": "stream",
          "name": "stdout",
          "text": [
            "Average Training Loss: 1.3729\n"
          ]
        },
        {
          "output_type": "stream",
          "name": "stderr",
          "text": [
            "Epoch 10/20 - Validation: 100%|██████████| 138/138 [00:00<00:00, 1806.73it/s]\n",
            "Epoch 11/20 - Training: 100%|██████████| 1068/1068 [00:02<00:00, 465.74it/s]\n"
          ]
        },
        {
          "output_type": "stream",
          "name": "stdout",
          "text": [
            "Average Training Loss: 1.3682\n"
          ]
        },
        {
          "output_type": "stream",
          "name": "stderr",
          "text": [
            "Epoch 11/20 - Validation: 100%|██████████| 138/138 [00:00<00:00, 1855.23it/s]\n",
            "Epoch 12/20 - Training: 100%|██████████| 1068/1068 [00:02<00:00, 464.10it/s]\n"
          ]
        },
        {
          "output_type": "stream",
          "name": "stdout",
          "text": [
            "Average Training Loss: 1.3572\n"
          ]
        },
        {
          "output_type": "stream",
          "name": "stderr",
          "text": [
            "Epoch 12/20 - Validation: 100%|██████████| 138/138 [00:00<00:00, 1887.78it/s]\n",
            "Epoch 13/20 - Training: 100%|██████████| 1068/1068 [00:02<00:00, 460.68it/s]\n"
          ]
        },
        {
          "output_type": "stream",
          "name": "stdout",
          "text": [
            "Average Training Loss: 1.3608\n"
          ]
        },
        {
          "output_type": "stream",
          "name": "stderr",
          "text": [
            "Epoch 13/20 - Validation: 100%|██████████| 138/138 [00:00<00:00, 1846.57it/s]\n",
            "Epoch 14/20 - Training: 100%|██████████| 1068/1068 [00:02<00:00, 371.24it/s]\n"
          ]
        },
        {
          "output_type": "stream",
          "name": "stdout",
          "text": [
            "Average Training Loss: 1.3629\n"
          ]
        },
        {
          "output_type": "stream",
          "name": "stderr",
          "text": [
            "Epoch 14/20 - Validation: 100%|██████████| 138/138 [00:00<00:00, 1926.28it/s]\n",
            "Epoch 15/20 - Training: 100%|██████████| 1068/1068 [00:03<00:00, 332.23it/s]\n"
          ]
        },
        {
          "output_type": "stream",
          "name": "stdout",
          "text": [
            "Average Training Loss: 1.3518\n"
          ]
        },
        {
          "output_type": "stream",
          "name": "stderr",
          "text": [
            "Epoch 15/20 - Validation: 100%|██████████| 138/138 [00:00<00:00, 1921.46it/s]\n",
            "Epoch 16/20 - Training: 100%|██████████| 1068/1068 [00:02<00:00, 421.85it/s]\n"
          ]
        },
        {
          "output_type": "stream",
          "name": "stdout",
          "text": [
            "Average Training Loss: 1.3500\n"
          ]
        },
        {
          "output_type": "stream",
          "name": "stderr",
          "text": [
            "Epoch 16/20 - Validation: 100%|██████████| 138/138 [00:00<00:00, 1702.33it/s]\n",
            "Epoch 17/20 - Training: 100%|██████████| 1068/1068 [00:02<00:00, 397.44it/s]\n"
          ]
        },
        {
          "output_type": "stream",
          "name": "stdout",
          "text": [
            "Average Training Loss: 1.3473\n"
          ]
        },
        {
          "output_type": "stream",
          "name": "stderr",
          "text": [
            "Epoch 17/20 - Validation: 100%|██████████| 138/138 [00:00<00:00, 1893.50it/s]\n",
            "Epoch 18/20 - Training: 100%|██████████| 1068/1068 [00:02<00:00, 445.49it/s]\n"
          ]
        },
        {
          "output_type": "stream",
          "name": "stdout",
          "text": [
            "Average Training Loss: 1.3478\n"
          ]
        },
        {
          "output_type": "stream",
          "name": "stderr",
          "text": [
            "Epoch 18/20 - Validation: 100%|██████████| 138/138 [00:00<00:00, 1733.40it/s]\n",
            "Epoch 19/20 - Training: 100%|██████████| 1068/1068 [00:02<00:00, 386.05it/s]\n"
          ]
        },
        {
          "output_type": "stream",
          "name": "stdout",
          "text": [
            "Average Training Loss: 1.3407\n"
          ]
        },
        {
          "output_type": "stream",
          "name": "stderr",
          "text": [
            "Epoch 19/20 - Validation: 100%|██████████| 138/138 [00:00<00:00, 1611.70it/s]\n",
            "Epoch 20/20 - Training: 100%|██████████| 1068/1068 [00:03<00:00, 354.29it/s]\n"
          ]
        },
        {
          "output_type": "stream",
          "name": "stdout",
          "text": [
            "Average Training Loss: 1.3463\n"
          ]
        },
        {
          "output_type": "stream",
          "name": "stderr",
          "text": [
            "Epoch 20/20 - Validation: 100%|██████████| 138/138 [00:00<00:00, 1548.23it/s]\n",
            "Epoch 1/20 - Training: 100%|██████████| 1068/1068 [00:01<00:00, 588.83it/s]\n"
          ]
        },
        {
          "output_type": "stream",
          "name": "stdout",
          "text": [
            "Average Training Loss: 1.4520\n"
          ]
        },
        {
          "output_type": "stream",
          "name": "stderr",
          "text": [
            "Epoch 1/20 - Validation: 100%|██████████| 138/138 [00:00<00:00, 2453.83it/s]\n",
            "Epoch 2/20 - Training: 100%|██████████| 1068/1068 [00:01<00:00, 622.88it/s]\n"
          ]
        },
        {
          "output_type": "stream",
          "name": "stdout",
          "text": [
            "Average Training Loss: 1.3959\n"
          ]
        },
        {
          "output_type": "stream",
          "name": "stderr",
          "text": [
            "Epoch 2/20 - Validation: 100%|██████████| 138/138 [00:00<00:00, 2144.37it/s]\n",
            "Epoch 3/20 - Training: 100%|██████████| 1068/1068 [00:01<00:00, 624.01it/s]\n"
          ]
        },
        {
          "output_type": "stream",
          "name": "stdout",
          "text": [
            "Average Training Loss: 1.3842\n"
          ]
        },
        {
          "output_type": "stream",
          "name": "stderr",
          "text": [
            "Epoch 3/20 - Validation: 100%|██████████| 138/138 [00:00<00:00, 1979.87it/s]\n",
            "Epoch 4/20 - Training: 100%|██████████| 1068/1068 [00:01<00:00, 602.72it/s]\n"
          ]
        },
        {
          "output_type": "stream",
          "name": "stdout",
          "text": [
            "Average Training Loss: 1.3708\n"
          ]
        },
        {
          "output_type": "stream",
          "name": "stderr",
          "text": [
            "Epoch 4/20 - Validation: 100%|██████████| 138/138 [00:00<00:00, 1919.63it/s]\n",
            "Epoch 5/20 - Training: 100%|██████████| 1068/1068 [00:01<00:00, 618.17it/s]\n"
          ]
        },
        {
          "output_type": "stream",
          "name": "stdout",
          "text": [
            "Average Training Loss: 1.3591\n"
          ]
        },
        {
          "output_type": "stream",
          "name": "stderr",
          "text": [
            "Epoch 5/20 - Validation: 100%|██████████| 138/138 [00:00<00:00, 2257.62it/s]\n",
            "Epoch 6/20 - Training: 100%|██████████| 1068/1068 [00:01<00:00, 610.02it/s]\n"
          ]
        },
        {
          "output_type": "stream",
          "name": "stdout",
          "text": [
            "Average Training Loss: 1.3570\n"
          ]
        },
        {
          "output_type": "stream",
          "name": "stderr",
          "text": [
            "Epoch 6/20 - Validation: 100%|██████████| 138/138 [00:00<00:00, 1590.88it/s]\n",
            "Epoch 7/20 - Training: 100%|██████████| 1068/1068 [00:02<00:00, 460.03it/s]\n"
          ]
        },
        {
          "output_type": "stream",
          "name": "stdout",
          "text": [
            "Average Training Loss: 1.3580\n"
          ]
        },
        {
          "output_type": "stream",
          "name": "stderr",
          "text": [
            "Epoch 7/20 - Validation: 100%|██████████| 138/138 [00:00<00:00, 1668.86it/s]\n",
            "Epoch 8/20 - Training: 100%|██████████| 1068/1068 [00:02<00:00, 427.87it/s]\n"
          ]
        },
        {
          "output_type": "stream",
          "name": "stdout",
          "text": [
            "Average Training Loss: 1.3473\n"
          ]
        },
        {
          "output_type": "stream",
          "name": "stderr",
          "text": [
            "Epoch 8/20 - Validation: 100%|██████████| 138/138 [00:00<00:00, 1771.53it/s]\n",
            "Epoch 9/20 - Training: 100%|██████████| 1068/1068 [00:01<00:00, 604.65it/s]\n"
          ]
        },
        {
          "output_type": "stream",
          "name": "stdout",
          "text": [
            "Average Training Loss: 1.3476\n"
          ]
        },
        {
          "output_type": "stream",
          "name": "stderr",
          "text": [
            "Epoch 9/20 - Validation: 100%|██████████| 138/138 [00:00<00:00, 1971.01it/s]\n",
            "Epoch 10/20 - Training: 100%|██████████| 1068/1068 [00:01<00:00, 604.52it/s]\n"
          ]
        },
        {
          "output_type": "stream",
          "name": "stdout",
          "text": [
            "Average Training Loss: 1.3391\n"
          ]
        },
        {
          "output_type": "stream",
          "name": "stderr",
          "text": [
            "Epoch 10/20 - Validation: 100%|██████████| 138/138 [00:00<00:00, 2070.21it/s]\n",
            "Epoch 11/20 - Training: 100%|██████████| 1068/1068 [00:01<00:00, 595.11it/s]\n"
          ]
        },
        {
          "output_type": "stream",
          "name": "stdout",
          "text": [
            "Average Training Loss: 1.3366\n"
          ]
        },
        {
          "output_type": "stream",
          "name": "stderr",
          "text": [
            "Epoch 11/20 - Validation: 100%|██████████| 138/138 [00:00<00:00, 2107.74it/s]\n",
            "Epoch 12/20 - Training: 100%|██████████| 1068/1068 [00:01<00:00, 605.98it/s]\n"
          ]
        },
        {
          "output_type": "stream",
          "name": "stdout",
          "text": [
            "Average Training Loss: 1.3433\n"
          ]
        },
        {
          "output_type": "stream",
          "name": "stderr",
          "text": [
            "Epoch 12/20 - Validation: 100%|██████████| 138/138 [00:00<00:00, 1985.57it/s]\n",
            "Epoch 13/20 - Training: 100%|██████████| 1068/1068 [00:01<00:00, 593.05it/s]\n"
          ]
        },
        {
          "output_type": "stream",
          "name": "stdout",
          "text": [
            "Average Training Loss: 1.3380\n"
          ]
        },
        {
          "output_type": "stream",
          "name": "stderr",
          "text": [
            "Epoch 13/20 - Validation: 100%|██████████| 138/138 [00:00<00:00, 2097.62it/s]\n",
            "Epoch 14/20 - Training: 100%|██████████| 1068/1068 [00:01<00:00, 538.04it/s]\n"
          ]
        },
        {
          "output_type": "stream",
          "name": "stdout",
          "text": [
            "Average Training Loss: 1.3333\n"
          ]
        },
        {
          "output_type": "stream",
          "name": "stderr",
          "text": [
            "Epoch 14/20 - Validation: 100%|██████████| 138/138 [00:00<00:00, 1745.08it/s]\n",
            "Epoch 15/20 - Training: 100%|██████████| 1068/1068 [00:02<00:00, 471.47it/s]\n"
          ]
        },
        {
          "output_type": "stream",
          "name": "stdout",
          "text": [
            "Average Training Loss: 1.3260\n"
          ]
        },
        {
          "output_type": "stream",
          "name": "stderr",
          "text": [
            "Epoch 15/20 - Validation: 100%|██████████| 138/138 [00:00<00:00, 1755.51it/s]\n",
            "Epoch 16/20 - Training: 100%|██████████| 1068/1068 [00:02<00:00, 499.15it/s]\n"
          ]
        },
        {
          "output_type": "stream",
          "name": "stdout",
          "text": [
            "Average Training Loss: 1.3263\n"
          ]
        },
        {
          "output_type": "stream",
          "name": "stderr",
          "text": [
            "Epoch 16/20 - Validation: 100%|██████████| 138/138 [00:00<00:00, 2228.32it/s]\n",
            "Epoch 17/20 - Training: 100%|██████████| 1068/1068 [00:01<00:00, 603.66it/s]\n"
          ]
        },
        {
          "output_type": "stream",
          "name": "stdout",
          "text": [
            "Average Training Loss: 1.3240\n"
          ]
        },
        {
          "output_type": "stream",
          "name": "stderr",
          "text": [
            "Epoch 17/20 - Validation: 100%|██████████| 138/138 [00:00<00:00, 2235.82it/s]\n",
            "Epoch 18/20 - Training: 100%|██████████| 1068/1068 [00:01<00:00, 592.58it/s]\n"
          ]
        },
        {
          "output_type": "stream",
          "name": "stdout",
          "text": [
            "Average Training Loss: 1.3207\n"
          ]
        },
        {
          "output_type": "stream",
          "name": "stderr",
          "text": [
            "Epoch 18/20 - Validation: 100%|██████████| 138/138 [00:00<00:00, 2356.44it/s]\n",
            "Epoch 19/20 - Training: 100%|██████████| 1068/1068 [00:01<00:00, 582.28it/s]\n"
          ]
        },
        {
          "output_type": "stream",
          "name": "stdout",
          "text": [
            "Average Training Loss: 1.3243\n"
          ]
        },
        {
          "output_type": "stream",
          "name": "stderr",
          "text": [
            "Epoch 19/20 - Validation: 100%|██████████| 138/138 [00:00<00:00, 2033.99it/s]\n",
            "Epoch 20/20 - Training: 100%|██████████| 1068/1068 [00:01<00:00, 605.30it/s]\n"
          ]
        },
        {
          "output_type": "stream",
          "name": "stdout",
          "text": [
            "Average Training Loss: 1.3239\n"
          ]
        },
        {
          "output_type": "stream",
          "name": "stderr",
          "text": [
            "Epoch 20/20 - Validation: 100%|██████████| 138/138 [00:00<00:00, 2017.79it/s]\n",
            "Epoch 1/20 - Training: 100%|██████████| 1068/1068 [00:01<00:00, 625.72it/s]\n"
          ]
        },
        {
          "output_type": "stream",
          "name": "stdout",
          "text": [
            "Average Training Loss: 1.4626\n"
          ]
        },
        {
          "output_type": "stream",
          "name": "stderr",
          "text": [
            "Epoch 1/20 - Validation: 100%|██████████| 138/138 [00:00<00:00, 2034.95it/s]\n",
            "Epoch 2/20 - Training: 100%|██████████| 1068/1068 [00:02<00:00, 455.27it/s]\n"
          ]
        },
        {
          "output_type": "stream",
          "name": "stdout",
          "text": [
            "Average Training Loss: 1.4065\n"
          ]
        },
        {
          "output_type": "stream",
          "name": "stderr",
          "text": [
            "Epoch 2/20 - Validation: 100%|██████████| 138/138 [00:00<00:00, 2088.42it/s]\n",
            "Epoch 3/20 - Training: 100%|██████████| 1068/1068 [00:02<00:00, 446.76it/s]\n"
          ]
        },
        {
          "output_type": "stream",
          "name": "stdout",
          "text": [
            "Average Training Loss: 1.3950\n"
          ]
        },
        {
          "output_type": "stream",
          "name": "stderr",
          "text": [
            "Epoch 3/20 - Validation: 100%|██████████| 138/138 [00:00<00:00, 1801.45it/s]\n",
            "Epoch 4/20 - Training: 100%|██████████| 1068/1068 [00:01<00:00, 542.71it/s]\n"
          ]
        },
        {
          "output_type": "stream",
          "name": "stdout",
          "text": [
            "Average Training Loss: 1.3948\n"
          ]
        },
        {
          "output_type": "stream",
          "name": "stderr",
          "text": [
            "Epoch 4/20 - Validation: 100%|██████████| 138/138 [00:00<00:00, 2094.70it/s]\n",
            "Epoch 5/20 - Training: 100%|██████████| 1068/1068 [00:01<00:00, 595.14it/s]\n"
          ]
        },
        {
          "output_type": "stream",
          "name": "stdout",
          "text": [
            "Average Training Loss: 1.3848\n"
          ]
        },
        {
          "output_type": "stream",
          "name": "stderr",
          "text": [
            "Epoch 5/20 - Validation: 100%|██████████| 138/138 [00:00<00:00, 2407.47it/s]\n",
            "Epoch 6/20 - Training: 100%|██████████| 1068/1068 [00:01<00:00, 588.45it/s]\n"
          ]
        },
        {
          "output_type": "stream",
          "name": "stdout",
          "text": [
            "Average Training Loss: 1.3812\n"
          ]
        },
        {
          "output_type": "stream",
          "name": "stderr",
          "text": [
            "Epoch 6/20 - Validation: 100%|██████████| 138/138 [00:00<00:00, 2043.83it/s]\n",
            "Epoch 7/20 - Training: 100%|██████████| 1068/1068 [00:01<00:00, 583.85it/s]\n"
          ]
        },
        {
          "output_type": "stream",
          "name": "stdout",
          "text": [
            "Average Training Loss: 1.3740\n"
          ]
        },
        {
          "output_type": "stream",
          "name": "stderr",
          "text": [
            "Epoch 7/20 - Validation: 100%|██████████| 138/138 [00:00<00:00, 2202.46it/s]\n",
            "Epoch 8/20 - Training: 100%|██████████| 1068/1068 [00:01<00:00, 570.85it/s]\n"
          ]
        },
        {
          "output_type": "stream",
          "name": "stdout",
          "text": [
            "Average Training Loss: 1.3667\n"
          ]
        },
        {
          "output_type": "stream",
          "name": "stderr",
          "text": [
            "Epoch 8/20 - Validation: 100%|██████████| 138/138 [00:00<00:00, 2360.20it/s]\n",
            "Epoch 9/20 - Training: 100%|██████████| 1068/1068 [00:02<00:00, 502.88it/s]\n"
          ]
        },
        {
          "output_type": "stream",
          "name": "stdout",
          "text": [
            "Average Training Loss: 1.3668\n"
          ]
        },
        {
          "output_type": "stream",
          "name": "stderr",
          "text": [
            "Epoch 9/20 - Validation: 100%|██████████| 138/138 [00:00<00:00, 1880.83it/s]\n",
            "Epoch 10/20 - Training: 100%|██████████| 1068/1068 [00:02<00:00, 448.07it/s]\n"
          ]
        },
        {
          "output_type": "stream",
          "name": "stdout",
          "text": [
            "Average Training Loss: 1.3671\n"
          ]
        },
        {
          "output_type": "stream",
          "name": "stderr",
          "text": [
            "Epoch 10/20 - Validation: 100%|██████████| 138/138 [00:00<00:00, 2188.09it/s]\n",
            "Epoch 11/20 - Training: 100%|██████████| 1068/1068 [00:02<00:00, 473.88it/s]\n"
          ]
        },
        {
          "output_type": "stream",
          "name": "stdout",
          "text": [
            "Average Training Loss: 1.3628\n"
          ]
        },
        {
          "output_type": "stream",
          "name": "stderr",
          "text": [
            "Epoch 11/20 - Validation: 100%|██████████| 138/138 [00:00<00:00, 2225.15it/s]\n",
            "Epoch 12/20 - Training: 100%|██████████| 1068/1068 [00:01<00:00, 578.76it/s]\n"
          ]
        },
        {
          "output_type": "stream",
          "name": "stdout",
          "text": [
            "Average Training Loss: 1.3598\n"
          ]
        },
        {
          "output_type": "stream",
          "name": "stderr",
          "text": [
            "Epoch 12/20 - Validation: 100%|██████████| 138/138 [00:00<00:00, 1931.83it/s]\n",
            "Epoch 13/20 - Training: 100%|██████████| 1068/1068 [00:01<00:00, 589.96it/s]\n"
          ]
        },
        {
          "output_type": "stream",
          "name": "stdout",
          "text": [
            "Average Training Loss: 1.3574\n"
          ]
        },
        {
          "output_type": "stream",
          "name": "stderr",
          "text": [
            "Epoch 13/20 - Validation: 100%|██████████| 138/138 [00:00<00:00, 2146.36it/s]\n",
            "Epoch 14/20 - Training: 100%|██████████| 1068/1068 [00:01<00:00, 581.75it/s]\n"
          ]
        },
        {
          "output_type": "stream",
          "name": "stdout",
          "text": [
            "Average Training Loss: 1.3558\n"
          ]
        },
        {
          "output_type": "stream",
          "name": "stderr",
          "text": [
            "Epoch 14/20 - Validation: 100%|██████████| 138/138 [00:00<00:00, 2155.14it/s]\n",
            "Epoch 15/20 - Training: 100%|██████████| 1068/1068 [00:01<00:00, 570.27it/s]\n"
          ]
        },
        {
          "output_type": "stream",
          "name": "stdout",
          "text": [
            "Average Training Loss: 1.3563\n"
          ]
        },
        {
          "output_type": "stream",
          "name": "stderr",
          "text": [
            "Epoch 15/20 - Validation: 100%|██████████| 138/138 [00:00<00:00, 1945.53it/s]\n",
            "Epoch 16/20 - Training: 100%|██████████| 1068/1068 [00:01<00:00, 547.05it/s]\n"
          ]
        },
        {
          "output_type": "stream",
          "name": "stdout",
          "text": [
            "Average Training Loss: 1.3556\n"
          ]
        },
        {
          "output_type": "stream",
          "name": "stderr",
          "text": [
            "Epoch 16/20 - Validation: 100%|██████████| 138/138 [00:00<00:00, 1823.35it/s]\n",
            "Epoch 17/20 - Training: 100%|██████████| 1068/1068 [00:02<00:00, 449.82it/s]\n"
          ]
        },
        {
          "output_type": "stream",
          "name": "stdout",
          "text": [
            "Average Training Loss: 1.3553\n"
          ]
        },
        {
          "output_type": "stream",
          "name": "stderr",
          "text": [
            "Epoch 17/20 - Validation: 100%|██████████| 138/138 [00:00<00:00, 1844.95it/s]\n",
            "Epoch 18/20 - Training: 100%|██████████| 1068/1068 [00:02<00:00, 439.32it/s]\n"
          ]
        },
        {
          "output_type": "stream",
          "name": "stdout",
          "text": [
            "Average Training Loss: 1.3552\n"
          ]
        },
        {
          "output_type": "stream",
          "name": "stderr",
          "text": [
            "Epoch 18/20 - Validation: 100%|██████████| 138/138 [00:00<00:00, 1993.15it/s]\n",
            "Epoch 19/20 - Training: 100%|██████████| 1068/1068 [00:01<00:00, 595.17it/s]\n"
          ]
        },
        {
          "output_type": "stream",
          "name": "stdout",
          "text": [
            "Average Training Loss: 1.3528\n"
          ]
        },
        {
          "output_type": "stream",
          "name": "stderr",
          "text": [
            "Epoch 19/20 - Validation: 100%|██████████| 138/138 [00:00<00:00, 1961.44it/s]\n",
            "Epoch 20/20 - Training: 100%|██████████| 1068/1068 [00:01<00:00, 589.65it/s]\n"
          ]
        },
        {
          "output_type": "stream",
          "name": "stdout",
          "text": [
            "Average Training Loss: 1.3506\n"
          ]
        },
        {
          "output_type": "stream",
          "name": "stderr",
          "text": [
            "Epoch 20/20 - Validation: 100%|██████████| 138/138 [00:00<00:00, 2435.02it/s]\n",
            "Epoch 1/20 - Training: 100%|██████████| 1068/1068 [00:01<00:00, 639.52it/s]\n"
          ]
        },
        {
          "output_type": "stream",
          "name": "stdout",
          "text": [
            "Average Training Loss: 1.4799\n"
          ]
        },
        {
          "output_type": "stream",
          "name": "stderr",
          "text": [
            "Epoch 1/20 - Validation: 100%|██████████| 138/138 [00:00<00:00, 2091.23it/s]\n",
            "Epoch 2/20 - Training: 100%|██████████| 1068/1068 [00:01<00:00, 588.34it/s]\n"
          ]
        },
        {
          "output_type": "stream",
          "name": "stdout",
          "text": [
            "Average Training Loss: 1.4282\n"
          ]
        },
        {
          "output_type": "stream",
          "name": "stderr",
          "text": [
            "Epoch 2/20 - Validation: 100%|██████████| 138/138 [00:00<00:00, 2436.33it/s]\n",
            "Epoch 3/20 - Training: 100%|██████████| 1068/1068 [00:01<00:00, 569.45it/s]\n"
          ]
        },
        {
          "output_type": "stream",
          "name": "stdout",
          "text": [
            "Average Training Loss: 1.4192\n"
          ]
        },
        {
          "output_type": "stream",
          "name": "stderr",
          "text": [
            "Epoch 3/20 - Validation: 100%|██████████| 138/138 [00:00<00:00, 2021.33it/s]\n",
            "Epoch 4/20 - Training: 100%|██████████| 1068/1068 [00:02<00:00, 438.91it/s]\n"
          ]
        },
        {
          "output_type": "stream",
          "name": "stdout",
          "text": [
            "Average Training Loss: 1.4134\n"
          ]
        },
        {
          "output_type": "stream",
          "name": "stderr",
          "text": [
            "Epoch 4/20 - Validation: 100%|██████████| 138/138 [00:00<00:00, 1767.03it/s]\n",
            "Epoch 5/20 - Training: 100%|██████████| 1068/1068 [00:02<00:00, 419.72it/s]\n"
          ]
        },
        {
          "output_type": "stream",
          "name": "stdout",
          "text": [
            "Average Training Loss: 1.4047\n"
          ]
        },
        {
          "output_type": "stream",
          "name": "stderr",
          "text": [
            "Epoch 5/20 - Validation: 100%|██████████| 138/138 [00:00<00:00, 1759.33it/s]\n",
            "Epoch 6/20 - Training: 100%|██████████| 1068/1068 [00:01<00:00, 544.01it/s]\n"
          ]
        },
        {
          "output_type": "stream",
          "name": "stdout",
          "text": [
            "Average Training Loss: 1.4020\n"
          ]
        },
        {
          "output_type": "stream",
          "name": "stderr",
          "text": [
            "Epoch 6/20 - Validation: 100%|██████████| 138/138 [00:00<00:00, 1838.34it/s]\n",
            "Epoch 7/20 - Training: 100%|██████████| 1068/1068 [00:01<00:00, 569.95it/s]\n"
          ]
        },
        {
          "output_type": "stream",
          "name": "stdout",
          "text": [
            "Average Training Loss: 1.3943\n"
          ]
        },
        {
          "output_type": "stream",
          "name": "stderr",
          "text": [
            "Epoch 7/20 - Validation: 100%|██████████| 138/138 [00:00<00:00, 1957.65it/s]\n",
            "Epoch 8/20 - Training: 100%|██████████| 1068/1068 [00:01<00:00, 578.36it/s]\n"
          ]
        },
        {
          "output_type": "stream",
          "name": "stdout",
          "text": [
            "Average Training Loss: 1.3987\n"
          ]
        },
        {
          "output_type": "stream",
          "name": "stderr",
          "text": [
            "Epoch 8/20 - Validation: 100%|██████████| 138/138 [00:00<00:00, 1858.11it/s]\n",
            "Epoch 9/20 - Training: 100%|██████████| 1068/1068 [00:01<00:00, 583.91it/s]\n"
          ]
        },
        {
          "output_type": "stream",
          "name": "stdout",
          "text": [
            "Average Training Loss: 1.3938\n"
          ]
        },
        {
          "output_type": "stream",
          "name": "stderr",
          "text": [
            "Epoch 9/20 - Validation: 100%|██████████| 138/138 [00:00<00:00, 2346.02it/s]\n",
            "Epoch 10/20 - Training: 100%|██████████| 1068/1068 [00:01<00:00, 581.68it/s]\n"
          ]
        },
        {
          "output_type": "stream",
          "name": "stdout",
          "text": [
            "Average Training Loss: 1.3928\n"
          ]
        },
        {
          "output_type": "stream",
          "name": "stderr",
          "text": [
            "Epoch 10/20 - Validation: 100%|██████████| 138/138 [00:00<00:00, 2259.65it/s]\n",
            "Epoch 11/20 - Training: 100%|██████████| 1068/1068 [00:02<00:00, 468.17it/s]\n"
          ]
        },
        {
          "output_type": "stream",
          "name": "stdout",
          "text": [
            "Average Training Loss: 1.3903\n"
          ]
        },
        {
          "output_type": "stream",
          "name": "stderr",
          "text": [
            "Epoch 11/20 - Validation: 100%|██████████| 138/138 [00:00<00:00, 1565.26it/s]\n",
            "Epoch 12/20 - Training: 100%|██████████| 1068/1068 [00:02<00:00, 425.16it/s]\n"
          ]
        },
        {
          "output_type": "stream",
          "name": "stdout",
          "text": [
            "Average Training Loss: 1.3834\n"
          ]
        },
        {
          "output_type": "stream",
          "name": "stderr",
          "text": [
            "Epoch 12/20 - Validation: 100%|██████████| 138/138 [00:00<00:00, 1928.20it/s]\n",
            "Epoch 13/20 - Training: 100%|██████████| 1068/1068 [00:02<00:00, 503.13it/s]\n"
          ]
        },
        {
          "output_type": "stream",
          "name": "stdout",
          "text": [
            "Average Training Loss: 1.3861\n"
          ]
        },
        {
          "output_type": "stream",
          "name": "stderr",
          "text": [
            "Epoch 13/20 - Validation: 100%|██████████| 138/138 [00:00<00:00, 2170.36it/s]\n",
            "Epoch 14/20 - Training: 100%|██████████| 1068/1068 [00:01<00:00, 572.58it/s]\n"
          ]
        },
        {
          "output_type": "stream",
          "name": "stdout",
          "text": [
            "Average Training Loss: 1.3811\n"
          ]
        },
        {
          "output_type": "stream",
          "name": "stderr",
          "text": [
            "Epoch 14/20 - Validation: 100%|██████████| 138/138 [00:00<00:00, 2160.89it/s]\n",
            "Epoch 15/20 - Training: 100%|██████████| 1068/1068 [00:01<00:00, 583.57it/s]\n"
          ]
        },
        {
          "output_type": "stream",
          "name": "stdout",
          "text": [
            "Average Training Loss: 1.3824\n"
          ]
        },
        {
          "output_type": "stream",
          "name": "stderr",
          "text": [
            "Epoch 15/20 - Validation: 100%|██████████| 138/138 [00:00<00:00, 2521.57it/s]\n",
            "Epoch 16/20 - Training: 100%|██████████| 1068/1068 [00:01<00:00, 581.71it/s]\n"
          ]
        },
        {
          "output_type": "stream",
          "name": "stdout",
          "text": [
            "Average Training Loss: 1.3851\n"
          ]
        },
        {
          "output_type": "stream",
          "name": "stderr",
          "text": [
            "Epoch 16/20 - Validation: 100%|██████████| 138/138 [00:00<00:00, 2261.94it/s]\n",
            "Epoch 17/20 - Training: 100%|██████████| 1068/1068 [00:01<00:00, 583.37it/s]\n"
          ]
        },
        {
          "output_type": "stream",
          "name": "stdout",
          "text": [
            "Average Training Loss: 1.3824\n"
          ]
        },
        {
          "output_type": "stream",
          "name": "stderr",
          "text": [
            "Epoch 17/20 - Validation: 100%|██████████| 138/138 [00:00<00:00, 2158.73it/s]\n",
            "Epoch 18/20 - Training: 100%|██████████| 1068/1068 [00:02<00:00, 506.50it/s]\n"
          ]
        },
        {
          "output_type": "stream",
          "name": "stdout",
          "text": [
            "Average Training Loss: 1.3735\n"
          ]
        },
        {
          "output_type": "stream",
          "name": "stderr",
          "text": [
            "Epoch 18/20 - Validation: 100%|██████████| 138/138 [00:00<00:00, 1998.44it/s]\n",
            "Epoch 19/20 - Training: 100%|██████████| 1068/1068 [00:02<00:00, 451.48it/s]\n"
          ]
        },
        {
          "output_type": "stream",
          "name": "stdout",
          "text": [
            "Average Training Loss: 1.3801\n"
          ]
        },
        {
          "output_type": "stream",
          "name": "stderr",
          "text": [
            "Epoch 19/20 - Validation: 100%|██████████| 138/138 [00:00<00:00, 2002.07it/s]\n",
            "Epoch 20/20 - Training: 100%|██████████| 1068/1068 [00:02<00:00, 472.40it/s]\n"
          ]
        },
        {
          "output_type": "stream",
          "name": "stdout",
          "text": [
            "Average Training Loss: 1.3781\n"
          ]
        },
        {
          "output_type": "stream",
          "name": "stderr",
          "text": [
            "Epoch 20/20 - Validation: 100%|██████████| 138/138 [00:00<00:00, 2205.96it/s]\n",
            "Epoch 1/20 - Training: 100%|██████████| 1068/1068 [00:01<00:00, 635.62it/s]\n"
          ]
        },
        {
          "output_type": "stream",
          "name": "stdout",
          "text": [
            "Average Training Loss: 1.5284\n"
          ]
        },
        {
          "output_type": "stream",
          "name": "stderr",
          "text": [
            "Epoch 1/20 - Validation: 100%|██████████| 138/138 [00:00<00:00, 2091.09it/s]\n",
            "Epoch 2/20 - Training: 100%|██████████| 1068/1068 [00:01<00:00, 583.52it/s]\n"
          ]
        },
        {
          "output_type": "stream",
          "name": "stdout",
          "text": [
            "Average Training Loss: 1.4889\n"
          ]
        },
        {
          "output_type": "stream",
          "name": "stderr",
          "text": [
            "Epoch 2/20 - Validation: 100%|██████████| 138/138 [00:00<00:00, 2386.15it/s]\n",
            "Epoch 3/20 - Training: 100%|██████████| 1068/1068 [00:01<00:00, 572.97it/s]\n"
          ]
        },
        {
          "output_type": "stream",
          "name": "stdout",
          "text": [
            "Average Training Loss: 1.4701\n"
          ]
        },
        {
          "output_type": "stream",
          "name": "stderr",
          "text": [
            "Epoch 3/20 - Validation: 100%|██████████| 138/138 [00:00<00:00, 2057.53it/s]\n",
            "Epoch 4/20 - Training: 100%|██████████| 1068/1068 [00:01<00:00, 556.73it/s]\n"
          ]
        },
        {
          "output_type": "stream",
          "name": "stdout",
          "text": [
            "Average Training Loss: 1.4695\n"
          ]
        },
        {
          "output_type": "stream",
          "name": "stderr",
          "text": [
            "Epoch 4/20 - Validation: 100%|██████████| 138/138 [00:00<00:00, 2266.69it/s]\n",
            "Epoch 5/20 - Training: 100%|██████████| 1068/1068 [00:01<00:00, 579.51it/s]\n"
          ]
        },
        {
          "output_type": "stream",
          "name": "stdout",
          "text": [
            "Average Training Loss: 1.4646\n"
          ]
        },
        {
          "output_type": "stream",
          "name": "stderr",
          "text": [
            "Epoch 5/20 - Validation: 100%|██████████| 138/138 [00:00<00:00, 1869.66it/s]\n",
            "Epoch 6/20 - Training: 100%|██████████| 1068/1068 [00:02<00:00, 442.77it/s]\n"
          ]
        },
        {
          "output_type": "stream",
          "name": "stdout",
          "text": [
            "Average Training Loss: 1.4616\n"
          ]
        },
        {
          "output_type": "stream",
          "name": "stderr",
          "text": [
            "Epoch 6/20 - Validation: 100%|██████████| 138/138 [00:00<00:00, 1802.29it/s]\n",
            "Epoch 7/20 - Training: 100%|██████████| 1068/1068 [00:02<00:00, 424.07it/s]\n"
          ]
        },
        {
          "output_type": "stream",
          "name": "stdout",
          "text": [
            "Average Training Loss: 1.4519\n"
          ]
        },
        {
          "output_type": "stream",
          "name": "stderr",
          "text": [
            "Epoch 7/20 - Validation: 100%|██████████| 138/138 [00:00<00:00, 1592.79it/s]\n",
            "Epoch 8/20 - Training: 100%|██████████| 1068/1068 [00:02<00:00, 527.53it/s]\n"
          ]
        },
        {
          "output_type": "stream",
          "name": "stdout",
          "text": [
            "Average Training Loss: 1.4554\n"
          ]
        },
        {
          "output_type": "stream",
          "name": "stderr",
          "text": [
            "Epoch 8/20 - Validation: 100%|██████████| 138/138 [00:00<00:00, 1818.79it/s]\n",
            "Epoch 9/20 - Training: 100%|██████████| 1068/1068 [00:01<00:00, 569.91it/s]\n"
          ]
        },
        {
          "output_type": "stream",
          "name": "stdout",
          "text": [
            "Average Training Loss: 1.4549\n"
          ]
        },
        {
          "output_type": "stream",
          "name": "stderr",
          "text": [
            "Epoch 9/20 - Validation: 100%|██████████| 138/138 [00:00<00:00, 1933.55it/s]\n",
            "Epoch 10/20 - Training: 100%|██████████| 1068/1068 [00:02<00:00, 513.83it/s]\n"
          ]
        },
        {
          "output_type": "stream",
          "name": "stdout",
          "text": [
            "Average Training Loss: 1.4593\n"
          ]
        },
        {
          "output_type": "stream",
          "name": "stderr",
          "text": [
            "Epoch 10/20 - Validation: 100%|██████████| 138/138 [00:00<00:00, 1661.91it/s]\n",
            "Epoch 11/20 - Training: 100%|██████████| 1068/1068 [00:01<00:00, 554.61it/s]\n"
          ]
        },
        {
          "output_type": "stream",
          "name": "stdout",
          "text": [
            "Average Training Loss: 1.4566\n"
          ]
        },
        {
          "output_type": "stream",
          "name": "stderr",
          "text": [
            "Epoch 11/20 - Validation: 100%|██████████| 138/138 [00:00<00:00, 1955.64it/s]\n",
            "Epoch 12/20 - Training: 100%|██████████| 1068/1068 [00:01<00:00, 572.46it/s]\n"
          ]
        },
        {
          "output_type": "stream",
          "name": "stdout",
          "text": [
            "Average Training Loss: 1.4498\n"
          ]
        },
        {
          "output_type": "stream",
          "name": "stderr",
          "text": [
            "Epoch 12/20 - Validation: 100%|██████████| 138/138 [00:00<00:00, 2076.59it/s]\n",
            "Epoch 13/20 - Training: 100%|██████████| 1068/1068 [00:02<00:00, 438.70it/s]\n"
          ]
        },
        {
          "output_type": "stream",
          "name": "stdout",
          "text": [
            "Average Training Loss: 1.4568\n"
          ]
        },
        {
          "output_type": "stream",
          "name": "stderr",
          "text": [
            "Epoch 13/20 - Validation: 100%|██████████| 138/138 [00:00<00:00, 2158.55it/s]\n",
            "Epoch 14/20 - Training: 100%|██████████| 1068/1068 [00:02<00:00, 404.00it/s]\n"
          ]
        },
        {
          "output_type": "stream",
          "name": "stdout",
          "text": [
            "Average Training Loss: 1.4453\n"
          ]
        },
        {
          "output_type": "stream",
          "name": "stderr",
          "text": [
            "Epoch 14/20 - Validation: 100%|██████████| 138/138 [00:00<00:00, 1532.60it/s]\n",
            "Epoch 15/20 - Training: 100%|██████████| 1068/1068 [00:01<00:00, 552.77it/s]\n"
          ]
        },
        {
          "output_type": "stream",
          "name": "stdout",
          "text": [
            "Average Training Loss: 1.4524\n"
          ]
        },
        {
          "output_type": "stream",
          "name": "stderr",
          "text": [
            "Epoch 15/20 - Validation: 100%|██████████| 138/138 [00:00<00:00, 2175.86it/s]\n",
            "Epoch 16/20 - Training: 100%|██████████| 1068/1068 [00:01<00:00, 562.71it/s]\n"
          ]
        },
        {
          "output_type": "stream",
          "name": "stdout",
          "text": [
            "Average Training Loss: 1.4487\n"
          ]
        },
        {
          "output_type": "stream",
          "name": "stderr",
          "text": [
            "Epoch 16/20 - Validation: 100%|██████████| 138/138 [00:00<00:00, 2355.34it/s]\n",
            "Epoch 17/20 - Training: 100%|██████████| 1068/1068 [00:01<00:00, 563.91it/s]\n"
          ]
        },
        {
          "output_type": "stream",
          "name": "stdout",
          "text": [
            "Average Training Loss: 1.4523\n"
          ]
        },
        {
          "output_type": "stream",
          "name": "stderr",
          "text": [
            "Epoch 17/20 - Validation: 100%|██████████| 138/138 [00:00<00:00, 2290.34it/s]\n",
            "Epoch 18/20 - Training: 100%|██████████| 1068/1068 [00:01<00:00, 547.68it/s]\n"
          ]
        },
        {
          "output_type": "stream",
          "name": "stdout",
          "text": [
            "Average Training Loss: 1.4462\n"
          ]
        },
        {
          "output_type": "stream",
          "name": "stderr",
          "text": [
            "Epoch 18/20 - Validation: 100%|██████████| 138/138 [00:00<00:00, 2251.03it/s]\n",
            "Epoch 19/20 - Training: 100%|██████████| 1068/1068 [00:02<00:00, 532.00it/s]\n"
          ]
        },
        {
          "output_type": "stream",
          "name": "stdout",
          "text": [
            "Average Training Loss: 1.4523\n"
          ]
        },
        {
          "output_type": "stream",
          "name": "stderr",
          "text": [
            "Epoch 19/20 - Validation: 100%|██████████| 138/138 [00:00<00:00, 2175.26it/s]\n",
            "Epoch 20/20 - Training: 100%|██████████| 1068/1068 [00:02<00:00, 377.89it/s]\n"
          ]
        },
        {
          "output_type": "stream",
          "name": "stdout",
          "text": [
            "Average Training Loss: 1.4423\n"
          ]
        },
        {
          "output_type": "stream",
          "name": "stderr",
          "text": [
            "Epoch 20/20 - Validation: 100%|██████████| 138/138 [00:00<00:00, 1889.82it/s]\n",
            "Epoch 1/20 - Training: 100%|██████████| 1068/1068 [00:02<00:00, 421.27it/s]\n"
          ]
        },
        {
          "output_type": "stream",
          "name": "stdout",
          "text": [
            "Average Training Loss: 1.5765\n"
          ]
        },
        {
          "output_type": "stream",
          "name": "stderr",
          "text": [
            "Epoch 1/20 - Validation: 100%|██████████| 138/138 [00:00<00:00, 1980.04it/s]\n",
            "Epoch 2/20 - Training: 100%|██████████| 1068/1068 [00:02<00:00, 530.77it/s]\n"
          ]
        },
        {
          "output_type": "stream",
          "name": "stdout",
          "text": [
            "Average Training Loss: 1.5734\n"
          ]
        },
        {
          "output_type": "stream",
          "name": "stderr",
          "text": [
            "Epoch 2/20 - Validation: 100%|██████████| 138/138 [00:00<00:00, 2183.40it/s]\n",
            "Epoch 3/20 - Training: 100%|██████████| 1068/1068 [00:02<00:00, 525.63it/s]\n"
          ]
        },
        {
          "output_type": "stream",
          "name": "stdout",
          "text": [
            "Average Training Loss: 1.5481\n"
          ]
        },
        {
          "output_type": "stream",
          "name": "stderr",
          "text": [
            "Epoch 3/20 - Validation: 100%|██████████| 138/138 [00:00<00:00, 1738.72it/s]\n",
            "Epoch 4/20 - Training: 100%|██████████| 1068/1068 [00:02<00:00, 519.33it/s]\n"
          ]
        },
        {
          "output_type": "stream",
          "name": "stdout",
          "text": [
            "Average Training Loss: 1.5305\n"
          ]
        },
        {
          "output_type": "stream",
          "name": "stderr",
          "text": [
            "Epoch 4/20 - Validation: 100%|██████████| 138/138 [00:00<00:00, 2095.94it/s]\n",
            "Epoch 5/20 - Training: 100%|██████████| 1068/1068 [00:02<00:00, 530.00it/s]\n"
          ]
        },
        {
          "output_type": "stream",
          "name": "stdout",
          "text": [
            "Average Training Loss: 1.5244\n"
          ]
        },
        {
          "output_type": "stream",
          "name": "stderr",
          "text": [
            "Epoch 5/20 - Validation: 100%|██████████| 138/138 [00:00<00:00, 2202.32it/s]\n",
            "Epoch 6/20 - Training: 100%|██████████| 1068/1068 [00:02<00:00, 458.30it/s]\n"
          ]
        },
        {
          "output_type": "stream",
          "name": "stdout",
          "text": [
            "Average Training Loss: 1.5238\n"
          ]
        },
        {
          "output_type": "stream",
          "name": "stderr",
          "text": [
            "Epoch 6/20 - Validation: 100%|██████████| 138/138 [00:00<00:00, 1733.38it/s]\n",
            "Epoch 7/20 - Training: 100%|██████████| 1068/1068 [00:02<00:00, 411.03it/s]\n"
          ]
        },
        {
          "output_type": "stream",
          "name": "stdout",
          "text": [
            "Average Training Loss: 1.5274\n"
          ]
        },
        {
          "output_type": "stream",
          "name": "stderr",
          "text": [
            "Epoch 7/20 - Validation: 100%|██████████| 138/138 [00:00<00:00, 1507.98it/s]\n",
            "Epoch 8/20 - Training: 100%|██████████| 1068/1068 [00:02<00:00, 464.63it/s]\n"
          ]
        },
        {
          "output_type": "stream",
          "name": "stdout",
          "text": [
            "Average Training Loss: 1.5249\n"
          ]
        },
        {
          "output_type": "stream",
          "name": "stderr",
          "text": [
            "Epoch 8/20 - Validation: 100%|██████████| 138/138 [00:00<00:00, 1790.36it/s]\n",
            "Epoch 9/20 - Training: 100%|██████████| 1068/1068 [00:01<00:00, 563.40it/s]\n"
          ]
        },
        {
          "output_type": "stream",
          "name": "stdout",
          "text": [
            "Average Training Loss: 1.5254\n"
          ]
        },
        {
          "output_type": "stream",
          "name": "stderr",
          "text": [
            "Epoch 9/20 - Validation: 100%|██████████| 138/138 [00:00<00:00, 1784.05it/s]\n",
            "Epoch 10/20 - Training: 100%|██████████| 1068/1068 [00:01<00:00, 559.87it/s]\n"
          ]
        },
        {
          "output_type": "stream",
          "name": "stdout",
          "text": [
            "Average Training Loss: 1.5293\n"
          ]
        },
        {
          "output_type": "stream",
          "name": "stderr",
          "text": [
            "Epoch 10/20 - Validation: 100%|██████████| 138/138 [00:00<00:00, 1955.92it/s]\n",
            "Epoch 11/20 - Training: 100%|██████████| 1068/1068 [00:01<00:00, 559.41it/s]\n"
          ]
        },
        {
          "output_type": "stream",
          "name": "stdout",
          "text": [
            "Average Training Loss: 1.5258\n"
          ]
        },
        {
          "output_type": "stream",
          "name": "stderr",
          "text": [
            "Epoch 11/20 - Validation: 100%|██████████| 138/138 [00:00<00:00, 2136.78it/s]\n",
            "Epoch 12/20 - Training: 100%|██████████| 1068/1068 [00:01<00:00, 553.36it/s]\n"
          ]
        },
        {
          "output_type": "stream",
          "name": "stdout",
          "text": [
            "Average Training Loss: 1.5224\n"
          ]
        },
        {
          "output_type": "stream",
          "name": "stderr",
          "text": [
            "Epoch 12/20 - Validation: 100%|██████████| 138/138 [00:00<00:00, 1947.16it/s]\n",
            "Epoch 13/20 - Training: 100%|██████████| 1068/1068 [00:02<00:00, 477.86it/s]\n"
          ]
        },
        {
          "output_type": "stream",
          "name": "stdout",
          "text": [
            "Average Training Loss: 1.5193\n"
          ]
        },
        {
          "output_type": "stream",
          "name": "stderr",
          "text": [
            "Epoch 13/20 - Validation: 100%|██████████| 138/138 [00:00<00:00, 1942.18it/s]\n",
            "Epoch 14/20 - Training: 100%|██████████| 1068/1068 [00:02<00:00, 428.42it/s]\n"
          ]
        },
        {
          "output_type": "stream",
          "name": "stdout",
          "text": [
            "Average Training Loss: 1.5219\n"
          ]
        },
        {
          "output_type": "stream",
          "name": "stderr",
          "text": [
            "Epoch 14/20 - Validation: 100%|██████████| 138/138 [00:00<00:00, 2021.65it/s]\n",
            "Epoch 15/20 - Training: 100%|██████████| 1068/1068 [00:02<00:00, 458.23it/s]\n"
          ]
        },
        {
          "output_type": "stream",
          "name": "stdout",
          "text": [
            "Average Training Loss: 1.5228\n"
          ]
        },
        {
          "output_type": "stream",
          "name": "stderr",
          "text": [
            "Epoch 15/20 - Validation: 100%|██████████| 138/138 [00:00<00:00, 2089.11it/s]\n",
            "Epoch 16/20 - Training: 100%|██████████| 1068/1068 [00:01<00:00, 561.74it/s]\n"
          ]
        },
        {
          "output_type": "stream",
          "name": "stdout",
          "text": [
            "Average Training Loss: 1.5268\n"
          ]
        },
        {
          "output_type": "stream",
          "name": "stderr",
          "text": [
            "Epoch 16/20 - Validation: 100%|██████████| 138/138 [00:00<00:00, 2019.98it/s]\n",
            "Epoch 17/20 - Training: 100%|██████████| 1068/1068 [00:01<00:00, 555.84it/s]\n"
          ]
        },
        {
          "output_type": "stream",
          "name": "stdout",
          "text": [
            "Average Training Loss: 1.5212\n"
          ]
        },
        {
          "output_type": "stream",
          "name": "stderr",
          "text": [
            "Epoch 17/20 - Validation: 100%|██████████| 138/138 [00:00<00:00, 2280.86it/s]\n",
            "Epoch 18/20 - Training: 100%|██████████| 1068/1068 [00:01<00:00, 546.28it/s]\n"
          ]
        },
        {
          "output_type": "stream",
          "name": "stdout",
          "text": [
            "Average Training Loss: 1.5202\n"
          ]
        },
        {
          "output_type": "stream",
          "name": "stderr",
          "text": [
            "Epoch 18/20 - Validation: 100%|██████████| 138/138 [00:00<00:00, 2171.32it/s]\n",
            "Epoch 19/20 - Training: 100%|██████████| 1068/1068 [00:01<00:00, 543.22it/s]\n"
          ]
        },
        {
          "output_type": "stream",
          "name": "stdout",
          "text": [
            "Average Training Loss: 1.5195\n"
          ]
        },
        {
          "output_type": "stream",
          "name": "stderr",
          "text": [
            "Epoch 19/20 - Validation: 100%|██████████| 138/138 [00:00<00:00, 2189.64it/s]\n",
            "Epoch 20/20 - Training: 100%|██████████| 1068/1068 [00:02<00:00, 483.73it/s]\n"
          ]
        },
        {
          "output_type": "stream",
          "name": "stdout",
          "text": [
            "Average Training Loss: 1.5257\n"
          ]
        },
        {
          "output_type": "stream",
          "name": "stderr",
          "text": [
            "Epoch 20/20 - Validation: 100%|██████████| 138/138 [00:00<00:00, 1644.72it/s]\n",
            "Epoch 1/20 - Training: 100%|██████████| 1068/1068 [00:02<00:00, 428.32it/s]\n"
          ]
        },
        {
          "output_type": "stream",
          "name": "stdout",
          "text": [
            "Average Training Loss: 1.4469\n"
          ]
        },
        {
          "output_type": "stream",
          "name": "stderr",
          "text": [
            "Epoch 1/20 - Validation: 100%|██████████| 138/138 [00:00<00:00, 1815.72it/s]\n",
            "Epoch 2/20 - Training: 100%|██████████| 1068/1068 [00:02<00:00, 434.92it/s]\n"
          ]
        },
        {
          "output_type": "stream",
          "name": "stdout",
          "text": [
            "Average Training Loss: 1.4003\n"
          ]
        },
        {
          "output_type": "stream",
          "name": "stderr",
          "text": [
            "Epoch 2/20 - Validation: 100%|██████████| 138/138 [00:00<00:00, 1948.38it/s]\n",
            "Epoch 3/20 - Training: 100%|██████████| 1068/1068 [00:02<00:00, 512.11it/s]\n"
          ]
        },
        {
          "output_type": "stream",
          "name": "stdout",
          "text": [
            "Average Training Loss: 1.3793\n"
          ]
        },
        {
          "output_type": "stream",
          "name": "stderr",
          "text": [
            "Epoch 3/20 - Validation: 100%|██████████| 138/138 [00:00<00:00, 1879.45it/s]\n",
            "Epoch 4/20 - Training: 100%|██████████| 1068/1068 [00:02<00:00, 496.00it/s]\n"
          ]
        },
        {
          "output_type": "stream",
          "name": "stdout",
          "text": [
            "Average Training Loss: 1.3712\n"
          ]
        },
        {
          "output_type": "stream",
          "name": "stderr",
          "text": [
            "Epoch 4/20 - Validation: 100%|██████████| 138/138 [00:00<00:00, 2160.33it/s]\n",
            "Epoch 5/20 - Training: 100%|██████████| 1068/1068 [00:02<00:00, 496.25it/s]\n"
          ]
        },
        {
          "output_type": "stream",
          "name": "stdout",
          "text": [
            "Average Training Loss: 1.3670\n"
          ]
        },
        {
          "output_type": "stream",
          "name": "stderr",
          "text": [
            "Epoch 5/20 - Validation: 100%|██████████| 138/138 [00:00<00:00, 2026.16it/s]\n",
            "Epoch 6/20 - Training: 100%|██████████| 1068/1068 [00:02<00:00, 504.40it/s]\n"
          ]
        },
        {
          "output_type": "stream",
          "name": "stdout",
          "text": [
            "Average Training Loss: 1.3582\n"
          ]
        },
        {
          "output_type": "stream",
          "name": "stderr",
          "text": [
            "Epoch 6/20 - Validation: 100%|██████████| 138/138 [00:00<00:00, 2043.86it/s]\n",
            "Epoch 7/20 - Training: 100%|██████████| 1068/1068 [00:02<00:00, 407.14it/s]\n"
          ]
        },
        {
          "output_type": "stream",
          "name": "stdout",
          "text": [
            "Average Training Loss: 1.3577\n"
          ]
        },
        {
          "output_type": "stream",
          "name": "stderr",
          "text": [
            "Epoch 7/20 - Validation: 100%|██████████| 138/138 [00:00<00:00, 1483.88it/s]\n",
            "Epoch 8/20 - Training: 100%|██████████| 1068/1068 [00:02<00:00, 374.24it/s]\n"
          ]
        },
        {
          "output_type": "stream",
          "name": "stdout",
          "text": [
            "Average Training Loss: 1.3523\n"
          ]
        },
        {
          "output_type": "stream",
          "name": "stderr",
          "text": [
            "Epoch 8/20 - Validation: 100%|██████████| 138/138 [00:00<00:00, 2179.11it/s]\n",
            "Epoch 9/20 - Training: 100%|██████████| 1068/1068 [00:02<00:00, 506.05it/s]\n"
          ]
        },
        {
          "output_type": "stream",
          "name": "stdout",
          "text": [
            "Average Training Loss: 1.3541\n"
          ]
        },
        {
          "output_type": "stream",
          "name": "stderr",
          "text": [
            "Epoch 9/20 - Validation: 100%|██████████| 138/138 [00:00<00:00, 2094.64it/s]\n",
            "Epoch 10/20 - Training: 100%|██████████| 1068/1068 [00:02<00:00, 504.47it/s]\n"
          ]
        },
        {
          "output_type": "stream",
          "name": "stdout",
          "text": [
            "Average Training Loss: 1.3453\n"
          ]
        },
        {
          "output_type": "stream",
          "name": "stderr",
          "text": [
            "Epoch 10/20 - Validation: 100%|██████████| 138/138 [00:00<00:00, 2007.40it/s]\n",
            "Epoch 11/20 - Training: 100%|██████████| 1068/1068 [00:02<00:00, 505.68it/s]\n"
          ]
        },
        {
          "output_type": "stream",
          "name": "stdout",
          "text": [
            "Average Training Loss: 1.3442\n"
          ]
        },
        {
          "output_type": "stream",
          "name": "stderr",
          "text": [
            "Epoch 11/20 - Validation: 100%|██████████| 138/138 [00:00<00:00, 2155.39it/s]\n",
            "Epoch 12/20 - Training: 100%|██████████| 1068/1068 [00:02<00:00, 506.87it/s]\n"
          ]
        },
        {
          "output_type": "stream",
          "name": "stdout",
          "text": [
            "Average Training Loss: 1.3446\n"
          ]
        },
        {
          "output_type": "stream",
          "name": "stderr",
          "text": [
            "Epoch 12/20 - Validation: 100%|██████████| 138/138 [00:00<00:00, 2211.78it/s]\n",
            "Epoch 13/20 - Training: 100%|██████████| 1068/1068 [00:02<00:00, 438.26it/s]\n"
          ]
        },
        {
          "output_type": "stream",
          "name": "stdout",
          "text": [
            "Average Training Loss: 1.3405\n"
          ]
        },
        {
          "output_type": "stream",
          "name": "stderr",
          "text": [
            "Epoch 13/20 - Validation: 100%|██████████| 138/138 [00:00<00:00, 1719.82it/s]\n",
            "Epoch 14/20 - Training: 100%|██████████| 1068/1068 [00:02<00:00, 362.50it/s]\n"
          ]
        },
        {
          "output_type": "stream",
          "name": "stdout",
          "text": [
            "Average Training Loss: 1.3413\n"
          ]
        },
        {
          "output_type": "stream",
          "name": "stderr",
          "text": [
            "Epoch 14/20 - Validation: 100%|██████████| 138/138 [00:00<00:00, 1522.18it/s]\n",
            "Epoch 15/20 - Training: 100%|██████████| 1068/1068 [00:02<00:00, 462.94it/s]\n"
          ]
        },
        {
          "output_type": "stream",
          "name": "stdout",
          "text": [
            "Average Training Loss: 1.3379\n"
          ]
        },
        {
          "output_type": "stream",
          "name": "stderr",
          "text": [
            "Epoch 15/20 - Validation: 100%|██████████| 138/138 [00:00<00:00, 2233.26it/s]\n",
            "Epoch 16/20 - Training: 100%|██████████| 1068/1068 [00:02<00:00, 507.96it/s]\n"
          ]
        },
        {
          "output_type": "stream",
          "name": "stdout",
          "text": [
            "Average Training Loss: 1.3385\n"
          ]
        },
        {
          "output_type": "stream",
          "name": "stderr",
          "text": [
            "Epoch 16/20 - Validation: 100%|██████████| 138/138 [00:00<00:00, 1942.15it/s]\n",
            "Epoch 17/20 - Training: 100%|██████████| 1068/1068 [00:02<00:00, 510.83it/s]\n"
          ]
        },
        {
          "output_type": "stream",
          "name": "stdout",
          "text": [
            "Average Training Loss: 1.3365\n"
          ]
        },
        {
          "output_type": "stream",
          "name": "stderr",
          "text": [
            "Epoch 17/20 - Validation: 100%|██████████| 138/138 [00:00<00:00, 2276.86it/s]\n",
            "Epoch 18/20 - Training: 100%|██████████| 1068/1068 [00:02<00:00, 500.30it/s]\n"
          ]
        },
        {
          "output_type": "stream",
          "name": "stdout",
          "text": [
            "Average Training Loss: 1.3330\n"
          ]
        },
        {
          "output_type": "stream",
          "name": "stderr",
          "text": [
            "Epoch 18/20 - Validation: 100%|██████████| 138/138 [00:00<00:00, 1945.67it/s]\n",
            "Epoch 19/20 - Training: 100%|██████████| 1068/1068 [00:02<00:00, 485.93it/s]\n"
          ]
        },
        {
          "output_type": "stream",
          "name": "stdout",
          "text": [
            "Average Training Loss: 1.3372\n"
          ]
        },
        {
          "output_type": "stream",
          "name": "stderr",
          "text": [
            "Epoch 19/20 - Validation: 100%|██████████| 138/138 [00:00<00:00, 1731.78it/s]\n",
            "Epoch 20/20 - Training: 100%|██████████| 1068/1068 [00:02<00:00, 396.77it/s]\n"
          ]
        },
        {
          "output_type": "stream",
          "name": "stdout",
          "text": [
            "Average Training Loss: 1.3335\n"
          ]
        },
        {
          "output_type": "stream",
          "name": "stderr",
          "text": [
            "Epoch 20/20 - Validation: 100%|██████████| 138/138 [00:00<00:00, 1529.87it/s]\n",
            "Epoch 1/20 - Training: 100%|██████████| 1068/1068 [00:02<00:00, 448.93it/s]\n"
          ]
        },
        {
          "output_type": "stream",
          "name": "stdout",
          "text": [
            "Average Training Loss: 1.4705\n"
          ]
        },
        {
          "output_type": "stream",
          "name": "stderr",
          "text": [
            "Epoch 1/20 - Validation: 100%|██████████| 138/138 [00:00<00:00, 2007.01it/s]\n",
            "Epoch 2/20 - Training: 100%|██████████| 1068/1068 [00:02<00:00, 487.27it/s]\n"
          ]
        },
        {
          "output_type": "stream",
          "name": "stdout",
          "text": [
            "Average Training Loss: 1.4159\n"
          ]
        },
        {
          "output_type": "stream",
          "name": "stderr",
          "text": [
            "Epoch 2/20 - Validation: 100%|██████████| 138/138 [00:00<00:00, 2104.82it/s]\n",
            "Epoch 3/20 - Training: 100%|██████████| 1068/1068 [00:02<00:00, 477.16it/s]\n"
          ]
        },
        {
          "output_type": "stream",
          "name": "stdout",
          "text": [
            "Average Training Loss: 1.4061\n"
          ]
        },
        {
          "output_type": "stream",
          "name": "stderr",
          "text": [
            "Epoch 3/20 - Validation: 100%|██████████| 138/138 [00:00<00:00, 1648.24it/s]\n",
            "Epoch 4/20 - Training: 100%|██████████| 1068/1068 [00:02<00:00, 464.21it/s]\n"
          ]
        },
        {
          "output_type": "stream",
          "name": "stdout",
          "text": [
            "Average Training Loss: 1.3893\n"
          ]
        },
        {
          "output_type": "stream",
          "name": "stderr",
          "text": [
            "Epoch 4/20 - Validation: 100%|██████████| 138/138 [00:00<00:00, 1787.77it/s]\n",
            "Epoch 5/20 - Training: 100%|██████████| 1068/1068 [00:02<00:00, 480.60it/s]\n"
          ]
        },
        {
          "output_type": "stream",
          "name": "stdout",
          "text": [
            "Average Training Loss: 1.3873\n"
          ]
        },
        {
          "output_type": "stream",
          "name": "stderr",
          "text": [
            "Epoch 5/20 - Validation: 100%|██████████| 138/138 [00:00<00:00, 2006.54it/s]\n",
            "Epoch 6/20 - Training: 100%|██████████| 1068/1068 [00:02<00:00, 388.20it/s]\n"
          ]
        },
        {
          "output_type": "stream",
          "name": "stdout",
          "text": [
            "Average Training Loss: 1.3825\n"
          ]
        },
        {
          "output_type": "stream",
          "name": "stderr",
          "text": [
            "Epoch 6/20 - Validation: 100%|██████████| 138/138 [00:00<00:00, 1805.26it/s]\n",
            "Epoch 7/20 - Training: 100%|██████████| 1068/1068 [00:02<00:00, 373.85it/s]\n"
          ]
        },
        {
          "output_type": "stream",
          "name": "stdout",
          "text": [
            "Average Training Loss: 1.3756\n"
          ]
        },
        {
          "output_type": "stream",
          "name": "stderr",
          "text": [
            "Epoch 7/20 - Validation: 100%|██████████| 138/138 [00:00<00:00, 1656.06it/s]\n",
            "Epoch 8/20 - Training: 100%|██████████| 1068/1068 [00:02<00:00, 486.48it/s]\n"
          ]
        },
        {
          "output_type": "stream",
          "name": "stdout",
          "text": [
            "Average Training Loss: 1.3772\n"
          ]
        },
        {
          "output_type": "stream",
          "name": "stderr",
          "text": [
            "Epoch 8/20 - Validation: 100%|██████████| 138/138 [00:00<00:00, 2061.63it/s]\n",
            "Epoch 9/20 - Training: 100%|██████████| 1068/1068 [00:02<00:00, 484.69it/s]\n"
          ]
        },
        {
          "output_type": "stream",
          "name": "stdout",
          "text": [
            "Average Training Loss: 1.3711\n"
          ]
        },
        {
          "output_type": "stream",
          "name": "stderr",
          "text": [
            "Epoch 9/20 - Validation: 100%|██████████| 138/138 [00:00<00:00, 2145.69it/s]\n",
            "Epoch 10/20 - Training: 100%|██████████| 1068/1068 [00:02<00:00, 472.38it/s]\n"
          ]
        },
        {
          "output_type": "stream",
          "name": "stdout",
          "text": [
            "Average Training Loss: 1.3671\n"
          ]
        },
        {
          "output_type": "stream",
          "name": "stderr",
          "text": [
            "Epoch 10/20 - Validation: 100%|██████████| 138/138 [00:00<00:00, 2141.49it/s]\n",
            "Epoch 11/20 - Training: 100%|██████████| 1068/1068 [00:02<00:00, 486.44it/s]\n"
          ]
        },
        {
          "output_type": "stream",
          "name": "stdout",
          "text": [
            "Average Training Loss: 1.3637\n"
          ]
        },
        {
          "output_type": "stream",
          "name": "stderr",
          "text": [
            "Epoch 11/20 - Validation: 100%|██████████| 138/138 [00:00<00:00, 1924.53it/s]\n",
            "Epoch 12/20 - Training: 100%|██████████| 1068/1068 [00:02<00:00, 382.53it/s]\n"
          ]
        },
        {
          "output_type": "stream",
          "name": "stdout",
          "text": [
            "Average Training Loss: 1.3614\n"
          ]
        },
        {
          "output_type": "stream",
          "name": "stderr",
          "text": [
            "Epoch 12/20 - Validation: 100%|██████████| 138/138 [00:00<00:00, 1985.64it/s]\n",
            "Epoch 13/20 - Training: 100%|██████████| 1068/1068 [00:02<00:00, 371.99it/s]\n"
          ]
        },
        {
          "output_type": "stream",
          "name": "stdout",
          "text": [
            "Average Training Loss: 1.3601\n"
          ]
        },
        {
          "output_type": "stream",
          "name": "stderr",
          "text": [
            "Epoch 13/20 - Validation: 100%|██████████| 138/138 [00:00<00:00, 1784.59it/s]\n",
            "Epoch 14/20 - Training: 100%|██████████| 1068/1068 [00:02<00:00, 467.31it/s]\n"
          ]
        },
        {
          "output_type": "stream",
          "name": "stdout",
          "text": [
            "Average Training Loss: 1.3610\n"
          ]
        },
        {
          "output_type": "stream",
          "name": "stderr",
          "text": [
            "Epoch 14/20 - Validation: 100%|██████████| 138/138 [00:00<00:00, 2131.25it/s]\n",
            "Epoch 15/20 - Training: 100%|██████████| 1068/1068 [00:02<00:00, 482.10it/s]\n"
          ]
        },
        {
          "output_type": "stream",
          "name": "stdout",
          "text": [
            "Average Training Loss: 1.3586\n"
          ]
        },
        {
          "output_type": "stream",
          "name": "stderr",
          "text": [
            "Epoch 15/20 - Validation: 100%|██████████| 138/138 [00:00<00:00, 2066.96it/s]\n",
            "Epoch 16/20 - Training: 100%|██████████| 1068/1068 [00:02<00:00, 487.66it/s]\n"
          ]
        },
        {
          "output_type": "stream",
          "name": "stdout",
          "text": [
            "Average Training Loss: 1.3523\n"
          ]
        },
        {
          "output_type": "stream",
          "name": "stderr",
          "text": [
            "Epoch 16/20 - Validation: 100%|██████████| 138/138 [00:00<00:00, 2115.39it/s]\n",
            "Epoch 17/20 - Training: 100%|██████████| 1068/1068 [00:02<00:00, 479.54it/s]\n"
          ]
        },
        {
          "output_type": "stream",
          "name": "stdout",
          "text": [
            "Average Training Loss: 1.3567\n"
          ]
        },
        {
          "output_type": "stream",
          "name": "stderr",
          "text": [
            "Epoch 17/20 - Validation: 100%|██████████| 138/138 [00:00<00:00, 1939.86it/s]\n",
            "Epoch 18/20 - Training: 100%|██████████| 1068/1068 [00:02<00:00, 395.94it/s]\n"
          ]
        },
        {
          "output_type": "stream",
          "name": "stdout",
          "text": [
            "Average Training Loss: 1.3510\n"
          ]
        },
        {
          "output_type": "stream",
          "name": "stderr",
          "text": [
            "Epoch 18/20 - Validation: 100%|██████████| 138/138 [00:00<00:00, 1663.13it/s]\n",
            "Epoch 19/20 - Training: 100%|██████████| 1068/1068 [00:03<00:00, 349.14it/s]\n"
          ]
        },
        {
          "output_type": "stream",
          "name": "stdout",
          "text": [
            "Average Training Loss: 1.3533\n"
          ]
        },
        {
          "output_type": "stream",
          "name": "stderr",
          "text": [
            "Epoch 19/20 - Validation: 100%|██████████| 138/138 [00:00<00:00, 1756.52it/s]\n",
            "Epoch 20/20 - Training: 100%|██████████| 1068/1068 [00:02<00:00, 457.36it/s]\n"
          ]
        },
        {
          "output_type": "stream",
          "name": "stdout",
          "text": [
            "Average Training Loss: 1.3540\n"
          ]
        },
        {
          "output_type": "stream",
          "name": "stderr",
          "text": [
            "Epoch 20/20 - Validation: 100%|██████████| 138/138 [00:00<00:00, 2030.72it/s]\n",
            "Epoch 1/20 - Training: 100%|██████████| 1068/1068 [00:01<00:00, 578.38it/s]\n"
          ]
        },
        {
          "output_type": "stream",
          "name": "stdout",
          "text": [
            "Average Training Loss: 1.4794\n"
          ]
        },
        {
          "output_type": "stream",
          "name": "stderr",
          "text": [
            "Epoch 1/20 - Validation: 100%|██████████| 138/138 [00:00<00:00, 1873.81it/s]\n",
            "Epoch 2/20 - Training: 100%|██████████| 1068/1068 [00:02<00:00, 498.65it/s]\n"
          ]
        },
        {
          "output_type": "stream",
          "name": "stdout",
          "text": [
            "Average Training Loss: 1.4232\n"
          ]
        },
        {
          "output_type": "stream",
          "name": "stderr",
          "text": [
            "Epoch 2/20 - Validation: 100%|██████████| 138/138 [00:00<00:00, 2076.88it/s]\n",
            "Epoch 3/20 - Training: 100%|██████████| 1068/1068 [00:02<00:00, 479.72it/s]\n"
          ]
        },
        {
          "output_type": "stream",
          "name": "stdout",
          "text": [
            "Average Training Loss: 1.4153\n"
          ]
        },
        {
          "output_type": "stream",
          "name": "stderr",
          "text": [
            "Epoch 3/20 - Validation: 100%|██████████| 138/138 [00:00<00:00, 2016.96it/s]\n",
            "Epoch 4/20 - Training: 100%|██████████| 1068/1068 [00:02<00:00, 431.15it/s]\n"
          ]
        },
        {
          "output_type": "stream",
          "name": "stdout",
          "text": [
            "Average Training Loss: 1.4035\n"
          ]
        },
        {
          "output_type": "stream",
          "name": "stderr",
          "text": [
            "Epoch 4/20 - Validation: 100%|██████████| 138/138 [00:00<00:00, 1894.19it/s]\n",
            "Epoch 5/20 - Training: 100%|██████████| 1068/1068 [00:02<00:00, 370.36it/s]\n"
          ]
        },
        {
          "output_type": "stream",
          "name": "stdout",
          "text": [
            "Average Training Loss: 1.4005\n"
          ]
        },
        {
          "output_type": "stream",
          "name": "stderr",
          "text": [
            "Epoch 5/20 - Validation: 100%|██████████| 138/138 [00:00<00:00, 1936.17it/s]\n",
            "Epoch 6/20 - Training: 100%|██████████| 1068/1068 [00:02<00:00, 427.95it/s]\n"
          ]
        },
        {
          "output_type": "stream",
          "name": "stdout",
          "text": [
            "Average Training Loss: 1.4002\n"
          ]
        },
        {
          "output_type": "stream",
          "name": "stderr",
          "text": [
            "Epoch 6/20 - Validation: 100%|██████████| 138/138 [00:00<00:00, 1945.54it/s]\n",
            "Epoch 7/20 - Training: 100%|██████████| 1068/1068 [00:02<00:00, 485.05it/s]\n"
          ]
        },
        {
          "output_type": "stream",
          "name": "stdout",
          "text": [
            "Average Training Loss: 1.3977\n"
          ]
        },
        {
          "output_type": "stream",
          "name": "stderr",
          "text": [
            "Epoch 7/20 - Validation: 100%|██████████| 138/138 [00:00<00:00, 1968.99it/s]\n",
            "Epoch 8/20 - Training: 100%|██████████| 1068/1068 [00:02<00:00, 489.40it/s]\n"
          ]
        },
        {
          "output_type": "stream",
          "name": "stdout",
          "text": [
            "Average Training Loss: 1.3876\n"
          ]
        },
        {
          "output_type": "stream",
          "name": "stderr",
          "text": [
            "Epoch 8/20 - Validation: 100%|██████████| 138/138 [00:00<00:00, 2009.12it/s]\n",
            "Epoch 9/20 - Training: 100%|██████████| 1068/1068 [00:02<00:00, 488.24it/s]\n"
          ]
        },
        {
          "output_type": "stream",
          "name": "stdout",
          "text": [
            "Average Training Loss: 1.3889\n"
          ]
        },
        {
          "output_type": "stream",
          "name": "stderr",
          "text": [
            "Epoch 9/20 - Validation: 100%|██████████| 138/138 [00:00<00:00, 1880.90it/s]\n",
            "Epoch 10/20 - Training: 100%|██████████| 1068/1068 [00:02<00:00, 473.53it/s]\n"
          ]
        },
        {
          "output_type": "stream",
          "name": "stdout",
          "text": [
            "Average Training Loss: 1.3884\n"
          ]
        },
        {
          "output_type": "stream",
          "name": "stderr",
          "text": [
            "Epoch 10/20 - Validation: 100%|██████████| 138/138 [00:00<00:00, 1596.75it/s]\n",
            "Epoch 11/20 - Training: 100%|██████████| 1068/1068 [00:02<00:00, 371.90it/s]\n"
          ]
        },
        {
          "output_type": "stream",
          "name": "stdout",
          "text": [
            "Average Training Loss: 1.3830\n"
          ]
        },
        {
          "output_type": "stream",
          "name": "stderr",
          "text": [
            "Epoch 11/20 - Validation: 100%|██████████| 138/138 [00:00<00:00, 1970.77it/s]\n",
            "Epoch 12/20 - Training: 100%|██████████| 1068/1068 [00:02<00:00, 385.55it/s]\n"
          ]
        },
        {
          "output_type": "stream",
          "name": "stdout",
          "text": [
            "Average Training Loss: 1.3828\n"
          ]
        },
        {
          "output_type": "stream",
          "name": "stderr",
          "text": [
            "Epoch 12/20 - Validation: 100%|██████████| 138/138 [00:00<00:00, 1903.55it/s]\n",
            "Epoch 13/20 - Training: 100%|██████████| 1068/1068 [00:02<00:00, 490.16it/s]\n"
          ]
        },
        {
          "output_type": "stream",
          "name": "stdout",
          "text": [
            "Average Training Loss: 1.3793\n"
          ]
        },
        {
          "output_type": "stream",
          "name": "stderr",
          "text": [
            "Epoch 13/20 - Validation: 100%|██████████| 138/138 [00:00<00:00, 1829.40it/s]\n",
            "Epoch 14/20 - Training: 100%|██████████| 1068/1068 [00:02<00:00, 473.02it/s]\n"
          ]
        },
        {
          "output_type": "stream",
          "name": "stdout",
          "text": [
            "Average Training Loss: 1.3791\n"
          ]
        },
        {
          "output_type": "stream",
          "name": "stderr",
          "text": [
            "Epoch 14/20 - Validation: 100%|██████████| 138/138 [00:00<00:00, 1968.09it/s]\n",
            "Epoch 15/20 - Training: 100%|██████████| 1068/1068 [00:02<00:00, 477.76it/s]\n"
          ]
        },
        {
          "output_type": "stream",
          "name": "stdout",
          "text": [
            "Average Training Loss: 1.3800\n"
          ]
        },
        {
          "output_type": "stream",
          "name": "stderr",
          "text": [
            "Epoch 15/20 - Validation: 100%|██████████| 138/138 [00:00<00:00, 2049.49it/s]\n",
            "Epoch 16/20 - Training: 100%|██████████| 1068/1068 [00:02<00:00, 483.89it/s]\n"
          ]
        },
        {
          "output_type": "stream",
          "name": "stdout",
          "text": [
            "Average Training Loss: 1.3757\n"
          ]
        },
        {
          "output_type": "stream",
          "name": "stderr",
          "text": [
            "Epoch 16/20 - Validation: 100%|██████████| 138/138 [00:00<00:00, 2184.00it/s]\n",
            "Epoch 17/20 - Training: 100%|██████████| 1068/1068 [00:02<00:00, 367.62it/s]\n"
          ]
        },
        {
          "output_type": "stream",
          "name": "stdout",
          "text": [
            "Average Training Loss: 1.3643\n"
          ]
        },
        {
          "output_type": "stream",
          "name": "stderr",
          "text": [
            "Epoch 17/20 - Validation: 100%|██████████| 138/138 [00:00<00:00, 1426.24it/s]\n",
            "Epoch 18/20 - Training: 100%|██████████| 1068/1068 [00:02<00:00, 383.11it/s]\n"
          ]
        },
        {
          "output_type": "stream",
          "name": "stdout",
          "text": [
            "Average Training Loss: 1.3620\n"
          ]
        },
        {
          "output_type": "stream",
          "name": "stderr",
          "text": [
            "Epoch 18/20 - Validation: 100%|██████████| 138/138 [00:00<00:00, 1976.26it/s]\n",
            "Epoch 19/20 - Training: 100%|██████████| 1068/1068 [00:02<00:00, 486.32it/s]\n"
          ]
        },
        {
          "output_type": "stream",
          "name": "stdout",
          "text": [
            "Average Training Loss: 1.3674\n"
          ]
        },
        {
          "output_type": "stream",
          "name": "stderr",
          "text": [
            "Epoch 19/20 - Validation: 100%|██████████| 138/138 [00:00<00:00, 1916.79it/s]\n",
            "Epoch 20/20 - Training: 100%|██████████| 1068/1068 [00:02<00:00, 475.90it/s]\n"
          ]
        },
        {
          "output_type": "stream",
          "name": "stdout",
          "text": [
            "Average Training Loss: 1.3696\n"
          ]
        },
        {
          "output_type": "stream",
          "name": "stderr",
          "text": [
            "Epoch 20/20 - Validation: 100%|██████████| 138/138 [00:00<00:00, 2009.22it/s]\n",
            "Epoch 1/20 - Training: 100%|██████████| 1068/1068 [00:01<00:00, 565.38it/s]\n"
          ]
        },
        {
          "output_type": "stream",
          "name": "stdout",
          "text": [
            "Average Training Loss: 1.5338\n"
          ]
        },
        {
          "output_type": "stream",
          "name": "stderr",
          "text": [
            "Epoch 1/20 - Validation: 100%|██████████| 138/138 [00:00<00:00, 2088.03it/s]\n",
            "Epoch 2/20 - Training: 100%|██████████| 1068/1068 [00:02<00:00, 490.05it/s]\n"
          ]
        },
        {
          "output_type": "stream",
          "name": "stdout",
          "text": [
            "Average Training Loss: 1.4839\n"
          ]
        },
        {
          "output_type": "stream",
          "name": "stderr",
          "text": [
            "Epoch 2/20 - Validation: 100%|██████████| 138/138 [00:00<00:00, 1648.38it/s]\n",
            "Epoch 3/20 - Training: 100%|██████████| 1068/1068 [00:02<00:00, 395.32it/s]\n"
          ]
        },
        {
          "output_type": "stream",
          "name": "stdout",
          "text": [
            "Average Training Loss: 1.4724\n"
          ]
        },
        {
          "output_type": "stream",
          "name": "stderr",
          "text": [
            "Epoch 3/20 - Validation: 100%|██████████| 138/138 [00:00<00:00, 1666.75it/s]\n",
            "Epoch 4/20 - Training: 100%|██████████| 1068/1068 [00:03<00:00, 351.63it/s]\n"
          ]
        },
        {
          "output_type": "stream",
          "name": "stdout",
          "text": [
            "Average Training Loss: 1.4647\n"
          ]
        },
        {
          "output_type": "stream",
          "name": "stderr",
          "text": [
            "Epoch 4/20 - Validation: 100%|██████████| 138/138 [00:00<00:00, 2038.11it/s]\n",
            "Epoch 5/20 - Training: 100%|██████████| 1068/1068 [00:02<00:00, 482.77it/s]\n"
          ]
        },
        {
          "output_type": "stream",
          "name": "stdout",
          "text": [
            "Average Training Loss: 1.4676\n"
          ]
        },
        {
          "output_type": "stream",
          "name": "stderr",
          "text": [
            "Epoch 5/20 - Validation: 100%|██████████| 138/138 [00:00<00:00, 1929.32it/s]\n",
            "Epoch 6/20 - Training: 100%|██████████| 1068/1068 [00:02<00:00, 480.20it/s]\n"
          ]
        },
        {
          "output_type": "stream",
          "name": "stdout",
          "text": [
            "Average Training Loss: 1.4612\n"
          ]
        },
        {
          "output_type": "stream",
          "name": "stderr",
          "text": [
            "Epoch 6/20 - Validation: 100%|██████████| 138/138 [00:00<00:00, 2035.09it/s]\n",
            "Epoch 7/20 - Training: 100%|██████████| 1068/1068 [00:02<00:00, 477.29it/s]\n"
          ]
        },
        {
          "output_type": "stream",
          "name": "stdout",
          "text": [
            "Average Training Loss: 1.4576\n"
          ]
        },
        {
          "output_type": "stream",
          "name": "stderr",
          "text": [
            "Epoch 7/20 - Validation: 100%|██████████| 138/138 [00:00<00:00, 2087.67it/s]\n",
            "Epoch 8/20 - Training: 100%|██████████| 1068/1068 [00:02<00:00, 481.01it/s]\n"
          ]
        },
        {
          "output_type": "stream",
          "name": "stdout",
          "text": [
            "Average Training Loss: 1.4634\n"
          ]
        },
        {
          "output_type": "stream",
          "name": "stderr",
          "text": [
            "Epoch 8/20 - Validation: 100%|██████████| 138/138 [00:00<00:00, 2022.58it/s]\n",
            "Epoch 9/20 - Training: 100%|██████████| 1068/1068 [00:02<00:00, 389.06it/s]\n"
          ]
        },
        {
          "output_type": "stream",
          "name": "stdout",
          "text": [
            "Average Training Loss: 1.4532\n"
          ]
        },
        {
          "output_type": "stream",
          "name": "stderr",
          "text": [
            "Epoch 9/20 - Validation: 100%|██████████| 138/138 [00:00<00:00, 1844.37it/s]\n",
            "Epoch 10/20 - Training: 100%|██████████| 1068/1068 [00:02<00:00, 372.11it/s]\n"
          ]
        },
        {
          "output_type": "stream",
          "name": "stdout",
          "text": [
            "Average Training Loss: 1.4544\n"
          ]
        },
        {
          "output_type": "stream",
          "name": "stderr",
          "text": [
            "Epoch 10/20 - Validation: 100%|██████████| 138/138 [00:00<00:00, 1479.11it/s]\n",
            "Epoch 11/20 - Training: 100%|██████████| 1068/1068 [00:02<00:00, 473.48it/s]\n"
          ]
        },
        {
          "output_type": "stream",
          "name": "stdout",
          "text": [
            "Average Training Loss: 1.4558\n"
          ]
        },
        {
          "output_type": "stream",
          "name": "stderr",
          "text": [
            "Epoch 11/20 - Validation: 100%|██████████| 138/138 [00:00<00:00, 1750.17it/s]\n",
            "Epoch 12/20 - Training: 100%|██████████| 1068/1068 [00:02<00:00, 455.65it/s]\n"
          ]
        },
        {
          "output_type": "stream",
          "name": "stdout",
          "text": [
            "Average Training Loss: 1.4438\n"
          ]
        },
        {
          "output_type": "stream",
          "name": "stderr",
          "text": [
            "Epoch 12/20 - Validation: 100%|██████████| 138/138 [00:00<00:00, 1837.96it/s]\n",
            "Epoch 13/20 - Training: 100%|██████████| 1068/1068 [00:02<00:00, 403.28it/s]\n"
          ]
        },
        {
          "output_type": "stream",
          "name": "stdout",
          "text": [
            "Average Training Loss: 1.4475\n"
          ]
        },
        {
          "output_type": "stream",
          "name": "stderr",
          "text": [
            "Epoch 13/20 - Validation: 100%|██████████| 138/138 [00:00<00:00, 1907.88it/s]\n",
            "Epoch 14/20 - Training: 100%|██████████| 1068/1068 [00:02<00:00, 435.95it/s]\n"
          ]
        },
        {
          "output_type": "stream",
          "name": "stdout",
          "text": [
            "Average Training Loss: 1.4542\n"
          ]
        },
        {
          "output_type": "stream",
          "name": "stderr",
          "text": [
            "Epoch 14/20 - Validation: 100%|██████████| 138/138 [00:00<00:00, 2239.68it/s]\n",
            "Epoch 15/20 - Training: 100%|██████████| 1068/1068 [00:02<00:00, 370.33it/s]\n"
          ]
        },
        {
          "output_type": "stream",
          "name": "stdout",
          "text": [
            "Average Training Loss: 1.4626\n"
          ]
        },
        {
          "output_type": "stream",
          "name": "stderr",
          "text": [
            "Epoch 15/20 - Validation: 100%|██████████| 138/138 [00:00<00:00, 1304.11it/s]\n",
            "Epoch 16/20 - Training: 100%|██████████| 1068/1068 [00:02<00:00, 374.40it/s]\n"
          ]
        },
        {
          "output_type": "stream",
          "name": "stdout",
          "text": [
            "Average Training Loss: 1.4446\n"
          ]
        },
        {
          "output_type": "stream",
          "name": "stderr",
          "text": [
            "Epoch 16/20 - Validation: 100%|██████████| 138/138 [00:00<00:00, 1992.94it/s]\n",
            "Epoch 17/20 - Training: 100%|██████████| 1068/1068 [00:02<00:00, 487.21it/s]\n"
          ]
        },
        {
          "output_type": "stream",
          "name": "stdout",
          "text": [
            "Average Training Loss: 1.4540\n"
          ]
        },
        {
          "output_type": "stream",
          "name": "stderr",
          "text": [
            "Epoch 17/20 - Validation: 100%|██████████| 138/138 [00:00<00:00, 1863.38it/s]\n",
            "Epoch 18/20 - Training: 100%|██████████| 1068/1068 [00:02<00:00, 483.75it/s]\n"
          ]
        },
        {
          "output_type": "stream",
          "name": "stdout",
          "text": [
            "Average Training Loss: 1.4429\n"
          ]
        },
        {
          "output_type": "stream",
          "name": "stderr",
          "text": [
            "Epoch 18/20 - Validation: 100%|██████████| 138/138 [00:00<00:00, 2137.98it/s]\n",
            "Epoch 19/20 - Training: 100%|██████████| 1068/1068 [00:02<00:00, 475.75it/s]\n"
          ]
        },
        {
          "output_type": "stream",
          "name": "stdout",
          "text": [
            "Average Training Loss: 1.4451\n"
          ]
        },
        {
          "output_type": "stream",
          "name": "stderr",
          "text": [
            "Epoch 19/20 - Validation: 100%|██████████| 138/138 [00:00<00:00, 2015.12it/s]\n",
            "Epoch 20/20 - Training: 100%|██████████| 1068/1068 [00:02<00:00, 473.60it/s]\n"
          ]
        },
        {
          "output_type": "stream",
          "name": "stdout",
          "text": [
            "Average Training Loss: 1.4461\n"
          ]
        },
        {
          "output_type": "stream",
          "name": "stderr",
          "text": [
            "Epoch 20/20 - Validation: 100%|██████████| 138/138 [00:00<00:00, 1855.82it/s]\n",
            "Epoch 1/20 - Training: 100%|██████████| 1068/1068 [00:02<00:00, 402.45it/s]\n"
          ]
        },
        {
          "output_type": "stream",
          "name": "stdout",
          "text": [
            "Average Training Loss: 1.5740\n"
          ]
        },
        {
          "output_type": "stream",
          "name": "stderr",
          "text": [
            "Epoch 1/20 - Validation: 100%|██████████| 138/138 [00:00<00:00, 1776.82it/s]\n",
            "Epoch 2/20 - Training: 100%|██████████| 1068/1068 [00:02<00:00, 374.95it/s]\n"
          ]
        },
        {
          "output_type": "stream",
          "name": "stdout",
          "text": [
            "Average Training Loss: 1.5429\n"
          ]
        },
        {
          "output_type": "stream",
          "name": "stderr",
          "text": [
            "Epoch 2/20 - Validation: 100%|██████████| 138/138 [00:00<00:00, 1895.76it/s]\n",
            "Epoch 3/20 - Training: 100%|██████████| 1068/1068 [00:02<00:00, 496.77it/s]\n"
          ]
        },
        {
          "output_type": "stream",
          "name": "stdout",
          "text": [
            "Average Training Loss: 1.5388\n"
          ]
        },
        {
          "output_type": "stream",
          "name": "stderr",
          "text": [
            "Epoch 3/20 - Validation: 100%|██████████| 138/138 [00:00<00:00, 1980.30it/s]\n",
            "Epoch 4/20 - Training: 100%|██████████| 1068/1068 [00:02<00:00, 481.31it/s]\n"
          ]
        },
        {
          "output_type": "stream",
          "name": "stdout",
          "text": [
            "Average Training Loss: 1.5413\n"
          ]
        },
        {
          "output_type": "stream",
          "name": "stderr",
          "text": [
            "Epoch 4/20 - Validation: 100%|██████████| 138/138 [00:00<00:00, 2157.50it/s]\n",
            "Epoch 5/20 - Training: 100%|██████████| 1068/1068 [00:02<00:00, 491.63it/s]\n"
          ]
        },
        {
          "output_type": "stream",
          "name": "stdout",
          "text": [
            "Average Training Loss: 1.5372\n"
          ]
        },
        {
          "output_type": "stream",
          "name": "stderr",
          "text": [
            "Epoch 5/20 - Validation: 100%|██████████| 138/138 [00:00<00:00, 2000.82it/s]\n",
            "Epoch 6/20 - Training: 100%|██████████| 1068/1068 [00:02<00:00, 490.01it/s]\n"
          ]
        },
        {
          "output_type": "stream",
          "name": "stdout",
          "text": [
            "Average Training Loss: 1.5314\n"
          ]
        },
        {
          "output_type": "stream",
          "name": "stderr",
          "text": [
            "Epoch 6/20 - Validation: 100%|██████████| 138/138 [00:00<00:00, 1745.69it/s]\n",
            "Epoch 7/20 - Training: 100%|██████████| 1068/1068 [00:02<00:00, 405.69it/s]\n"
          ]
        },
        {
          "output_type": "stream",
          "name": "stdout",
          "text": [
            "Average Training Loss: 1.5431\n"
          ]
        },
        {
          "output_type": "stream",
          "name": "stderr",
          "text": [
            "Epoch 7/20 - Validation: 100%|██████████| 138/138 [00:00<00:00, 2072.94it/s]\n",
            "Epoch 8/20 - Training: 100%|██████████| 1068/1068 [00:02<00:00, 378.27it/s]\n"
          ]
        },
        {
          "output_type": "stream",
          "name": "stdout",
          "text": [
            "Average Training Loss: 1.5321\n"
          ]
        },
        {
          "output_type": "stream",
          "name": "stderr",
          "text": [
            "Epoch 8/20 - Validation: 100%|██████████| 138/138 [00:00<00:00, 1599.71it/s]\n",
            "Epoch 9/20 - Training: 100%|██████████| 1068/1068 [00:02<00:00, 447.50it/s]\n"
          ]
        },
        {
          "output_type": "stream",
          "name": "stdout",
          "text": [
            "Average Training Loss: 1.5234\n"
          ]
        },
        {
          "output_type": "stream",
          "name": "stderr",
          "text": [
            "Epoch 9/20 - Validation: 100%|██████████| 138/138 [00:00<00:00, 1984.21it/s]\n",
            "Epoch 10/20 - Training: 100%|██████████| 1068/1068 [00:02<00:00, 481.63it/s]\n"
          ]
        },
        {
          "output_type": "stream",
          "name": "stdout",
          "text": [
            "Average Training Loss: 1.5339\n"
          ]
        },
        {
          "output_type": "stream",
          "name": "stderr",
          "text": [
            "Epoch 10/20 - Validation: 100%|██████████| 138/138 [00:00<00:00, 2182.28it/s]\n",
            "Epoch 11/20 - Training: 100%|██████████| 1068/1068 [00:02<00:00, 467.11it/s]\n"
          ]
        },
        {
          "output_type": "stream",
          "name": "stdout",
          "text": [
            "Average Training Loss: 1.5274\n"
          ]
        },
        {
          "output_type": "stream",
          "name": "stderr",
          "text": [
            "Epoch 11/20 - Validation: 100%|██████████| 138/138 [00:00<00:00, 1902.01it/s]\n",
            "Epoch 12/20 - Training: 100%|██████████| 1068/1068 [00:02<00:00, 477.51it/s]\n"
          ]
        },
        {
          "output_type": "stream",
          "name": "stdout",
          "text": [
            "Average Training Loss: 1.5268\n"
          ]
        },
        {
          "output_type": "stream",
          "name": "stderr",
          "text": [
            "Epoch 12/20 - Validation: 100%|██████████| 138/138 [00:00<00:00, 2125.34it/s]\n",
            "Epoch 13/20 - Training: 100%|██████████| 1068/1068 [00:02<00:00, 403.44it/s]\n"
          ]
        },
        {
          "output_type": "stream",
          "name": "stdout",
          "text": [
            "Average Training Loss: 1.5258\n"
          ]
        },
        {
          "output_type": "stream",
          "name": "stderr",
          "text": [
            "Epoch 13/20 - Validation: 100%|██████████| 138/138 [00:00<00:00, 1668.07it/s]\n",
            "Epoch 14/20 - Training: 100%|██████████| 1068/1068 [00:02<00:00, 369.11it/s]\n"
          ]
        },
        {
          "output_type": "stream",
          "name": "stdout",
          "text": [
            "Average Training Loss: 1.5228\n"
          ]
        },
        {
          "output_type": "stream",
          "name": "stderr",
          "text": [
            "Epoch 14/20 - Validation: 100%|██████████| 138/138 [00:00<00:00, 1428.39it/s]\n",
            "Epoch 15/20 - Training: 100%|██████████| 1068/1068 [00:02<00:00, 436.17it/s]\n"
          ]
        },
        {
          "output_type": "stream",
          "name": "stdout",
          "text": [
            "Average Training Loss: 1.5200\n"
          ]
        },
        {
          "output_type": "stream",
          "name": "stderr",
          "text": [
            "Epoch 15/20 - Validation: 100%|██████████| 138/138 [00:00<00:00, 2181.93it/s]\n",
            "Epoch 16/20 - Training: 100%|██████████| 1068/1068 [00:02<00:00, 478.63it/s]\n"
          ]
        },
        {
          "output_type": "stream",
          "name": "stdout",
          "text": [
            "Average Training Loss: 1.5296\n"
          ]
        },
        {
          "output_type": "stream",
          "name": "stderr",
          "text": [
            "Epoch 16/20 - Validation: 100%|██████████| 138/138 [00:00<00:00, 1887.50it/s]\n",
            "Epoch 17/20 - Training: 100%|██████████| 1068/1068 [00:02<00:00, 469.22it/s]\n"
          ]
        },
        {
          "output_type": "stream",
          "name": "stdout",
          "text": [
            "Average Training Loss: 1.5235\n"
          ]
        },
        {
          "output_type": "stream",
          "name": "stderr",
          "text": [
            "Epoch 17/20 - Validation: 100%|██████████| 138/138 [00:00<00:00, 1602.86it/s]\n",
            "Epoch 18/20 - Training: 100%|██████████| 1068/1068 [00:02<00:00, 466.02it/s]\n"
          ]
        },
        {
          "output_type": "stream",
          "name": "stdout",
          "text": [
            "Average Training Loss: 1.5240\n"
          ]
        },
        {
          "output_type": "stream",
          "name": "stderr",
          "text": [
            "Epoch 18/20 - Validation: 100%|██████████| 138/138 [00:00<00:00, 1920.43it/s]\n",
            "Epoch 19/20 - Training: 100%|██████████| 1068/1068 [00:02<00:00, 411.83it/s]\n"
          ]
        },
        {
          "output_type": "stream",
          "name": "stdout",
          "text": [
            "Average Training Loss: 1.5238\n"
          ]
        },
        {
          "output_type": "stream",
          "name": "stderr",
          "text": [
            "Epoch 19/20 - Validation: 100%|██████████| 138/138 [00:00<00:00, 1449.24it/s]\n",
            "Epoch 20/20 - Training: 100%|██████████| 1068/1068 [00:03<00:00, 346.64it/s]\n"
          ]
        },
        {
          "output_type": "stream",
          "name": "stdout",
          "text": [
            "Average Training Loss: 1.5250\n"
          ]
        },
        {
          "output_type": "stream",
          "name": "stderr",
          "text": [
            "Epoch 20/20 - Validation: 100%|██████████| 138/138 [00:00<00:00, 1796.08it/s]\n",
            "Epoch 1/20 - Training: 100%|██████████| 1068/1068 [00:02<00:00, 457.42it/s]\n"
          ]
        },
        {
          "output_type": "stream",
          "name": "stdout",
          "text": [
            "Average Training Loss: 1.4499\n"
          ]
        },
        {
          "output_type": "stream",
          "name": "stderr",
          "text": [
            "Epoch 1/20 - Validation: 100%|██████████| 138/138 [00:00<00:00, 1950.21it/s]\n",
            "Epoch 2/20 - Training: 100%|██████████| 1068/1068 [00:02<00:00, 385.34it/s]\n"
          ]
        },
        {
          "output_type": "stream",
          "name": "stdout",
          "text": [
            "Average Training Loss: 1.3977\n"
          ]
        },
        {
          "output_type": "stream",
          "name": "stderr",
          "text": [
            "Epoch 2/20 - Validation: 100%|██████████| 138/138 [00:00<00:00, 1699.81it/s]\n",
            "Epoch 3/20 - Training: 100%|██████████| 1068/1068 [00:02<00:00, 362.99it/s]\n"
          ]
        },
        {
          "output_type": "stream",
          "name": "stdout",
          "text": [
            "Average Training Loss: 1.3758\n"
          ]
        },
        {
          "output_type": "stream",
          "name": "stderr",
          "text": [
            "Epoch 3/20 - Validation: 100%|██████████| 138/138 [00:00<00:00, 1601.03it/s]\n",
            "Epoch 4/20 - Training: 100%|██████████| 1068/1068 [00:03<00:00, 294.82it/s]\n"
          ]
        },
        {
          "output_type": "stream",
          "name": "stdout",
          "text": [
            "Average Training Loss: 1.3740\n"
          ]
        },
        {
          "output_type": "stream",
          "name": "stderr",
          "text": [
            "Epoch 4/20 - Validation: 100%|██████████| 138/138 [00:00<00:00, 1656.36it/s]\n",
            "Epoch 5/20 - Training: 100%|██████████| 1068/1068 [00:03<00:00, 291.78it/s]\n"
          ]
        },
        {
          "output_type": "stream",
          "name": "stdout",
          "text": [
            "Average Training Loss: 1.3659\n"
          ]
        },
        {
          "output_type": "stream",
          "name": "stderr",
          "text": [
            "Epoch 5/20 - Validation: 100%|██████████| 138/138 [00:00<00:00, 1582.45it/s]\n",
            "Epoch 6/20 - Training: 100%|██████████| 1068/1068 [00:02<00:00, 371.36it/s]\n"
          ]
        },
        {
          "output_type": "stream",
          "name": "stdout",
          "text": [
            "Average Training Loss: 1.3590\n"
          ]
        },
        {
          "output_type": "stream",
          "name": "stderr",
          "text": [
            "Epoch 6/20 - Validation: 100%|██████████| 138/138 [00:00<00:00, 1861.12it/s]\n",
            "Epoch 7/20 - Training: 100%|██████████| 1068/1068 [00:02<00:00, 381.48it/s]\n"
          ]
        },
        {
          "output_type": "stream",
          "name": "stdout",
          "text": [
            "Average Training Loss: 1.3563\n"
          ]
        },
        {
          "output_type": "stream",
          "name": "stderr",
          "text": [
            "Epoch 7/20 - Validation: 100%|██████████| 138/138 [00:00<00:00, 1761.71it/s]\n",
            "Epoch 8/20 - Training: 100%|██████████| 1068/1068 [00:02<00:00, 381.14it/s]\n"
          ]
        },
        {
          "output_type": "stream",
          "name": "stdout",
          "text": [
            "Average Training Loss: 1.3542\n"
          ]
        },
        {
          "output_type": "stream",
          "name": "stderr",
          "text": [
            "Epoch 8/20 - Validation: 100%|██████████| 138/138 [00:00<00:00, 1853.25it/s]\n",
            "Epoch 9/20 - Training: 100%|██████████| 1068/1068 [00:03<00:00, 348.43it/s]\n"
          ]
        },
        {
          "output_type": "stream",
          "name": "stdout",
          "text": [
            "Average Training Loss: 1.3512\n"
          ]
        },
        {
          "output_type": "stream",
          "name": "stderr",
          "text": [
            "Epoch 9/20 - Validation: 100%|██████████| 138/138 [00:00<00:00, 1680.53it/s]\n",
            "Epoch 10/20 - Training: 100%|██████████| 1068/1068 [00:03<00:00, 296.43it/s]\n"
          ]
        },
        {
          "output_type": "stream",
          "name": "stdout",
          "text": [
            "Average Training Loss: 1.3495\n"
          ]
        },
        {
          "output_type": "stream",
          "name": "stderr",
          "text": [
            "Epoch 10/20 - Validation: 100%|██████████| 138/138 [00:00<00:00, 1636.59it/s]\n",
            "Epoch 11/20 - Training: 100%|██████████| 1068/1068 [00:03<00:00, 355.32it/s]\n"
          ]
        },
        {
          "output_type": "stream",
          "name": "stdout",
          "text": [
            "Average Training Loss: 1.3433\n"
          ]
        },
        {
          "output_type": "stream",
          "name": "stderr",
          "text": [
            "Epoch 11/20 - Validation: 100%|██████████| 138/138 [00:00<00:00, 1897.63it/s]\n",
            "Epoch 12/20 - Training: 100%|██████████| 1068/1068 [00:02<00:00, 364.64it/s]\n"
          ]
        },
        {
          "output_type": "stream",
          "name": "stdout",
          "text": [
            "Average Training Loss: 1.3456\n"
          ]
        },
        {
          "output_type": "stream",
          "name": "stderr",
          "text": [
            "Epoch 12/20 - Validation: 100%|██████████| 138/138 [00:00<00:00, 1769.02it/s]\n",
            "Epoch 13/20 - Training: 100%|██████████| 1068/1068 [00:02<00:00, 357.72it/s]\n"
          ]
        },
        {
          "output_type": "stream",
          "name": "stdout",
          "text": [
            "Average Training Loss: 1.3398\n"
          ]
        },
        {
          "output_type": "stream",
          "name": "stderr",
          "text": [
            "Epoch 13/20 - Validation: 100%|██████████| 138/138 [00:00<00:00, 1862.35it/s]\n",
            "Epoch 14/20 - Training: 100%|██████████| 1068/1068 [00:03<00:00, 287.28it/s]\n"
          ]
        },
        {
          "output_type": "stream",
          "name": "stdout",
          "text": [
            "Average Training Loss: 1.3440\n"
          ]
        },
        {
          "output_type": "stream",
          "name": "stderr",
          "text": [
            "Epoch 14/20 - Validation: 100%|██████████| 138/138 [00:00<00:00, 1312.14it/s]\n",
            "Epoch 15/20 - Training: 100%|██████████| 1068/1068 [00:03<00:00, 290.03it/s]\n"
          ]
        },
        {
          "output_type": "stream",
          "name": "stdout",
          "text": [
            "Average Training Loss: 1.3376\n"
          ]
        },
        {
          "output_type": "stream",
          "name": "stderr",
          "text": [
            "Epoch 15/20 - Validation: 100%|██████████| 138/138 [00:00<00:00, 1802.96it/s]\n",
            "Epoch 16/20 - Training: 100%|██████████| 1068/1068 [00:03<00:00, 342.12it/s]\n"
          ]
        },
        {
          "output_type": "stream",
          "name": "stdout",
          "text": [
            "Average Training Loss: 1.3401\n"
          ]
        },
        {
          "output_type": "stream",
          "name": "stderr",
          "text": [
            "Epoch 16/20 - Validation: 100%|██████████| 138/138 [00:00<00:00, 2050.25it/s]\n",
            "Epoch 17/20 - Training: 100%|██████████| 1068/1068 [00:03<00:00, 353.30it/s]\n"
          ]
        },
        {
          "output_type": "stream",
          "name": "stdout",
          "text": [
            "Average Training Loss: 1.3420\n"
          ]
        },
        {
          "output_type": "stream",
          "name": "stderr",
          "text": [
            "Epoch 17/20 - Validation: 100%|██████████| 138/138 [00:00<00:00, 1461.25it/s]\n",
            "Epoch 18/20 - Training: 100%|██████████| 1068/1068 [00:03<00:00, 334.77it/s]\n"
          ]
        },
        {
          "output_type": "stream",
          "name": "stdout",
          "text": [
            "Average Training Loss: 1.3360\n"
          ]
        },
        {
          "output_type": "stream",
          "name": "stderr",
          "text": [
            "Epoch 18/20 - Validation: 100%|██████████| 138/138 [00:00<00:00, 1592.20it/s]\n",
            "Epoch 19/20 - Training: 100%|██████████| 1068/1068 [00:03<00:00, 271.04it/s]\n"
          ]
        },
        {
          "output_type": "stream",
          "name": "stdout",
          "text": [
            "Average Training Loss: 1.3337\n"
          ]
        },
        {
          "output_type": "stream",
          "name": "stderr",
          "text": [
            "Epoch 19/20 - Validation: 100%|██████████| 138/138 [00:00<00:00, 1871.31it/s]\n",
            "Epoch 20/20 - Training: 100%|██████████| 1068/1068 [00:02<00:00, 362.71it/s]\n"
          ]
        },
        {
          "output_type": "stream",
          "name": "stdout",
          "text": [
            "Average Training Loss: 1.3368\n"
          ]
        },
        {
          "output_type": "stream",
          "name": "stderr",
          "text": [
            "Epoch 20/20 - Validation: 100%|██████████| 138/138 [00:00<00:00, 1966.79it/s]\n",
            "Epoch 1/20 - Training: 100%|██████████| 1068/1068 [00:02<00:00, 468.46it/s]\n"
          ]
        },
        {
          "output_type": "stream",
          "name": "stdout",
          "text": [
            "Average Training Loss: 1.4717\n"
          ]
        },
        {
          "output_type": "stream",
          "name": "stderr",
          "text": [
            "Epoch 1/20 - Validation: 100%|██████████| 138/138 [00:00<00:00, 1721.11it/s]\n",
            "Epoch 2/20 - Training: 100%|██████████| 1068/1068 [00:03<00:00, 348.66it/s]\n"
          ]
        },
        {
          "output_type": "stream",
          "name": "stdout",
          "text": [
            "Average Training Loss: 1.4170\n"
          ]
        },
        {
          "output_type": "stream",
          "name": "stderr",
          "text": [
            "Epoch 2/20 - Validation: 100%|██████████| 138/138 [00:00<00:00, 1693.42it/s]\n",
            "Epoch 3/20 - Training: 100%|██████████| 1068/1068 [00:03<00:00, 311.81it/s]\n"
          ]
        },
        {
          "output_type": "stream",
          "name": "stdout",
          "text": [
            "Average Training Loss: 1.4040\n"
          ]
        },
        {
          "output_type": "stream",
          "name": "stderr",
          "text": [
            "Epoch 3/20 - Validation: 100%|██████████| 138/138 [00:00<00:00, 1726.78it/s]\n",
            "Epoch 4/20 - Training: 100%|██████████| 1068/1068 [00:03<00:00, 276.46it/s]\n"
          ]
        },
        {
          "output_type": "stream",
          "name": "stdout",
          "text": [
            "Average Training Loss: 1.3942\n"
          ]
        },
        {
          "output_type": "stream",
          "name": "stderr",
          "text": [
            "Epoch 4/20 - Validation: 100%|██████████| 138/138 [00:00<00:00, 1913.43it/s]\n",
            "Epoch 5/20 - Training: 100%|██████████| 1068/1068 [00:03<00:00, 329.73it/s]\n"
          ]
        },
        {
          "output_type": "stream",
          "name": "stdout",
          "text": [
            "Average Training Loss: 1.3904\n"
          ]
        },
        {
          "output_type": "stream",
          "name": "stderr",
          "text": [
            "Epoch 5/20 - Validation: 100%|██████████| 138/138 [00:00<00:00, 1827.59it/s]\n",
            "Epoch 6/20 - Training: 100%|██████████| 1068/1068 [00:03<00:00, 347.45it/s]\n"
          ]
        },
        {
          "output_type": "stream",
          "name": "stdout",
          "text": [
            "Average Training Loss: 1.3834\n"
          ]
        },
        {
          "output_type": "stream",
          "name": "stderr",
          "text": [
            "Epoch 6/20 - Validation: 100%|██████████| 138/138 [00:00<00:00, 1773.70it/s]\n",
            "Epoch 7/20 - Training: 100%|██████████| 1068/1068 [00:03<00:00, 344.30it/s]\n"
          ]
        },
        {
          "output_type": "stream",
          "name": "stdout",
          "text": [
            "Average Training Loss: 1.3839\n"
          ]
        },
        {
          "output_type": "stream",
          "name": "stderr",
          "text": [
            "Epoch 7/20 - Validation: 100%|██████████| 138/138 [00:00<00:00, 1766.93it/s]\n",
            "Epoch 8/20 - Training: 100%|██████████| 1068/1068 [00:03<00:00, 274.20it/s]\n"
          ]
        },
        {
          "output_type": "stream",
          "name": "stdout",
          "text": [
            "Average Training Loss: 1.3708\n"
          ]
        },
        {
          "output_type": "stream",
          "name": "stderr",
          "text": [
            "Epoch 8/20 - Validation: 100%|██████████| 138/138 [00:00<00:00, 1843.47it/s]\n",
            "Epoch 9/20 - Training: 100%|██████████| 1068/1068 [00:03<00:00, 319.73it/s]\n"
          ]
        },
        {
          "output_type": "stream",
          "name": "stdout",
          "text": [
            "Average Training Loss: 1.3668\n"
          ]
        },
        {
          "output_type": "stream",
          "name": "stderr",
          "text": [
            "Epoch 9/20 - Validation: 100%|██████████| 138/138 [00:00<00:00, 1794.79it/s]\n",
            "Epoch 10/20 - Training: 100%|██████████| 1068/1068 [00:03<00:00, 345.79it/s]\n"
          ]
        },
        {
          "output_type": "stream",
          "name": "stdout",
          "text": [
            "Average Training Loss: 1.3662\n"
          ]
        },
        {
          "output_type": "stream",
          "name": "stderr",
          "text": [
            "Epoch 10/20 - Validation: 100%|██████████| 138/138 [00:00<00:00, 1824.56it/s]\n",
            "Epoch 11/20 - Training: 100%|██████████| 1068/1068 [00:03<00:00, 346.69it/s]\n"
          ]
        },
        {
          "output_type": "stream",
          "name": "stdout",
          "text": [
            "Average Training Loss: 1.3659\n"
          ]
        },
        {
          "output_type": "stream",
          "name": "stderr",
          "text": [
            "Epoch 11/20 - Validation: 100%|██████████| 138/138 [00:00<00:00, 1874.38it/s]\n",
            "Epoch 12/20 - Training: 100%|██████████| 1068/1068 [00:03<00:00, 301.49it/s]\n"
          ]
        },
        {
          "output_type": "stream",
          "name": "stdout",
          "text": [
            "Average Training Loss: 1.3660\n"
          ]
        },
        {
          "output_type": "stream",
          "name": "stderr",
          "text": [
            "Epoch 12/20 - Validation: 100%|██████████| 138/138 [00:00<00:00, 1655.76it/s]\n",
            "Epoch 13/20 - Training: 100%|██████████| 1068/1068 [00:03<00:00, 270.22it/s]\n"
          ]
        },
        {
          "output_type": "stream",
          "name": "stdout",
          "text": [
            "Average Training Loss: 1.3617\n"
          ]
        },
        {
          "output_type": "stream",
          "name": "stderr",
          "text": [
            "Epoch 13/20 - Validation: 100%|██████████| 138/138 [00:00<00:00, 1825.55it/s]\n",
            "Epoch 14/20 - Training: 100%|██████████| 1068/1068 [00:03<00:00, 340.56it/s]\n"
          ]
        },
        {
          "output_type": "stream",
          "name": "stdout",
          "text": [
            "Average Training Loss: 1.3572\n"
          ]
        },
        {
          "output_type": "stream",
          "name": "stderr",
          "text": [
            "Epoch 14/20 - Validation: 100%|██████████| 138/138 [00:00<00:00, 1719.12it/s]\n",
            "Epoch 15/20 - Training: 100%|██████████| 1068/1068 [00:03<00:00, 325.08it/s]\n"
          ]
        },
        {
          "output_type": "stream",
          "name": "stdout",
          "text": [
            "Average Training Loss: 1.3578\n"
          ]
        },
        {
          "output_type": "stream",
          "name": "stderr",
          "text": [
            "Epoch 15/20 - Validation: 100%|██████████| 138/138 [00:00<00:00, 1814.94it/s]\n",
            "Epoch 16/20 - Training: 100%|██████████| 1068/1068 [00:03<00:00, 300.51it/s]\n"
          ]
        },
        {
          "output_type": "stream",
          "name": "stdout",
          "text": [
            "Average Training Loss: 1.3615\n"
          ]
        },
        {
          "output_type": "stream",
          "name": "stderr",
          "text": [
            "Epoch 16/20 - Validation: 100%|██████████| 138/138 [00:00<00:00, 1554.16it/s]\n",
            "Epoch 17/20 - Training: 100%|██████████| 1068/1068 [00:03<00:00, 267.22it/s]\n"
          ]
        },
        {
          "output_type": "stream",
          "name": "stdout",
          "text": [
            "Average Training Loss: 1.3518\n"
          ]
        },
        {
          "output_type": "stream",
          "name": "stderr",
          "text": [
            "Epoch 17/20 - Validation: 100%|██████████| 138/138 [00:00<00:00, 1600.48it/s]\n",
            "Epoch 18/20 - Training: 100%|██████████| 1068/1068 [00:03<00:00, 314.02it/s]\n"
          ]
        },
        {
          "output_type": "stream",
          "name": "stdout",
          "text": [
            "Average Training Loss: 1.3548\n"
          ]
        },
        {
          "output_type": "stream",
          "name": "stderr",
          "text": [
            "Epoch 18/20 - Validation: 100%|██████████| 138/138 [00:00<00:00, 1757.41it/s]\n",
            "Epoch 19/20 - Training: 100%|██████████| 1068/1068 [00:03<00:00, 332.89it/s]\n"
          ]
        },
        {
          "output_type": "stream",
          "name": "stdout",
          "text": [
            "Average Training Loss: 1.3534\n"
          ]
        },
        {
          "output_type": "stream",
          "name": "stderr",
          "text": [
            "Epoch 19/20 - Validation: 100%|██████████| 138/138 [00:00<00:00, 1702.97it/s]\n",
            "Epoch 20/20 - Training: 100%|██████████| 1068/1068 [00:03<00:00, 337.30it/s]\n"
          ]
        },
        {
          "output_type": "stream",
          "name": "stdout",
          "text": [
            "Average Training Loss: 1.3489\n"
          ]
        },
        {
          "output_type": "stream",
          "name": "stderr",
          "text": [
            "Epoch 20/20 - Validation: 100%|██████████| 138/138 [00:00<00:00, 1945.43it/s]\n",
            "Epoch 1/20 - Training: 100%|██████████| 1068/1068 [00:03<00:00, 342.10it/s]\n"
          ]
        },
        {
          "output_type": "stream",
          "name": "stdout",
          "text": [
            "Average Training Loss: 1.4767\n"
          ]
        },
        {
          "output_type": "stream",
          "name": "stderr",
          "text": [
            "Epoch 1/20 - Validation: 100%|██████████| 138/138 [00:00<00:00, 1363.27it/s]\n",
            "Epoch 2/20 - Training: 100%|██████████| 1068/1068 [00:03<00:00, 321.60it/s]\n"
          ]
        },
        {
          "output_type": "stream",
          "name": "stdout",
          "text": [
            "Average Training Loss: 1.4334\n"
          ]
        },
        {
          "output_type": "stream",
          "name": "stderr",
          "text": [
            "Epoch 2/20 - Validation: 100%|██████████| 138/138 [00:00<00:00, 1608.99it/s]\n",
            "Epoch 3/20 - Training: 100%|██████████| 1068/1068 [00:02<00:00, 376.44it/s]\n"
          ]
        },
        {
          "output_type": "stream",
          "name": "stdout",
          "text": [
            "Average Training Loss: 1.4180\n"
          ]
        },
        {
          "output_type": "stream",
          "name": "stderr",
          "text": [
            "Epoch 3/20 - Validation: 100%|██████████| 138/138 [00:00<00:00, 1995.87it/s]\n",
            "Epoch 4/20 - Training: 100%|██████████| 1068/1068 [00:02<00:00, 356.18it/s]\n"
          ]
        },
        {
          "output_type": "stream",
          "name": "stdout",
          "text": [
            "Average Training Loss: 1.4039\n"
          ]
        },
        {
          "output_type": "stream",
          "name": "stderr",
          "text": [
            "Epoch 4/20 - Validation: 100%|██████████| 138/138 [00:00<00:00, 1869.28it/s]\n",
            "Epoch 5/20 - Training: 100%|██████████| 1068/1068 [00:03<00:00, 351.82it/s]\n"
          ]
        },
        {
          "output_type": "stream",
          "name": "stdout",
          "text": [
            "Average Training Loss: 1.4046\n"
          ]
        },
        {
          "output_type": "stream",
          "name": "stderr",
          "text": [
            "Epoch 5/20 - Validation: 100%|██████████| 138/138 [00:00<00:00, 1630.27it/s]\n",
            "Epoch 6/20 - Training: 100%|██████████| 1068/1068 [00:03<00:00, 269.25it/s]\n"
          ]
        },
        {
          "output_type": "stream",
          "name": "stdout",
          "text": [
            "Average Training Loss: 1.4020\n"
          ]
        },
        {
          "output_type": "stream",
          "name": "stderr",
          "text": [
            "Epoch 6/20 - Validation: 100%|██████████| 138/138 [00:00<00:00, 1451.27it/s]\n",
            "Epoch 7/20 - Training: 100%|██████████| 1068/1068 [00:03<00:00, 295.15it/s]\n"
          ]
        },
        {
          "output_type": "stream",
          "name": "stdout",
          "text": [
            "Average Training Loss: 1.3963\n"
          ]
        },
        {
          "output_type": "stream",
          "name": "stderr",
          "text": [
            "Epoch 7/20 - Validation: 100%|██████████| 138/138 [00:00<00:00, 1896.76it/s]\n",
            "Epoch 8/20 - Training: 100%|██████████| 1068/1068 [00:03<00:00, 345.94it/s]\n"
          ]
        },
        {
          "output_type": "stream",
          "name": "stdout",
          "text": [
            "Average Training Loss: 1.3889\n"
          ]
        },
        {
          "output_type": "stream",
          "name": "stderr",
          "text": [
            "Epoch 8/20 - Validation: 100%|██████████| 138/138 [00:00<00:00, 1957.65it/s]\n",
            "Epoch 9/20 - Training: 100%|██████████| 1068/1068 [00:03<00:00, 338.66it/s]\n"
          ]
        },
        {
          "output_type": "stream",
          "name": "stdout",
          "text": [
            "Average Training Loss: 1.3854\n"
          ]
        },
        {
          "output_type": "stream",
          "name": "stderr",
          "text": [
            "Epoch 9/20 - Validation: 100%|██████████| 138/138 [00:00<00:00, 1750.05it/s]\n",
            "Epoch 10/20 - Training: 100%|██████████| 1068/1068 [00:04<00:00, 259.84it/s]\n"
          ]
        },
        {
          "output_type": "stream",
          "name": "stdout",
          "text": [
            "Average Training Loss: 1.3958\n"
          ]
        },
        {
          "output_type": "stream",
          "name": "stderr",
          "text": [
            "Epoch 10/20 - Validation: 100%|██████████| 138/138 [00:00<00:00, 1413.92it/s]\n",
            "Epoch 11/20 - Training: 100%|██████████| 1068/1068 [00:03<00:00, 298.13it/s]\n"
          ]
        },
        {
          "output_type": "stream",
          "name": "stdout",
          "text": [
            "Average Training Loss: 1.3814\n"
          ]
        },
        {
          "output_type": "stream",
          "name": "stderr",
          "text": [
            "Epoch 11/20 - Validation: 100%|██████████| 138/138 [00:00<00:00, 1828.43it/s]\n",
            "Epoch 12/20 - Training: 100%|██████████| 1068/1068 [00:03<00:00, 336.06it/s]\n"
          ]
        },
        {
          "output_type": "stream",
          "name": "stdout",
          "text": [
            "Average Training Loss: 1.3806\n"
          ]
        },
        {
          "output_type": "stream",
          "name": "stderr",
          "text": [
            "Epoch 12/20 - Validation: 100%|██████████| 138/138 [00:00<00:00, 1758.66it/s]\n",
            "Epoch 13/20 - Training: 100%|██████████| 1068/1068 [00:02<00:00, 359.41it/s]\n"
          ]
        },
        {
          "output_type": "stream",
          "name": "stdout",
          "text": [
            "Average Training Loss: 1.3787\n"
          ]
        },
        {
          "output_type": "stream",
          "name": "stderr",
          "text": [
            "Epoch 13/20 - Validation: 100%|██████████| 138/138 [00:00<00:00, 1867.18it/s]\n",
            "Epoch 14/20 - Training: 100%|██████████| 1068/1068 [00:03<00:00, 315.64it/s]\n"
          ]
        },
        {
          "output_type": "stream",
          "name": "stdout",
          "text": [
            "Average Training Loss: 1.3752\n"
          ]
        },
        {
          "output_type": "stream",
          "name": "stderr",
          "text": [
            "Epoch 14/20 - Validation: 100%|██████████| 138/138 [00:00<00:00, 1499.42it/s]\n",
            "Epoch 15/20 - Training: 100%|██████████| 1068/1068 [00:03<00:00, 274.51it/s]\n"
          ]
        },
        {
          "output_type": "stream",
          "name": "stdout",
          "text": [
            "Average Training Loss: 1.3776\n"
          ]
        },
        {
          "output_type": "stream",
          "name": "stderr",
          "text": [
            "Epoch 15/20 - Validation: 100%|██████████| 138/138 [00:00<00:00, 1817.23it/s]\n",
            "Epoch 16/20 - Training: 100%|██████████| 1068/1068 [00:03<00:00, 346.69it/s]\n"
          ]
        },
        {
          "output_type": "stream",
          "name": "stdout",
          "text": [
            "Average Training Loss: 1.3772\n"
          ]
        },
        {
          "output_type": "stream",
          "name": "stderr",
          "text": [
            "Epoch 16/20 - Validation: 100%|██████████| 138/138 [00:00<00:00, 1709.82it/s]\n",
            "Epoch 17/20 - Training: 100%|██████████| 1068/1068 [00:03<00:00, 335.43it/s]\n"
          ]
        },
        {
          "output_type": "stream",
          "name": "stdout",
          "text": [
            "Average Training Loss: 1.3750\n"
          ]
        },
        {
          "output_type": "stream",
          "name": "stderr",
          "text": [
            "Epoch 17/20 - Validation: 100%|██████████| 138/138 [00:00<00:00, 1670.96it/s]\n",
            "Epoch 18/20 - Training: 100%|██████████| 1068/1068 [00:03<00:00, 349.89it/s]\n"
          ]
        },
        {
          "output_type": "stream",
          "name": "stdout",
          "text": [
            "Average Training Loss: 1.3727\n"
          ]
        },
        {
          "output_type": "stream",
          "name": "stderr",
          "text": [
            "Epoch 18/20 - Validation: 100%|██████████| 138/138 [00:00<00:00, 1853.46it/s]\n",
            "Epoch 19/20 - Training: 100%|██████████| 1068/1068 [00:04<00:00, 266.41it/s]\n"
          ]
        },
        {
          "output_type": "stream",
          "name": "stdout",
          "text": [
            "Average Training Loss: 1.3749\n"
          ]
        },
        {
          "output_type": "stream",
          "name": "stderr",
          "text": [
            "Epoch 19/20 - Validation: 100%|██████████| 138/138 [00:00<00:00, 1562.64it/s]\n",
            "Epoch 20/20 - Training: 100%|██████████| 1068/1068 [00:03<00:00, 319.25it/s]\n"
          ]
        },
        {
          "output_type": "stream",
          "name": "stdout",
          "text": [
            "Average Training Loss: 1.3703\n"
          ]
        },
        {
          "output_type": "stream",
          "name": "stderr",
          "text": [
            "Epoch 20/20 - Validation: 100%|██████████| 138/138 [00:00<00:00, 1933.80it/s]\n",
            "Epoch 1/20 - Training: 100%|██████████| 1068/1068 [00:02<00:00, 468.22it/s]\n"
          ]
        },
        {
          "output_type": "stream",
          "name": "stdout",
          "text": [
            "Average Training Loss: 1.5273\n"
          ]
        },
        {
          "output_type": "stream",
          "name": "stderr",
          "text": [
            "Epoch 1/20 - Validation: 100%|██████████| 138/138 [00:00<00:00, 1705.94it/s]\n",
            "Epoch 2/20 - Training: 100%|██████████| 1068/1068 [00:02<00:00, 386.84it/s]\n"
          ]
        },
        {
          "output_type": "stream",
          "name": "stdout",
          "text": [
            "Average Training Loss: 1.4856\n"
          ]
        },
        {
          "output_type": "stream",
          "name": "stderr",
          "text": [
            "Epoch 2/20 - Validation: 100%|██████████| 138/138 [00:00<00:00, 1543.01it/s]\n",
            "Epoch 3/20 - Training: 100%|██████████| 1068/1068 [00:03<00:00, 353.97it/s]\n"
          ]
        },
        {
          "output_type": "stream",
          "name": "stdout",
          "text": [
            "Average Training Loss: 1.4783\n"
          ]
        },
        {
          "output_type": "stream",
          "name": "stderr",
          "text": [
            "Epoch 3/20 - Validation: 100%|██████████| 138/138 [00:00<00:00, 1268.43it/s]\n",
            "Epoch 4/20 - Training: 100%|██████████| 1068/1068 [00:03<00:00, 276.69it/s]\n"
          ]
        },
        {
          "output_type": "stream",
          "name": "stdout",
          "text": [
            "Average Training Loss: 1.4752\n"
          ]
        },
        {
          "output_type": "stream",
          "name": "stderr",
          "text": [
            "Epoch 4/20 - Validation: 100%|██████████| 138/138 [00:00<00:00, 1802.43it/s]\n",
            "Epoch 5/20 - Training: 100%|██████████| 1068/1068 [00:03<00:00, 327.13it/s]\n"
          ]
        },
        {
          "output_type": "stream",
          "name": "stdout",
          "text": [
            "Average Training Loss: 1.4635\n"
          ]
        },
        {
          "output_type": "stream",
          "name": "stderr",
          "text": [
            "Epoch 5/20 - Validation: 100%|██████████| 138/138 [00:00<00:00, 1604.14it/s]\n",
            "Epoch 6/20 - Training: 100%|██████████| 1068/1068 [00:03<00:00, 350.41it/s]\n"
          ]
        },
        {
          "output_type": "stream",
          "name": "stdout",
          "text": [
            "Average Training Loss: 1.4666\n"
          ]
        },
        {
          "output_type": "stream",
          "name": "stderr",
          "text": [
            "Epoch 6/20 - Validation: 100%|██████████| 138/138 [00:00<00:00, 2080.43it/s]\n",
            "Epoch 7/20 - Training: 100%|██████████| 1068/1068 [00:02<00:00, 363.79it/s]\n"
          ]
        },
        {
          "output_type": "stream",
          "name": "stdout",
          "text": [
            "Average Training Loss: 1.4554\n"
          ]
        },
        {
          "output_type": "stream",
          "name": "stderr",
          "text": [
            "Epoch 7/20 - Validation: 100%|██████████| 138/138 [00:00<00:00, 1591.77it/s]\n",
            "Epoch 8/20 - Training: 100%|██████████| 1068/1068 [00:03<00:00, 313.09it/s]\n"
          ]
        },
        {
          "output_type": "stream",
          "name": "stdout",
          "text": [
            "Average Training Loss: 1.4567\n"
          ]
        },
        {
          "output_type": "stream",
          "name": "stderr",
          "text": [
            "Epoch 8/20 - Validation: 100%|██████████| 138/138 [00:00<00:00, 1765.11it/s]\n",
            "Epoch 9/20 - Training: 100%|██████████| 1068/1068 [00:03<00:00, 283.26it/s]\n"
          ]
        },
        {
          "output_type": "stream",
          "name": "stdout",
          "text": [
            "Average Training Loss: 1.4571\n"
          ]
        },
        {
          "output_type": "stream",
          "name": "stderr",
          "text": [
            "Epoch 9/20 - Validation: 100%|██████████| 138/138 [00:00<00:00, 1716.08it/s]\n",
            "Epoch 10/20 - Training: 100%|██████████| 1068/1068 [00:02<00:00, 359.13it/s]\n"
          ]
        },
        {
          "output_type": "stream",
          "name": "stdout",
          "text": [
            "Average Training Loss: 1.4468\n"
          ]
        },
        {
          "output_type": "stream",
          "name": "stderr",
          "text": [
            "Epoch 10/20 - Validation: 100%|██████████| 138/138 [00:00<00:00, 1400.37it/s]\n",
            "Epoch 11/20 - Training: 100%|██████████| 1068/1068 [00:03<00:00, 349.53it/s]\n"
          ]
        },
        {
          "output_type": "stream",
          "name": "stdout",
          "text": [
            "Average Training Loss: 1.4550\n"
          ]
        },
        {
          "output_type": "stream",
          "name": "stderr",
          "text": [
            "Epoch 11/20 - Validation: 100%|██████████| 138/138 [00:00<00:00, 1968.19it/s]\n",
            "Epoch 12/20 - Training: 100%|██████████| 1068/1068 [00:03<00:00, 346.29it/s]\n"
          ]
        },
        {
          "output_type": "stream",
          "name": "stdout",
          "text": [
            "Average Training Loss: 1.4560\n"
          ]
        },
        {
          "output_type": "stream",
          "name": "stderr",
          "text": [
            "Epoch 12/20 - Validation: 100%|██████████| 138/138 [00:00<00:00, 1437.99it/s]\n",
            "Epoch 13/20 - Training: 100%|██████████| 1068/1068 [00:03<00:00, 272.55it/s]\n"
          ]
        },
        {
          "output_type": "stream",
          "name": "stdout",
          "text": [
            "Average Training Loss: 1.4462\n"
          ]
        },
        {
          "output_type": "stream",
          "name": "stderr",
          "text": [
            "Epoch 13/20 - Validation: 100%|██████████| 138/138 [00:00<00:00, 1622.92it/s]\n",
            "Epoch 14/20 - Training: 100%|██████████| 1068/1068 [00:03<00:00, 318.57it/s]\n"
          ]
        },
        {
          "output_type": "stream",
          "name": "stdout",
          "text": [
            "Average Training Loss: 1.4474\n"
          ]
        },
        {
          "output_type": "stream",
          "name": "stderr",
          "text": [
            "Epoch 14/20 - Validation: 100%|██████████| 138/138 [00:00<00:00, 1799.23it/s]\n",
            "Epoch 15/20 - Training: 100%|██████████| 1068/1068 [00:03<00:00, 333.59it/s]\n"
          ]
        },
        {
          "output_type": "stream",
          "name": "stdout",
          "text": [
            "Average Training Loss: 1.4449\n"
          ]
        },
        {
          "output_type": "stream",
          "name": "stderr",
          "text": [
            "Epoch 15/20 - Validation: 100%|██████████| 138/138 [00:00<00:00, 1913.91it/s]\n",
            "Epoch 16/20 - Training: 100%|██████████| 1068/1068 [00:03<00:00, 342.20it/s]\n"
          ]
        },
        {
          "output_type": "stream",
          "name": "stdout",
          "text": [
            "Average Training Loss: 1.4495\n"
          ]
        },
        {
          "output_type": "stream",
          "name": "stderr",
          "text": [
            "Epoch 16/20 - Validation: 100%|██████████| 138/138 [00:00<00:00, 1709.14it/s]\n",
            "Epoch 17/20 - Training: 100%|██████████| 1068/1068 [00:03<00:00, 293.00it/s]\n"
          ]
        },
        {
          "output_type": "stream",
          "name": "stdout",
          "text": [
            "Average Training Loss: 1.4416\n"
          ]
        },
        {
          "output_type": "stream",
          "name": "stderr",
          "text": [
            "Epoch 17/20 - Validation: 100%|██████████| 138/138 [00:00<00:00, 1635.66it/s]\n",
            "Epoch 18/20 - Training: 100%|██████████| 1068/1068 [00:03<00:00, 279.96it/s]\n"
          ]
        },
        {
          "output_type": "stream",
          "name": "stdout",
          "text": [
            "Average Training Loss: 1.4436\n"
          ]
        },
        {
          "output_type": "stream",
          "name": "stderr",
          "text": [
            "Epoch 18/20 - Validation: 100%|██████████| 138/138 [00:00<00:00, 1825.07it/s]\n",
            "Epoch 19/20 - Training: 100%|██████████| 1068/1068 [00:03<00:00, 331.12it/s]\n"
          ]
        },
        {
          "output_type": "stream",
          "name": "stdout",
          "text": [
            "Average Training Loss: 1.4433\n"
          ]
        },
        {
          "output_type": "stream",
          "name": "stderr",
          "text": [
            "Epoch 19/20 - Validation: 100%|██████████| 138/138 [00:00<00:00, 1780.48it/s]\n",
            "Epoch 20/20 - Training: 100%|██████████| 1068/1068 [00:03<00:00, 333.99it/s]\n"
          ]
        },
        {
          "output_type": "stream",
          "name": "stdout",
          "text": [
            "Average Training Loss: 1.4394\n"
          ]
        },
        {
          "output_type": "stream",
          "name": "stderr",
          "text": [
            "Epoch 20/20 - Validation: 100%|██████████| 138/138 [00:00<00:00, 1715.12it/s]\n",
            "Epoch 1/20 - Training: 100%|██████████| 1068/1068 [00:02<00:00, 461.91it/s]\n"
          ]
        },
        {
          "output_type": "stream",
          "name": "stdout",
          "text": [
            "Average Training Loss: 1.5772\n"
          ]
        },
        {
          "output_type": "stream",
          "name": "stderr",
          "text": [
            "Epoch 1/20 - Validation: 100%|██████████| 138/138 [00:00<00:00, 1471.60it/s]\n",
            "Epoch 2/20 - Training: 100%|██████████| 1068/1068 [00:03<00:00, 278.62it/s]\n"
          ]
        },
        {
          "output_type": "stream",
          "name": "stdout",
          "text": [
            "Average Training Loss: 1.5563\n"
          ]
        },
        {
          "output_type": "stream",
          "name": "stderr",
          "text": [
            "Epoch 2/20 - Validation: 100%|██████████| 138/138 [00:00<00:00, 1759.71it/s]\n",
            "Epoch 3/20 - Training: 100%|██████████| 1068/1068 [00:03<00:00, 336.36it/s]\n"
          ]
        },
        {
          "output_type": "stream",
          "name": "stdout",
          "text": [
            "Average Training Loss: 1.5311\n"
          ]
        },
        {
          "output_type": "stream",
          "name": "stderr",
          "text": [
            "Epoch 3/20 - Validation: 100%|██████████| 138/138 [00:00<00:00, 1580.64it/s]\n",
            "Epoch 4/20 - Training: 100%|██████████| 1068/1068 [00:02<00:00, 365.15it/s]\n"
          ]
        },
        {
          "output_type": "stream",
          "name": "stdout",
          "text": [
            "Average Training Loss: 1.5348\n"
          ]
        },
        {
          "output_type": "stream",
          "name": "stderr",
          "text": [
            "Epoch 4/20 - Validation: 100%|██████████| 138/138 [00:00<00:00, 1849.19it/s]\n",
            "Epoch 5/20 - Training: 100%|██████████| 1068/1068 [00:02<00:00, 359.36it/s]\n"
          ]
        },
        {
          "output_type": "stream",
          "name": "stdout",
          "text": [
            "Average Training Loss: 1.5347\n"
          ]
        },
        {
          "output_type": "stream",
          "name": "stderr",
          "text": [
            "Epoch 5/20 - Validation: 100%|██████████| 138/138 [00:00<00:00, 1896.46it/s]\n",
            "Epoch 6/20 - Training: 100%|██████████| 1068/1068 [00:03<00:00, 325.52it/s]\n"
          ]
        },
        {
          "output_type": "stream",
          "name": "stdout",
          "text": [
            "Average Training Loss: 1.5232\n"
          ]
        },
        {
          "output_type": "stream",
          "name": "stderr",
          "text": [
            "Epoch 6/20 - Validation: 100%|██████████| 138/138 [00:00<00:00, 1678.82it/s]\n",
            "Epoch 7/20 - Training: 100%|██████████| 1068/1068 [00:03<00:00, 281.81it/s]\n"
          ]
        },
        {
          "output_type": "stream",
          "name": "stdout",
          "text": [
            "Average Training Loss: 1.5177\n"
          ]
        },
        {
          "output_type": "stream",
          "name": "stderr",
          "text": [
            "Epoch 7/20 - Validation: 100%|██████████| 138/138 [00:00<00:00, 1402.31it/s]\n",
            "Epoch 8/20 - Training: 100%|██████████| 1068/1068 [00:03<00:00, 337.78it/s]\n"
          ]
        },
        {
          "output_type": "stream",
          "name": "stdout",
          "text": [
            "Average Training Loss: 1.5218\n"
          ]
        },
        {
          "output_type": "stream",
          "name": "stderr",
          "text": [
            "Epoch 8/20 - Validation: 100%|██████████| 138/138 [00:00<00:00, 1722.53it/s]\n",
            "Epoch 9/20 - Training: 100%|██████████| 1068/1068 [00:03<00:00, 330.74it/s]\n"
          ]
        },
        {
          "output_type": "stream",
          "name": "stdout",
          "text": [
            "Average Training Loss: 1.5169\n"
          ]
        },
        {
          "output_type": "stream",
          "name": "stderr",
          "text": [
            "Epoch 9/20 - Validation: 100%|██████████| 138/138 [00:00<00:00, 1841.76it/s]\n",
            "Epoch 10/20 - Training: 100%|██████████| 1068/1068 [00:03<00:00, 337.99it/s]\n"
          ]
        },
        {
          "output_type": "stream",
          "name": "stdout",
          "text": [
            "Average Training Loss: 1.5105\n"
          ]
        },
        {
          "output_type": "stream",
          "name": "stderr",
          "text": [
            "Epoch 10/20 - Validation: 100%|██████████| 138/138 [00:00<00:00, 1879.21it/s]\n",
            "Epoch 11/20 - Training: 100%|██████████| 1068/1068 [00:04<00:00, 260.18it/s]\n"
          ]
        },
        {
          "output_type": "stream",
          "name": "stdout",
          "text": [
            "Average Training Loss: 1.5149\n"
          ]
        },
        {
          "output_type": "stream",
          "name": "stderr",
          "text": [
            "Epoch 11/20 - Validation: 100%|██████████| 138/138 [00:00<00:00, 1570.17it/s]\n",
            "Epoch 12/20 - Training: 100%|██████████| 1068/1068 [00:03<00:00, 298.74it/s]\n"
          ]
        },
        {
          "output_type": "stream",
          "name": "stdout",
          "text": [
            "Average Training Loss: 1.5044\n"
          ]
        },
        {
          "output_type": "stream",
          "name": "stderr",
          "text": [
            "Epoch 12/20 - Validation: 100%|██████████| 138/138 [00:00<00:00, 1826.80it/s]\n",
            "Epoch 13/20 - Training: 100%|██████████| 1068/1068 [00:03<00:00, 329.13it/s]\n"
          ]
        },
        {
          "output_type": "stream",
          "name": "stdout",
          "text": [
            "Average Training Loss: 1.5072\n"
          ]
        },
        {
          "output_type": "stream",
          "name": "stderr",
          "text": [
            "Epoch 13/20 - Validation: 100%|██████████| 138/138 [00:00<00:00, 1827.34it/s]\n",
            "Epoch 14/20 - Training: 100%|██████████| 1068/1068 [00:03<00:00, 332.26it/s]\n"
          ]
        },
        {
          "output_type": "stream",
          "name": "stdout",
          "text": [
            "Average Training Loss: 1.5095\n"
          ]
        },
        {
          "output_type": "stream",
          "name": "stderr",
          "text": [
            "Epoch 14/20 - Validation: 100%|██████████| 138/138 [00:00<00:00, 1744.53it/s]\n",
            "Epoch 15/20 - Training: 100%|██████████| 1068/1068 [00:03<00:00, 285.07it/s]\n"
          ]
        },
        {
          "output_type": "stream",
          "name": "stdout",
          "text": [
            "Average Training Loss: 1.5031\n"
          ]
        },
        {
          "output_type": "stream",
          "name": "stderr",
          "text": [
            "Epoch 15/20 - Validation: 100%|██████████| 138/138 [00:00<00:00, 1824.42it/s]\n",
            "Epoch 16/20 - Training: 100%|██████████| 1068/1068 [00:03<00:00, 275.96it/s]\n"
          ]
        },
        {
          "output_type": "stream",
          "name": "stdout",
          "text": [
            "Average Training Loss: 1.5129\n"
          ]
        },
        {
          "output_type": "stream",
          "name": "stderr",
          "text": [
            "Epoch 16/20 - Validation: 100%|██████████| 138/138 [00:00<00:00, 2142.95it/s]\n",
            "Epoch 17/20 - Training: 100%|██████████| 1068/1068 [00:03<00:00, 340.12it/s]\n"
          ]
        },
        {
          "output_type": "stream",
          "name": "stdout",
          "text": [
            "Average Training Loss: 1.5045\n"
          ]
        },
        {
          "output_type": "stream",
          "name": "stderr",
          "text": [
            "Epoch 17/20 - Validation: 100%|██████████| 138/138 [00:00<00:00, 1841.33it/s]\n",
            "Epoch 18/20 - Training: 100%|██████████| 1068/1068 [00:03<00:00, 347.06it/s]\n"
          ]
        },
        {
          "output_type": "stream",
          "name": "stdout",
          "text": [
            "Average Training Loss: 1.5203\n"
          ]
        },
        {
          "output_type": "stream",
          "name": "stderr",
          "text": [
            "Epoch 18/20 - Validation: 100%|██████████| 138/138 [00:00<00:00, 1753.88it/s]\n",
            "Epoch 19/20 - Training: 100%|██████████| 1068/1068 [00:03<00:00, 326.50it/s]\n"
          ]
        },
        {
          "output_type": "stream",
          "name": "stdout",
          "text": [
            "Average Training Loss: 1.5080\n"
          ]
        },
        {
          "output_type": "stream",
          "name": "stderr",
          "text": [
            "Epoch 19/20 - Validation: 100%|██████████| 138/138 [00:00<00:00, 1764.20it/s]\n",
            "Epoch 20/20 - Training: 100%|██████████| 1068/1068 [00:04<00:00, 264.23it/s]\n"
          ]
        },
        {
          "output_type": "stream",
          "name": "stdout",
          "text": [
            "Average Training Loss: 1.5058\n"
          ]
        },
        {
          "output_type": "stream",
          "name": "stderr",
          "text": [
            "Epoch 20/20 - Validation: 100%|██████████| 138/138 [00:00<00:00, 1498.76it/s]\n",
            "Epoch 1/20 - Training: 100%|██████████| 1068/1068 [00:01<00:00, 585.42it/s]\n"
          ]
        },
        {
          "output_type": "stream",
          "name": "stdout",
          "text": [
            "Average Training Loss: 1.6214\n"
          ]
        },
        {
          "output_type": "stream",
          "name": "stderr",
          "text": [
            "Epoch 1/20 - Validation: 100%|██████████| 138/138 [00:00<00:00, 2050.51it/s]\n",
            "Epoch 2/20 - Training: 100%|██████████| 1068/1068 [00:01<00:00, 559.42it/s]\n"
          ]
        },
        {
          "output_type": "stream",
          "name": "stdout",
          "text": [
            "Average Training Loss: 1.6196\n"
          ]
        },
        {
          "output_type": "stream",
          "name": "stderr",
          "text": [
            "Epoch 2/20 - Validation: 100%|██████████| 138/138 [00:00<00:00, 2066.00it/s]\n",
            "Epoch 3/20 - Training: 100%|██████████| 1068/1068 [00:01<00:00, 549.72it/s]\n"
          ]
        },
        {
          "output_type": "stream",
          "name": "stdout",
          "text": [
            "Average Training Loss: 1.6068\n"
          ]
        },
        {
          "output_type": "stream",
          "name": "stderr",
          "text": [
            "Epoch 3/20 - Validation: 100%|██████████| 138/138 [00:00<00:00, 2131.80it/s]\n",
            "Epoch 4/20 - Training: 100%|██████████| 1068/1068 [00:01<00:00, 569.20it/s]\n"
          ]
        },
        {
          "output_type": "stream",
          "name": "stdout",
          "text": [
            "Average Training Loss: 1.5847\n"
          ]
        },
        {
          "output_type": "stream",
          "name": "stderr",
          "text": [
            "Epoch 4/20 - Validation: 100%|██████████| 138/138 [00:00<00:00, 2251.13it/s]\n",
            "Epoch 5/20 - Training: 100%|██████████| 1068/1068 [00:01<00:00, 570.78it/s]\n"
          ]
        },
        {
          "output_type": "stream",
          "name": "stdout",
          "text": [
            "Average Training Loss: 1.5851\n"
          ]
        },
        {
          "output_type": "stream",
          "name": "stderr",
          "text": [
            "Epoch 5/20 - Validation: 100%|██████████| 138/138 [00:00<00:00, 2130.73it/s]\n",
            "Epoch 6/20 - Training: 100%|██████████| 1068/1068 [00:02<00:00, 474.87it/s]\n"
          ]
        },
        {
          "output_type": "stream",
          "name": "stdout",
          "text": [
            "Average Training Loss: 1.5862\n"
          ]
        },
        {
          "output_type": "stream",
          "name": "stderr",
          "text": [
            "Epoch 6/20 - Validation: 100%|██████████| 138/138 [00:00<00:00, 1833.96it/s]\n",
            "Epoch 7/20 - Training: 100%|██████████| 1068/1068 [00:02<00:00, 427.97it/s]\n"
          ]
        },
        {
          "output_type": "stream",
          "name": "stdout",
          "text": [
            "Average Training Loss: 1.5880\n"
          ]
        },
        {
          "output_type": "stream",
          "name": "stderr",
          "text": [
            "Epoch 7/20 - Validation: 100%|██████████| 138/138 [00:00<00:00, 1699.09it/s]\n",
            "Epoch 8/20 - Training: 100%|██████████| 1068/1068 [00:02<00:00, 471.36it/s]\n"
          ]
        },
        {
          "output_type": "stream",
          "name": "stdout",
          "text": [
            "Average Training Loss: 1.5838\n"
          ]
        },
        {
          "output_type": "stream",
          "name": "stderr",
          "text": [
            "Epoch 8/20 - Validation: 100%|██████████| 138/138 [00:00<00:00, 2261.00it/s]\n",
            "Epoch 9/20 - Training: 100%|██████████| 1068/1068 [00:01<00:00, 538.02it/s]\n"
          ]
        },
        {
          "output_type": "stream",
          "name": "stdout",
          "text": [
            "Average Training Loss: 1.5856\n"
          ]
        },
        {
          "output_type": "stream",
          "name": "stderr",
          "text": [
            "Epoch 9/20 - Validation: 100%|██████████| 138/138 [00:00<00:00, 1865.81it/s]\n",
            "Epoch 10/20 - Training: 100%|██████████| 1068/1068 [00:01<00:00, 565.73it/s]\n"
          ]
        },
        {
          "output_type": "stream",
          "name": "stdout",
          "text": [
            "Average Training Loss: 1.5865\n"
          ]
        },
        {
          "output_type": "stream",
          "name": "stderr",
          "text": [
            "Epoch 10/20 - Validation: 100%|██████████| 138/138 [00:00<00:00, 1847.00it/s]\n",
            "Epoch 11/20 - Training: 100%|██████████| 1068/1068 [00:01<00:00, 563.86it/s]\n"
          ]
        },
        {
          "output_type": "stream",
          "name": "stdout",
          "text": [
            "Average Training Loss: 1.5854\n"
          ]
        },
        {
          "output_type": "stream",
          "name": "stderr",
          "text": [
            "Epoch 11/20 - Validation: 100%|██████████| 138/138 [00:00<00:00, 1893.23it/s]\n",
            "Epoch 12/20 - Training: 100%|██████████| 1068/1068 [00:01<00:00, 560.65it/s]\n"
          ]
        },
        {
          "output_type": "stream",
          "name": "stdout",
          "text": [
            "Average Training Loss: 1.5848\n"
          ]
        },
        {
          "output_type": "stream",
          "name": "stderr",
          "text": [
            "Epoch 12/20 - Validation: 100%|██████████| 138/138 [00:00<00:00, 1642.59it/s]\n",
            "Epoch 13/20 - Training: 100%|██████████| 1068/1068 [00:02<00:00, 496.62it/s]\n"
          ]
        },
        {
          "output_type": "stream",
          "name": "stdout",
          "text": [
            "Average Training Loss: 1.5864\n"
          ]
        },
        {
          "output_type": "stream",
          "name": "stderr",
          "text": [
            "Epoch 13/20 - Validation: 100%|██████████| 138/138 [00:00<00:00, 1493.07it/s]\n",
            "Epoch 14/20 - Training: 100%|██████████| 1068/1068 [00:02<00:00, 424.59it/s]\n"
          ]
        },
        {
          "output_type": "stream",
          "name": "stdout",
          "text": [
            "Average Training Loss: 1.5833\n"
          ]
        },
        {
          "output_type": "stream",
          "name": "stderr",
          "text": [
            "Epoch 14/20 - Validation: 100%|██████████| 138/138 [00:00<00:00, 1643.61it/s]\n",
            "Epoch 15/20 - Training: 100%|██████████| 1068/1068 [00:02<00:00, 450.95it/s]\n"
          ]
        },
        {
          "output_type": "stream",
          "name": "stdout",
          "text": [
            "Average Training Loss: 1.5839\n"
          ]
        },
        {
          "output_type": "stream",
          "name": "stderr",
          "text": [
            "Epoch 15/20 - Validation: 100%|██████████| 138/138 [00:00<00:00, 1779.26it/s]\n",
            "Epoch 16/20 - Training: 100%|██████████| 1068/1068 [00:02<00:00, 523.89it/s]\n"
          ]
        },
        {
          "output_type": "stream",
          "name": "stdout",
          "text": [
            "Average Training Loss: 1.5855\n"
          ]
        },
        {
          "output_type": "stream",
          "name": "stderr",
          "text": [
            "Epoch 16/20 - Validation: 100%|██████████| 138/138 [00:00<00:00, 2038.38it/s]\n",
            "Epoch 17/20 - Training: 100%|██████████| 1068/1068 [00:02<00:00, 533.24it/s]\n"
          ]
        },
        {
          "output_type": "stream",
          "name": "stdout",
          "text": [
            "Average Training Loss: 1.5840\n"
          ]
        },
        {
          "output_type": "stream",
          "name": "stderr",
          "text": [
            "Epoch 17/20 - Validation: 100%|██████████| 138/138 [00:00<00:00, 1675.86it/s]\n",
            "Epoch 18/20 - Training: 100%|██████████| 1068/1068 [00:02<00:00, 518.32it/s]\n"
          ]
        },
        {
          "output_type": "stream",
          "name": "stdout",
          "text": [
            "Average Training Loss: 1.5854\n"
          ]
        },
        {
          "output_type": "stream",
          "name": "stderr",
          "text": [
            "Epoch 18/20 - Validation: 100%|██████████| 138/138 [00:00<00:00, 2112.86it/s]\n",
            "Epoch 19/20 - Training: 100%|██████████| 1068/1068 [00:01<00:00, 560.06it/s]\n"
          ]
        },
        {
          "output_type": "stream",
          "name": "stdout",
          "text": [
            "Average Training Loss: 1.5863\n"
          ]
        },
        {
          "output_type": "stream",
          "name": "stderr",
          "text": [
            "Epoch 19/20 - Validation: 100%|██████████| 138/138 [00:00<00:00, 1938.87it/s]\n",
            "Epoch 20/20 - Training: 100%|██████████| 1068/1068 [00:02<00:00, 466.35it/s]\n"
          ]
        },
        {
          "output_type": "stream",
          "name": "stdout",
          "text": [
            "Average Training Loss: 1.5867\n"
          ]
        },
        {
          "output_type": "stream",
          "name": "stderr",
          "text": [
            "Epoch 20/20 - Validation: 100%|██████████| 138/138 [00:00<00:00, 1623.56it/s]\n",
            "Epoch 1/20 - Training: 100%|██████████| 1068/1068 [00:02<00:00, 443.79it/s]\n"
          ]
        },
        {
          "output_type": "stream",
          "name": "stdout",
          "text": [
            "Average Training Loss: 1.7164\n"
          ]
        },
        {
          "output_type": "stream",
          "name": "stderr",
          "text": [
            "Epoch 1/20 - Validation: 100%|██████████| 138/138 [00:00<00:00, 2092.83it/s]\n",
            "Epoch 2/20 - Training: 100%|██████████| 1068/1068 [00:02<00:00, 472.18it/s]\n"
          ]
        },
        {
          "output_type": "stream",
          "name": "stdout",
          "text": [
            "Average Training Loss: 1.8985\n"
          ]
        },
        {
          "output_type": "stream",
          "name": "stderr",
          "text": [
            "Epoch 2/20 - Validation: 100%|██████████| 138/138 [00:00<00:00, 2397.30it/s]\n",
            "Epoch 3/20 - Training: 100%|██████████| 1068/1068 [00:01<00:00, 555.54it/s]\n"
          ]
        },
        {
          "output_type": "stream",
          "name": "stdout",
          "text": [
            "Average Training Loss: 1.6097\n"
          ]
        },
        {
          "output_type": "stream",
          "name": "stderr",
          "text": [
            "Epoch 3/20 - Validation: 100%|██████████| 138/138 [00:00<00:00, 2232.37it/s]\n",
            "Epoch 4/20 - Training: 100%|██████████| 1068/1068 [00:01<00:00, 562.08it/s]\n"
          ]
        },
        {
          "output_type": "stream",
          "name": "stdout",
          "text": [
            "Average Training Loss: 1.5859\n"
          ]
        },
        {
          "output_type": "stream",
          "name": "stderr",
          "text": [
            "Epoch 4/20 - Validation: 100%|██████████| 138/138 [00:00<00:00, 2215.43it/s]\n",
            "Epoch 5/20 - Training: 100%|██████████| 1068/1068 [00:01<00:00, 561.29it/s]\n"
          ]
        },
        {
          "output_type": "stream",
          "name": "stdout",
          "text": [
            "Average Training Loss: 1.5864\n"
          ]
        },
        {
          "output_type": "stream",
          "name": "stderr",
          "text": [
            "Epoch 5/20 - Validation: 100%|██████████| 138/138 [00:00<00:00, 2137.29it/s]\n",
            "Epoch 6/20 - Training: 100%|██████████| 1068/1068 [00:01<00:00, 564.22it/s]\n"
          ]
        },
        {
          "output_type": "stream",
          "name": "stdout",
          "text": [
            "Average Training Loss: 1.6251\n"
          ]
        },
        {
          "output_type": "stream",
          "name": "stderr",
          "text": [
            "Epoch 6/20 - Validation: 100%|██████████| 138/138 [00:00<00:00, 1976.88it/s]\n",
            "Epoch 7/20 - Training: 100%|██████████| 1068/1068 [00:02<00:00, 528.06it/s]\n"
          ]
        },
        {
          "output_type": "stream",
          "name": "stdout",
          "text": [
            "Average Training Loss: 1.5824\n"
          ]
        },
        {
          "output_type": "stream",
          "name": "stderr",
          "text": [
            "Epoch 7/20 - Validation: 100%|██████████| 138/138 [00:00<00:00, 1487.86it/s]\n",
            "Epoch 8/20 - Training: 100%|██████████| 1068/1068 [00:02<00:00, 433.47it/s]\n"
          ]
        },
        {
          "output_type": "stream",
          "name": "stdout",
          "text": [
            "Average Training Loss: 1.5882\n"
          ]
        },
        {
          "output_type": "stream",
          "name": "stderr",
          "text": [
            "Epoch 8/20 - Validation: 100%|██████████| 138/138 [00:00<00:00, 1744.37it/s]\n",
            "Epoch 9/20 - Training: 100%|██████████| 1068/1068 [00:02<00:00, 437.14it/s]\n"
          ]
        },
        {
          "output_type": "stream",
          "name": "stdout",
          "text": [
            "Average Training Loss: 1.5829\n"
          ]
        },
        {
          "output_type": "stream",
          "name": "stderr",
          "text": [
            "Epoch 9/20 - Validation: 100%|██████████| 138/138 [00:00<00:00, 1975.65it/s]\n",
            "Epoch 10/20 - Training: 100%|██████████| 1068/1068 [00:01<00:00, 571.72it/s]\n"
          ]
        },
        {
          "output_type": "stream",
          "name": "stdout",
          "text": [
            "Average Training Loss: 1.5850\n"
          ]
        },
        {
          "output_type": "stream",
          "name": "stderr",
          "text": [
            "Epoch 10/20 - Validation: 100%|██████████| 138/138 [00:00<00:00, 2384.03it/s]\n",
            "Epoch 11/20 - Training: 100%|██████████| 1068/1068 [00:01<00:00, 560.31it/s]\n"
          ]
        },
        {
          "output_type": "stream",
          "name": "stdout",
          "text": [
            "Average Training Loss: 1.5833\n"
          ]
        },
        {
          "output_type": "stream",
          "name": "stderr",
          "text": [
            "Epoch 11/20 - Validation: 100%|██████████| 138/138 [00:00<00:00, 1952.42it/s]\n",
            "Epoch 12/20 - Training: 100%|██████████| 1068/1068 [00:01<00:00, 553.72it/s]\n"
          ]
        },
        {
          "output_type": "stream",
          "name": "stdout",
          "text": [
            "Average Training Loss: 1.5864\n"
          ]
        },
        {
          "output_type": "stream",
          "name": "stderr",
          "text": [
            "Epoch 12/20 - Validation: 100%|██████████| 138/138 [00:00<00:00, 2313.31it/s]\n",
            "Epoch 13/20 - Training: 100%|██████████| 1068/1068 [00:01<00:00, 553.19it/s]\n"
          ]
        },
        {
          "output_type": "stream",
          "name": "stdout",
          "text": [
            "Average Training Loss: 1.5840\n"
          ]
        },
        {
          "output_type": "stream",
          "name": "stderr",
          "text": [
            "Epoch 13/20 - Validation: 100%|██████████| 138/138 [00:00<00:00, 1955.29it/s]\n",
            "Epoch 14/20 - Training: 100%|██████████| 1068/1068 [00:02<00:00, 506.56it/s]\n"
          ]
        },
        {
          "output_type": "stream",
          "name": "stdout",
          "text": [
            "Average Training Loss: 1.5857\n"
          ]
        },
        {
          "output_type": "stream",
          "name": "stderr",
          "text": [
            "Epoch 14/20 - Validation: 100%|██████████| 138/138 [00:00<00:00, 1605.67it/s]\n",
            "Epoch 15/20 - Training: 100%|██████████| 1068/1068 [00:02<00:00, 433.69it/s]\n"
          ]
        },
        {
          "output_type": "stream",
          "name": "stdout",
          "text": [
            "Average Training Loss: 1.5851\n"
          ]
        },
        {
          "output_type": "stream",
          "name": "stderr",
          "text": [
            "Epoch 15/20 - Validation: 100%|██████████| 138/138 [00:00<00:00, 2085.26it/s]\n",
            "Epoch 16/20 - Training: 100%|██████████| 1068/1068 [00:02<00:00, 413.17it/s]\n"
          ]
        },
        {
          "output_type": "stream",
          "name": "stdout",
          "text": [
            "Average Training Loss: 1.5829\n"
          ]
        },
        {
          "output_type": "stream",
          "name": "stderr",
          "text": [
            "Epoch 16/20 - Validation: 100%|██████████| 138/138 [00:00<00:00, 1706.63it/s]\n",
            "Epoch 17/20 - Training: 100%|██████████| 1068/1068 [00:02<00:00, 510.65it/s]\n"
          ]
        },
        {
          "output_type": "stream",
          "name": "stdout",
          "text": [
            "Average Training Loss: 1.5828\n"
          ]
        },
        {
          "output_type": "stream",
          "name": "stderr",
          "text": [
            "Epoch 17/20 - Validation: 100%|██████████| 138/138 [00:00<00:00, 2077.12it/s]\n",
            "Epoch 18/20 - Training: 100%|██████████| 1068/1068 [00:01<00:00, 545.19it/s]\n"
          ]
        },
        {
          "output_type": "stream",
          "name": "stdout",
          "text": [
            "Average Training Loss: 1.5859\n"
          ]
        },
        {
          "output_type": "stream",
          "name": "stderr",
          "text": [
            "Epoch 18/20 - Validation: 100%|██████████| 138/138 [00:00<00:00, 2191.60it/s]\n",
            "Epoch 19/20 - Training: 100%|██████████| 1068/1068 [00:01<00:00, 559.43it/s]\n"
          ]
        },
        {
          "output_type": "stream",
          "name": "stdout",
          "text": [
            "Average Training Loss: 1.5837\n"
          ]
        },
        {
          "output_type": "stream",
          "name": "stderr",
          "text": [
            "Epoch 19/20 - Validation: 100%|██████████| 138/138 [00:00<00:00, 2042.72it/s]\n",
            "Epoch 20/20 - Training: 100%|██████████| 1068/1068 [00:01<00:00, 552.02it/s]\n"
          ]
        },
        {
          "output_type": "stream",
          "name": "stdout",
          "text": [
            "Average Training Loss: 1.5831\n"
          ]
        },
        {
          "output_type": "stream",
          "name": "stderr",
          "text": [
            "Epoch 20/20 - Validation: 100%|██████████| 138/138 [00:00<00:00, 2041.84it/s]\n",
            "Epoch 1/20 - Training: 100%|██████████| 1068/1068 [00:01<00:00, 614.27it/s]\n"
          ]
        },
        {
          "output_type": "stream",
          "name": "stdout",
          "text": [
            "Average Training Loss: 1.6069\n"
          ]
        },
        {
          "output_type": "stream",
          "name": "stderr",
          "text": [
            "Epoch 1/20 - Validation: 100%|██████████| 138/138 [00:00<00:00, 2002.50it/s]\n",
            "Epoch 2/20 - Training: 100%|██████████| 1068/1068 [00:02<00:00, 447.03it/s]\n"
          ]
        },
        {
          "output_type": "stream",
          "name": "stdout",
          "text": [
            "Average Training Loss: 1.5846\n"
          ]
        },
        {
          "output_type": "stream",
          "name": "stderr",
          "text": [
            "Epoch 2/20 - Validation: 100%|██████████| 138/138 [00:00<00:00, 2112.38it/s]\n",
            "Epoch 3/20 - Training: 100%|██████████| 1068/1068 [00:02<00:00, 426.70it/s]\n"
          ]
        },
        {
          "output_type": "stream",
          "name": "stdout",
          "text": [
            "Average Training Loss: 1.5869\n"
          ]
        },
        {
          "output_type": "stream",
          "name": "stderr",
          "text": [
            "Epoch 3/20 - Validation: 100%|██████████| 138/138 [00:00<00:00, 1709.67it/s]\n",
            "Epoch 4/20 - Training: 100%|██████████| 1068/1068 [00:02<00:00, 489.38it/s]\n"
          ]
        },
        {
          "output_type": "stream",
          "name": "stdout",
          "text": [
            "Average Training Loss: 1.5840\n"
          ]
        },
        {
          "output_type": "stream",
          "name": "stderr",
          "text": [
            "Epoch 4/20 - Validation: 100%|██████████| 138/138 [00:00<00:00, 2077.52it/s]\n",
            "Epoch 5/20 - Training: 100%|██████████| 1068/1068 [00:01<00:00, 561.44it/s]\n"
          ]
        },
        {
          "output_type": "stream",
          "name": "stdout",
          "text": [
            "Average Training Loss: 1.5849\n"
          ]
        },
        {
          "output_type": "stream",
          "name": "stderr",
          "text": [
            "Epoch 5/20 - Validation: 100%|██████████| 138/138 [00:00<00:00, 1929.15it/s]\n",
            "Epoch 6/20 - Training: 100%|██████████| 1068/1068 [00:01<00:00, 571.46it/s]\n"
          ]
        },
        {
          "output_type": "stream",
          "name": "stdout",
          "text": [
            "Average Training Loss: 1.6076\n"
          ]
        },
        {
          "output_type": "stream",
          "name": "stderr",
          "text": [
            "Epoch 6/20 - Validation: 100%|██████████| 138/138 [00:00<00:00, 2118.55it/s]\n",
            "Epoch 7/20 - Training: 100%|██████████| 1068/1068 [00:01<00:00, 566.57it/s]\n"
          ]
        },
        {
          "output_type": "stream",
          "name": "stdout",
          "text": [
            "Average Training Loss: 1.6076\n"
          ]
        },
        {
          "output_type": "stream",
          "name": "stderr",
          "text": [
            "Epoch 7/20 - Validation: 100%|██████████| 138/138 [00:00<00:00, 2021.09it/s]\n",
            "Epoch 8/20 - Training: 100%|██████████| 1068/1068 [00:01<00:00, 575.00it/s]\n"
          ]
        },
        {
          "output_type": "stream",
          "name": "stdout",
          "text": [
            "Average Training Loss: 1.5870\n"
          ]
        },
        {
          "output_type": "stream",
          "name": "stderr",
          "text": [
            "Epoch 8/20 - Validation: 100%|██████████| 138/138 [00:00<00:00, 1954.22it/s]\n",
            "Epoch 9/20 - Training: 100%|██████████| 1068/1068 [00:02<00:00, 474.12it/s]\n"
          ]
        },
        {
          "output_type": "stream",
          "name": "stdout",
          "text": [
            "Average Training Loss: 1.5861\n"
          ]
        },
        {
          "output_type": "stream",
          "name": "stderr",
          "text": [
            "Epoch 9/20 - Validation: 100%|██████████| 138/138 [00:00<00:00, 2017.03it/s]\n",
            "Epoch 10/20 - Training: 100%|██████████| 1068/1068 [00:02<00:00, 407.45it/s]\n"
          ]
        },
        {
          "output_type": "stream",
          "name": "stdout",
          "text": [
            "Average Training Loss: 1.5870\n"
          ]
        },
        {
          "output_type": "stream",
          "name": "stderr",
          "text": [
            "Epoch 10/20 - Validation: 100%|██████████| 138/138 [00:00<00:00, 1923.91it/s]\n",
            "Epoch 11/20 - Training: 100%|██████████| 1068/1068 [00:02<00:00, 475.07it/s]\n"
          ]
        },
        {
          "output_type": "stream",
          "name": "stdout",
          "text": [
            "Average Training Loss: 1.5879\n"
          ]
        },
        {
          "output_type": "stream",
          "name": "stderr",
          "text": [
            "Epoch 11/20 - Validation: 100%|██████████| 138/138 [00:00<00:00, 2021.60it/s]\n",
            "Epoch 12/20 - Training: 100%|██████████| 1068/1068 [00:01<00:00, 566.62it/s]\n"
          ]
        },
        {
          "output_type": "stream",
          "name": "stdout",
          "text": [
            "Average Training Loss: 1.5843\n"
          ]
        },
        {
          "output_type": "stream",
          "name": "stderr",
          "text": [
            "Epoch 12/20 - Validation: 100%|██████████| 138/138 [00:00<00:00, 2198.20it/s]\n",
            "Epoch 13/20 - Training: 100%|██████████| 1068/1068 [00:01<00:00, 545.05it/s]\n"
          ]
        },
        {
          "output_type": "stream",
          "name": "stdout",
          "text": [
            "Average Training Loss: 1.5853\n"
          ]
        },
        {
          "output_type": "stream",
          "name": "stderr",
          "text": [
            "Epoch 13/20 - Validation: 100%|██████████| 138/138 [00:00<00:00, 2118.15it/s]\n",
            "Epoch 14/20 - Training: 100%|██████████| 1068/1068 [00:01<00:00, 560.11it/s]\n"
          ]
        },
        {
          "output_type": "stream",
          "name": "stdout",
          "text": [
            "Average Training Loss: 1.5845\n"
          ]
        },
        {
          "output_type": "stream",
          "name": "stderr",
          "text": [
            "Epoch 14/20 - Validation: 100%|██████████| 138/138 [00:00<00:00, 2255.80it/s]\n",
            "Epoch 15/20 - Training: 100%|██████████| 1068/1068 [00:01<00:00, 554.29it/s]\n"
          ]
        },
        {
          "output_type": "stream",
          "name": "stdout",
          "text": [
            "Average Training Loss: 1.5849\n"
          ]
        },
        {
          "output_type": "stream",
          "name": "stderr",
          "text": [
            "Epoch 15/20 - Validation: 100%|██████████| 138/138 [00:00<00:00, 1957.19it/s]\n",
            "Epoch 16/20 - Training: 100%|██████████| 1068/1068 [00:02<00:00, 479.86it/s]\n"
          ]
        },
        {
          "output_type": "stream",
          "name": "stdout",
          "text": [
            "Average Training Loss: 1.5828\n"
          ]
        },
        {
          "output_type": "stream",
          "name": "stderr",
          "text": [
            "Epoch 16/20 - Validation: 100%|██████████| 138/138 [00:00<00:00, 1777.25it/s]\n",
            "Epoch 17/20 - Training: 100%|██████████| 1068/1068 [00:02<00:00, 427.15it/s]\n"
          ]
        },
        {
          "output_type": "stream",
          "name": "stdout",
          "text": [
            "Average Training Loss: 1.5853\n"
          ]
        },
        {
          "output_type": "stream",
          "name": "stderr",
          "text": [
            "Epoch 17/20 - Validation: 100%|██████████| 138/138 [00:00<00:00, 1855.19it/s]\n",
            "Epoch 18/20 - Training: 100%|██████████| 1068/1068 [00:02<00:00, 462.68it/s]\n"
          ]
        },
        {
          "output_type": "stream",
          "name": "stdout",
          "text": [
            "Average Training Loss: 1.5866\n"
          ]
        },
        {
          "output_type": "stream",
          "name": "stderr",
          "text": [
            "Epoch 18/20 - Validation: 100%|██████████| 138/138 [00:00<00:00, 2227.28it/s]\n",
            "Epoch 19/20 - Training: 100%|██████████| 1068/1068 [00:01<00:00, 562.33it/s]\n"
          ]
        },
        {
          "output_type": "stream",
          "name": "stdout",
          "text": [
            "Average Training Loss: 1.5875\n"
          ]
        },
        {
          "output_type": "stream",
          "name": "stderr",
          "text": [
            "Epoch 19/20 - Validation: 100%|██████████| 138/138 [00:00<00:00, 2113.19it/s]\n",
            "Epoch 20/20 - Training: 100%|██████████| 1068/1068 [00:01<00:00, 560.37it/s]\n"
          ]
        },
        {
          "output_type": "stream",
          "name": "stdout",
          "text": [
            "Average Training Loss: 1.5850\n"
          ]
        },
        {
          "output_type": "stream",
          "name": "stderr",
          "text": [
            "Epoch 20/20 - Validation: 100%|██████████| 138/138 [00:00<00:00, 2086.98it/s]\n",
            "Epoch 1/20 - Training: 100%|██████████| 1068/1068 [00:01<00:00, 621.59it/s]\n"
          ]
        },
        {
          "output_type": "stream",
          "name": "stdout",
          "text": [
            "Average Training Loss: 1.6231\n"
          ]
        },
        {
          "output_type": "stream",
          "name": "stderr",
          "text": [
            "Epoch 1/20 - Validation: 100%|██████████| 138/138 [00:00<00:00, 1646.13it/s]\n",
            "Epoch 2/20 - Training: 100%|██████████| 1068/1068 [00:01<00:00, 555.01it/s]\n"
          ]
        },
        {
          "output_type": "stream",
          "name": "stdout",
          "text": [
            "Average Training Loss: 1.6131\n"
          ]
        },
        {
          "output_type": "stream",
          "name": "stderr",
          "text": [
            "Epoch 2/20 - Validation: 100%|██████████| 138/138 [00:00<00:00, 2080.37it/s]\n",
            "Epoch 3/20 - Training: 100%|██████████| 1068/1068 [00:02<00:00, 494.76it/s]\n"
          ]
        },
        {
          "output_type": "stream",
          "name": "stdout",
          "text": [
            "Average Training Loss: 1.6269\n"
          ]
        },
        {
          "output_type": "stream",
          "name": "stderr",
          "text": [
            "Epoch 3/20 - Validation: 100%|██████████| 138/138 [00:00<00:00, 1668.08it/s]\n",
            "Epoch 4/20 - Training: 100%|██████████| 1068/1068 [00:02<00:00, 440.41it/s]\n"
          ]
        },
        {
          "output_type": "stream",
          "name": "stdout",
          "text": [
            "Average Training Loss: 1.5947\n"
          ]
        },
        {
          "output_type": "stream",
          "name": "stderr",
          "text": [
            "Epoch 4/20 - Validation: 100%|██████████| 138/138 [00:00<00:00, 1935.39it/s]\n",
            "Epoch 5/20 - Training: 100%|██████████| 1068/1068 [00:02<00:00, 448.55it/s]\n"
          ]
        },
        {
          "output_type": "stream",
          "name": "stdout",
          "text": [
            "Average Training Loss: 1.5891\n"
          ]
        },
        {
          "output_type": "stream",
          "name": "stderr",
          "text": [
            "Epoch 5/20 - Validation: 100%|██████████| 138/138 [00:00<00:00, 2037.04it/s]\n",
            "Epoch 6/20 - Training: 100%|██████████| 1068/1068 [00:01<00:00, 536.19it/s]\n"
          ]
        },
        {
          "output_type": "stream",
          "name": "stdout",
          "text": [
            "Average Training Loss: 1.5832\n"
          ]
        },
        {
          "output_type": "stream",
          "name": "stderr",
          "text": [
            "Epoch 6/20 - Validation: 100%|██████████| 138/138 [00:00<00:00, 1915.92it/s]\n",
            "Epoch 7/20 - Training: 100%|██████████| 1068/1068 [00:01<00:00, 562.11it/s]\n"
          ]
        },
        {
          "output_type": "stream",
          "name": "stdout",
          "text": [
            "Average Training Loss: 1.5874\n"
          ]
        },
        {
          "output_type": "stream",
          "name": "stderr",
          "text": [
            "Epoch 7/20 - Validation: 100%|██████████| 138/138 [00:00<00:00, 1971.82it/s]\n",
            "Epoch 8/20 - Training: 100%|██████████| 1068/1068 [00:01<00:00, 570.56it/s]\n"
          ]
        },
        {
          "output_type": "stream",
          "name": "stdout",
          "text": [
            "Average Training Loss: 1.5849\n"
          ]
        },
        {
          "output_type": "stream",
          "name": "stderr",
          "text": [
            "Epoch 8/20 - Validation: 100%|██████████| 138/138 [00:00<00:00, 2142.72it/s]\n",
            "Epoch 9/20 - Training: 100%|██████████| 1068/1068 [00:01<00:00, 561.88it/s]\n"
          ]
        },
        {
          "output_type": "stream",
          "name": "stdout",
          "text": [
            "Average Training Loss: 1.5847\n"
          ]
        },
        {
          "output_type": "stream",
          "name": "stderr",
          "text": [
            "Epoch 9/20 - Validation: 100%|██████████| 138/138 [00:00<00:00, 2107.97it/s]\n",
            "Epoch 10/20 - Training: 100%|██████████| 1068/1068 [00:01<00:00, 563.36it/s]\n"
          ]
        },
        {
          "output_type": "stream",
          "name": "stdout",
          "text": [
            "Average Training Loss: 1.5857\n"
          ]
        },
        {
          "output_type": "stream",
          "name": "stderr",
          "text": [
            "Epoch 10/20 - Validation: 100%|██████████| 138/138 [00:00<00:00, 2367.43it/s]\n",
            "Epoch 11/20 - Training: 100%|██████████| 1068/1068 [00:02<00:00, 444.61it/s]\n"
          ]
        },
        {
          "output_type": "stream",
          "name": "stdout",
          "text": [
            "Average Training Loss: 1.5826\n"
          ]
        },
        {
          "output_type": "stream",
          "name": "stderr",
          "text": [
            "Epoch 11/20 - Validation: 100%|██████████| 138/138 [00:00<00:00, 1914.59it/s]\n",
            "Epoch 12/20 - Training: 100%|██████████| 1068/1068 [00:02<00:00, 447.41it/s]\n"
          ]
        },
        {
          "output_type": "stream",
          "name": "stdout",
          "text": [
            "Average Training Loss: 1.5877\n"
          ]
        },
        {
          "output_type": "stream",
          "name": "stderr",
          "text": [
            "Epoch 12/20 - Validation: 100%|██████████| 138/138 [00:00<00:00, 2019.21it/s]\n",
            "Epoch 13/20 - Training: 100%|██████████| 1068/1068 [00:02<00:00, 480.46it/s]\n"
          ]
        },
        {
          "output_type": "stream",
          "name": "stdout",
          "text": [
            "Average Training Loss: 1.5943\n"
          ]
        },
        {
          "output_type": "stream",
          "name": "stderr",
          "text": [
            "Epoch 13/20 - Validation: 100%|██████████| 138/138 [00:00<00:00, 2306.79it/s]\n",
            "Epoch 14/20 - Training: 100%|██████████| 1068/1068 [00:01<00:00, 541.34it/s]\n"
          ]
        },
        {
          "output_type": "stream",
          "name": "stdout",
          "text": [
            "Average Training Loss: 1.5818\n"
          ]
        },
        {
          "output_type": "stream",
          "name": "stderr",
          "text": [
            "Epoch 14/20 - Validation: 100%|██████████| 138/138 [00:00<00:00, 2114.53it/s]\n",
            "Epoch 15/20 - Training: 100%|██████████| 1068/1068 [00:01<00:00, 549.50it/s]\n"
          ]
        },
        {
          "output_type": "stream",
          "name": "stdout",
          "text": [
            "Average Training Loss: 1.5879\n"
          ]
        },
        {
          "output_type": "stream",
          "name": "stderr",
          "text": [
            "Epoch 15/20 - Validation: 100%|██████████| 138/138 [00:00<00:00, 2003.94it/s]\n",
            "Epoch 16/20 - Training: 100%|██████████| 1068/1068 [00:01<00:00, 559.99it/s]\n"
          ]
        },
        {
          "output_type": "stream",
          "name": "stdout",
          "text": [
            "Average Training Loss: 1.5868\n"
          ]
        },
        {
          "output_type": "stream",
          "name": "stderr",
          "text": [
            "Epoch 16/20 - Validation: 100%|██████████| 138/138 [00:00<00:00, 2032.30it/s]\n",
            "Epoch 17/20 - Training: 100%|██████████| 1068/1068 [00:01<00:00, 563.91it/s]\n"
          ]
        },
        {
          "output_type": "stream",
          "name": "stdout",
          "text": [
            "Average Training Loss: 1.5833\n"
          ]
        },
        {
          "output_type": "stream",
          "name": "stderr",
          "text": [
            "Epoch 17/20 - Validation: 100%|██████████| 138/138 [00:00<00:00, 2128.06it/s]\n",
            "Epoch 18/20 - Training: 100%|██████████| 1068/1068 [00:02<00:00, 482.15it/s]\n"
          ]
        },
        {
          "output_type": "stream",
          "name": "stdout",
          "text": [
            "Average Training Loss: 1.5862\n"
          ]
        },
        {
          "output_type": "stream",
          "name": "stderr",
          "text": [
            "Epoch 18/20 - Validation: 100%|██████████| 138/138 [00:00<00:00, 1604.68it/s]\n",
            "Epoch 19/20 - Training: 100%|██████████| 1068/1068 [00:02<00:00, 438.44it/s]\n"
          ]
        },
        {
          "output_type": "stream",
          "name": "stdout",
          "text": [
            "Average Training Loss: 1.5850\n"
          ]
        },
        {
          "output_type": "stream",
          "name": "stderr",
          "text": [
            "Epoch 19/20 - Validation: 100%|██████████| 138/138 [00:00<00:00, 2109.40it/s]\n",
            "Epoch 20/20 - Training: 100%|██████████| 1068/1068 [00:02<00:00, 455.93it/s]\n"
          ]
        },
        {
          "output_type": "stream",
          "name": "stdout",
          "text": [
            "Average Training Loss: 1.5851\n"
          ]
        },
        {
          "output_type": "stream",
          "name": "stderr",
          "text": [
            "Epoch 20/20 - Validation: 100%|██████████| 138/138 [00:00<00:00, 1837.85it/s]\n",
            "Epoch 1/20 - Training: 100%|██████████| 1068/1068 [00:01<00:00, 620.42it/s]\n"
          ]
        },
        {
          "output_type": "stream",
          "name": "stdout",
          "text": [
            "Average Training Loss: 1.6908\n"
          ]
        },
        {
          "output_type": "stream",
          "name": "stderr",
          "text": [
            "Epoch 1/20 - Validation: 100%|██████████| 138/138 [00:00<00:00, 2247.04it/s]\n",
            "Epoch 2/20 - Training: 100%|██████████| 1068/1068 [00:01<00:00, 560.48it/s]\n"
          ]
        },
        {
          "output_type": "stream",
          "name": "stdout",
          "text": [
            "Average Training Loss: 1.6241\n"
          ]
        },
        {
          "output_type": "stream",
          "name": "stderr",
          "text": [
            "Epoch 2/20 - Validation: 100%|██████████| 138/138 [00:00<00:00, 2158.82it/s]\n",
            "Epoch 3/20 - Training: 100%|██████████| 1068/1068 [00:01<00:00, 557.75it/s]\n"
          ]
        },
        {
          "output_type": "stream",
          "name": "stdout",
          "text": [
            "Average Training Loss: 1.5973\n"
          ]
        },
        {
          "output_type": "stream",
          "name": "stderr",
          "text": [
            "Epoch 3/20 - Validation: 100%|██████████| 138/138 [00:00<00:00, 2078.61it/s]\n",
            "Epoch 4/20 - Training: 100%|██████████| 1068/1068 [00:01<00:00, 561.16it/s]\n"
          ]
        },
        {
          "output_type": "stream",
          "name": "stdout",
          "text": [
            "Average Training Loss: 1.5954\n"
          ]
        },
        {
          "output_type": "stream",
          "name": "stderr",
          "text": [
            "Epoch 4/20 - Validation: 100%|██████████| 138/138 [00:00<00:00, 2221.99it/s]\n",
            "Epoch 5/20 - Training: 100%|██████████| 1068/1068 [00:02<00:00, 520.02it/s]\n"
          ]
        },
        {
          "output_type": "stream",
          "name": "stdout",
          "text": [
            "Average Training Loss: 1.5832\n"
          ]
        },
        {
          "output_type": "stream",
          "name": "stderr",
          "text": [
            "Epoch 5/20 - Validation: 100%|██████████| 138/138 [00:00<00:00, 1689.70it/s]\n",
            "Epoch 6/20 - Training: 100%|██████████| 1068/1068 [00:02<00:00, 438.35it/s]\n"
          ]
        },
        {
          "output_type": "stream",
          "name": "stdout",
          "text": [
            "Average Training Loss: 1.5908\n"
          ]
        },
        {
          "output_type": "stream",
          "name": "stderr",
          "text": [
            "Epoch 6/20 - Validation: 100%|██████████| 138/138 [00:00<00:00, 1708.52it/s]\n",
            "Epoch 7/20 - Training: 100%|██████████| 1068/1068 [00:02<00:00, 421.35it/s]\n"
          ]
        },
        {
          "output_type": "stream",
          "name": "stdout",
          "text": [
            "Average Training Loss: 1.6805\n"
          ]
        },
        {
          "output_type": "stream",
          "name": "stderr",
          "text": [
            "Epoch 7/20 - Validation: 100%|██████████| 138/138 [00:00<00:00, 1575.38it/s]\n",
            "Epoch 8/20 - Training: 100%|██████████| 1068/1068 [00:01<00:00, 546.94it/s]\n"
          ]
        },
        {
          "output_type": "stream",
          "name": "stdout",
          "text": [
            "Average Training Loss: 1.6397\n"
          ]
        },
        {
          "output_type": "stream",
          "name": "stderr",
          "text": [
            "Epoch 8/20 - Validation: 100%|██████████| 138/138 [00:00<00:00, 2037.48it/s]\n",
            "Epoch 9/20 - Training: 100%|██████████| 1068/1068 [00:01<00:00, 543.80it/s]\n"
          ]
        },
        {
          "output_type": "stream",
          "name": "stdout",
          "text": [
            "Average Training Loss: 1.5877\n"
          ]
        },
        {
          "output_type": "stream",
          "name": "stderr",
          "text": [
            "Epoch 9/20 - Validation: 100%|██████████| 138/138 [00:00<00:00, 2206.09it/s]\n",
            "Epoch 10/20 - Training: 100%|██████████| 1068/1068 [00:01<00:00, 566.72it/s]\n"
          ]
        },
        {
          "output_type": "stream",
          "name": "stdout",
          "text": [
            "Average Training Loss: 1.5858\n"
          ]
        },
        {
          "output_type": "stream",
          "name": "stderr",
          "text": [
            "Epoch 10/20 - Validation: 100%|██████████| 138/138 [00:00<00:00, 2121.73it/s]\n",
            "Epoch 11/20 - Training: 100%|██████████| 1068/1068 [00:01<00:00, 558.96it/s]\n"
          ]
        },
        {
          "output_type": "stream",
          "name": "stdout",
          "text": [
            "Average Training Loss: 1.5848\n"
          ]
        },
        {
          "output_type": "stream",
          "name": "stderr",
          "text": [
            "Epoch 11/20 - Validation: 100%|██████████| 138/138 [00:00<00:00, 2115.28it/s]\n",
            "Epoch 12/20 - Training: 100%|██████████| 1068/1068 [00:02<00:00, 533.68it/s]\n"
          ]
        },
        {
          "output_type": "stream",
          "name": "stdout",
          "text": [
            "Average Training Loss: 1.5860\n"
          ]
        },
        {
          "output_type": "stream",
          "name": "stderr",
          "text": [
            "Epoch 12/20 - Validation: 100%|██████████| 138/138 [00:00<00:00, 1734.28it/s]\n",
            "Epoch 13/20 - Training: 100%|██████████| 1068/1068 [00:02<00:00, 402.93it/s]\n"
          ]
        },
        {
          "output_type": "stream",
          "name": "stdout",
          "text": [
            "Average Training Loss: 1.5860\n"
          ]
        },
        {
          "output_type": "stream",
          "name": "stderr",
          "text": [
            "Epoch 13/20 - Validation: 100%|██████████| 138/138 [00:00<00:00, 1814.86it/s]\n",
            "Epoch 14/20 - Training: 100%|██████████| 1068/1068 [00:02<00:00, 402.62it/s]\n"
          ]
        },
        {
          "output_type": "stream",
          "name": "stdout",
          "text": [
            "Average Training Loss: 1.5850\n"
          ]
        },
        {
          "output_type": "stream",
          "name": "stderr",
          "text": [
            "Epoch 14/20 - Validation: 100%|██████████| 138/138 [00:00<00:00, 1442.19it/s]\n",
            "Epoch 15/20 - Training: 100%|██████████| 1068/1068 [00:01<00:00, 541.22it/s]\n"
          ]
        },
        {
          "output_type": "stream",
          "name": "stdout",
          "text": [
            "Average Training Loss: 1.5835\n"
          ]
        },
        {
          "output_type": "stream",
          "name": "stderr",
          "text": [
            "Epoch 15/20 - Validation: 100%|██████████| 138/138 [00:00<00:00, 1956.88it/s]\n",
            "Epoch 16/20 - Training: 100%|██████████| 1068/1068 [00:01<00:00, 553.79it/s]\n"
          ]
        },
        {
          "output_type": "stream",
          "name": "stdout",
          "text": [
            "Average Training Loss: 1.5880\n"
          ]
        },
        {
          "output_type": "stream",
          "name": "stderr",
          "text": [
            "Epoch 16/20 - Validation: 100%|██████████| 138/138 [00:00<00:00, 2109.28it/s]\n",
            "Epoch 17/20 - Training: 100%|██████████| 1068/1068 [00:01<00:00, 553.02it/s]\n"
          ]
        },
        {
          "output_type": "stream",
          "name": "stdout",
          "text": [
            "Average Training Loss: 1.5855\n"
          ]
        },
        {
          "output_type": "stream",
          "name": "stderr",
          "text": [
            "Epoch 17/20 - Validation: 100%|██████████| 138/138 [00:00<00:00, 1820.96it/s]\n",
            "Epoch 18/20 - Training: 100%|██████████| 1068/1068 [00:01<00:00, 556.36it/s]\n"
          ]
        },
        {
          "output_type": "stream",
          "name": "stdout",
          "text": [
            "Average Training Loss: 1.5859\n"
          ]
        },
        {
          "output_type": "stream",
          "name": "stderr",
          "text": [
            "Epoch 18/20 - Validation: 100%|██████████| 138/138 [00:00<00:00, 1827.01it/s]\n",
            "Epoch 19/20 - Training: 100%|██████████| 1068/1068 [00:01<00:00, 553.02it/s]\n"
          ]
        },
        {
          "output_type": "stream",
          "name": "stdout",
          "text": [
            "Average Training Loss: 1.5876\n"
          ]
        },
        {
          "output_type": "stream",
          "name": "stderr",
          "text": [
            "Epoch 19/20 - Validation: 100%|██████████| 138/138 [00:00<00:00, 1830.69it/s]\n",
            "Epoch 20/20 - Training: 100%|██████████| 1068/1068 [00:02<00:00, 417.66it/s]\n"
          ]
        },
        {
          "output_type": "stream",
          "name": "stdout",
          "text": [
            "Average Training Loss: 1.5862\n"
          ]
        },
        {
          "output_type": "stream",
          "name": "stderr",
          "text": [
            "Epoch 20/20 - Validation: 100%|██████████| 138/138 [00:00<00:00, 1742.42it/s]\n",
            "Epoch 1/20 - Training: 100%|██████████| 1068/1068 [00:02<00:00, 424.89it/s]\n"
          ]
        },
        {
          "output_type": "stream",
          "name": "stdout",
          "text": [
            "Average Training Loss: 1.6796\n"
          ]
        },
        {
          "output_type": "stream",
          "name": "stderr",
          "text": [
            "Epoch 1/20 - Validation: 100%|██████████| 138/138 [00:00<00:00, 1539.22it/s]\n",
            "Epoch 2/20 - Training: 100%|██████████| 1068/1068 [00:02<00:00, 470.29it/s]\n"
          ]
        },
        {
          "output_type": "stream",
          "name": "stdout",
          "text": [
            "Average Training Loss: 1.6834\n"
          ]
        },
        {
          "output_type": "stream",
          "name": "stderr",
          "text": [
            "Epoch 2/20 - Validation: 100%|██████████| 138/138 [00:00<00:00, 1992.85it/s]\n",
            "Epoch 3/20 - Training: 100%|██████████| 1068/1068 [00:02<00:00, 496.16it/s]\n"
          ]
        },
        {
          "output_type": "stream",
          "name": "stdout",
          "text": [
            "Average Training Loss: 1.5889\n"
          ]
        },
        {
          "output_type": "stream",
          "name": "stderr",
          "text": [
            "Epoch 3/20 - Validation: 100%|██████████| 138/138 [00:00<00:00, 1662.81it/s]\n",
            "Epoch 4/20 - Training: 100%|██████████| 1068/1068 [00:02<00:00, 490.38it/s]\n"
          ]
        },
        {
          "output_type": "stream",
          "name": "stdout",
          "text": [
            "Average Training Loss: 1.5855\n"
          ]
        },
        {
          "output_type": "stream",
          "name": "stderr",
          "text": [
            "Epoch 4/20 - Validation: 100%|██████████| 138/138 [00:00<00:00, 2041.79it/s]\n",
            "Epoch 5/20 - Training: 100%|██████████| 1068/1068 [00:02<00:00, 487.75it/s]\n"
          ]
        },
        {
          "output_type": "stream",
          "name": "stdout",
          "text": [
            "Average Training Loss: 1.5858\n"
          ]
        },
        {
          "output_type": "stream",
          "name": "stderr",
          "text": [
            "Epoch 5/20 - Validation: 100%|██████████| 138/138 [00:00<00:00, 1954.76it/s]\n",
            "Epoch 6/20 - Training: 100%|██████████| 1068/1068 [00:02<00:00, 427.90it/s]\n"
          ]
        },
        {
          "output_type": "stream",
          "name": "stdout",
          "text": [
            "Average Training Loss: 1.5860\n"
          ]
        },
        {
          "output_type": "stream",
          "name": "stderr",
          "text": [
            "Epoch 6/20 - Validation: 100%|██████████| 138/138 [00:00<00:00, 1683.05it/s]\n",
            "Epoch 7/20 - Training: 100%|██████████| 1068/1068 [00:02<00:00, 382.42it/s]\n"
          ]
        },
        {
          "output_type": "stream",
          "name": "stdout",
          "text": [
            "Average Training Loss: 1.5849\n"
          ]
        },
        {
          "output_type": "stream",
          "name": "stderr",
          "text": [
            "Epoch 7/20 - Validation: 100%|██████████| 138/138 [00:00<00:00, 1983.24it/s]\n",
            "Epoch 8/20 - Training: 100%|██████████| 1068/1068 [00:02<00:00, 423.03it/s]\n"
          ]
        },
        {
          "output_type": "stream",
          "name": "stdout",
          "text": [
            "Average Training Loss: 1.5851\n"
          ]
        },
        {
          "output_type": "stream",
          "name": "stderr",
          "text": [
            "Epoch 8/20 - Validation: 100%|██████████| 138/138 [00:00<00:00, 2010.66it/s]\n",
            "Epoch 9/20 - Training: 100%|██████████| 1068/1068 [00:02<00:00, 488.68it/s]\n"
          ]
        },
        {
          "output_type": "stream",
          "name": "stdout",
          "text": [
            "Average Training Loss: 1.5833\n"
          ]
        },
        {
          "output_type": "stream",
          "name": "stderr",
          "text": [
            "Epoch 9/20 - Validation: 100%|██████████| 138/138 [00:00<00:00, 1817.43it/s]\n",
            "Epoch 10/20 - Training: 100%|██████████| 1068/1068 [00:02<00:00, 490.40it/s]\n"
          ]
        },
        {
          "output_type": "stream",
          "name": "stdout",
          "text": [
            "Average Training Loss: 1.5854\n"
          ]
        },
        {
          "output_type": "stream",
          "name": "stderr",
          "text": [
            "Epoch 10/20 - Validation: 100%|██████████| 138/138 [00:00<00:00, 1999.81it/s]\n",
            "Epoch 11/20 - Training: 100%|██████████| 1068/1068 [00:02<00:00, 489.34it/s]\n"
          ]
        },
        {
          "output_type": "stream",
          "name": "stdout",
          "text": [
            "Average Training Loss: 1.5827\n"
          ]
        },
        {
          "output_type": "stream",
          "name": "stderr",
          "text": [
            "Epoch 11/20 - Validation: 100%|██████████| 138/138 [00:00<00:00, 1875.15it/s]\n",
            "Epoch 12/20 - Training: 100%|██████████| 1068/1068 [00:02<00:00, 492.15it/s]\n"
          ]
        },
        {
          "output_type": "stream",
          "name": "stdout",
          "text": [
            "Average Training Loss: 1.5839\n"
          ]
        },
        {
          "output_type": "stream",
          "name": "stderr",
          "text": [
            "Epoch 12/20 - Validation: 100%|██████████| 138/138 [00:00<00:00, 1854.03it/s]\n",
            "Epoch 13/20 - Training: 100%|██████████| 1068/1068 [00:02<00:00, 356.97it/s]\n"
          ]
        },
        {
          "output_type": "stream",
          "name": "stdout",
          "text": [
            "Average Training Loss: 1.5861\n"
          ]
        },
        {
          "output_type": "stream",
          "name": "stderr",
          "text": [
            "Epoch 13/20 - Validation: 100%|██████████| 138/138 [00:00<00:00, 1839.75it/s]\n",
            "Epoch 14/20 - Training: 100%|██████████| 1068/1068 [00:02<00:00, 387.06it/s]\n"
          ]
        },
        {
          "output_type": "stream",
          "name": "stdout",
          "text": [
            "Average Training Loss: 1.5863\n"
          ]
        },
        {
          "output_type": "stream",
          "name": "stderr",
          "text": [
            "Epoch 14/20 - Validation: 100%|██████████| 138/138 [00:00<00:00, 1814.63it/s]\n",
            "Epoch 15/20 - Training: 100%|██████████| 1068/1068 [00:02<00:00, 481.12it/s]\n"
          ]
        },
        {
          "output_type": "stream",
          "name": "stdout",
          "text": [
            "Average Training Loss: 1.5836\n"
          ]
        },
        {
          "output_type": "stream",
          "name": "stderr",
          "text": [
            "Epoch 15/20 - Validation: 100%|██████████| 138/138 [00:00<00:00, 1992.93it/s]\n",
            "Epoch 16/20 - Training: 100%|██████████| 1068/1068 [00:02<00:00, 490.08it/s]\n"
          ]
        },
        {
          "output_type": "stream",
          "name": "stdout",
          "text": [
            "Average Training Loss: 1.5863\n"
          ]
        },
        {
          "output_type": "stream",
          "name": "stderr",
          "text": [
            "Epoch 16/20 - Validation: 100%|██████████| 138/138 [00:00<00:00, 1891.22it/s]\n",
            "Epoch 17/20 - Training: 100%|██████████| 1068/1068 [00:02<00:00, 488.41it/s]\n"
          ]
        },
        {
          "output_type": "stream",
          "name": "stdout",
          "text": [
            "Average Training Loss: 1.5831\n"
          ]
        },
        {
          "output_type": "stream",
          "name": "stderr",
          "text": [
            "Epoch 17/20 - Validation: 100%|██████████| 138/138 [00:00<00:00, 1988.76it/s]\n",
            "Epoch 18/20 - Training: 100%|██████████| 1068/1068 [00:02<00:00, 491.84it/s]\n"
          ]
        },
        {
          "output_type": "stream",
          "name": "stdout",
          "text": [
            "Average Training Loss: 1.5847\n"
          ]
        },
        {
          "output_type": "stream",
          "name": "stderr",
          "text": [
            "Epoch 18/20 - Validation: 100%|██████████| 138/138 [00:00<00:00, 1914.97it/s]\n",
            "Epoch 19/20 - Training: 100%|██████████| 1068/1068 [00:02<00:00, 394.89it/s]\n"
          ]
        },
        {
          "output_type": "stream",
          "name": "stdout",
          "text": [
            "Average Training Loss: 1.5841\n"
          ]
        },
        {
          "output_type": "stream",
          "name": "stderr",
          "text": [
            "Epoch 19/20 - Validation: 100%|██████████| 138/138 [00:00<00:00, 1716.88it/s]\n",
            "Epoch 20/20 - Training: 100%|██████████| 1068/1068 [00:02<00:00, 371.19it/s]\n"
          ]
        },
        {
          "output_type": "stream",
          "name": "stdout",
          "text": [
            "Average Training Loss: 1.5833\n"
          ]
        },
        {
          "output_type": "stream",
          "name": "stderr",
          "text": [
            "Epoch 20/20 - Validation: 100%|██████████| 138/138 [00:00<00:00, 1986.89it/s]\n",
            "Epoch 1/20 - Training: 100%|██████████| 1068/1068 [00:02<00:00, 522.65it/s]\n"
          ]
        },
        {
          "output_type": "stream",
          "name": "stdout",
          "text": [
            "Average Training Loss: 1.6433\n"
          ]
        },
        {
          "output_type": "stream",
          "name": "stderr",
          "text": [
            "Epoch 1/20 - Validation: 100%|██████████| 138/138 [00:00<00:00, 1935.99it/s]\n",
            "Epoch 2/20 - Training: 100%|██████████| 1068/1068 [00:02<00:00, 464.12it/s]\n"
          ]
        },
        {
          "output_type": "stream",
          "name": "stdout",
          "text": [
            "Average Training Loss: 1.6078\n"
          ]
        },
        {
          "output_type": "stream",
          "name": "stderr",
          "text": [
            "Epoch 2/20 - Validation: 100%|██████████| 138/138 [00:00<00:00, 1978.05it/s]\n",
            "Epoch 3/20 - Training: 100%|██████████| 1068/1068 [00:02<00:00, 465.87it/s]\n"
          ]
        },
        {
          "output_type": "stream",
          "name": "stdout",
          "text": [
            "Average Training Loss: 1.6148\n"
          ]
        },
        {
          "output_type": "stream",
          "name": "stderr",
          "text": [
            "Epoch 3/20 - Validation: 100%|██████████| 138/138 [00:00<00:00, 1838.25it/s]\n",
            "Epoch 4/20 - Training: 100%|██████████| 1068/1068 [00:02<00:00, 482.42it/s]\n"
          ]
        },
        {
          "output_type": "stream",
          "name": "stdout",
          "text": [
            "Average Training Loss: 1.5835\n"
          ]
        },
        {
          "output_type": "stream",
          "name": "stderr",
          "text": [
            "Epoch 4/20 - Validation: 100%|██████████| 138/138 [00:00<00:00, 1864.32it/s]\n",
            "Epoch 5/20 - Training: 100%|██████████| 1068/1068 [00:02<00:00, 403.62it/s]\n"
          ]
        },
        {
          "output_type": "stream",
          "name": "stdout",
          "text": [
            "Average Training Loss: 1.5854\n"
          ]
        },
        {
          "output_type": "stream",
          "name": "stderr",
          "text": [
            "Epoch 5/20 - Validation: 100%|██████████| 138/138 [00:00<00:00, 1647.62it/s]\n",
            "Epoch 6/20 - Training: 100%|██████████| 1068/1068 [00:02<00:00, 374.19it/s]\n"
          ]
        },
        {
          "output_type": "stream",
          "name": "stdout",
          "text": [
            "Average Training Loss: 1.5868\n"
          ]
        },
        {
          "output_type": "stream",
          "name": "stderr",
          "text": [
            "Epoch 6/20 - Validation: 100%|██████████| 138/138 [00:00<00:00, 2115.42it/s]\n",
            "Epoch 7/20 - Training: 100%|██████████| 1068/1068 [00:02<00:00, 419.95it/s]\n"
          ]
        },
        {
          "output_type": "stream",
          "name": "stdout",
          "text": [
            "Average Training Loss: 1.5836\n"
          ]
        },
        {
          "output_type": "stream",
          "name": "stderr",
          "text": [
            "Epoch 7/20 - Validation: 100%|██████████| 138/138 [00:00<00:00, 1858.16it/s]\n",
            "Epoch 8/20 - Training: 100%|██████████| 1068/1068 [00:02<00:00, 478.31it/s]\n"
          ]
        },
        {
          "output_type": "stream",
          "name": "stdout",
          "text": [
            "Average Training Loss: 1.5837\n"
          ]
        },
        {
          "output_type": "stream",
          "name": "stderr",
          "text": [
            "Epoch 8/20 - Validation: 100%|██████████| 138/138 [00:00<00:00, 1799.13it/s]\n",
            "Epoch 9/20 - Training: 100%|██████████| 1068/1068 [00:02<00:00, 467.81it/s]\n"
          ]
        },
        {
          "output_type": "stream",
          "name": "stdout",
          "text": [
            "Average Training Loss: 1.5849\n"
          ]
        },
        {
          "output_type": "stream",
          "name": "stderr",
          "text": [
            "Epoch 9/20 - Validation: 100%|██████████| 138/138 [00:00<00:00, 1955.70it/s]\n",
            "Epoch 10/20 - Training: 100%|██████████| 1068/1068 [00:02<00:00, 468.57it/s]\n"
          ]
        },
        {
          "output_type": "stream",
          "name": "stdout",
          "text": [
            "Average Training Loss: 1.5844\n"
          ]
        },
        {
          "output_type": "stream",
          "name": "stderr",
          "text": [
            "Epoch 10/20 - Validation: 100%|██████████| 138/138 [00:00<00:00, 1850.21it/s]\n",
            "Epoch 11/20 - Training: 100%|██████████| 1068/1068 [00:02<00:00, 419.83it/s]\n"
          ]
        },
        {
          "output_type": "stream",
          "name": "stdout",
          "text": [
            "Average Training Loss: 1.5824\n"
          ]
        },
        {
          "output_type": "stream",
          "name": "stderr",
          "text": [
            "Epoch 11/20 - Validation: 100%|██████████| 138/138 [00:00<00:00, 1965.70it/s]\n",
            "Epoch 12/20 - Training: 100%|██████████| 1068/1068 [00:02<00:00, 360.54it/s]\n"
          ]
        },
        {
          "output_type": "stream",
          "name": "stdout",
          "text": [
            "Average Training Loss: 1.5836\n"
          ]
        },
        {
          "output_type": "stream",
          "name": "stderr",
          "text": [
            "Epoch 12/20 - Validation: 100%|██████████| 138/138 [00:00<00:00, 1803.69it/s]\n",
            "Epoch 13/20 - Training: 100%|██████████| 1068/1068 [00:02<00:00, 390.98it/s]\n"
          ]
        },
        {
          "output_type": "stream",
          "name": "stdout",
          "text": [
            "Average Training Loss: 1.5876\n"
          ]
        },
        {
          "output_type": "stream",
          "name": "stderr",
          "text": [
            "Epoch 13/20 - Validation: 100%|██████████| 138/138 [00:00<00:00, 2234.74it/s]\n",
            "Epoch 14/20 - Training: 100%|██████████| 1068/1068 [00:02<00:00, 466.12it/s]\n"
          ]
        },
        {
          "output_type": "stream",
          "name": "stdout",
          "text": [
            "Average Training Loss: 1.5846\n"
          ]
        },
        {
          "output_type": "stream",
          "name": "stderr",
          "text": [
            "Epoch 14/20 - Validation: 100%|██████████| 138/138 [00:00<00:00, 1892.92it/s]\n",
            "Epoch 15/20 - Training: 100%|██████████| 1068/1068 [00:02<00:00, 464.00it/s]\n"
          ]
        },
        {
          "output_type": "stream",
          "name": "stdout",
          "text": [
            "Average Training Loss: 1.5828\n"
          ]
        },
        {
          "output_type": "stream",
          "name": "stderr",
          "text": [
            "Epoch 15/20 - Validation: 100%|██████████| 138/138 [00:00<00:00, 1975.94it/s]\n",
            "Epoch 16/20 - Training: 100%|██████████| 1068/1068 [00:02<00:00, 464.88it/s]\n"
          ]
        },
        {
          "output_type": "stream",
          "name": "stdout",
          "text": [
            "Average Training Loss: 1.5837\n"
          ]
        },
        {
          "output_type": "stream",
          "name": "stderr",
          "text": [
            "Epoch 16/20 - Validation: 100%|██████████| 138/138 [00:00<00:00, 1928.43it/s]\n",
            "Epoch 17/20 - Training: 100%|██████████| 1068/1068 [00:02<00:00, 432.06it/s]\n"
          ]
        },
        {
          "output_type": "stream",
          "name": "stdout",
          "text": [
            "Average Training Loss: 1.5852\n"
          ]
        },
        {
          "output_type": "stream",
          "name": "stderr",
          "text": [
            "Epoch 17/20 - Validation: 100%|██████████| 138/138 [00:00<00:00, 1901.44it/s]\n",
            "Epoch 18/20 - Training: 100%|██████████| 1068/1068 [00:02<00:00, 370.36it/s]\n"
          ]
        },
        {
          "output_type": "stream",
          "name": "stdout",
          "text": [
            "Average Training Loss: 1.5863\n"
          ]
        },
        {
          "output_type": "stream",
          "name": "stderr",
          "text": [
            "Epoch 18/20 - Validation: 100%|██████████| 138/138 [00:00<00:00, 2017.57it/s]\n",
            "Epoch 19/20 - Training: 100%|██████████| 1068/1068 [00:02<00:00, 397.37it/s]\n"
          ]
        },
        {
          "output_type": "stream",
          "name": "stdout",
          "text": [
            "Average Training Loss: 1.5845\n"
          ]
        },
        {
          "output_type": "stream",
          "name": "stderr",
          "text": [
            "Epoch 19/20 - Validation: 100%|██████████| 138/138 [00:00<00:00, 1769.45it/s]\n",
            "Epoch 20/20 - Training: 100%|██████████| 1068/1068 [00:02<00:00, 473.17it/s]\n"
          ]
        },
        {
          "output_type": "stream",
          "name": "stdout",
          "text": [
            "Average Training Loss: 1.5806\n"
          ]
        },
        {
          "output_type": "stream",
          "name": "stderr",
          "text": [
            "Epoch 20/20 - Validation: 100%|██████████| 138/138 [00:00<00:00, 2102.27it/s]\n",
            "Epoch 1/20 - Training: 100%|██████████| 1068/1068 [00:01<00:00, 556.82it/s]\n"
          ]
        },
        {
          "output_type": "stream",
          "name": "stdout",
          "text": [
            "Average Training Loss: 1.6574\n"
          ]
        },
        {
          "output_type": "stream",
          "name": "stderr",
          "text": [
            "Epoch 1/20 - Validation: 100%|██████████| 138/138 [00:00<00:00, 1855.77it/s]\n",
            "Epoch 2/20 - Training: 100%|██████████| 1068/1068 [00:02<00:00, 478.91it/s]\n"
          ]
        },
        {
          "output_type": "stream",
          "name": "stdout",
          "text": [
            "Average Training Loss: 1.6863\n"
          ]
        },
        {
          "output_type": "stream",
          "name": "stderr",
          "text": [
            "Epoch 2/20 - Validation: 100%|██████████| 138/138 [00:00<00:00, 2037.37it/s]\n",
            "Epoch 3/20 - Training: 100%|██████████| 1068/1068 [00:02<00:00, 466.17it/s]\n"
          ]
        },
        {
          "output_type": "stream",
          "name": "stdout",
          "text": [
            "Average Training Loss: 1.5919\n"
          ]
        },
        {
          "output_type": "stream",
          "name": "stderr",
          "text": [
            "Epoch 3/20 - Validation: 100%|██████████| 138/138 [00:00<00:00, 2035.86it/s]\n",
            "Epoch 4/20 - Training: 100%|██████████| 1068/1068 [00:02<00:00, 372.14it/s]\n"
          ]
        },
        {
          "output_type": "stream",
          "name": "stdout",
          "text": [
            "Average Training Loss: 1.6032\n"
          ]
        },
        {
          "output_type": "stream",
          "name": "stderr",
          "text": [
            "Epoch 4/20 - Validation: 100%|██████████| 138/138 [00:00<00:00, 1819.76it/s]\n",
            "Epoch 5/20 - Training: 100%|██████████| 1068/1068 [00:02<00:00, 371.27it/s]\n"
          ]
        },
        {
          "output_type": "stream",
          "name": "stdout",
          "text": [
            "Average Training Loss: 1.5839\n"
          ]
        },
        {
          "output_type": "stream",
          "name": "stderr",
          "text": [
            "Epoch 5/20 - Validation: 100%|██████████| 138/138 [00:00<00:00, 1991.54it/s]\n",
            "Epoch 6/20 - Training: 100%|██████████| 1068/1068 [00:02<00:00, 455.55it/s]\n"
          ]
        },
        {
          "output_type": "stream",
          "name": "stdout",
          "text": [
            "Average Training Loss: 1.5842\n"
          ]
        },
        {
          "output_type": "stream",
          "name": "stderr",
          "text": [
            "Epoch 6/20 - Validation: 100%|██████████| 138/138 [00:00<00:00, 1847.48it/s]\n",
            "Epoch 7/20 - Training: 100%|██████████| 1068/1068 [00:02<00:00, 459.23it/s]\n"
          ]
        },
        {
          "output_type": "stream",
          "name": "stdout",
          "text": [
            "Average Training Loss: 1.5850\n"
          ]
        },
        {
          "output_type": "stream",
          "name": "stderr",
          "text": [
            "Epoch 7/20 - Validation: 100%|██████████| 138/138 [00:00<00:00, 2136.78it/s]\n",
            "Epoch 8/20 - Training: 100%|██████████| 1068/1068 [00:02<00:00, 450.51it/s]\n"
          ]
        },
        {
          "output_type": "stream",
          "name": "stdout",
          "text": [
            "Average Training Loss: 1.5854\n"
          ]
        },
        {
          "output_type": "stream",
          "name": "stderr",
          "text": [
            "Epoch 8/20 - Validation: 100%|██████████| 138/138 [00:00<00:00, 2096.95it/s]\n",
            "Epoch 9/20 - Training: 100%|██████████| 1068/1068 [00:02<00:00, 461.22it/s]\n"
          ]
        },
        {
          "output_type": "stream",
          "name": "stdout",
          "text": [
            "Average Training Loss: 1.5846\n"
          ]
        },
        {
          "output_type": "stream",
          "name": "stderr",
          "text": [
            "Epoch 9/20 - Validation: 100%|██████████| 138/138 [00:00<00:00, 2089.26it/s]\n",
            "Epoch 10/20 - Training: 100%|██████████| 1068/1068 [00:02<00:00, 363.76it/s]\n"
          ]
        },
        {
          "output_type": "stream",
          "name": "stdout",
          "text": [
            "Average Training Loss: 1.5829\n"
          ]
        },
        {
          "output_type": "stream",
          "name": "stderr",
          "text": [
            "Epoch 10/20 - Validation: 100%|██████████| 138/138 [00:00<00:00, 1752.80it/s]\n",
            "Epoch 11/20 - Training: 100%|██████████| 1068/1068 [00:02<00:00, 382.14it/s]\n"
          ]
        },
        {
          "output_type": "stream",
          "name": "stdout",
          "text": [
            "Average Training Loss: 1.5832\n"
          ]
        },
        {
          "output_type": "stream",
          "name": "stderr",
          "text": [
            "Epoch 11/20 - Validation: 100%|██████████| 138/138 [00:00<00:00, 1570.72it/s]\n",
            "Epoch 12/20 - Training: 100%|██████████| 1068/1068 [00:02<00:00, 455.79it/s]\n"
          ]
        },
        {
          "output_type": "stream",
          "name": "stdout",
          "text": [
            "Average Training Loss: 1.5865\n"
          ]
        },
        {
          "output_type": "stream",
          "name": "stderr",
          "text": [
            "Epoch 12/20 - Validation: 100%|██████████| 138/138 [00:00<00:00, 1941.29it/s]\n",
            "Epoch 13/20 - Training: 100%|██████████| 1068/1068 [00:02<00:00, 467.20it/s]\n"
          ]
        },
        {
          "output_type": "stream",
          "name": "stdout",
          "text": [
            "Average Training Loss: 1.5856\n"
          ]
        },
        {
          "output_type": "stream",
          "name": "stderr",
          "text": [
            "Epoch 13/20 - Validation: 100%|██████████| 138/138 [00:00<00:00, 1918.88it/s]\n",
            "Epoch 14/20 - Training: 100%|██████████| 1068/1068 [00:02<00:00, 461.48it/s]\n"
          ]
        },
        {
          "output_type": "stream",
          "name": "stdout",
          "text": [
            "Average Training Loss: 1.5835\n"
          ]
        },
        {
          "output_type": "stream",
          "name": "stderr",
          "text": [
            "Epoch 14/20 - Validation: 100%|██████████| 138/138 [00:00<00:00, 1914.07it/s]\n",
            "Epoch 15/20 - Training: 100%|██████████| 1068/1068 [00:02<00:00, 457.94it/s]\n"
          ]
        },
        {
          "output_type": "stream",
          "name": "stdout",
          "text": [
            "Average Training Loss: 1.5837\n"
          ]
        },
        {
          "output_type": "stream",
          "name": "stderr",
          "text": [
            "Epoch 15/20 - Validation: 100%|██████████| 138/138 [00:00<00:00, 1923.10it/s]\n",
            "Epoch 16/20 - Training: 100%|██████████| 1068/1068 [00:02<00:00, 379.92it/s]\n"
          ]
        },
        {
          "output_type": "stream",
          "name": "stdout",
          "text": [
            "Average Training Loss: 1.5851\n"
          ]
        },
        {
          "output_type": "stream",
          "name": "stderr",
          "text": [
            "Epoch 16/20 - Validation: 100%|██████████| 138/138 [00:00<00:00, 1688.57it/s]\n",
            "Epoch 17/20 - Training: 100%|██████████| 1068/1068 [00:02<00:00, 357.76it/s]\n"
          ]
        },
        {
          "output_type": "stream",
          "name": "stdout",
          "text": [
            "Average Training Loss: 1.5830\n"
          ]
        },
        {
          "output_type": "stream",
          "name": "stderr",
          "text": [
            "Epoch 17/20 - Validation: 100%|██████████| 138/138 [00:00<00:00, 1750.42it/s]\n",
            "Epoch 18/20 - Training: 100%|██████████| 1068/1068 [00:02<00:00, 452.75it/s]\n"
          ]
        },
        {
          "output_type": "stream",
          "name": "stdout",
          "text": [
            "Average Training Loss: 1.5833\n"
          ]
        },
        {
          "output_type": "stream",
          "name": "stderr",
          "text": [
            "Epoch 18/20 - Validation: 100%|██████████| 138/138 [00:00<00:00, 2033.65it/s]\n",
            "Epoch 19/20 - Training: 100%|██████████| 1068/1068 [00:02<00:00, 470.30it/s]\n"
          ]
        },
        {
          "output_type": "stream",
          "name": "stdout",
          "text": [
            "Average Training Loss: 1.5855\n"
          ]
        },
        {
          "output_type": "stream",
          "name": "stderr",
          "text": [
            "Epoch 19/20 - Validation: 100%|██████████| 138/138 [00:00<00:00, 1885.90it/s]\n",
            "Epoch 20/20 - Training: 100%|██████████| 1068/1068 [00:02<00:00, 464.01it/s]\n"
          ]
        },
        {
          "output_type": "stream",
          "name": "stdout",
          "text": [
            "Average Training Loss: 1.5842\n"
          ]
        },
        {
          "output_type": "stream",
          "name": "stderr",
          "text": [
            "Epoch 20/20 - Validation: 100%|██████████| 138/138 [00:00<00:00, 2242.07it/s]\n",
            "Epoch 1/20 - Training: 100%|██████████| 1068/1068 [00:01<00:00, 549.70it/s]\n"
          ]
        },
        {
          "output_type": "stream",
          "name": "stdout",
          "text": [
            "Average Training Loss: 1.7106\n"
          ]
        },
        {
          "output_type": "stream",
          "name": "stderr",
          "text": [
            "Epoch 1/20 - Validation: 100%|██████████| 138/138 [00:00<00:00, 1830.97it/s]\n",
            "Epoch 2/20 - Training: 100%|██████████| 1068/1068 [00:02<00:00, 399.75it/s]\n"
          ]
        },
        {
          "output_type": "stream",
          "name": "stdout",
          "text": [
            "Average Training Loss: 1.6441\n"
          ]
        },
        {
          "output_type": "stream",
          "name": "stderr",
          "text": [
            "Epoch 2/20 - Validation: 100%|██████████| 138/138 [00:00<00:00, 1721.31it/s]\n",
            "Epoch 3/20 - Training: 100%|██████████| 1068/1068 [00:03<00:00, 354.49it/s]\n"
          ]
        },
        {
          "output_type": "stream",
          "name": "stdout",
          "text": [
            "Average Training Loss: 1.6529\n"
          ]
        },
        {
          "output_type": "stream",
          "name": "stderr",
          "text": [
            "Epoch 3/20 - Validation: 100%|██████████| 138/138 [00:00<00:00, 1777.39it/s]\n",
            "Epoch 4/20 - Training: 100%|██████████| 1068/1068 [00:02<00:00, 417.64it/s]\n"
          ]
        },
        {
          "output_type": "stream",
          "name": "stdout",
          "text": [
            "Average Training Loss: 1.7257\n"
          ]
        },
        {
          "output_type": "stream",
          "name": "stderr",
          "text": [
            "Epoch 4/20 - Validation: 100%|██████████| 138/138 [00:00<00:00, 1949.00it/s]\n",
            "Epoch 5/20 - Training: 100%|██████████| 1068/1068 [00:02<00:00, 462.41it/s]\n"
          ]
        },
        {
          "output_type": "stream",
          "name": "stdout",
          "text": [
            "Average Training Loss: 1.5976\n"
          ]
        },
        {
          "output_type": "stream",
          "name": "stderr",
          "text": [
            "Epoch 5/20 - Validation: 100%|██████████| 138/138 [00:00<00:00, 1844.70it/s]\n",
            "Epoch 6/20 - Training: 100%|██████████| 1068/1068 [00:02<00:00, 443.29it/s]\n"
          ]
        },
        {
          "output_type": "stream",
          "name": "stdout",
          "text": [
            "Average Training Loss: 1.6355\n"
          ]
        },
        {
          "output_type": "stream",
          "name": "stderr",
          "text": [
            "Epoch 6/20 - Validation: 100%|██████████| 138/138 [00:00<00:00, 2004.50it/s]\n",
            "Epoch 7/20 - Training: 100%|██████████| 1068/1068 [00:02<00:00, 454.78it/s]\n"
          ]
        },
        {
          "output_type": "stream",
          "name": "stdout",
          "text": [
            "Average Training Loss: 1.6035\n"
          ]
        },
        {
          "output_type": "stream",
          "name": "stderr",
          "text": [
            "Epoch 7/20 - Validation: 100%|██████████| 138/138 [00:00<00:00, 1669.30it/s]\n",
            "Epoch 8/20 - Training: 100%|██████████| 1068/1068 [00:02<00:00, 376.97it/s]\n"
          ]
        },
        {
          "output_type": "stream",
          "name": "stdout",
          "text": [
            "Average Training Loss: 1.6566\n"
          ]
        },
        {
          "output_type": "stream",
          "name": "stderr",
          "text": [
            "Epoch 8/20 - Validation: 100%|██████████| 138/138 [00:00<00:00, 1781.10it/s]\n",
            "Epoch 9/20 - Training: 100%|██████████| 1068/1068 [00:03<00:00, 349.26it/s]\n"
          ]
        },
        {
          "output_type": "stream",
          "name": "stdout",
          "text": [
            "Average Training Loss: 1.6213\n"
          ]
        },
        {
          "output_type": "stream",
          "name": "stderr",
          "text": [
            "Epoch 9/20 - Validation: 100%|██████████| 138/138 [00:00<00:00, 1883.89it/s]\n",
            "Epoch 10/20 - Training: 100%|██████████| 1068/1068 [00:02<00:00, 436.97it/s]\n"
          ]
        },
        {
          "output_type": "stream",
          "name": "stdout",
          "text": [
            "Average Training Loss: 1.5843\n"
          ]
        },
        {
          "output_type": "stream",
          "name": "stderr",
          "text": [
            "Epoch 10/20 - Validation: 100%|██████████| 138/138 [00:00<00:00, 2061.42it/s]\n",
            "Epoch 11/20 - Training: 100%|██████████| 1068/1068 [00:02<00:00, 466.13it/s]\n"
          ]
        },
        {
          "output_type": "stream",
          "name": "stdout",
          "text": [
            "Average Training Loss: 1.6053\n"
          ]
        },
        {
          "output_type": "stream",
          "name": "stderr",
          "text": [
            "Epoch 11/20 - Validation: 100%|██████████| 138/138 [00:00<00:00, 1909.84it/s]\n",
            "Epoch 12/20 - Training: 100%|██████████| 1068/1068 [00:02<00:00, 465.22it/s]\n"
          ]
        },
        {
          "output_type": "stream",
          "name": "stdout",
          "text": [
            "Average Training Loss: 1.6429\n"
          ]
        },
        {
          "output_type": "stream",
          "name": "stderr",
          "text": [
            "Epoch 12/20 - Validation: 100%|██████████| 138/138 [00:00<00:00, 1800.40it/s]\n",
            "Epoch 13/20 - Training: 100%|██████████| 1068/1068 [00:02<00:00, 465.30it/s]\n"
          ]
        },
        {
          "output_type": "stream",
          "name": "stdout",
          "text": [
            "Average Training Loss: 1.5859\n"
          ]
        },
        {
          "output_type": "stream",
          "name": "stderr",
          "text": [
            "Epoch 13/20 - Validation: 100%|██████████| 138/138 [00:00<00:00, 1909.16it/s]\n",
            "Epoch 14/20 - Training: 100%|██████████| 1068/1068 [00:02<00:00, 402.61it/s]\n"
          ]
        },
        {
          "output_type": "stream",
          "name": "stdout",
          "text": [
            "Average Training Loss: 1.5843\n"
          ]
        },
        {
          "output_type": "stream",
          "name": "stderr",
          "text": [
            "Epoch 14/20 - Validation: 100%|██████████| 138/138 [00:00<00:00, 1885.96it/s]\n",
            "Epoch 15/20 - Training: 100%|██████████| 1068/1068 [00:02<00:00, 374.65it/s]\n"
          ]
        },
        {
          "output_type": "stream",
          "name": "stdout",
          "text": [
            "Average Training Loss: 1.5844\n"
          ]
        },
        {
          "output_type": "stream",
          "name": "stderr",
          "text": [
            "Epoch 15/20 - Validation: 100%|██████████| 138/138 [00:00<00:00, 1730.23it/s]\n",
            "Epoch 16/20 - Training: 100%|██████████| 1068/1068 [00:02<00:00, 407.27it/s]\n"
          ]
        },
        {
          "output_type": "stream",
          "name": "stdout",
          "text": [
            "Average Training Loss: 1.5832\n"
          ]
        },
        {
          "output_type": "stream",
          "name": "stderr",
          "text": [
            "Epoch 16/20 - Validation: 100%|██████████| 138/138 [00:00<00:00, 1938.67it/s]\n",
            "Epoch 17/20 - Training: 100%|██████████| 1068/1068 [00:02<00:00, 465.12it/s]\n"
          ]
        },
        {
          "output_type": "stream",
          "name": "stdout",
          "text": [
            "Average Training Loss: 1.5850\n"
          ]
        },
        {
          "output_type": "stream",
          "name": "stderr",
          "text": [
            "Epoch 17/20 - Validation: 100%|██████████| 138/138 [00:00<00:00, 1948.76it/s]\n",
            "Epoch 18/20 - Training: 100%|██████████| 1068/1068 [00:02<00:00, 451.49it/s]\n"
          ]
        },
        {
          "output_type": "stream",
          "name": "stdout",
          "text": [
            "Average Training Loss: 1.5864\n"
          ]
        },
        {
          "output_type": "stream",
          "name": "stderr",
          "text": [
            "Epoch 18/20 - Validation: 100%|██████████| 138/138 [00:00<00:00, 2195.91it/s]\n",
            "Epoch 19/20 - Training: 100%|██████████| 1068/1068 [00:02<00:00, 451.48it/s]\n"
          ]
        },
        {
          "output_type": "stream",
          "name": "stdout",
          "text": [
            "Average Training Loss: 1.5852\n"
          ]
        },
        {
          "output_type": "stream",
          "name": "stderr",
          "text": [
            "Epoch 19/20 - Validation: 100%|██████████| 138/138 [00:00<00:00, 1982.40it/s]\n",
            "Epoch 20/20 - Training: 100%|██████████| 1068/1068 [00:02<00:00, 402.44it/s]\n"
          ]
        },
        {
          "output_type": "stream",
          "name": "stdout",
          "text": [
            "Average Training Loss: 1.5848\n"
          ]
        },
        {
          "output_type": "stream",
          "name": "stderr",
          "text": [
            "Epoch 20/20 - Validation: 100%|██████████| 138/138 [00:00<00:00, 1933.44it/s]\n",
            "Epoch 1/20 - Training: 100%|██████████| 1068/1068 [00:02<00:00, 401.75it/s]\n"
          ]
        },
        {
          "output_type": "stream",
          "name": "stdout",
          "text": [
            "Average Training Loss: 1.8302\n"
          ]
        },
        {
          "output_type": "stream",
          "name": "stderr",
          "text": [
            "Epoch 1/20 - Validation: 100%|██████████| 138/138 [00:00<00:00, 1982.19it/s]\n",
            "Epoch 2/20 - Training: 100%|██████████| 1068/1068 [00:02<00:00, 388.80it/s]\n"
          ]
        },
        {
          "output_type": "stream",
          "name": "stdout",
          "text": [
            "Average Training Loss: 1.6759\n"
          ]
        },
        {
          "output_type": "stream",
          "name": "stderr",
          "text": [
            "Epoch 2/20 - Validation: 100%|██████████| 138/138 [00:00<00:00, 1458.21it/s]\n",
            "Epoch 3/20 - Training: 100%|██████████| 1068/1068 [00:02<00:00, 468.61it/s]\n"
          ]
        },
        {
          "output_type": "stream",
          "name": "stdout",
          "text": [
            "Average Training Loss: 1.7506\n"
          ]
        },
        {
          "output_type": "stream",
          "name": "stderr",
          "text": [
            "Epoch 3/20 - Validation: 100%|██████████| 138/138 [00:00<00:00, 2026.78it/s]\n",
            "Epoch 4/20 - Training: 100%|██████████| 1068/1068 [00:02<00:00, 461.83it/s]\n"
          ]
        },
        {
          "output_type": "stream",
          "name": "stdout",
          "text": [
            "Average Training Loss: 1.6473\n"
          ]
        },
        {
          "output_type": "stream",
          "name": "stderr",
          "text": [
            "Epoch 4/20 - Validation: 100%|██████████| 138/138 [00:00<00:00, 1993.24it/s]\n",
            "Epoch 5/20 - Training: 100%|██████████| 1068/1068 [00:02<00:00, 460.93it/s]\n"
          ]
        },
        {
          "output_type": "stream",
          "name": "stdout",
          "text": [
            "Average Training Loss: 1.6388\n"
          ]
        },
        {
          "output_type": "stream",
          "name": "stderr",
          "text": [
            "Epoch 5/20 - Validation: 100%|██████████| 138/138 [00:00<00:00, 1705.83it/s]\n",
            "Epoch 6/20 - Training: 100%|██████████| 1068/1068 [00:02<00:00, 419.80it/s]\n"
          ]
        },
        {
          "output_type": "stream",
          "name": "stdout",
          "text": [
            "Average Training Loss: 1.6466\n"
          ]
        },
        {
          "output_type": "stream",
          "name": "stderr",
          "text": [
            "Epoch 6/20 - Validation: 100%|██████████| 138/138 [00:00<00:00, 1462.67it/s]\n",
            "Epoch 7/20 - Training: 100%|██████████| 1068/1068 [00:03<00:00, 337.06it/s]\n"
          ]
        },
        {
          "output_type": "stream",
          "name": "stdout",
          "text": [
            "Average Training Loss: 1.6486\n"
          ]
        },
        {
          "output_type": "stream",
          "name": "stderr",
          "text": [
            "Epoch 7/20 - Validation: 100%|██████████| 138/138 [00:00<00:00, 1767.91it/s]\n",
            "Epoch 8/20 - Training: 100%|██████████| 1068/1068 [00:02<00:00, 403.21it/s]\n"
          ]
        },
        {
          "output_type": "stream",
          "name": "stdout",
          "text": [
            "Average Training Loss: 1.5923\n"
          ]
        },
        {
          "output_type": "stream",
          "name": "stderr",
          "text": [
            "Epoch 8/20 - Validation: 100%|██████████| 138/138 [00:00<00:00, 1944.16it/s]\n",
            "Epoch 9/20 - Training: 100%|██████████| 1068/1068 [00:02<00:00, 449.67it/s]\n"
          ]
        },
        {
          "output_type": "stream",
          "name": "stdout",
          "text": [
            "Average Training Loss: 1.5850\n"
          ]
        },
        {
          "output_type": "stream",
          "name": "stderr",
          "text": [
            "Epoch 9/20 - Validation: 100%|██████████| 138/138 [00:00<00:00, 2038.94it/s]\n",
            "Epoch 10/20 - Training: 100%|██████████| 1068/1068 [00:02<00:00, 439.03it/s]\n"
          ]
        },
        {
          "output_type": "stream",
          "name": "stdout",
          "text": [
            "Average Training Loss: 1.6785\n"
          ]
        },
        {
          "output_type": "stream",
          "name": "stderr",
          "text": [
            "Epoch 10/20 - Validation: 100%|██████████| 138/138 [00:00<00:00, 1880.26it/s]\n",
            "Epoch 11/20 - Training: 100%|██████████| 1068/1068 [00:02<00:00, 451.58it/s]\n"
          ]
        },
        {
          "output_type": "stream",
          "name": "stdout",
          "text": [
            "Average Training Loss: 1.5863\n"
          ]
        },
        {
          "output_type": "stream",
          "name": "stderr",
          "text": [
            "Epoch 11/20 - Validation: 100%|██████████| 138/138 [00:00<00:00, 1783.85it/s]\n",
            "Epoch 12/20 - Training: 100%|██████████| 1068/1068 [00:02<00:00, 371.47it/s]\n"
          ]
        },
        {
          "output_type": "stream",
          "name": "stdout",
          "text": [
            "Average Training Loss: 1.5838\n"
          ]
        },
        {
          "output_type": "stream",
          "name": "stderr",
          "text": [
            "Epoch 12/20 - Validation: 100%|██████████| 138/138 [00:00<00:00, 1600.25it/s]\n",
            "Epoch 13/20 - Training: 100%|██████████| 1068/1068 [00:03<00:00, 354.84it/s]\n"
          ]
        },
        {
          "output_type": "stream",
          "name": "stdout",
          "text": [
            "Average Training Loss: 1.5860\n"
          ]
        },
        {
          "output_type": "stream",
          "name": "stderr",
          "text": [
            "Epoch 13/20 - Validation: 100%|██████████| 138/138 [00:00<00:00, 1572.00it/s]\n",
            "Epoch 14/20 - Training: 100%|██████████| 1068/1068 [00:02<00:00, 396.87it/s]\n"
          ]
        },
        {
          "output_type": "stream",
          "name": "stdout",
          "text": [
            "Average Training Loss: 1.5860\n"
          ]
        },
        {
          "output_type": "stream",
          "name": "stderr",
          "text": [
            "Epoch 14/20 - Validation: 100%|██████████| 138/138 [00:00<00:00, 1819.14it/s]\n",
            "Epoch 15/20 - Training: 100%|██████████| 1068/1068 [00:02<00:00, 438.44it/s]\n"
          ]
        },
        {
          "output_type": "stream",
          "name": "stdout",
          "text": [
            "Average Training Loss: 1.5867\n"
          ]
        },
        {
          "output_type": "stream",
          "name": "stderr",
          "text": [
            "Epoch 15/20 - Validation: 100%|██████████| 138/138 [00:00<00:00, 2089.36it/s]\n",
            "Epoch 16/20 - Training: 100%|██████████| 1068/1068 [00:02<00:00, 459.48it/s]\n"
          ]
        },
        {
          "output_type": "stream",
          "name": "stdout",
          "text": [
            "Average Training Loss: 1.5866\n"
          ]
        },
        {
          "output_type": "stream",
          "name": "stderr",
          "text": [
            "Epoch 16/20 - Validation: 100%|██████████| 138/138 [00:00<00:00, 1833.83it/s]\n",
            "Epoch 17/20 - Training: 100%|██████████| 1068/1068 [00:02<00:00, 454.94it/s]\n"
          ]
        },
        {
          "output_type": "stream",
          "name": "stdout",
          "text": [
            "Average Training Loss: 1.5848\n"
          ]
        },
        {
          "output_type": "stream",
          "name": "stderr",
          "text": [
            "Epoch 17/20 - Validation: 100%|██████████| 138/138 [00:00<00:00, 2123.01it/s]\n",
            "Epoch 18/20 - Training: 100%|██████████| 1068/1068 [00:02<00:00, 391.94it/s]\n"
          ]
        },
        {
          "output_type": "stream",
          "name": "stdout",
          "text": [
            "Average Training Loss: 1.5834\n"
          ]
        },
        {
          "output_type": "stream",
          "name": "stderr",
          "text": [
            "Epoch 18/20 - Validation: 100%|██████████| 138/138 [00:00<00:00, 1940.42it/s]\n",
            "Epoch 19/20 - Training: 100%|██████████| 1068/1068 [00:03<00:00, 353.69it/s]\n"
          ]
        },
        {
          "output_type": "stream",
          "name": "stdout",
          "text": [
            "Average Training Loss: 1.5849\n"
          ]
        },
        {
          "output_type": "stream",
          "name": "stderr",
          "text": [
            "Epoch 19/20 - Validation: 100%|██████████| 138/138 [00:00<00:00, 1758.60it/s]\n",
            "Epoch 20/20 - Training: 100%|██████████| 1068/1068 [00:02<00:00, 390.31it/s]\n"
          ]
        },
        {
          "output_type": "stream",
          "name": "stdout",
          "text": [
            "Average Training Loss: 1.5853\n"
          ]
        },
        {
          "output_type": "stream",
          "name": "stderr",
          "text": [
            "Epoch 20/20 - Validation: 100%|██████████| 138/138 [00:00<00:00, 2014.85it/s]\n",
            "Epoch 1/20 - Training: 100%|██████████| 1068/1068 [00:02<00:00, 447.43it/s]\n"
          ]
        },
        {
          "output_type": "stream",
          "name": "stdout",
          "text": [
            "Average Training Loss: 1.7284\n"
          ]
        },
        {
          "output_type": "stream",
          "name": "stderr",
          "text": [
            "Epoch 1/20 - Validation: 100%|██████████| 138/138 [00:00<00:00, 1846.36it/s]\n",
            "Epoch 2/20 - Training: 100%|██████████| 1068/1068 [00:03<00:00, 345.79it/s]\n"
          ]
        },
        {
          "output_type": "stream",
          "name": "stdout",
          "text": [
            "Average Training Loss: 1.6274\n"
          ]
        },
        {
          "output_type": "stream",
          "name": "stderr",
          "text": [
            "Epoch 2/20 - Validation: 100%|██████████| 138/138 [00:00<00:00, 1696.31it/s]\n",
            "Epoch 3/20 - Training: 100%|██████████| 1068/1068 [00:03<00:00, 325.14it/s]\n"
          ]
        },
        {
          "output_type": "stream",
          "name": "stdout",
          "text": [
            "Average Training Loss: 1.6140\n"
          ]
        },
        {
          "output_type": "stream",
          "name": "stderr",
          "text": [
            "Epoch 3/20 - Validation: 100%|██████████| 138/138 [00:00<00:00, 1672.61it/s]\n",
            "Epoch 4/20 - Training: 100%|██████████| 1068/1068 [00:03<00:00, 280.01it/s]\n"
          ]
        },
        {
          "output_type": "stream",
          "name": "stdout",
          "text": [
            "Average Training Loss: 1.5843\n"
          ]
        },
        {
          "output_type": "stream",
          "name": "stderr",
          "text": [
            "Epoch 4/20 - Validation: 100%|██████████| 138/138 [00:00<00:00, 1720.21it/s]\n",
            "Epoch 5/20 - Training: 100%|██████████| 1068/1068 [00:03<00:00, 311.23it/s]\n"
          ]
        },
        {
          "output_type": "stream",
          "name": "stdout",
          "text": [
            "Average Training Loss: 1.5856\n"
          ]
        },
        {
          "output_type": "stream",
          "name": "stderr",
          "text": [
            "Epoch 5/20 - Validation: 100%|██████████| 138/138 [00:00<00:00, 1564.82it/s]\n",
            "Epoch 6/20 - Training: 100%|██████████| 1068/1068 [00:03<00:00, 347.63it/s]\n"
          ]
        },
        {
          "output_type": "stream",
          "name": "stdout",
          "text": [
            "Average Training Loss: 1.5870\n"
          ]
        },
        {
          "output_type": "stream",
          "name": "stderr",
          "text": [
            "Epoch 6/20 - Validation: 100%|██████████| 138/138 [00:00<00:00, 1661.95it/s]\n",
            "Epoch 7/20 - Training: 100%|██████████| 1068/1068 [00:03<00:00, 325.42it/s]\n"
          ]
        },
        {
          "output_type": "stream",
          "name": "stdout",
          "text": [
            "Average Training Loss: 1.5861\n"
          ]
        },
        {
          "output_type": "stream",
          "name": "stderr",
          "text": [
            "Epoch 7/20 - Validation: 100%|██████████| 138/138 [00:00<00:00, 1728.38it/s]\n",
            "Epoch 8/20 - Training: 100%|██████████| 1068/1068 [00:03<00:00, 290.89it/s]\n"
          ]
        },
        {
          "output_type": "stream",
          "name": "stdout",
          "text": [
            "Average Training Loss: 1.5860\n"
          ]
        },
        {
          "output_type": "stream",
          "name": "stderr",
          "text": [
            "Epoch 8/20 - Validation: 100%|██████████| 138/138 [00:00<00:00, 1652.52it/s]\n",
            "Epoch 9/20 - Training: 100%|██████████| 1068/1068 [00:03<00:00, 284.53it/s]\n"
          ]
        },
        {
          "output_type": "stream",
          "name": "stdout",
          "text": [
            "Average Training Loss: 1.5853\n"
          ]
        },
        {
          "output_type": "stream",
          "name": "stderr",
          "text": [
            "Epoch 9/20 - Validation: 100%|██████████| 138/138 [00:00<00:00, 1687.72it/s]\n",
            "Epoch 10/20 - Training: 100%|██████████| 1068/1068 [00:03<00:00, 350.87it/s]\n"
          ]
        },
        {
          "output_type": "stream",
          "name": "stdout",
          "text": [
            "Average Training Loss: 1.5852\n"
          ]
        },
        {
          "output_type": "stream",
          "name": "stderr",
          "text": [
            "Epoch 10/20 - Validation: 100%|██████████| 138/138 [00:00<00:00, 1634.40it/s]\n",
            "Epoch 11/20 - Training: 100%|██████████| 1068/1068 [00:03<00:00, 350.89it/s]\n"
          ]
        },
        {
          "output_type": "stream",
          "name": "stdout",
          "text": [
            "Average Training Loss: 1.5818\n"
          ]
        },
        {
          "output_type": "stream",
          "name": "stderr",
          "text": [
            "Epoch 11/20 - Validation: 100%|██████████| 138/138 [00:00<00:00, 1785.64it/s]\n",
            "Epoch 12/20 - Training: 100%|██████████| 1068/1068 [00:03<00:00, 338.20it/s]\n"
          ]
        },
        {
          "output_type": "stream",
          "name": "stdout",
          "text": [
            "Average Training Loss: 1.5869\n"
          ]
        },
        {
          "output_type": "stream",
          "name": "stderr",
          "text": [
            "Epoch 12/20 - Validation: 100%|██████████| 138/138 [00:00<00:00, 1305.58it/s]\n",
            "Epoch 13/20 - Training: 100%|██████████| 1068/1068 [00:04<00:00, 259.41it/s]\n"
          ]
        },
        {
          "output_type": "stream",
          "name": "stdout",
          "text": [
            "Average Training Loss: 1.5821\n"
          ]
        },
        {
          "output_type": "stream",
          "name": "stderr",
          "text": [
            "Epoch 13/20 - Validation: 100%|██████████| 138/138 [00:00<00:00, 1182.74it/s]\n",
            "Epoch 14/20 - Training: 100%|██████████| 1068/1068 [00:03<00:00, 320.06it/s]\n"
          ]
        },
        {
          "output_type": "stream",
          "name": "stdout",
          "text": [
            "Average Training Loss: 1.5842\n"
          ]
        },
        {
          "output_type": "stream",
          "name": "stderr",
          "text": [
            "Epoch 14/20 - Validation: 100%|██████████| 138/138 [00:00<00:00, 1753.97it/s]\n",
            "Epoch 15/20 - Training: 100%|██████████| 1068/1068 [00:03<00:00, 352.54it/s]\n"
          ]
        },
        {
          "output_type": "stream",
          "name": "stdout",
          "text": [
            "Average Training Loss: 1.5829\n"
          ]
        },
        {
          "output_type": "stream",
          "name": "stderr",
          "text": [
            "Epoch 15/20 - Validation: 100%|██████████| 138/138 [00:00<00:00, 1793.08it/s]\n",
            "Epoch 16/20 - Training: 100%|██████████| 1068/1068 [00:03<00:00, 337.93it/s]\n"
          ]
        },
        {
          "output_type": "stream",
          "name": "stdout",
          "text": [
            "Average Training Loss: 1.5841\n"
          ]
        },
        {
          "output_type": "stream",
          "name": "stderr",
          "text": [
            "Epoch 16/20 - Validation: 100%|██████████| 138/138 [00:00<00:00, 1823.59it/s]\n",
            "Epoch 17/20 - Training: 100%|██████████| 1068/1068 [00:03<00:00, 281.09it/s]\n"
          ]
        },
        {
          "output_type": "stream",
          "name": "stdout",
          "text": [
            "Average Training Loss: 1.5849\n"
          ]
        },
        {
          "output_type": "stream",
          "name": "stderr",
          "text": [
            "Epoch 17/20 - Validation: 100%|██████████| 138/138 [00:00<00:00, 1797.45it/s]\n",
            "Epoch 18/20 - Training: 100%|██████████| 1068/1068 [00:03<00:00, 271.06it/s]\n"
          ]
        },
        {
          "output_type": "stream",
          "name": "stdout",
          "text": [
            "Average Training Loss: 1.5840\n"
          ]
        },
        {
          "output_type": "stream",
          "name": "stderr",
          "text": [
            "Epoch 18/20 - Validation: 100%|██████████| 138/138 [00:00<00:00, 1764.10it/s]\n",
            "Epoch 19/20 - Training: 100%|██████████| 1068/1068 [00:02<00:00, 360.88it/s]\n"
          ]
        },
        {
          "output_type": "stream",
          "name": "stdout",
          "text": [
            "Average Training Loss: 1.5832\n"
          ]
        },
        {
          "output_type": "stream",
          "name": "stderr",
          "text": [
            "Epoch 19/20 - Validation: 100%|██████████| 138/138 [00:00<00:00, 1941.45it/s]\n",
            "Epoch 20/20 - Training: 100%|██████████| 1068/1068 [00:03<00:00, 348.91it/s]\n"
          ]
        },
        {
          "output_type": "stream",
          "name": "stdout",
          "text": [
            "Average Training Loss: 1.5847\n"
          ]
        },
        {
          "output_type": "stream",
          "name": "stderr",
          "text": [
            "Epoch 20/20 - Validation: 100%|██████████| 138/138 [00:00<00:00, 1677.79it/s]\n",
            "Epoch 1/20 - Training: 100%|██████████| 1068/1068 [00:02<00:00, 393.57it/s]\n"
          ]
        },
        {
          "output_type": "stream",
          "name": "stdout",
          "text": [
            "Average Training Loss: 1.7138\n"
          ]
        },
        {
          "output_type": "stream",
          "name": "stderr",
          "text": [
            "Epoch 1/20 - Validation: 100%|██████████| 138/138 [00:00<00:00, 1710.53it/s]\n",
            "Epoch 2/20 - Training: 100%|██████████| 1068/1068 [00:04<00:00, 247.01it/s]\n"
          ]
        },
        {
          "output_type": "stream",
          "name": "stdout",
          "text": [
            "Average Training Loss: 1.6251\n"
          ]
        },
        {
          "output_type": "stream",
          "name": "stderr",
          "text": [
            "Epoch 2/20 - Validation: 100%|██████████| 138/138 [00:00<00:00, 1485.57it/s]\n",
            "Epoch 3/20 - Training: 100%|██████████| 1068/1068 [00:03<00:00, 284.53it/s]\n"
          ]
        },
        {
          "output_type": "stream",
          "name": "stdout",
          "text": [
            "Average Training Loss: 1.5964\n"
          ]
        },
        {
          "output_type": "stream",
          "name": "stderr",
          "text": [
            "Epoch 3/20 - Validation: 100%|██████████| 138/138 [00:00<00:00, 1957.70it/s]\n",
            "Epoch 4/20 - Training: 100%|██████████| 1068/1068 [00:03<00:00, 310.54it/s]\n"
          ]
        },
        {
          "output_type": "stream",
          "name": "stdout",
          "text": [
            "Average Training Loss: 1.5926\n"
          ]
        },
        {
          "output_type": "stream",
          "name": "stderr",
          "text": [
            "Epoch 4/20 - Validation: 100%|██████████| 138/138 [00:00<00:00, 1620.01it/s]\n",
            "Epoch 5/20 - Training: 100%|██████████| 1068/1068 [00:03<00:00, 316.00it/s]\n"
          ]
        },
        {
          "output_type": "stream",
          "name": "stdout",
          "text": [
            "Average Training Loss: 1.5882\n"
          ]
        },
        {
          "output_type": "stream",
          "name": "stderr",
          "text": [
            "Epoch 5/20 - Validation: 100%|██████████| 138/138 [00:00<00:00, 1855.12it/s]\n",
            "Epoch 6/20 - Training: 100%|██████████| 1068/1068 [00:04<00:00, 244.97it/s]\n"
          ]
        },
        {
          "output_type": "stream",
          "name": "stdout",
          "text": [
            "Average Training Loss: 1.5871\n"
          ]
        },
        {
          "output_type": "stream",
          "name": "stderr",
          "text": [
            "Epoch 6/20 - Validation: 100%|██████████| 138/138 [00:00<00:00, 1523.49it/s]\n",
            "Epoch 7/20 - Training: 100%|██████████| 1068/1068 [00:03<00:00, 278.58it/s]\n"
          ]
        },
        {
          "output_type": "stream",
          "name": "stdout",
          "text": [
            "Average Training Loss: 1.5835\n"
          ]
        },
        {
          "output_type": "stream",
          "name": "stderr",
          "text": [
            "Epoch 7/20 - Validation: 100%|██████████| 138/138 [00:00<00:00, 1849.39it/s]\n",
            "Epoch 8/20 - Training: 100%|██████████| 1068/1068 [00:03<00:00, 320.60it/s]\n"
          ]
        },
        {
          "output_type": "stream",
          "name": "stdout",
          "text": [
            "Average Training Loss: 1.5834\n"
          ]
        },
        {
          "output_type": "stream",
          "name": "stderr",
          "text": [
            "Epoch 8/20 - Validation: 100%|██████████| 138/138 [00:00<00:00, 1830.33it/s]\n",
            "Epoch 9/20 - Training: 100%|██████████| 1068/1068 [00:03<00:00, 318.69it/s]\n"
          ]
        },
        {
          "output_type": "stream",
          "name": "stdout",
          "text": [
            "Average Training Loss: 1.5825\n"
          ]
        },
        {
          "output_type": "stream",
          "name": "stderr",
          "text": [
            "Epoch 9/20 - Validation: 100%|██████████| 138/138 [00:00<00:00, 1728.80it/s]\n",
            "Epoch 10/20 - Training: 100%|██████████| 1068/1068 [00:03<00:00, 272.77it/s]\n"
          ]
        },
        {
          "output_type": "stream",
          "name": "stdout",
          "text": [
            "Average Training Loss: 1.5834\n"
          ]
        },
        {
          "output_type": "stream",
          "name": "stderr",
          "text": [
            "Epoch 10/20 - Validation: 100%|██████████| 138/138 [00:00<00:00, 1777.83it/s]\n",
            "Epoch 11/20 - Training: 100%|██████████| 1068/1068 [00:03<00:00, 280.38it/s]\n"
          ]
        },
        {
          "output_type": "stream",
          "name": "stdout",
          "text": [
            "Average Training Loss: 1.5858\n"
          ]
        },
        {
          "output_type": "stream",
          "name": "stderr",
          "text": [
            "Epoch 11/20 - Validation: 100%|██████████| 138/138 [00:00<00:00, 1697.48it/s]\n",
            "Epoch 12/20 - Training: 100%|██████████| 1068/1068 [00:03<00:00, 327.77it/s]\n"
          ]
        },
        {
          "output_type": "stream",
          "name": "stdout",
          "text": [
            "Average Training Loss: 1.5842\n"
          ]
        },
        {
          "output_type": "stream",
          "name": "stderr",
          "text": [
            "Epoch 12/20 - Validation: 100%|██████████| 138/138 [00:00<00:00, 1583.44it/s]\n",
            "Epoch 13/20 - Training: 100%|██████████| 1068/1068 [00:03<00:00, 336.43it/s]\n"
          ]
        },
        {
          "output_type": "stream",
          "name": "stdout",
          "text": [
            "Average Training Loss: 1.5828\n"
          ]
        },
        {
          "output_type": "stream",
          "name": "stderr",
          "text": [
            "Epoch 13/20 - Validation: 100%|██████████| 138/138 [00:00<00:00, 1723.43it/s]\n",
            "Epoch 14/20 - Training: 100%|██████████| 1068/1068 [00:03<00:00, 295.88it/s]\n"
          ]
        },
        {
          "output_type": "stream",
          "name": "stdout",
          "text": [
            "Average Training Loss: 1.5833\n"
          ]
        },
        {
          "output_type": "stream",
          "name": "stderr",
          "text": [
            "Epoch 14/20 - Validation: 100%|██████████| 138/138 [00:00<00:00, 1831.66it/s]\n",
            "Epoch 15/20 - Training: 100%|██████████| 1068/1068 [00:04<00:00, 256.89it/s]\n"
          ]
        },
        {
          "output_type": "stream",
          "name": "stdout",
          "text": [
            "Average Training Loss: 1.5855\n"
          ]
        },
        {
          "output_type": "stream",
          "name": "stderr",
          "text": [
            "Epoch 15/20 - Validation: 100%|██████████| 138/138 [00:00<00:00, 1278.53it/s]\n",
            "Epoch 16/20 - Training: 100%|██████████| 1068/1068 [00:03<00:00, 316.56it/s]\n"
          ]
        },
        {
          "output_type": "stream",
          "name": "stdout",
          "text": [
            "Average Training Loss: 1.5827\n"
          ]
        },
        {
          "output_type": "stream",
          "name": "stderr",
          "text": [
            "Epoch 16/20 - Validation: 100%|██████████| 138/138 [00:00<00:00, 1773.10it/s]\n",
            "Epoch 17/20 - Training: 100%|██████████| 1068/1068 [00:03<00:00, 339.67it/s]\n"
          ]
        },
        {
          "output_type": "stream",
          "name": "stdout",
          "text": [
            "Average Training Loss: 1.5855\n"
          ]
        },
        {
          "output_type": "stream",
          "name": "stderr",
          "text": [
            "Epoch 17/20 - Validation: 100%|██████████| 138/138 [00:00<00:00, 1727.07it/s]\n",
            "Epoch 18/20 - Training: 100%|██████████| 1068/1068 [00:03<00:00, 344.40it/s]\n"
          ]
        },
        {
          "output_type": "stream",
          "name": "stdout",
          "text": [
            "Average Training Loss: 1.5833\n"
          ]
        },
        {
          "output_type": "stream",
          "name": "stderr",
          "text": [
            "Epoch 18/20 - Validation: 100%|██████████| 138/138 [00:00<00:00, 1823.77it/s]\n",
            "Epoch 19/20 - Training: 100%|██████████| 1068/1068 [00:04<00:00, 244.60it/s]\n"
          ]
        },
        {
          "output_type": "stream",
          "name": "stdout",
          "text": [
            "Average Training Loss: 1.5842\n"
          ]
        },
        {
          "output_type": "stream",
          "name": "stderr",
          "text": [
            "Epoch 19/20 - Validation: 100%|██████████| 138/138 [00:00<00:00, 1763.68it/s]\n",
            "Epoch 20/20 - Training: 100%|██████████| 1068/1068 [00:04<00:00, 257.82it/s]\n"
          ]
        },
        {
          "output_type": "stream",
          "name": "stdout",
          "text": [
            "Average Training Loss: 1.5845\n"
          ]
        },
        {
          "output_type": "stream",
          "name": "stderr",
          "text": [
            "Epoch 20/20 - Validation: 100%|██████████| 138/138 [00:00<00:00, 1623.24it/s]\n",
            "Epoch 1/20 - Training: 100%|██████████| 1068/1068 [00:02<00:00, 356.30it/s]\n"
          ]
        },
        {
          "output_type": "stream",
          "name": "stdout",
          "text": [
            "Average Training Loss: 1.7211\n"
          ]
        },
        {
          "output_type": "stream",
          "name": "stderr",
          "text": [
            "Epoch 1/20 - Validation: 100%|██████████| 138/138 [00:00<00:00, 1546.33it/s]\n",
            "Epoch 2/20 - Training: 100%|██████████| 1068/1068 [00:03<00:00, 295.11it/s]\n"
          ]
        },
        {
          "output_type": "stream",
          "name": "stdout",
          "text": [
            "Average Training Loss: 1.9073\n"
          ]
        },
        {
          "output_type": "stream",
          "name": "stderr",
          "text": [
            "Epoch 2/20 - Validation: 100%|██████████| 138/138 [00:00<00:00, 2024.13it/s]\n",
            "Epoch 3/20 - Training: 100%|██████████| 1068/1068 [00:03<00:00, 274.20it/s]\n"
          ]
        },
        {
          "output_type": "stream",
          "name": "stdout",
          "text": [
            "Average Training Loss: 1.5987\n"
          ]
        },
        {
          "output_type": "stream",
          "name": "stderr",
          "text": [
            "Epoch 3/20 - Validation: 100%|██████████| 138/138 [00:00<00:00, 1751.45it/s]\n",
            "Epoch 4/20 - Training: 100%|██████████| 1068/1068 [00:03<00:00, 268.83it/s]\n"
          ]
        },
        {
          "output_type": "stream",
          "name": "stdout",
          "text": [
            "Average Training Loss: 1.6077\n"
          ]
        },
        {
          "output_type": "stream",
          "name": "stderr",
          "text": [
            "Epoch 4/20 - Validation: 100%|██████████| 138/138 [00:00<00:00, 1850.37it/s]\n",
            "Epoch 5/20 - Training: 100%|██████████| 1068/1068 [00:03<00:00, 296.50it/s]\n"
          ]
        },
        {
          "output_type": "stream",
          "name": "stdout",
          "text": [
            "Average Training Loss: 1.5823\n"
          ]
        },
        {
          "output_type": "stream",
          "name": "stderr",
          "text": [
            "Epoch 5/20 - Validation: 100%|██████████| 138/138 [00:00<00:00, 1794.63it/s]\n",
            "Epoch 6/20 - Training: 100%|██████████| 1068/1068 [00:03<00:00, 301.83it/s]\n"
          ]
        },
        {
          "output_type": "stream",
          "name": "stdout",
          "text": [
            "Average Training Loss: 1.5870\n"
          ]
        },
        {
          "output_type": "stream",
          "name": "stderr",
          "text": [
            "Epoch 6/20 - Validation: 100%|██████████| 138/138 [00:00<00:00, 1547.29it/s]\n",
            "Epoch 7/20 - Training: 100%|██████████| 1068/1068 [00:04<00:00, 253.12it/s]\n"
          ]
        },
        {
          "output_type": "stream",
          "name": "stdout",
          "text": [
            "Average Training Loss: 1.5824\n"
          ]
        },
        {
          "output_type": "stream",
          "name": "stderr",
          "text": [
            "Epoch 7/20 - Validation: 100%|██████████| 138/138 [00:00<00:00, 1784.23it/s]\n",
            "Epoch 8/20 - Training: 100%|██████████| 1068/1068 [00:04<00:00, 260.88it/s]\n"
          ]
        },
        {
          "output_type": "stream",
          "name": "stdout",
          "text": [
            "Average Training Loss: 1.5880\n"
          ]
        },
        {
          "output_type": "stream",
          "name": "stderr",
          "text": [
            "Epoch 8/20 - Validation: 100%|██████████| 138/138 [00:00<00:00, 1609.18it/s]\n",
            "Epoch 9/20 - Training: 100%|██████████| 1068/1068 [00:03<00:00, 277.58it/s]\n"
          ]
        },
        {
          "output_type": "stream",
          "name": "stdout",
          "text": [
            "Average Training Loss: 1.5847\n"
          ]
        },
        {
          "output_type": "stream",
          "name": "stderr",
          "text": [
            "Epoch 9/20 - Validation: 100%|██████████| 138/138 [00:00<00:00, 1580.98it/s]\n",
            "Epoch 10/20 - Training: 100%|██████████| 1068/1068 [00:03<00:00, 307.84it/s]\n"
          ]
        },
        {
          "output_type": "stream",
          "name": "stdout",
          "text": [
            "Average Training Loss: 1.5939\n"
          ]
        },
        {
          "output_type": "stream",
          "name": "stderr",
          "text": [
            "Epoch 10/20 - Validation: 100%|██████████| 138/138 [00:00<00:00, 1929.14it/s]\n",
            "Epoch 11/20 - Training: 100%|██████████| 1068/1068 [00:04<00:00, 265.46it/s]\n"
          ]
        },
        {
          "output_type": "stream",
          "name": "stdout",
          "text": [
            "Average Training Loss: 1.6069\n"
          ]
        },
        {
          "output_type": "stream",
          "name": "stderr",
          "text": [
            "Epoch 11/20 - Validation: 100%|██████████| 138/138 [00:00<00:00, 1379.75it/s]\n",
            "Epoch 12/20 - Training: 100%|██████████| 1068/1068 [00:03<00:00, 291.81it/s]\n"
          ]
        },
        {
          "output_type": "stream",
          "name": "stdout",
          "text": [
            "Average Training Loss: 1.5833\n"
          ]
        },
        {
          "output_type": "stream",
          "name": "stderr",
          "text": [
            "Epoch 12/20 - Validation: 100%|██████████| 138/138 [00:00<00:00, 1734.40it/s]\n",
            "Epoch 13/20 - Training: 100%|██████████| 1068/1068 [00:03<00:00, 349.50it/s]\n"
          ]
        },
        {
          "output_type": "stream",
          "name": "stdout",
          "text": [
            "Average Training Loss: 1.5845\n"
          ]
        },
        {
          "output_type": "stream",
          "name": "stderr",
          "text": [
            "Epoch 13/20 - Validation: 100%|██████████| 138/138 [00:00<00:00, 1558.89it/s]\n",
            "Epoch 14/20 - Training: 100%|██████████| 1068/1068 [00:03<00:00, 346.51it/s]\n"
          ]
        },
        {
          "output_type": "stream",
          "name": "stdout",
          "text": [
            "Average Training Loss: 1.5849\n"
          ]
        },
        {
          "output_type": "stream",
          "name": "stderr",
          "text": [
            "Epoch 14/20 - Validation: 100%|██████████| 138/138 [00:00<00:00, 1614.13it/s]\n",
            "Epoch 15/20 - Training: 100%|██████████| 1068/1068 [00:03<00:00, 304.81it/s]\n"
          ]
        },
        {
          "output_type": "stream",
          "name": "stdout",
          "text": [
            "Average Training Loss: 1.5842\n"
          ]
        },
        {
          "output_type": "stream",
          "name": "stderr",
          "text": [
            "Epoch 15/20 - Validation: 100%|██████████| 138/138 [00:00<00:00, 1494.50it/s]\n",
            "Epoch 16/20 - Training: 100%|██████████| 1068/1068 [00:03<00:00, 282.31it/s]\n"
          ]
        },
        {
          "output_type": "stream",
          "name": "stdout",
          "text": [
            "Average Training Loss: 1.5859\n"
          ]
        },
        {
          "output_type": "stream",
          "name": "stderr",
          "text": [
            "Epoch 16/20 - Validation: 100%|██████████| 138/138 [00:00<00:00, 1790.48it/s]\n",
            "Epoch 17/20 - Training: 100%|██████████| 1068/1068 [00:02<00:00, 361.19it/s]\n"
          ]
        },
        {
          "output_type": "stream",
          "name": "stdout",
          "text": [
            "Average Training Loss: 1.5811\n"
          ]
        },
        {
          "output_type": "stream",
          "name": "stderr",
          "text": [
            "Epoch 17/20 - Validation: 100%|██████████| 138/138 [00:00<00:00, 1570.14it/s]\n",
            "Epoch 18/20 - Training: 100%|██████████| 1068/1068 [00:02<00:00, 357.86it/s]\n"
          ]
        },
        {
          "output_type": "stream",
          "name": "stdout",
          "text": [
            "Average Training Loss: 1.5827\n"
          ]
        },
        {
          "output_type": "stream",
          "name": "stderr",
          "text": [
            "Epoch 18/20 - Validation: 100%|██████████| 138/138 [00:00<00:00, 1965.93it/s]\n",
            "Epoch 19/20 - Training: 100%|██████████| 1068/1068 [00:03<00:00, 351.85it/s]\n"
          ]
        },
        {
          "output_type": "stream",
          "name": "stdout",
          "text": [
            "Average Training Loss: 1.5840\n"
          ]
        },
        {
          "output_type": "stream",
          "name": "stderr",
          "text": [
            "Epoch 19/20 - Validation: 100%|██████████| 138/138 [00:00<00:00, 1864.08it/s]\n",
            "Epoch 20/20 - Training: 100%|██████████| 1068/1068 [00:03<00:00, 297.73it/s]\n"
          ]
        },
        {
          "output_type": "stream",
          "name": "stdout",
          "text": [
            "Average Training Loss: 1.5853\n"
          ]
        },
        {
          "output_type": "stream",
          "name": "stderr",
          "text": [
            "Epoch 20/20 - Validation: 100%|██████████| 138/138 [00:00<00:00, 1535.88it/s]\n",
            "Epoch 1/20 - Training: 100%|██████████| 1068/1068 [00:02<00:00, 361.86it/s]\n"
          ]
        },
        {
          "output_type": "stream",
          "name": "stdout",
          "text": [
            "Average Training Loss: 1.9062\n"
          ]
        },
        {
          "output_type": "stream",
          "name": "stderr",
          "text": [
            "Epoch 1/20 - Validation: 100%|██████████| 138/138 [00:00<00:00, 1879.66it/s]\n",
            "Epoch 2/20 - Training: 100%|██████████| 1068/1068 [00:02<00:00, 360.04it/s]\n"
          ]
        },
        {
          "output_type": "stream",
          "name": "stdout",
          "text": [
            "Average Training Loss: 1.7774\n"
          ]
        },
        {
          "output_type": "stream",
          "name": "stderr",
          "text": [
            "Epoch 2/20 - Validation: 100%|██████████| 138/138 [00:00<00:00, 1919.40it/s]\n",
            "Epoch 3/20 - Training: 100%|██████████| 1068/1068 [00:02<00:00, 361.07it/s]\n"
          ]
        },
        {
          "output_type": "stream",
          "name": "stdout",
          "text": [
            "Average Training Loss: 1.6427\n"
          ]
        },
        {
          "output_type": "stream",
          "name": "stderr",
          "text": [
            "Epoch 3/20 - Validation: 100%|██████████| 138/138 [00:00<00:00, 1853.71it/s]\n",
            "Epoch 4/20 - Training: 100%|██████████| 1068/1068 [00:02<00:00, 357.24it/s]\n"
          ]
        },
        {
          "output_type": "stream",
          "name": "stdout",
          "text": [
            "Average Training Loss: 1.6778\n"
          ]
        },
        {
          "output_type": "stream",
          "name": "stderr",
          "text": [
            "Epoch 4/20 - Validation: 100%|██████████| 138/138 [00:00<00:00, 1919.27it/s]\n",
            "Epoch 5/20 - Training: 100%|██████████| 1068/1068 [00:03<00:00, 280.62it/s]\n"
          ]
        },
        {
          "output_type": "stream",
          "name": "stdout",
          "text": [
            "Average Training Loss: 1.6081\n"
          ]
        },
        {
          "output_type": "stream",
          "name": "stderr",
          "text": [
            "Epoch 5/20 - Validation: 100%|██████████| 138/138 [00:00<00:00, 1901.37it/s]\n",
            "Epoch 6/20 - Training: 100%|██████████| 1068/1068 [00:03<00:00, 310.96it/s]\n"
          ]
        },
        {
          "output_type": "stream",
          "name": "stdout",
          "text": [
            "Average Training Loss: 1.6284\n"
          ]
        },
        {
          "output_type": "stream",
          "name": "stderr",
          "text": [
            "Epoch 6/20 - Validation: 100%|██████████| 138/138 [00:00<00:00, 1733.44it/s]\n",
            "Epoch 7/20 - Training: 100%|██████████| 1068/1068 [00:03<00:00, 348.38it/s]\n"
          ]
        },
        {
          "output_type": "stream",
          "name": "stdout",
          "text": [
            "Average Training Loss: 1.5912\n"
          ]
        },
        {
          "output_type": "stream",
          "name": "stderr",
          "text": [
            "Epoch 7/20 - Validation: 100%|██████████| 138/138 [00:00<00:00, 1915.68it/s]\n",
            "Epoch 8/20 - Training: 100%|██████████| 1068/1068 [00:03<00:00, 353.68it/s]\n"
          ]
        },
        {
          "output_type": "stream",
          "name": "stdout",
          "text": [
            "Average Training Loss: 1.5835\n"
          ]
        },
        {
          "output_type": "stream",
          "name": "stderr",
          "text": [
            "Epoch 8/20 - Validation: 100%|██████████| 138/138 [00:00<00:00, 1949.01it/s]\n",
            "Epoch 9/20 - Training: 100%|██████████| 1068/1068 [00:03<00:00, 334.14it/s]\n"
          ]
        },
        {
          "output_type": "stream",
          "name": "stdout",
          "text": [
            "Average Training Loss: 1.5923\n"
          ]
        },
        {
          "output_type": "stream",
          "name": "stderr",
          "text": [
            "Epoch 9/20 - Validation: 100%|██████████| 138/138 [00:00<00:00, 1374.58it/s]\n",
            "Epoch 10/20 - Training: 100%|██████████| 1068/1068 [00:03<00:00, 284.91it/s]\n"
          ]
        },
        {
          "output_type": "stream",
          "name": "stdout",
          "text": [
            "Average Training Loss: 1.5851\n"
          ]
        },
        {
          "output_type": "stream",
          "name": "stderr",
          "text": [
            "Epoch 10/20 - Validation: 100%|██████████| 138/138 [00:00<00:00, 1750.09it/s]\n",
            "Epoch 11/20 - Training: 100%|██████████| 1068/1068 [00:03<00:00, 329.03it/s]\n"
          ]
        },
        {
          "output_type": "stream",
          "name": "stdout",
          "text": [
            "Average Training Loss: 1.5840\n"
          ]
        },
        {
          "output_type": "stream",
          "name": "stderr",
          "text": [
            "Epoch 11/20 - Validation: 100%|██████████| 138/138 [00:00<00:00, 1755.13it/s]\n",
            "Epoch 12/20 - Training: 100%|██████████| 1068/1068 [00:02<00:00, 361.50it/s]\n"
          ]
        },
        {
          "output_type": "stream",
          "name": "stdout",
          "text": [
            "Average Training Loss: 1.5845\n"
          ]
        },
        {
          "output_type": "stream",
          "name": "stderr",
          "text": [
            "Epoch 12/20 - Validation: 100%|██████████| 138/138 [00:00<00:00, 1878.24it/s]\n",
            "Epoch 13/20 - Training: 100%|██████████| 1068/1068 [00:03<00:00, 343.22it/s]\n"
          ]
        },
        {
          "output_type": "stream",
          "name": "stdout",
          "text": [
            "Average Training Loss: 1.5832\n"
          ]
        },
        {
          "output_type": "stream",
          "name": "stderr",
          "text": [
            "Epoch 13/20 - Validation: 100%|██████████| 138/138 [00:00<00:00, 1801.78it/s]\n",
            "Epoch 14/20 - Training: 100%|██████████| 1068/1068 [00:03<00:00, 297.39it/s]\n"
          ]
        },
        {
          "output_type": "stream",
          "name": "stdout",
          "text": [
            "Average Training Loss: 1.5848\n"
          ]
        },
        {
          "output_type": "stream",
          "name": "stderr",
          "text": [
            "Epoch 14/20 - Validation: 100%|██████████| 138/138 [00:00<00:00, 1558.81it/s]\n",
            "Epoch 15/20 - Training: 100%|██████████| 1068/1068 [00:03<00:00, 288.76it/s]\n"
          ]
        },
        {
          "output_type": "stream",
          "name": "stdout",
          "text": [
            "Average Training Loss: 1.6597\n"
          ]
        },
        {
          "output_type": "stream",
          "name": "stderr",
          "text": [
            "Epoch 15/20 - Validation: 100%|██████████| 138/138 [00:00<00:00, 1647.71it/s]\n",
            "Epoch 16/20 - Training: 100%|██████████| 1068/1068 [00:03<00:00, 342.70it/s]\n"
          ]
        },
        {
          "output_type": "stream",
          "name": "stdout",
          "text": [
            "Average Training Loss: 1.5847\n"
          ]
        },
        {
          "output_type": "stream",
          "name": "stderr",
          "text": [
            "Epoch 16/20 - Validation: 100%|██████████| 138/138 [00:00<00:00, 1781.24it/s]\n",
            "Epoch 17/20 - Training: 100%|██████████| 1068/1068 [00:02<00:00, 356.03it/s]\n"
          ]
        },
        {
          "output_type": "stream",
          "name": "stdout",
          "text": [
            "Average Training Loss: 1.5857\n"
          ]
        },
        {
          "output_type": "stream",
          "name": "stderr",
          "text": [
            "Epoch 17/20 - Validation: 100%|██████████| 138/138 [00:00<00:00, 1851.56it/s]\n",
            "Epoch 18/20 - Training: 100%|██████████| 1068/1068 [00:03<00:00, 354.03it/s]\n"
          ]
        },
        {
          "output_type": "stream",
          "name": "stdout",
          "text": [
            "Average Training Loss: 1.6226\n"
          ]
        },
        {
          "output_type": "stream",
          "name": "stderr",
          "text": [
            "Epoch 18/20 - Validation: 100%|██████████| 138/138 [00:00<00:00, 1274.28it/s]\n",
            "Epoch 19/20 - Training: 100%|██████████| 1068/1068 [00:04<00:00, 256.32it/s]\n"
          ]
        },
        {
          "output_type": "stream",
          "name": "stdout",
          "text": [
            "Average Training Loss: 1.5839\n"
          ]
        },
        {
          "output_type": "stream",
          "name": "stderr",
          "text": [
            "Epoch 19/20 - Validation: 100%|██████████| 138/138 [00:00<00:00, 1837.74it/s]\n",
            "Epoch 20/20 - Training: 100%|██████████| 1068/1068 [00:03<00:00, 319.61it/s]\n"
          ]
        },
        {
          "output_type": "stream",
          "name": "stdout",
          "text": [
            "Average Training Loss: 1.5852\n"
          ]
        },
        {
          "output_type": "stream",
          "name": "stderr",
          "text": [
            "Epoch 20/20 - Validation: 100%|██████████| 138/138 [00:00<00:00, 1817.28it/s]\n",
            "Epoch 1/20 - Training: 100%|██████████| 1068/1068 [00:02<00:00, 443.23it/s]\n"
          ]
        },
        {
          "output_type": "stream",
          "name": "stdout",
          "text": [
            "Average Training Loss: 2.0298\n"
          ]
        },
        {
          "output_type": "stream",
          "name": "stderr",
          "text": [
            "Epoch 1/20 - Validation: 100%|██████████| 138/138 [00:00<00:00, 1672.48it/s]\n",
            "Epoch 2/20 - Training: 100%|██████████| 1068/1068 [00:02<00:00, 369.45it/s]\n"
          ]
        },
        {
          "output_type": "stream",
          "name": "stdout",
          "text": [
            "Average Training Loss: 2.0760\n"
          ]
        },
        {
          "output_type": "stream",
          "name": "stderr",
          "text": [
            "Epoch 2/20 - Validation: 100%|██████████| 138/138 [00:00<00:00, 1483.78it/s]\n",
            "Epoch 3/20 - Training: 100%|██████████| 1068/1068 [00:03<00:00, 333.86it/s]\n"
          ]
        },
        {
          "output_type": "stream",
          "name": "stdout",
          "text": [
            "Average Training Loss: 2.7923\n"
          ]
        },
        {
          "output_type": "stream",
          "name": "stderr",
          "text": [
            "Epoch 3/20 - Validation: 100%|██████████| 138/138 [00:00<00:00, 1709.86it/s]\n",
            "Epoch 4/20 - Training: 100%|██████████| 1068/1068 [00:03<00:00, 285.92it/s]\n"
          ]
        },
        {
          "output_type": "stream",
          "name": "stdout",
          "text": [
            "Average Training Loss: 1.9001\n"
          ]
        },
        {
          "output_type": "stream",
          "name": "stderr",
          "text": [
            "Epoch 4/20 - Validation: 100%|██████████| 138/138 [00:00<00:00, 1756.20it/s]\n",
            "Epoch 5/20 - Training: 100%|██████████| 1068/1068 [00:03<00:00, 320.79it/s]\n"
          ]
        },
        {
          "output_type": "stream",
          "name": "stdout",
          "text": [
            "Average Training Loss: 1.8456\n"
          ]
        },
        {
          "output_type": "stream",
          "name": "stderr",
          "text": [
            "Epoch 5/20 - Validation: 100%|██████████| 138/138 [00:00<00:00, 1802.59it/s]\n",
            "Epoch 6/20 - Training: 100%|██████████| 1068/1068 [00:03<00:00, 347.74it/s]\n"
          ]
        },
        {
          "output_type": "stream",
          "name": "stdout",
          "text": [
            "Average Training Loss: 1.6171\n"
          ]
        },
        {
          "output_type": "stream",
          "name": "stderr",
          "text": [
            "Epoch 6/20 - Validation: 100%|██████████| 138/138 [00:00<00:00, 1612.02it/s]\n",
            "Epoch 7/20 - Training: 100%|██████████| 1068/1068 [00:03<00:00, 352.29it/s]\n"
          ]
        },
        {
          "output_type": "stream",
          "name": "stdout",
          "text": [
            "Average Training Loss: 1.9577\n"
          ]
        },
        {
          "output_type": "stream",
          "name": "stderr",
          "text": [
            "Epoch 7/20 - Validation: 100%|██████████| 138/138 [00:00<00:00, 1683.93it/s]\n",
            "Epoch 8/20 - Training: 100%|██████████| 1068/1068 [00:03<00:00, 315.23it/s]\n"
          ]
        },
        {
          "output_type": "stream",
          "name": "stdout",
          "text": [
            "Average Training Loss: 1.8740\n"
          ]
        },
        {
          "output_type": "stream",
          "name": "stderr",
          "text": [
            "Epoch 8/20 - Validation: 100%|██████████| 138/138 [00:00<00:00, 1469.26it/s]\n",
            "Epoch 9/20 - Training: 100%|██████████| 1068/1068 [00:03<00:00, 272.76it/s]\n"
          ]
        },
        {
          "output_type": "stream",
          "name": "stdout",
          "text": [
            "Average Training Loss: 1.9701\n"
          ]
        },
        {
          "output_type": "stream",
          "name": "stderr",
          "text": [
            "Epoch 9/20 - Validation: 100%|██████████| 138/138 [00:00<00:00, 1746.16it/s]\n",
            "Epoch 10/20 - Training: 100%|██████████| 1068/1068 [00:03<00:00, 353.10it/s]\n"
          ]
        },
        {
          "output_type": "stream",
          "name": "stdout",
          "text": [
            "Average Training Loss: 1.6514\n"
          ]
        },
        {
          "output_type": "stream",
          "name": "stderr",
          "text": [
            "Epoch 10/20 - Validation: 100%|██████████| 138/138 [00:00<00:00, 1798.63it/s]\n",
            "Epoch 11/20 - Training: 100%|██████████| 1068/1068 [00:03<00:00, 348.06it/s]\n"
          ]
        },
        {
          "output_type": "stream",
          "name": "stdout",
          "text": [
            "Average Training Loss: 1.7313\n"
          ]
        },
        {
          "output_type": "stream",
          "name": "stderr",
          "text": [
            "Epoch 11/20 - Validation: 100%|██████████| 138/138 [00:00<00:00, 1769.09it/s]\n",
            "Epoch 12/20 - Training: 100%|██████████| 1068/1068 [00:03<00:00, 354.00it/s]\n"
          ]
        },
        {
          "output_type": "stream",
          "name": "stdout",
          "text": [
            "Average Training Loss: 1.8132\n"
          ]
        },
        {
          "output_type": "stream",
          "name": "stderr",
          "text": [
            "Epoch 12/20 - Validation: 100%|██████████| 138/138 [00:00<00:00, 1705.85it/s]\n",
            "Epoch 13/20 - Training: 100%|██████████| 1068/1068 [00:03<00:00, 296.36it/s]\n"
          ]
        },
        {
          "output_type": "stream",
          "name": "stdout",
          "text": [
            "Average Training Loss: 1.7474\n"
          ]
        },
        {
          "output_type": "stream",
          "name": "stderr",
          "text": [
            "Epoch 13/20 - Validation: 100%|██████████| 138/138 [00:00<00:00, 1563.72it/s]\n",
            "Epoch 14/20 - Training: 100%|██████████| 1068/1068 [00:03<00:00, 307.73it/s]\n"
          ]
        },
        {
          "output_type": "stream",
          "name": "stdout",
          "text": [
            "Average Training Loss: 1.7091\n"
          ]
        },
        {
          "output_type": "stream",
          "name": "stderr",
          "text": [
            "Epoch 14/20 - Validation: 100%|██████████| 138/138 [00:00<00:00, 1839.10it/s]\n",
            "Epoch 15/20 - Training: 100%|██████████| 1068/1068 [00:03<00:00, 346.52it/s]\n"
          ]
        },
        {
          "output_type": "stream",
          "name": "stdout",
          "text": [
            "Average Training Loss: 1.5879\n"
          ]
        },
        {
          "output_type": "stream",
          "name": "stderr",
          "text": [
            "Epoch 15/20 - Validation: 100%|██████████| 138/138 [00:00<00:00, 1783.22it/s]\n",
            "Epoch 16/20 - Training: 100%|██████████| 1068/1068 [00:03<00:00, 349.58it/s]\n"
          ]
        },
        {
          "output_type": "stream",
          "name": "stdout",
          "text": [
            "Average Training Loss: 1.5887\n"
          ]
        },
        {
          "output_type": "stream",
          "name": "stderr",
          "text": [
            "Epoch 16/20 - Validation: 100%|██████████| 138/138 [00:00<00:00, 1857.08it/s]\n",
            "Epoch 17/20 - Training: 100%|██████████| 1068/1068 [00:03<00:00, 346.57it/s]\n"
          ]
        },
        {
          "output_type": "stream",
          "name": "stdout",
          "text": [
            "Average Training Loss: 1.5879\n"
          ]
        },
        {
          "output_type": "stream",
          "name": "stderr",
          "text": [
            "Epoch 17/20 - Validation: 100%|██████████| 138/138 [00:00<00:00, 1708.33it/s]\n",
            "Epoch 18/20 - Training: 100%|██████████| 1068/1068 [00:03<00:00, 277.18it/s]\n"
          ]
        },
        {
          "output_type": "stream",
          "name": "stdout",
          "text": [
            "Average Training Loss: 1.5829\n"
          ]
        },
        {
          "output_type": "stream",
          "name": "stderr",
          "text": [
            "Epoch 18/20 - Validation: 100%|██████████| 138/138 [00:00<00:00, 1689.31it/s]\n",
            "Epoch 19/20 - Training: 100%|██████████| 1068/1068 [00:03<00:00, 299.73it/s]\n"
          ]
        },
        {
          "output_type": "stream",
          "name": "stdout",
          "text": [
            "Average Training Loss: 1.5851\n"
          ]
        },
        {
          "output_type": "stream",
          "name": "stderr",
          "text": [
            "Epoch 19/20 - Validation: 100%|██████████| 138/138 [00:00<00:00, 1784.36it/s]\n",
            "Epoch 20/20 - Training: 100%|██████████| 1068/1068 [00:03<00:00, 335.21it/s]\n"
          ]
        },
        {
          "output_type": "stream",
          "name": "stdout",
          "text": [
            "Average Training Loss: 1.5976\n"
          ]
        },
        {
          "output_type": "stream",
          "name": "stderr",
          "text": [
            "Epoch 20/20 - Validation: 100%|██████████| 138/138 [00:00<00:00, 1650.78it/s]\n",
            "Epoch 1/20 - Training: 100%|██████████| 1068/1068 [00:01<00:00, 609.78it/s]\n"
          ]
        },
        {
          "output_type": "stream",
          "name": "stdout",
          "text": [
            "Average Training Loss: 2.0323\n"
          ]
        },
        {
          "output_type": "stream",
          "name": "stderr",
          "text": [
            "Epoch 1/20 - Validation: 100%|██████████| 138/138 [00:00<00:00, 1940.75it/s]\n",
            "Epoch 2/20 - Training: 100%|██████████| 1068/1068 [00:02<00:00, 508.91it/s]\n"
          ]
        },
        {
          "output_type": "stream",
          "name": "stdout",
          "text": [
            "Average Training Loss: 1.6571\n"
          ]
        },
        {
          "output_type": "stream",
          "name": "stderr",
          "text": [
            "Epoch 2/20 - Validation: 100%|██████████| 138/138 [00:00<00:00, 1950.69it/s]\n",
            "Epoch 3/20 - Training: 100%|██████████| 1068/1068 [00:02<00:00, 399.54it/s]\n"
          ]
        },
        {
          "output_type": "stream",
          "name": "stdout",
          "text": [
            "Average Training Loss: 1.6419\n"
          ]
        },
        {
          "output_type": "stream",
          "name": "stderr",
          "text": [
            "Epoch 3/20 - Validation: 100%|██████████| 138/138 [00:00<00:00, 1988.61it/s]\n",
            "Epoch 4/20 - Training: 100%|██████████| 1068/1068 [00:02<00:00, 400.23it/s]\n"
          ]
        },
        {
          "output_type": "stream",
          "name": "stdout",
          "text": [
            "Average Training Loss: 1.6355\n"
          ]
        },
        {
          "output_type": "stream",
          "name": "stderr",
          "text": [
            "Epoch 4/20 - Validation: 100%|██████████| 138/138 [00:00<00:00, 1540.44it/s]\n",
            "Epoch 5/20 - Training: 100%|██████████| 1068/1068 [00:02<00:00, 458.71it/s]\n"
          ]
        },
        {
          "output_type": "stream",
          "name": "stdout",
          "text": [
            "Average Training Loss: 1.6468\n"
          ]
        },
        {
          "output_type": "stream",
          "name": "stderr",
          "text": [
            "Epoch 5/20 - Validation: 100%|██████████| 138/138 [00:00<00:00, 2050.38it/s]\n",
            "Epoch 6/20 - Training: 100%|██████████| 1068/1068 [00:02<00:00, 521.55it/s]\n"
          ]
        },
        {
          "output_type": "stream",
          "name": "stdout",
          "text": [
            "Average Training Loss: 1.6467\n"
          ]
        },
        {
          "output_type": "stream",
          "name": "stderr",
          "text": [
            "Epoch 6/20 - Validation: 100%|██████████| 138/138 [00:00<00:00, 2069.17it/s]\n",
            "Epoch 7/20 - Training: 100%|██████████| 1068/1068 [00:02<00:00, 527.56it/s]\n"
          ]
        },
        {
          "output_type": "stream",
          "name": "stdout",
          "text": [
            "Average Training Loss: 1.6427\n"
          ]
        },
        {
          "output_type": "stream",
          "name": "stderr",
          "text": [
            "Epoch 7/20 - Validation: 100%|██████████| 138/138 [00:00<00:00, 2152.83it/s]\n",
            "Epoch 8/20 - Training: 100%|██████████| 1068/1068 [00:01<00:00, 536.46it/s]\n"
          ]
        },
        {
          "output_type": "stream",
          "name": "stdout",
          "text": [
            "Average Training Loss: 1.6456\n"
          ]
        },
        {
          "output_type": "stream",
          "name": "stderr",
          "text": [
            "Epoch 8/20 - Validation: 100%|██████████| 138/138 [00:00<00:00, 2169.73it/s]\n",
            "Epoch 9/20 - Training: 100%|██████████| 1068/1068 [00:02<00:00, 522.86it/s]\n"
          ]
        },
        {
          "output_type": "stream",
          "name": "stdout",
          "text": [
            "Average Training Loss: 1.6536\n"
          ]
        },
        {
          "output_type": "stream",
          "name": "stderr",
          "text": [
            "Epoch 9/20 - Validation: 100%|██████████| 138/138 [00:00<00:00, 2046.68it/s]\n",
            "Epoch 10/20 - Training: 100%|██████████| 1068/1068 [00:02<00:00, 425.20it/s]\n"
          ]
        },
        {
          "output_type": "stream",
          "name": "stdout",
          "text": [
            "Average Training Loss: 1.6441\n"
          ]
        },
        {
          "output_type": "stream",
          "name": "stderr",
          "text": [
            "Epoch 10/20 - Validation: 100%|██████████| 138/138 [00:00<00:00, 1661.44it/s]\n",
            "Epoch 11/20 - Training: 100%|██████████| 1068/1068 [00:02<00:00, 369.44it/s]\n"
          ]
        },
        {
          "output_type": "stream",
          "name": "stdout",
          "text": [
            "Average Training Loss: 1.6524\n"
          ]
        },
        {
          "output_type": "stream",
          "name": "stderr",
          "text": [
            "Epoch 11/20 - Validation: 100%|██████████| 138/138 [00:00<00:00, 2028.63it/s]\n",
            "Epoch 12/20 - Training: 100%|██████████| 1068/1068 [00:02<00:00, 484.42it/s]\n"
          ]
        },
        {
          "output_type": "stream",
          "name": "stdout",
          "text": [
            "Average Training Loss: 1.6435\n"
          ]
        },
        {
          "output_type": "stream",
          "name": "stderr",
          "text": [
            "Epoch 12/20 - Validation: 100%|██████████| 138/138 [00:00<00:00, 1911.08it/s]\n",
            "Epoch 13/20 - Training: 100%|██████████| 1068/1068 [00:02<00:00, 501.51it/s]\n"
          ]
        },
        {
          "output_type": "stream",
          "name": "stdout",
          "text": [
            "Average Training Loss: 1.6445\n"
          ]
        },
        {
          "output_type": "stream",
          "name": "stderr",
          "text": [
            "Epoch 13/20 - Validation: 100%|██████████| 138/138 [00:00<00:00, 1941.26it/s]\n",
            "Epoch 14/20 - Training: 100%|██████████| 1068/1068 [00:02<00:00, 524.62it/s]\n"
          ]
        },
        {
          "output_type": "stream",
          "name": "stdout",
          "text": [
            "Average Training Loss: 1.6562\n"
          ]
        },
        {
          "output_type": "stream",
          "name": "stderr",
          "text": [
            "Epoch 14/20 - Validation: 100%|██████████| 138/138 [00:00<00:00, 2219.42it/s]\n",
            "Epoch 15/20 - Training: 100%|██████████| 1068/1068 [00:02<00:00, 530.94it/s]\n"
          ]
        },
        {
          "output_type": "stream",
          "name": "stdout",
          "text": [
            "Average Training Loss: 1.6460\n"
          ]
        },
        {
          "output_type": "stream",
          "name": "stderr",
          "text": [
            "Epoch 15/20 - Validation: 100%|██████████| 138/138 [00:00<00:00, 2065.25it/s]\n",
            "Epoch 16/20 - Training: 100%|██████████| 1068/1068 [00:02<00:00, 487.22it/s]\n"
          ]
        },
        {
          "output_type": "stream",
          "name": "stdout",
          "text": [
            "Average Training Loss: 1.6481\n"
          ]
        },
        {
          "output_type": "stream",
          "name": "stderr",
          "text": [
            "Epoch 16/20 - Validation: 100%|██████████| 138/138 [00:00<00:00, 1492.41it/s]\n",
            "Epoch 17/20 - Training: 100%|██████████| 1068/1068 [00:02<00:00, 406.03it/s]\n"
          ]
        },
        {
          "output_type": "stream",
          "name": "stdout",
          "text": [
            "Average Training Loss: 1.6470\n"
          ]
        },
        {
          "output_type": "stream",
          "name": "stderr",
          "text": [
            "Epoch 17/20 - Validation: 100%|██████████| 138/138 [00:00<00:00, 1745.61it/s]\n",
            "Epoch 18/20 - Training: 100%|██████████| 1068/1068 [00:02<00:00, 418.86it/s]\n"
          ]
        },
        {
          "output_type": "stream",
          "name": "stdout",
          "text": [
            "Average Training Loss: 1.6405\n"
          ]
        },
        {
          "output_type": "stream",
          "name": "stderr",
          "text": [
            "Epoch 18/20 - Validation: 100%|██████████| 138/138 [00:00<00:00, 1684.78it/s]\n",
            "Epoch 19/20 - Training: 100%|██████████| 1068/1068 [00:02<00:00, 500.88it/s]\n"
          ]
        },
        {
          "output_type": "stream",
          "name": "stdout",
          "text": [
            "Average Training Loss: 1.6485\n"
          ]
        },
        {
          "output_type": "stream",
          "name": "stderr",
          "text": [
            "Epoch 19/20 - Validation: 100%|██████████| 138/138 [00:00<00:00, 1989.78it/s]\n",
            "Epoch 20/20 - Training: 100%|██████████| 1068/1068 [00:02<00:00, 507.21it/s]\n"
          ]
        },
        {
          "output_type": "stream",
          "name": "stdout",
          "text": [
            "Average Training Loss: 1.6482\n"
          ]
        },
        {
          "output_type": "stream",
          "name": "stderr",
          "text": [
            "Epoch 20/20 - Validation: 100%|██████████| 138/138 [00:00<00:00, 2023.39it/s]\n",
            "Epoch 1/20 - Training: 100%|██████████| 1068/1068 [00:01<00:00, 564.41it/s]\n"
          ]
        },
        {
          "output_type": "stream",
          "name": "stdout",
          "text": [
            "Average Training Loss: 2.1956\n"
          ]
        },
        {
          "output_type": "stream",
          "name": "stderr",
          "text": [
            "Epoch 1/20 - Validation: 100%|██████████| 138/138 [00:00<00:00, 2208.92it/s]\n",
            "Epoch 2/20 - Training: 100%|██████████| 1068/1068 [00:02<00:00, 495.64it/s]\n"
          ]
        },
        {
          "output_type": "stream",
          "name": "stdout",
          "text": [
            "Average Training Loss: 1.9095\n"
          ]
        },
        {
          "output_type": "stream",
          "name": "stderr",
          "text": [
            "Epoch 2/20 - Validation: 100%|██████████| 138/138 [00:00<00:00, 2025.51it/s]\n",
            "Epoch 3/20 - Training: 100%|██████████| 1068/1068 [00:02<00:00, 458.90it/s]\n"
          ]
        },
        {
          "output_type": "stream",
          "name": "stdout",
          "text": [
            "Average Training Loss: 1.6415\n"
          ]
        },
        {
          "output_type": "stream",
          "name": "stderr",
          "text": [
            "Epoch 3/20 - Validation: 100%|██████████| 138/138 [00:00<00:00, 1573.50it/s]\n",
            "Epoch 4/20 - Training: 100%|██████████| 1068/1068 [00:02<00:00, 389.06it/s]\n"
          ]
        },
        {
          "output_type": "stream",
          "name": "stdout",
          "text": [
            "Average Training Loss: 1.6452\n"
          ]
        },
        {
          "output_type": "stream",
          "name": "stderr",
          "text": [
            "Epoch 4/20 - Validation: 100%|██████████| 138/138 [00:00<00:00, 1536.21it/s]\n",
            "Epoch 5/20 - Training: 100%|██████████| 1068/1068 [00:02<00:00, 407.87it/s]\n"
          ]
        },
        {
          "output_type": "stream",
          "name": "stdout",
          "text": [
            "Average Training Loss: 1.6456\n"
          ]
        },
        {
          "output_type": "stream",
          "name": "stderr",
          "text": [
            "Epoch 5/20 - Validation: 100%|██████████| 138/138 [00:00<00:00, 1935.78it/s]\n",
            "Epoch 6/20 - Training: 100%|██████████| 1068/1068 [00:02<00:00, 485.44it/s]\n"
          ]
        },
        {
          "output_type": "stream",
          "name": "stdout",
          "text": [
            "Average Training Loss: 1.6420\n"
          ]
        },
        {
          "output_type": "stream",
          "name": "stderr",
          "text": [
            "Epoch 6/20 - Validation: 100%|██████████| 138/138 [00:00<00:00, 2071.92it/s]\n",
            "Epoch 7/20 - Training: 100%|██████████| 1068/1068 [00:02<00:00, 463.75it/s]\n"
          ]
        },
        {
          "output_type": "stream",
          "name": "stdout",
          "text": [
            "Average Training Loss: 1.6524\n"
          ]
        },
        {
          "output_type": "stream",
          "name": "stderr",
          "text": [
            "Epoch 7/20 - Validation: 100%|██████████| 138/138 [00:00<00:00, 2130.98it/s]\n",
            "Epoch 8/20 - Training: 100%|██████████| 1068/1068 [00:02<00:00, 489.29it/s]\n"
          ]
        },
        {
          "output_type": "stream",
          "name": "stdout",
          "text": [
            "Average Training Loss: 1.6602\n"
          ]
        },
        {
          "output_type": "stream",
          "name": "stderr",
          "text": [
            "Epoch 8/20 - Validation: 100%|██████████| 138/138 [00:00<00:00, 1981.45it/s]\n",
            "Epoch 9/20 - Training: 100%|██████████| 1068/1068 [00:02<00:00, 445.51it/s]\n"
          ]
        },
        {
          "output_type": "stream",
          "name": "stdout",
          "text": [
            "Average Training Loss: 1.6474\n"
          ]
        },
        {
          "output_type": "stream",
          "name": "stderr",
          "text": [
            "Epoch 9/20 - Validation: 100%|██████████| 138/138 [00:00<00:00, 1808.29it/s]\n",
            "Epoch 10/20 - Training: 100%|██████████| 1068/1068 [00:03<00:00, 328.93it/s]\n"
          ]
        },
        {
          "output_type": "stream",
          "name": "stdout",
          "text": [
            "Average Training Loss: 1.6479\n"
          ]
        },
        {
          "output_type": "stream",
          "name": "stderr",
          "text": [
            "Epoch 10/20 - Validation: 100%|██████████| 138/138 [00:00<00:00, 1644.56it/s]\n",
            "Epoch 11/20 - Training: 100%|██████████| 1068/1068 [00:02<00:00, 367.07it/s]\n"
          ]
        },
        {
          "output_type": "stream",
          "name": "stdout",
          "text": [
            "Average Training Loss: 1.6443\n"
          ]
        },
        {
          "output_type": "stream",
          "name": "stderr",
          "text": [
            "Epoch 11/20 - Validation: 100%|██████████| 138/138 [00:00<00:00, 2092.20it/s]\n",
            "Epoch 12/20 - Training: 100%|██████████| 1068/1068 [00:02<00:00, 480.61it/s]\n"
          ]
        },
        {
          "output_type": "stream",
          "name": "stdout",
          "text": [
            "Average Training Loss: 1.6529\n"
          ]
        },
        {
          "output_type": "stream",
          "name": "stderr",
          "text": [
            "Epoch 12/20 - Validation: 100%|██████████| 138/138 [00:00<00:00, 1826.91it/s]\n",
            "Epoch 13/20 - Training: 100%|██████████| 1068/1068 [00:02<00:00, 454.40it/s]\n"
          ]
        },
        {
          "output_type": "stream",
          "name": "stdout",
          "text": [
            "Average Training Loss: 1.6512\n"
          ]
        },
        {
          "output_type": "stream",
          "name": "stderr",
          "text": [
            "Epoch 13/20 - Validation: 100%|██████████| 138/138 [00:00<00:00, 1801.09it/s]\n",
            "Epoch 14/20 - Training: 100%|██████████| 1068/1068 [00:02<00:00, 453.92it/s]\n"
          ]
        },
        {
          "output_type": "stream",
          "name": "stdout",
          "text": [
            "Average Training Loss: 1.6412\n"
          ]
        },
        {
          "output_type": "stream",
          "name": "stderr",
          "text": [
            "Epoch 14/20 - Validation: 100%|██████████| 138/138 [00:00<00:00, 2052.10it/s]\n",
            "Epoch 15/20 - Training: 100%|██████████| 1068/1068 [00:02<00:00, 483.21it/s]\n"
          ]
        },
        {
          "output_type": "stream",
          "name": "stdout",
          "text": [
            "Average Training Loss: 1.6426\n"
          ]
        },
        {
          "output_type": "stream",
          "name": "stderr",
          "text": [
            "Epoch 15/20 - Validation: 100%|██████████| 138/138 [00:00<00:00, 2096.87it/s]\n",
            "Epoch 16/20 - Training: 100%|██████████| 1068/1068 [00:02<00:00, 385.66it/s]\n"
          ]
        },
        {
          "output_type": "stream",
          "name": "stdout",
          "text": [
            "Average Training Loss: 1.6473\n"
          ]
        },
        {
          "output_type": "stream",
          "name": "stderr",
          "text": [
            "Epoch 16/20 - Validation: 100%|██████████| 138/138 [00:00<00:00, 2150.37it/s]\n",
            "Epoch 17/20 - Training: 100%|██████████| 1068/1068 [00:02<00:00, 364.11it/s]\n"
          ]
        },
        {
          "output_type": "stream",
          "name": "stdout",
          "text": [
            "Average Training Loss: 1.6418\n"
          ]
        },
        {
          "output_type": "stream",
          "name": "stderr",
          "text": [
            "Epoch 17/20 - Validation: 100%|██████████| 138/138 [00:00<00:00, 1985.47it/s]\n",
            "Epoch 18/20 - Training: 100%|██████████| 1068/1068 [00:02<00:00, 462.52it/s]\n"
          ]
        },
        {
          "output_type": "stream",
          "name": "stdout",
          "text": [
            "Average Training Loss: 1.6519\n"
          ]
        },
        {
          "output_type": "stream",
          "name": "stderr",
          "text": [
            "Epoch 18/20 - Validation: 100%|██████████| 138/138 [00:00<00:00, 2243.38it/s]\n",
            "Epoch 19/20 - Training: 100%|██████████| 1068/1068 [00:02<00:00, 488.14it/s]\n"
          ]
        },
        {
          "output_type": "stream",
          "name": "stdout",
          "text": [
            "Average Training Loss: 1.6581\n"
          ]
        },
        {
          "output_type": "stream",
          "name": "stderr",
          "text": [
            "Epoch 19/20 - Validation: 100%|██████████| 138/138 [00:00<00:00, 1702.60it/s]\n",
            "Epoch 20/20 - Training: 100%|██████████| 1068/1068 [00:02<00:00, 469.72it/s]\n"
          ]
        },
        {
          "output_type": "stream",
          "name": "stdout",
          "text": [
            "Average Training Loss: 1.6428\n"
          ]
        },
        {
          "output_type": "stream",
          "name": "stderr",
          "text": [
            "Epoch 20/20 - Validation: 100%|██████████| 138/138 [00:00<00:00, 1860.35it/s]\n",
            "Epoch 1/20 - Training: 100%|██████████| 1068/1068 [00:01<00:00, 564.78it/s]\n"
          ]
        },
        {
          "output_type": "stream",
          "name": "stdout",
          "text": [
            "Average Training Loss: 2.3265\n"
          ]
        },
        {
          "output_type": "stream",
          "name": "stderr",
          "text": [
            "Epoch 1/20 - Validation: 100%|██████████| 138/138 [00:00<00:00, 2007.64it/s]\n",
            "Epoch 2/20 - Training: 100%|██████████| 1068/1068 [00:02<00:00, 430.69it/s]\n"
          ]
        },
        {
          "output_type": "stream",
          "name": "stdout",
          "text": [
            "Average Training Loss: 1.9060\n"
          ]
        },
        {
          "output_type": "stream",
          "name": "stderr",
          "text": [
            "Epoch 2/20 - Validation: 100%|██████████| 138/138 [00:00<00:00, 1553.70it/s]\n",
            "Epoch 3/20 - Training: 100%|██████████| 1068/1068 [00:02<00:00, 364.89it/s]\n"
          ]
        },
        {
          "output_type": "stream",
          "name": "stdout",
          "text": [
            "Average Training Loss: 1.9155\n"
          ]
        },
        {
          "output_type": "stream",
          "name": "stderr",
          "text": [
            "Epoch 3/20 - Validation: 100%|██████████| 138/138 [00:00<00:00, 1555.64it/s]\n",
            "Epoch 4/20 - Training: 100%|██████████| 1068/1068 [00:02<00:00, 409.01it/s]\n"
          ]
        },
        {
          "output_type": "stream",
          "name": "stdout",
          "text": [
            "Average Training Loss: 1.6501\n"
          ]
        },
        {
          "output_type": "stream",
          "name": "stderr",
          "text": [
            "Epoch 4/20 - Validation: 100%|██████████| 138/138 [00:00<00:00, 1574.75it/s]\n",
            "Epoch 5/20 - Training: 100%|██████████| 1068/1068 [00:02<00:00, 482.14it/s]\n"
          ]
        },
        {
          "output_type": "stream",
          "name": "stdout",
          "text": [
            "Average Training Loss: 1.6525\n"
          ]
        },
        {
          "output_type": "stream",
          "name": "stderr",
          "text": [
            "Epoch 5/20 - Validation: 100%|██████████| 138/138 [00:00<00:00, 2063.71it/s]\n",
            "Epoch 6/20 - Training: 100%|██████████| 1068/1068 [00:02<00:00, 479.09it/s]\n"
          ]
        },
        {
          "output_type": "stream",
          "name": "stdout",
          "text": [
            "Average Training Loss: 1.6530\n"
          ]
        },
        {
          "output_type": "stream",
          "name": "stderr",
          "text": [
            "Epoch 6/20 - Validation: 100%|██████████| 138/138 [00:00<00:00, 2161.46it/s]\n",
            "Epoch 7/20 - Training: 100%|██████████| 1068/1068 [00:02<00:00, 492.09it/s]\n"
          ]
        },
        {
          "output_type": "stream",
          "name": "stdout",
          "text": [
            "Average Training Loss: 1.6507\n"
          ]
        },
        {
          "output_type": "stream",
          "name": "stderr",
          "text": [
            "Epoch 7/20 - Validation: 100%|██████████| 138/138 [00:00<00:00, 2053.62it/s]\n",
            "Epoch 8/20 - Training: 100%|██████████| 1068/1068 [00:02<00:00, 493.43it/s]\n"
          ]
        },
        {
          "output_type": "stream",
          "name": "stdout",
          "text": [
            "Average Training Loss: 1.6531\n"
          ]
        },
        {
          "output_type": "stream",
          "name": "stderr",
          "text": [
            "Epoch 8/20 - Validation: 100%|██████████| 138/138 [00:00<00:00, 1680.26it/s]\n",
            "Epoch 9/20 - Training: 100%|██████████| 1068/1068 [00:02<00:00, 383.32it/s]\n"
          ]
        },
        {
          "output_type": "stream",
          "name": "stdout",
          "text": [
            "Average Training Loss: 1.6465\n"
          ]
        },
        {
          "output_type": "stream",
          "name": "stderr",
          "text": [
            "Epoch 9/20 - Validation: 100%|██████████| 138/138 [00:00<00:00, 1627.31it/s]\n",
            "Epoch 10/20 - Training: 100%|██████████| 1068/1068 [00:02<00:00, 405.53it/s]\n"
          ]
        },
        {
          "output_type": "stream",
          "name": "stdout",
          "text": [
            "Average Training Loss: 1.6481\n"
          ]
        },
        {
          "output_type": "stream",
          "name": "stderr",
          "text": [
            "Epoch 10/20 - Validation: 100%|██████████| 138/138 [00:00<00:00, 1712.19it/s]\n",
            "Epoch 11/20 - Training: 100%|██████████| 1068/1068 [00:02<00:00, 467.66it/s]\n"
          ]
        },
        {
          "output_type": "stream",
          "name": "stdout",
          "text": [
            "Average Training Loss: 1.6511\n"
          ]
        },
        {
          "output_type": "stream",
          "name": "stderr",
          "text": [
            "Epoch 11/20 - Validation: 100%|██████████| 138/138 [00:00<00:00, 2152.32it/s]\n",
            "Epoch 12/20 - Training: 100%|██████████| 1068/1068 [00:02<00:00, 517.39it/s]\n"
          ]
        },
        {
          "output_type": "stream",
          "name": "stdout",
          "text": [
            "Average Training Loss: 1.6492\n"
          ]
        },
        {
          "output_type": "stream",
          "name": "stderr",
          "text": [
            "Epoch 12/20 - Validation: 100%|██████████| 138/138 [00:00<00:00, 1951.15it/s]\n",
            "Epoch 13/20 - Training: 100%|██████████| 1068/1068 [00:02<00:00, 498.16it/s]\n"
          ]
        },
        {
          "output_type": "stream",
          "name": "stdout",
          "text": [
            "Average Training Loss: 1.6512\n"
          ]
        },
        {
          "output_type": "stream",
          "name": "stderr",
          "text": [
            "Epoch 13/20 - Validation: 100%|██████████| 138/138 [00:00<00:00, 2075.86it/s]\n",
            "Epoch 14/20 - Training: 100%|██████████| 1068/1068 [00:02<00:00, 502.07it/s]\n"
          ]
        },
        {
          "output_type": "stream",
          "name": "stdout",
          "text": [
            "Average Training Loss: 1.6560\n"
          ]
        },
        {
          "output_type": "stream",
          "name": "stderr",
          "text": [
            "Epoch 14/20 - Validation: 100%|██████████| 138/138 [00:00<00:00, 2055.99it/s]\n",
            "Epoch 15/20 - Training: 100%|██████████| 1068/1068 [00:02<00:00, 425.81it/s]\n"
          ]
        },
        {
          "output_type": "stream",
          "name": "stdout",
          "text": [
            "Average Training Loss: 1.6424\n"
          ]
        },
        {
          "output_type": "stream",
          "name": "stderr",
          "text": [
            "Epoch 15/20 - Validation: 100%|██████████| 138/138 [00:00<00:00, 1755.97it/s]\n",
            "Epoch 16/20 - Training: 100%|██████████| 1068/1068 [00:02<00:00, 382.08it/s]\n"
          ]
        },
        {
          "output_type": "stream",
          "name": "stdout",
          "text": [
            "Average Training Loss: 1.6445\n"
          ]
        },
        {
          "output_type": "stream",
          "name": "stderr",
          "text": [
            "Epoch 16/20 - Validation: 100%|██████████| 138/138 [00:00<00:00, 1655.22it/s]\n",
            "Epoch 17/20 - Training: 100%|██████████| 1068/1068 [00:02<00:00, 396.34it/s]\n"
          ]
        },
        {
          "output_type": "stream",
          "name": "stdout",
          "text": [
            "Average Training Loss: 1.6506\n"
          ]
        },
        {
          "output_type": "stream",
          "name": "stderr",
          "text": [
            "Epoch 17/20 - Validation: 100%|██████████| 138/138 [00:00<00:00, 2049.93it/s]\n",
            "Epoch 18/20 - Training: 100%|██████████| 1068/1068 [00:02<00:00, 501.83it/s]\n"
          ]
        },
        {
          "output_type": "stream",
          "name": "stdout",
          "text": [
            "Average Training Loss: 1.6460\n"
          ]
        },
        {
          "output_type": "stream",
          "name": "stderr",
          "text": [
            "Epoch 18/20 - Validation: 100%|██████████| 138/138 [00:00<00:00, 2300.02it/s]\n",
            "Epoch 19/20 - Training: 100%|██████████| 1068/1068 [00:02<00:00, 504.75it/s]\n"
          ]
        },
        {
          "output_type": "stream",
          "name": "stdout",
          "text": [
            "Average Training Loss: 1.6442\n"
          ]
        },
        {
          "output_type": "stream",
          "name": "stderr",
          "text": [
            "Epoch 19/20 - Validation: 100%|██████████| 138/138 [00:00<00:00, 1966.26it/s]\n",
            "Epoch 20/20 - Training: 100%|██████████| 1068/1068 [00:02<00:00, 506.41it/s]\n"
          ]
        },
        {
          "output_type": "stream",
          "name": "stdout",
          "text": [
            "Average Training Loss: 1.6516\n"
          ]
        },
        {
          "output_type": "stream",
          "name": "stderr",
          "text": [
            "Epoch 20/20 - Validation: 100%|██████████| 138/138 [00:00<00:00, 2083.86it/s]\n",
            "Epoch 1/20 - Training: 100%|██████████| 1068/1068 [00:01<00:00, 579.52it/s]\n"
          ]
        },
        {
          "output_type": "stream",
          "name": "stdout",
          "text": [
            "Average Training Loss: 3.3324\n"
          ]
        },
        {
          "output_type": "stream",
          "name": "stderr",
          "text": [
            "Epoch 1/20 - Validation: 100%|██████████| 138/138 [00:00<00:00, 1494.30it/s]\n",
            "Epoch 2/20 - Training: 100%|██████████| 1068/1068 [00:02<00:00, 421.91it/s]\n"
          ]
        },
        {
          "output_type": "stream",
          "name": "stdout",
          "text": [
            "Average Training Loss: 2.4962\n"
          ]
        },
        {
          "output_type": "stream",
          "name": "stderr",
          "text": [
            "Epoch 2/20 - Validation: 100%|██████████| 138/138 [00:00<00:00, 1856.84it/s]\n",
            "Epoch 3/20 - Training: 100%|██████████| 1068/1068 [00:02<00:00, 405.69it/s]\n"
          ]
        },
        {
          "output_type": "stream",
          "name": "stdout",
          "text": [
            "Average Training Loss: 2.0625\n"
          ]
        },
        {
          "output_type": "stream",
          "name": "stderr",
          "text": [
            "Epoch 3/20 - Validation: 100%|██████████| 138/138 [00:00<00:00, 1835.45it/s]\n",
            "Epoch 4/20 - Training: 100%|██████████| 1068/1068 [00:02<00:00, 441.31it/s]\n"
          ]
        },
        {
          "output_type": "stream",
          "name": "stdout",
          "text": [
            "Average Training Loss: 3.1662\n"
          ]
        },
        {
          "output_type": "stream",
          "name": "stderr",
          "text": [
            "Epoch 4/20 - Validation: 100%|██████████| 138/138 [00:00<00:00, 1811.15it/s]\n",
            "Epoch 5/20 - Training: 100%|██████████| 1068/1068 [00:02<00:00, 478.12it/s]\n"
          ]
        },
        {
          "output_type": "stream",
          "name": "stdout",
          "text": [
            "Average Training Loss: 2.0464\n"
          ]
        },
        {
          "output_type": "stream",
          "name": "stderr",
          "text": [
            "Epoch 5/20 - Validation: 100%|██████████| 138/138 [00:00<00:00, 2134.50it/s]\n",
            "Epoch 6/20 - Training: 100%|██████████| 1068/1068 [00:02<00:00, 485.73it/s]\n"
          ]
        },
        {
          "output_type": "stream",
          "name": "stdout",
          "text": [
            "Average Training Loss: 2.1613\n"
          ]
        },
        {
          "output_type": "stream",
          "name": "stderr",
          "text": [
            "Epoch 6/20 - Validation: 100%|██████████| 138/138 [00:00<00:00, 2001.00it/s]\n",
            "Epoch 7/20 - Training: 100%|██████████| 1068/1068 [00:02<00:00, 512.27it/s]\n"
          ]
        },
        {
          "output_type": "stream",
          "name": "stdout",
          "text": [
            "Average Training Loss: 1.6568\n"
          ]
        },
        {
          "output_type": "stream",
          "name": "stderr",
          "text": [
            "Epoch 7/20 - Validation: 100%|██████████| 138/138 [00:00<00:00, 2046.81it/s]\n",
            "Epoch 8/20 - Training: 100%|██████████| 1068/1068 [00:02<00:00, 504.36it/s]\n"
          ]
        },
        {
          "output_type": "stream",
          "name": "stdout",
          "text": [
            "Average Training Loss: 1.6454\n"
          ]
        },
        {
          "output_type": "stream",
          "name": "stderr",
          "text": [
            "Epoch 8/20 - Validation: 100%|██████████| 138/138 [00:00<00:00, 1639.25it/s]\n",
            "Epoch 9/20 - Training: 100%|██████████| 1068/1068 [00:02<00:00, 366.28it/s]\n"
          ]
        },
        {
          "output_type": "stream",
          "name": "stdout",
          "text": [
            "Average Training Loss: 1.6429\n"
          ]
        },
        {
          "output_type": "stream",
          "name": "stderr",
          "text": [
            "Epoch 9/20 - Validation: 100%|██████████| 138/138 [00:00<00:00, 1843.05it/s]\n",
            "Epoch 10/20 - Training: 100%|██████████| 1068/1068 [00:02<00:00, 367.36it/s]\n"
          ]
        },
        {
          "output_type": "stream",
          "name": "stdout",
          "text": [
            "Average Training Loss: 1.6451\n"
          ]
        },
        {
          "output_type": "stream",
          "name": "stderr",
          "text": [
            "Epoch 10/20 - Validation: 100%|██████████| 138/138 [00:00<00:00, 1684.61it/s]\n",
            "Epoch 11/20 - Training: 100%|██████████| 1068/1068 [00:02<00:00, 477.25it/s]\n"
          ]
        },
        {
          "output_type": "stream",
          "name": "stdout",
          "text": [
            "Average Training Loss: 1.6543\n"
          ]
        },
        {
          "output_type": "stream",
          "name": "stderr",
          "text": [
            "Epoch 11/20 - Validation: 100%|██████████| 138/138 [00:00<00:00, 1509.99it/s]\n",
            "Epoch 12/20 - Training: 100%|██████████| 1068/1068 [00:02<00:00, 477.34it/s]\n"
          ]
        },
        {
          "output_type": "stream",
          "name": "stdout",
          "text": [
            "Average Training Loss: 1.6503\n"
          ]
        },
        {
          "output_type": "stream",
          "name": "stderr",
          "text": [
            "Epoch 12/20 - Validation: 100%|██████████| 138/138 [00:00<00:00, 2221.47it/s]\n",
            "Epoch 13/20 - Training: 100%|██████████| 1068/1068 [00:02<00:00, 481.66it/s]\n"
          ]
        },
        {
          "output_type": "stream",
          "name": "stdout",
          "text": [
            "Average Training Loss: 1.6482\n"
          ]
        },
        {
          "output_type": "stream",
          "name": "stderr",
          "text": [
            "Epoch 13/20 - Validation: 100%|██████████| 138/138 [00:00<00:00, 2044.99it/s]\n",
            "Epoch 14/20 - Training: 100%|██████████| 1068/1068 [00:02<00:00, 437.33it/s]\n"
          ]
        },
        {
          "output_type": "stream",
          "name": "stdout",
          "text": [
            "Average Training Loss: 1.6414\n"
          ]
        },
        {
          "output_type": "stream",
          "name": "stderr",
          "text": [
            "Epoch 14/20 - Validation: 100%|██████████| 138/138 [00:00<00:00, 1683.03it/s]\n",
            "Epoch 15/20 - Training: 100%|██████████| 1068/1068 [00:03<00:00, 343.07it/s]\n"
          ]
        },
        {
          "output_type": "stream",
          "name": "stdout",
          "text": [
            "Average Training Loss: 1.6418\n"
          ]
        },
        {
          "output_type": "stream",
          "name": "stderr",
          "text": [
            "Epoch 15/20 - Validation: 100%|██████████| 138/138 [00:00<00:00, 1507.93it/s]\n",
            "Epoch 16/20 - Training: 100%|██████████| 1068/1068 [00:02<00:00, 370.29it/s]\n"
          ]
        },
        {
          "output_type": "stream",
          "name": "stdout",
          "text": [
            "Average Training Loss: 1.6397\n"
          ]
        },
        {
          "output_type": "stream",
          "name": "stderr",
          "text": [
            "Epoch 16/20 - Validation: 100%|██████████| 138/138 [00:00<00:00, 2121.08it/s]\n",
            "Epoch 17/20 - Training: 100%|██████████| 1068/1068 [00:02<00:00, 456.27it/s]\n"
          ]
        },
        {
          "output_type": "stream",
          "name": "stdout",
          "text": [
            "Average Training Loss: 1.6479\n"
          ]
        },
        {
          "output_type": "stream",
          "name": "stderr",
          "text": [
            "Epoch 17/20 - Validation: 100%|██████████| 138/138 [00:00<00:00, 2088.50it/s]\n",
            "Epoch 18/20 - Training: 100%|██████████| 1068/1068 [00:02<00:00, 444.47it/s]\n"
          ]
        },
        {
          "output_type": "stream",
          "name": "stdout",
          "text": [
            "Average Training Loss: 1.6487\n"
          ]
        },
        {
          "output_type": "stream",
          "name": "stderr",
          "text": [
            "Epoch 18/20 - Validation: 100%|██████████| 138/138 [00:00<00:00, 1872.84it/s]\n",
            "Epoch 19/20 - Training: 100%|██████████| 1068/1068 [00:02<00:00, 458.23it/s]\n"
          ]
        },
        {
          "output_type": "stream",
          "name": "stdout",
          "text": [
            "Average Training Loss: 1.6475\n"
          ]
        },
        {
          "output_type": "stream",
          "name": "stderr",
          "text": [
            "Epoch 19/20 - Validation: 100%|██████████| 138/138 [00:00<00:00, 1767.08it/s]\n",
            "Epoch 20/20 - Training: 100%|██████████| 1068/1068 [00:02<00:00, 419.89it/s]\n"
          ]
        },
        {
          "output_type": "stream",
          "name": "stdout",
          "text": [
            "Average Training Loss: 1.6508\n"
          ]
        },
        {
          "output_type": "stream",
          "name": "stderr",
          "text": [
            "Epoch 20/20 - Validation: 100%|██████████| 138/138 [00:00<00:00, 1695.09it/s]\n",
            "Epoch 1/20 - Training: 100%|██████████| 1068/1068 [00:02<00:00, 397.25it/s]\n"
          ]
        },
        {
          "output_type": "stream",
          "name": "stdout",
          "text": [
            "Average Training Loss: 3.1252\n"
          ]
        },
        {
          "output_type": "stream",
          "name": "stderr",
          "text": [
            "Epoch 1/20 - Validation: 100%|██████████| 138/138 [00:00<00:00, 1889.10it/s]\n",
            "Epoch 2/20 - Training: 100%|██████████| 1068/1068 [00:03<00:00, 337.51it/s]\n"
          ]
        },
        {
          "output_type": "stream",
          "name": "stdout",
          "text": [
            "Average Training Loss: 2.6242\n"
          ]
        },
        {
          "output_type": "stream",
          "name": "stderr",
          "text": [
            "Epoch 2/20 - Validation: 100%|██████████| 138/138 [00:00<00:00, 1541.12it/s]\n",
            "Epoch 3/20 - Training: 100%|██████████| 1068/1068 [00:02<00:00, 401.26it/s]\n"
          ]
        },
        {
          "output_type": "stream",
          "name": "stdout",
          "text": [
            "Average Training Loss: 1.8221\n"
          ]
        },
        {
          "output_type": "stream",
          "name": "stderr",
          "text": [
            "Epoch 3/20 - Validation: 100%|██████████| 138/138 [00:00<00:00, 1765.88it/s]\n",
            "Epoch 4/20 - Training: 100%|██████████| 1068/1068 [00:02<00:00, 399.50it/s]\n"
          ]
        },
        {
          "output_type": "stream",
          "name": "stdout",
          "text": [
            "Average Training Loss: 2.3614\n"
          ]
        },
        {
          "output_type": "stream",
          "name": "stderr",
          "text": [
            "Epoch 4/20 - Validation: 100%|██████████| 138/138 [00:00<00:00, 1731.92it/s]\n",
            "Epoch 5/20 - Training: 100%|██████████| 1068/1068 [00:02<00:00, 436.23it/s]\n"
          ]
        },
        {
          "output_type": "stream",
          "name": "stdout",
          "text": [
            "Average Training Loss: 3.2784\n"
          ]
        },
        {
          "output_type": "stream",
          "name": "stderr",
          "text": [
            "Epoch 5/20 - Validation: 100%|██████████| 138/138 [00:00<00:00, 1727.18it/s]\n",
            "Epoch 6/20 - Training: 100%|██████████| 1068/1068 [00:02<00:00, 451.51it/s]\n"
          ]
        },
        {
          "output_type": "stream",
          "name": "stdout",
          "text": [
            "Average Training Loss: 1.7242\n"
          ]
        },
        {
          "output_type": "stream",
          "name": "stderr",
          "text": [
            "Epoch 6/20 - Validation: 100%|██████████| 138/138 [00:00<00:00, 1975.74it/s]\n",
            "Epoch 7/20 - Training: 100%|██████████| 1068/1068 [00:02<00:00, 393.38it/s]\n"
          ]
        },
        {
          "output_type": "stream",
          "name": "stdout",
          "text": [
            "Average Training Loss: 2.1231\n"
          ]
        },
        {
          "output_type": "stream",
          "name": "stderr",
          "text": [
            "Epoch 7/20 - Validation: 100%|██████████| 138/138 [00:00<00:00, 1546.96it/s]\n",
            "Epoch 8/20 - Training: 100%|██████████| 1068/1068 [00:02<00:00, 401.49it/s]\n"
          ]
        },
        {
          "output_type": "stream",
          "name": "stdout",
          "text": [
            "Average Training Loss: 1.6488\n"
          ]
        },
        {
          "output_type": "stream",
          "name": "stderr",
          "text": [
            "Epoch 8/20 - Validation: 100%|██████████| 138/138 [00:00<00:00, 1753.22it/s]\n",
            "Epoch 9/20 - Training: 100%|██████████| 1068/1068 [00:02<00:00, 478.26it/s]\n"
          ]
        },
        {
          "output_type": "stream",
          "name": "stdout",
          "text": [
            "Average Training Loss: 1.6373\n"
          ]
        },
        {
          "output_type": "stream",
          "name": "stderr",
          "text": [
            "Epoch 9/20 - Validation: 100%|██████████| 138/138 [00:00<00:00, 2118.67it/s]\n",
            "Epoch 10/20 - Training: 100%|██████████| 1068/1068 [00:02<00:00, 503.63it/s]\n"
          ]
        },
        {
          "output_type": "stream",
          "name": "stdout",
          "text": [
            "Average Training Loss: 1.6550\n"
          ]
        },
        {
          "output_type": "stream",
          "name": "stderr",
          "text": [
            "Epoch 10/20 - Validation: 100%|██████████| 138/138 [00:00<00:00, 1743.79it/s]\n",
            "Epoch 11/20 - Training: 100%|██████████| 1068/1068 [00:02<00:00, 493.59it/s]\n"
          ]
        },
        {
          "output_type": "stream",
          "name": "stdout",
          "text": [
            "Average Training Loss: 1.6492\n"
          ]
        },
        {
          "output_type": "stream",
          "name": "stderr",
          "text": [
            "Epoch 11/20 - Validation: 100%|██████████| 138/138 [00:00<00:00, 2032.94it/s]\n",
            "Epoch 12/20 - Training: 100%|██████████| 1068/1068 [00:02<00:00, 512.85it/s]\n"
          ]
        },
        {
          "output_type": "stream",
          "name": "stdout",
          "text": [
            "Average Training Loss: 1.6441\n"
          ]
        },
        {
          "output_type": "stream",
          "name": "stderr",
          "text": [
            "Epoch 12/20 - Validation: 100%|██████████| 138/138 [00:00<00:00, 1819.81it/s]\n",
            "Epoch 13/20 - Training: 100%|██████████| 1068/1068 [00:02<00:00, 479.93it/s]\n"
          ]
        },
        {
          "output_type": "stream",
          "name": "stdout",
          "text": [
            "Average Training Loss: 1.6436\n"
          ]
        },
        {
          "output_type": "stream",
          "name": "stderr",
          "text": [
            "Epoch 13/20 - Validation: 100%|██████████| 138/138 [00:00<00:00, 1782.13it/s]\n",
            "Epoch 14/20 - Training: 100%|██████████| 1068/1068 [00:02<00:00, 391.29it/s]\n"
          ]
        },
        {
          "output_type": "stream",
          "name": "stdout",
          "text": [
            "Average Training Loss: 1.6558\n"
          ]
        },
        {
          "output_type": "stream",
          "name": "stderr",
          "text": [
            "Epoch 14/20 - Validation: 100%|██████████| 138/138 [00:00<00:00, 1630.05it/s]\n",
            "Epoch 15/20 - Training: 100%|██████████| 1068/1068 [00:02<00:00, 400.58it/s]\n"
          ]
        },
        {
          "output_type": "stream",
          "name": "stdout",
          "text": [
            "Average Training Loss: 1.6450\n"
          ]
        },
        {
          "output_type": "stream",
          "name": "stderr",
          "text": [
            "Epoch 15/20 - Validation: 100%|██████████| 138/138 [00:00<00:00, 1878.30it/s]\n",
            "Epoch 16/20 - Training: 100%|██████████| 1068/1068 [00:02<00:00, 506.27it/s]\n"
          ]
        },
        {
          "output_type": "stream",
          "name": "stdout",
          "text": [
            "Average Training Loss: 1.6565\n"
          ]
        },
        {
          "output_type": "stream",
          "name": "stderr",
          "text": [
            "Epoch 16/20 - Validation: 100%|██████████| 138/138 [00:00<00:00, 1986.01it/s]\n",
            "Epoch 17/20 - Training: 100%|██████████| 1068/1068 [00:02<00:00, 494.21it/s]\n"
          ]
        },
        {
          "output_type": "stream",
          "name": "stdout",
          "text": [
            "Average Training Loss: 1.6455\n"
          ]
        },
        {
          "output_type": "stream",
          "name": "stderr",
          "text": [
            "Epoch 17/20 - Validation: 100%|██████████| 138/138 [00:00<00:00, 1478.37it/s]\n",
            "Epoch 18/20 - Training: 100%|██████████| 1068/1068 [00:02<00:00, 489.64it/s]\n"
          ]
        },
        {
          "output_type": "stream",
          "name": "stdout",
          "text": [
            "Average Training Loss: 1.6473\n"
          ]
        },
        {
          "output_type": "stream",
          "name": "stderr",
          "text": [
            "Epoch 18/20 - Validation: 100%|██████████| 138/138 [00:00<00:00, 2154.75it/s]\n",
            "Epoch 19/20 - Training: 100%|██████████| 1068/1068 [00:02<00:00, 497.14it/s]\n"
          ]
        },
        {
          "output_type": "stream",
          "name": "stdout",
          "text": [
            "Average Training Loss: 1.6394\n"
          ]
        },
        {
          "output_type": "stream",
          "name": "stderr",
          "text": [
            "Epoch 19/20 - Validation: 100%|██████████| 138/138 [00:00<00:00, 2072.54it/s]\n",
            "Epoch 20/20 - Training: 100%|██████████| 1068/1068 [00:02<00:00, 414.44it/s]\n"
          ]
        },
        {
          "output_type": "stream",
          "name": "stdout",
          "text": [
            "Average Training Loss: 1.6452\n"
          ]
        },
        {
          "output_type": "stream",
          "name": "stderr",
          "text": [
            "Epoch 20/20 - Validation: 100%|██████████| 138/138 [00:00<00:00, 2078.60it/s]\n",
            "Epoch 1/20 - Training: 100%|██████████| 1068/1068 [00:02<00:00, 429.23it/s]\n"
          ]
        },
        {
          "output_type": "stream",
          "name": "stdout",
          "text": [
            "Average Training Loss: 3.7188\n"
          ]
        },
        {
          "output_type": "stream",
          "name": "stderr",
          "text": [
            "Epoch 1/20 - Validation: 100%|██████████| 138/138 [00:00<00:00, 1899.43it/s]\n",
            "Epoch 2/20 - Training: 100%|██████████| 1068/1068 [00:02<00:00, 386.85it/s]\n"
          ]
        },
        {
          "output_type": "stream",
          "name": "stdout",
          "text": [
            "Average Training Loss: 2.3076\n"
          ]
        },
        {
          "output_type": "stream",
          "name": "stderr",
          "text": [
            "Epoch 2/20 - Validation: 100%|██████████| 138/138 [00:00<00:00, 1806.87it/s]\n",
            "Epoch 3/20 - Training: 100%|██████████| 1068/1068 [00:02<00:00, 425.16it/s]\n"
          ]
        },
        {
          "output_type": "stream",
          "name": "stdout",
          "text": [
            "Average Training Loss: 1.6540\n"
          ]
        },
        {
          "output_type": "stream",
          "name": "stderr",
          "text": [
            "Epoch 3/20 - Validation: 100%|██████████| 138/138 [00:00<00:00, 1939.47it/s]\n",
            "Epoch 4/20 - Training: 100%|██████████| 1068/1068 [00:02<00:00, 419.52it/s]\n"
          ]
        },
        {
          "output_type": "stream",
          "name": "stdout",
          "text": [
            "Average Training Loss: 1.6478\n"
          ]
        },
        {
          "output_type": "stream",
          "name": "stderr",
          "text": [
            "Epoch 4/20 - Validation: 100%|██████████| 138/138 [00:00<00:00, 1625.68it/s]\n",
            "Epoch 5/20 - Training: 100%|██████████| 1068/1068 [00:02<00:00, 422.20it/s]\n"
          ]
        },
        {
          "output_type": "stream",
          "name": "stdout",
          "text": [
            "Average Training Loss: 1.6552\n"
          ]
        },
        {
          "output_type": "stream",
          "name": "stderr",
          "text": [
            "Epoch 5/20 - Validation: 100%|██████████| 138/138 [00:00<00:00, 2020.22it/s]\n",
            "Epoch 6/20 - Training: 100%|██████████| 1068/1068 [00:03<00:00, 352.63it/s]\n"
          ]
        },
        {
          "output_type": "stream",
          "name": "stdout",
          "text": [
            "Average Training Loss: 1.6470\n"
          ]
        },
        {
          "output_type": "stream",
          "name": "stderr",
          "text": [
            "Epoch 6/20 - Validation: 100%|██████████| 138/138 [00:00<00:00, 1869.10it/s]\n",
            "Epoch 7/20 - Training: 100%|██████████| 1068/1068 [00:03<00:00, 308.90it/s]\n"
          ]
        },
        {
          "output_type": "stream",
          "name": "stdout",
          "text": [
            "Average Training Loss: 1.6436\n"
          ]
        },
        {
          "output_type": "stream",
          "name": "stderr",
          "text": [
            "Epoch 7/20 - Validation: 100%|██████████| 138/138 [00:00<00:00, 1821.48it/s]\n",
            "Epoch 8/20 - Training: 100%|██████████| 1068/1068 [00:02<00:00, 374.67it/s]\n"
          ]
        },
        {
          "output_type": "stream",
          "name": "stdout",
          "text": [
            "Average Training Loss: 1.6474\n"
          ]
        },
        {
          "output_type": "stream",
          "name": "stderr",
          "text": [
            "Epoch 8/20 - Validation: 100%|██████████| 138/138 [00:00<00:00, 1801.04it/s]\n",
            "Epoch 9/20 - Training: 100%|██████████| 1068/1068 [00:02<00:00, 401.74it/s]\n"
          ]
        },
        {
          "output_type": "stream",
          "name": "stdout",
          "text": [
            "Average Training Loss: 1.6451\n"
          ]
        },
        {
          "output_type": "stream",
          "name": "stderr",
          "text": [
            "Epoch 9/20 - Validation: 100%|██████████| 138/138 [00:00<00:00, 1999.81it/s]\n",
            "Epoch 10/20 - Training: 100%|██████████| 1068/1068 [00:02<00:00, 408.79it/s]\n"
          ]
        },
        {
          "output_type": "stream",
          "name": "stdout",
          "text": [
            "Average Training Loss: 1.6472\n"
          ]
        },
        {
          "output_type": "stream",
          "name": "stderr",
          "text": [
            "Epoch 10/20 - Validation: 100%|██████████| 138/138 [00:00<00:00, 1966.13it/s]\n",
            "Epoch 11/20 - Training: 100%|██████████| 1068/1068 [00:02<00:00, 358.37it/s]\n"
          ]
        },
        {
          "output_type": "stream",
          "name": "stdout",
          "text": [
            "Average Training Loss: 1.6499\n"
          ]
        },
        {
          "output_type": "stream",
          "name": "stderr",
          "text": [
            "Epoch 11/20 - Validation: 100%|██████████| 138/138 [00:00<00:00, 1863.67it/s]\n",
            "Epoch 12/20 - Training: 100%|██████████| 1068/1068 [00:03<00:00, 320.17it/s]\n"
          ]
        },
        {
          "output_type": "stream",
          "name": "stdout",
          "text": [
            "Average Training Loss: 1.6456\n"
          ]
        },
        {
          "output_type": "stream",
          "name": "stderr",
          "text": [
            "Epoch 12/20 - Validation: 100%|██████████| 138/138 [00:00<00:00, 1771.45it/s]\n",
            "Epoch 13/20 - Training: 100%|██████████| 1068/1068 [00:02<00:00, 377.64it/s]\n"
          ]
        },
        {
          "output_type": "stream",
          "name": "stdout",
          "text": [
            "Average Training Loss: 1.6552\n"
          ]
        },
        {
          "output_type": "stream",
          "name": "stderr",
          "text": [
            "Epoch 13/20 - Validation: 100%|██████████| 138/138 [00:00<00:00, 1923.99it/s]\n",
            "Epoch 14/20 - Training: 100%|██████████| 1068/1068 [00:02<00:00, 403.72it/s]\n"
          ]
        },
        {
          "output_type": "stream",
          "name": "stdout",
          "text": [
            "Average Training Loss: 1.6462\n"
          ]
        },
        {
          "output_type": "stream",
          "name": "stderr",
          "text": [
            "Epoch 14/20 - Validation: 100%|██████████| 138/138 [00:00<00:00, 1857.77it/s]\n",
            "Epoch 15/20 - Training: 100%|██████████| 1068/1068 [00:02<00:00, 417.03it/s]\n"
          ]
        },
        {
          "output_type": "stream",
          "name": "stdout",
          "text": [
            "Average Training Loss: 1.6416\n"
          ]
        },
        {
          "output_type": "stream",
          "name": "stderr",
          "text": [
            "Epoch 15/20 - Validation: 100%|██████████| 138/138 [00:00<00:00, 1976.36it/s]\n",
            "Epoch 16/20 - Training: 100%|██████████| 1068/1068 [00:02<00:00, 409.94it/s]\n"
          ]
        },
        {
          "output_type": "stream",
          "name": "stdout",
          "text": [
            "Average Training Loss: 1.6536\n"
          ]
        },
        {
          "output_type": "stream",
          "name": "stderr",
          "text": [
            "Epoch 16/20 - Validation: 100%|██████████| 138/138 [00:00<00:00, 1373.05it/s]\n",
            "Epoch 17/20 - Training: 100%|██████████| 1068/1068 [00:03<00:00, 318.45it/s]\n"
          ]
        },
        {
          "output_type": "stream",
          "name": "stdout",
          "text": [
            "Average Training Loss: 1.6458\n"
          ]
        },
        {
          "output_type": "stream",
          "name": "stderr",
          "text": [
            "Epoch 17/20 - Validation: 100%|██████████| 138/138 [00:00<00:00, 1976.24it/s]\n",
            "Epoch 18/20 - Training: 100%|██████████| 1068/1068 [00:03<00:00, 335.39it/s]\n"
          ]
        },
        {
          "output_type": "stream",
          "name": "stdout",
          "text": [
            "Average Training Loss: 1.6555\n"
          ]
        },
        {
          "output_type": "stream",
          "name": "stderr",
          "text": [
            "Epoch 18/20 - Validation: 100%|██████████| 138/138 [00:00<00:00, 1943.85it/s]\n",
            "Epoch 19/20 - Training: 100%|██████████| 1068/1068 [00:02<00:00, 402.81it/s]\n"
          ]
        },
        {
          "output_type": "stream",
          "name": "stdout",
          "text": [
            "Average Training Loss: 1.6541\n"
          ]
        },
        {
          "output_type": "stream",
          "name": "stderr",
          "text": [
            "Epoch 19/20 - Validation: 100%|██████████| 138/138 [00:00<00:00, 1890.08it/s]\n",
            "Epoch 20/20 - Training: 100%|██████████| 1068/1068 [00:02<00:00, 406.04it/s]\n"
          ]
        },
        {
          "output_type": "stream",
          "name": "stdout",
          "text": [
            "Average Training Loss: 1.6436\n"
          ]
        },
        {
          "output_type": "stream",
          "name": "stderr",
          "text": [
            "Epoch 20/20 - Validation: 100%|██████████| 138/138 [00:00<00:00, 2068.73it/s]\n",
            "Epoch 1/20 - Training: 100%|██████████| 1068/1068 [00:02<00:00, 526.50it/s]\n"
          ]
        },
        {
          "output_type": "stream",
          "name": "stdout",
          "text": [
            "Average Training Loss: 4.7845\n"
          ]
        },
        {
          "output_type": "stream",
          "name": "stderr",
          "text": [
            "Epoch 1/20 - Validation: 100%|██████████| 138/138 [00:00<00:00, 1981.44it/s]\n",
            "Epoch 2/20 - Training: 100%|██████████| 1068/1068 [00:02<00:00, 366.50it/s]\n"
          ]
        },
        {
          "output_type": "stream",
          "name": "stdout",
          "text": [
            "Average Training Loss: 4.9975\n"
          ]
        },
        {
          "output_type": "stream",
          "name": "stderr",
          "text": [
            "Epoch 2/20 - Validation: 100%|██████████| 138/138 [00:00<00:00, 1927.81it/s]\n",
            "Epoch 3/20 - Training: 100%|██████████| 1068/1068 [00:03<00:00, 312.08it/s]\n"
          ]
        },
        {
          "output_type": "stream",
          "name": "stdout",
          "text": [
            "Average Training Loss: 2.4028\n"
          ]
        },
        {
          "output_type": "stream",
          "name": "stderr",
          "text": [
            "Epoch 3/20 - Validation: 100%|██████████| 138/138 [00:00<00:00, 1866.96it/s]\n",
            "Epoch 4/20 - Training: 100%|██████████| 1068/1068 [00:03<00:00, 345.80it/s]\n"
          ]
        },
        {
          "output_type": "stream",
          "name": "stdout",
          "text": [
            "Average Training Loss: 2.4024\n"
          ]
        },
        {
          "output_type": "stream",
          "name": "stderr",
          "text": [
            "Epoch 4/20 - Validation: 100%|██████████| 138/138 [00:00<00:00, 2029.76it/s]\n",
            "Epoch 5/20 - Training: 100%|██████████| 1068/1068 [00:02<00:00, 396.28it/s]\n"
          ]
        },
        {
          "output_type": "stream",
          "name": "stdout",
          "text": [
            "Average Training Loss: 1.6510\n"
          ]
        },
        {
          "output_type": "stream",
          "name": "stderr",
          "text": [
            "Epoch 5/20 - Validation: 100%|██████████| 138/138 [00:00<00:00, 1896.94it/s]\n",
            "Epoch 6/20 - Training: 100%|██████████| 1068/1068 [00:02<00:00, 385.30it/s]\n"
          ]
        },
        {
          "output_type": "stream",
          "name": "stdout",
          "text": [
            "Average Training Loss: 1.6385\n"
          ]
        },
        {
          "output_type": "stream",
          "name": "stderr",
          "text": [
            "Epoch 6/20 - Validation: 100%|██████████| 138/138 [00:00<00:00, 1953.25it/s]\n",
            "Epoch 7/20 - Training: 100%|██████████| 1068/1068 [00:02<00:00, 397.87it/s]\n"
          ]
        },
        {
          "output_type": "stream",
          "name": "stdout",
          "text": [
            "Average Training Loss: 1.6484\n"
          ]
        },
        {
          "output_type": "stream",
          "name": "stderr",
          "text": [
            "Epoch 7/20 - Validation: 100%|██████████| 138/138 [00:00<00:00, 1644.60it/s]\n",
            "Epoch 8/20 - Training: 100%|██████████| 1068/1068 [00:03<00:00, 301.92it/s]\n"
          ]
        },
        {
          "output_type": "stream",
          "name": "stdout",
          "text": [
            "Average Training Loss: 1.6420\n"
          ]
        },
        {
          "output_type": "stream",
          "name": "stderr",
          "text": [
            "Epoch 8/20 - Validation: 100%|██████████| 138/138 [00:00<00:00, 1665.44it/s]\n",
            "Epoch 9/20 - Training: 100%|██████████| 1068/1068 [00:03<00:00, 339.65it/s]\n"
          ]
        },
        {
          "output_type": "stream",
          "name": "stdout",
          "text": [
            "Average Training Loss: 1.6520\n"
          ]
        },
        {
          "output_type": "stream",
          "name": "stderr",
          "text": [
            "Epoch 9/20 - Validation: 100%|██████████| 138/138 [00:00<00:00, 2039.03it/s]\n",
            "Epoch 10/20 - Training: 100%|██████████| 1068/1068 [00:02<00:00, 402.25it/s]\n"
          ]
        },
        {
          "output_type": "stream",
          "name": "stdout",
          "text": [
            "Average Training Loss: 1.6428\n"
          ]
        },
        {
          "output_type": "stream",
          "name": "stderr",
          "text": [
            "Epoch 10/20 - Validation: 100%|██████████| 138/138 [00:00<00:00, 1912.20it/s]\n",
            "Epoch 11/20 - Training: 100%|██████████| 1068/1068 [00:02<00:00, 396.55it/s]\n"
          ]
        },
        {
          "output_type": "stream",
          "name": "stdout",
          "text": [
            "Average Training Loss: 1.6560\n"
          ]
        },
        {
          "output_type": "stream",
          "name": "stderr",
          "text": [
            "Epoch 11/20 - Validation: 100%|██████████| 138/138 [00:00<00:00, 1584.88it/s]\n",
            "Epoch 12/20 - Training: 100%|██████████| 1068/1068 [00:02<00:00, 399.77it/s]\n"
          ]
        },
        {
          "output_type": "stream",
          "name": "stdout",
          "text": [
            "Average Training Loss: 1.6554\n"
          ]
        },
        {
          "output_type": "stream",
          "name": "stderr",
          "text": [
            "Epoch 12/20 - Validation: 100%|██████████| 138/138 [00:00<00:00, 1699.53it/s]\n",
            "Epoch 13/20 - Training: 100%|██████████| 1068/1068 [00:03<00:00, 332.66it/s]\n"
          ]
        },
        {
          "output_type": "stream",
          "name": "stdout",
          "text": [
            "Average Training Loss: 1.6446\n"
          ]
        },
        {
          "output_type": "stream",
          "name": "stderr",
          "text": [
            "Epoch 13/20 - Validation: 100%|██████████| 138/138 [00:00<00:00, 1851.64it/s]\n",
            "Epoch 14/20 - Training: 100%|██████████| 1068/1068 [00:03<00:00, 302.49it/s]\n"
          ]
        },
        {
          "output_type": "stream",
          "name": "stdout",
          "text": [
            "Average Training Loss: 1.6434\n"
          ]
        },
        {
          "output_type": "stream",
          "name": "stderr",
          "text": [
            "Epoch 14/20 - Validation: 100%|██████████| 138/138 [00:00<00:00, 1996.34it/s]\n",
            "Epoch 15/20 - Training: 100%|██████████| 1068/1068 [00:02<00:00, 393.06it/s]\n"
          ]
        },
        {
          "output_type": "stream",
          "name": "stdout",
          "text": [
            "Average Training Loss: 1.6536\n"
          ]
        },
        {
          "output_type": "stream",
          "name": "stderr",
          "text": [
            "Epoch 15/20 - Validation: 100%|██████████| 138/138 [00:00<00:00, 1894.84it/s]\n",
            "Epoch 16/20 - Training: 100%|██████████| 1068/1068 [00:02<00:00, 388.27it/s]\n"
          ]
        },
        {
          "output_type": "stream",
          "name": "stdout",
          "text": [
            "Average Training Loss: 1.6412\n"
          ]
        },
        {
          "output_type": "stream",
          "name": "stderr",
          "text": [
            "Epoch 16/20 - Validation: 100%|██████████| 138/138 [00:00<00:00, 2014.83it/s]\n",
            "Epoch 17/20 - Training: 100%|██████████| 1068/1068 [00:02<00:00, 382.16it/s]\n"
          ]
        },
        {
          "output_type": "stream",
          "name": "stdout",
          "text": [
            "Average Training Loss: 1.6524\n"
          ]
        },
        {
          "output_type": "stream",
          "name": "stderr",
          "text": [
            "Epoch 17/20 - Validation: 100%|██████████| 138/138 [00:00<00:00, 1971.22it/s]\n",
            "Epoch 18/20 - Training: 100%|██████████| 1068/1068 [00:03<00:00, 342.32it/s]\n"
          ]
        },
        {
          "output_type": "stream",
          "name": "stdout",
          "text": [
            "Average Training Loss: 1.6524\n"
          ]
        },
        {
          "output_type": "stream",
          "name": "stderr",
          "text": [
            "Epoch 18/20 - Validation: 100%|██████████| 138/138 [00:00<00:00, 1992.57it/s]\n",
            "Epoch 19/20 - Training: 100%|██████████| 1068/1068 [00:03<00:00, 322.50it/s]\n"
          ]
        },
        {
          "output_type": "stream",
          "name": "stdout",
          "text": [
            "Average Training Loss: 1.6559\n"
          ]
        },
        {
          "output_type": "stream",
          "name": "stderr",
          "text": [
            "Epoch 19/20 - Validation: 100%|██████████| 138/138 [00:00<00:00, 1757.20it/s]\n",
            "Epoch 20/20 - Training: 100%|██████████| 1068/1068 [00:02<00:00, 367.82it/s]\n"
          ]
        },
        {
          "output_type": "stream",
          "name": "stdout",
          "text": [
            "Average Training Loss: 1.6480\n"
          ]
        },
        {
          "output_type": "stream",
          "name": "stderr",
          "text": [
            "Epoch 20/20 - Validation: 100%|██████████| 138/138 [00:00<00:00, 1984.71it/s]\n",
            "Epoch 1/20 - Training: 100%|██████████| 1068/1068 [00:02<00:00, 512.10it/s]\n"
          ]
        },
        {
          "output_type": "stream",
          "name": "stdout",
          "text": [
            "Average Training Loss: 3.5123\n"
          ]
        },
        {
          "output_type": "stream",
          "name": "stderr",
          "text": [
            "Epoch 1/20 - Validation: 100%|██████████| 138/138 [00:00<00:00, 1760.99it/s]\n",
            "Epoch 2/20 - Training: 100%|██████████| 1068/1068 [00:02<00:00, 376.36it/s]\n"
          ]
        },
        {
          "output_type": "stream",
          "name": "stdout",
          "text": [
            "Average Training Loss: 2.4087\n"
          ]
        },
        {
          "output_type": "stream",
          "name": "stderr",
          "text": [
            "Epoch 2/20 - Validation: 100%|██████████| 138/138 [00:00<00:00, 2000.78it/s]\n",
            "Epoch 3/20 - Training: 100%|██████████| 1068/1068 [00:02<00:00, 402.51it/s]\n"
          ]
        },
        {
          "output_type": "stream",
          "name": "stdout",
          "text": [
            "Average Training Loss: 2.8133\n"
          ]
        },
        {
          "output_type": "stream",
          "name": "stderr",
          "text": [
            "Epoch 3/20 - Validation: 100%|██████████| 138/138 [00:00<00:00, 1979.85it/s]\n",
            "Epoch 4/20 - Training: 100%|██████████| 1068/1068 [00:03<00:00, 323.20it/s]\n"
          ]
        },
        {
          "output_type": "stream",
          "name": "stdout",
          "text": [
            "Average Training Loss: 1.6593\n"
          ]
        },
        {
          "output_type": "stream",
          "name": "stderr",
          "text": [
            "Epoch 4/20 - Validation: 100%|██████████| 138/138 [00:00<00:00, 1567.77it/s]\n",
            "Epoch 5/20 - Training: 100%|██████████| 1068/1068 [00:07<00:00, 145.24it/s]\n"
          ]
        },
        {
          "output_type": "stream",
          "name": "stdout",
          "text": [
            "Average Training Loss: 2.2200\n"
          ]
        },
        {
          "output_type": "stream",
          "name": "stderr",
          "text": [
            "Epoch 5/20 - Validation: 100%|██████████| 138/138 [00:00<00:00, 783.05it/s]\n",
            "Epoch 6/20 - Training: 100%|██████████| 1068/1068 [00:04<00:00, 255.70it/s]\n"
          ]
        },
        {
          "output_type": "stream",
          "name": "stdout",
          "text": [
            "Average Training Loss: 1.6971\n"
          ]
        },
        {
          "output_type": "stream",
          "name": "stderr",
          "text": [
            "Epoch 6/20 - Validation: 100%|██████████| 138/138 [00:00<00:00, 1746.76it/s]\n",
            "Epoch 7/20 - Training: 100%|██████████| 1068/1068 [00:03<00:00, 334.31it/s]\n"
          ]
        },
        {
          "output_type": "stream",
          "name": "stdout",
          "text": [
            "Average Training Loss: 2.3651\n"
          ]
        },
        {
          "output_type": "stream",
          "name": "stderr",
          "text": [
            "Epoch 7/20 - Validation: 100%|██████████| 138/138 [00:00<00:00, 1355.95it/s]\n",
            "Epoch 8/20 - Training: 100%|██████████| 1068/1068 [00:03<00:00, 300.08it/s]\n"
          ]
        },
        {
          "output_type": "stream",
          "name": "stdout",
          "text": [
            "Average Training Loss: 1.6565\n"
          ]
        },
        {
          "output_type": "stream",
          "name": "stderr",
          "text": [
            "Epoch 8/20 - Validation: 100%|██████████| 138/138 [00:00<00:00, 1262.34it/s]\n",
            "Epoch 9/20 - Training: 100%|██████████| 1068/1068 [00:02<00:00, 362.96it/s]\n"
          ]
        },
        {
          "output_type": "stream",
          "name": "stdout",
          "text": [
            "Average Training Loss: 1.7305\n"
          ]
        },
        {
          "output_type": "stream",
          "name": "stderr",
          "text": [
            "Epoch 9/20 - Validation: 100%|██████████| 138/138 [00:00<00:00, 2058.88it/s]\n",
            "Epoch 10/20 - Training: 100%|██████████| 1068/1068 [00:02<00:00, 397.86it/s]\n"
          ]
        },
        {
          "output_type": "stream",
          "name": "stdout",
          "text": [
            "Average Training Loss: 1.6422\n"
          ]
        },
        {
          "output_type": "stream",
          "name": "stderr",
          "text": [
            "Epoch 10/20 - Validation: 100%|██████████| 138/138 [00:00<00:00, 1963.19it/s]\n",
            "Epoch 11/20 - Training: 100%|██████████| 1068/1068 [00:02<00:00, 396.31it/s]\n"
          ]
        },
        {
          "output_type": "stream",
          "name": "stdout",
          "text": [
            "Average Training Loss: 1.6441\n"
          ]
        },
        {
          "output_type": "stream",
          "name": "stderr",
          "text": [
            "Epoch 11/20 - Validation: 100%|██████████| 138/138 [00:00<00:00, 1842.92it/s]\n",
            "Epoch 12/20 - Training: 100%|██████████| 1068/1068 [00:03<00:00, 323.33it/s]\n"
          ]
        },
        {
          "output_type": "stream",
          "name": "stdout",
          "text": [
            "Average Training Loss: 1.6441\n"
          ]
        },
        {
          "output_type": "stream",
          "name": "stderr",
          "text": [
            "Epoch 12/20 - Validation: 100%|██████████| 138/138 [00:00<00:00, 1910.83it/s]\n",
            "Epoch 13/20 - Training: 100%|██████████| 1068/1068 [00:03<00:00, 295.26it/s]\n"
          ]
        },
        {
          "output_type": "stream",
          "name": "stdout",
          "text": [
            "Average Training Loss: 1.6503\n"
          ]
        },
        {
          "output_type": "stream",
          "name": "stderr",
          "text": [
            "Epoch 13/20 - Validation: 100%|██████████| 138/138 [00:00<00:00, 1381.20it/s]\n",
            "Epoch 14/20 - Training: 100%|██████████| 1068/1068 [00:02<00:00, 371.81it/s]\n"
          ]
        },
        {
          "output_type": "stream",
          "name": "stdout",
          "text": [
            "Average Training Loss: 1.6537\n"
          ]
        },
        {
          "output_type": "stream",
          "name": "stderr",
          "text": [
            "Epoch 14/20 - Validation: 100%|██████████| 138/138 [00:00<00:00, 1833.11it/s]\n",
            "Epoch 15/20 - Training: 100%|██████████| 1068/1068 [00:02<00:00, 402.60it/s]\n"
          ]
        },
        {
          "output_type": "stream",
          "name": "stdout",
          "text": [
            "Average Training Loss: 1.6452\n"
          ]
        },
        {
          "output_type": "stream",
          "name": "stderr",
          "text": [
            "Epoch 15/20 - Validation: 100%|██████████| 138/138 [00:00<00:00, 1907.19it/s]\n",
            "Epoch 16/20 - Training: 100%|██████████| 1068/1068 [00:02<00:00, 406.25it/s]\n"
          ]
        },
        {
          "output_type": "stream",
          "name": "stdout",
          "text": [
            "Average Training Loss: 1.6509\n"
          ]
        },
        {
          "output_type": "stream",
          "name": "stderr",
          "text": [
            "Epoch 16/20 - Validation: 100%|██████████| 138/138 [00:00<00:00, 2019.22it/s]\n",
            "Epoch 17/20 - Training: 100%|██████████| 1068/1068 [00:03<00:00, 324.62it/s]\n"
          ]
        },
        {
          "output_type": "stream",
          "name": "stdout",
          "text": [
            "Average Training Loss: 1.6486\n"
          ]
        },
        {
          "output_type": "stream",
          "name": "stderr",
          "text": [
            "Epoch 17/20 - Validation: 100%|██████████| 138/138 [00:00<00:00, 1883.86it/s]\n",
            "Epoch 18/20 - Training: 100%|██████████| 1068/1068 [00:03<00:00, 316.29it/s]\n"
          ]
        },
        {
          "output_type": "stream",
          "name": "stdout",
          "text": [
            "Average Training Loss: 1.6362\n"
          ]
        },
        {
          "output_type": "stream",
          "name": "stderr",
          "text": [
            "Epoch 18/20 - Validation: 100%|██████████| 138/138 [00:00<00:00, 1663.58it/s]\n",
            "Epoch 19/20 - Training: 100%|██████████| 1068/1068 [00:03<00:00, 338.88it/s]\n"
          ]
        },
        {
          "output_type": "stream",
          "name": "stdout",
          "text": [
            "Average Training Loss: 1.6511\n"
          ]
        },
        {
          "output_type": "stream",
          "name": "stderr",
          "text": [
            "Epoch 19/20 - Validation: 100%|██████████| 138/138 [00:00<00:00, 1922.03it/s]\n",
            "Epoch 20/20 - Training: 100%|██████████| 1068/1068 [00:02<00:00, 396.96it/s]\n"
          ]
        },
        {
          "output_type": "stream",
          "name": "stdout",
          "text": [
            "Average Training Loss: 1.6596\n"
          ]
        },
        {
          "output_type": "stream",
          "name": "stderr",
          "text": [
            "Epoch 20/20 - Validation: 100%|██████████| 138/138 [00:00<00:00, 1919.00it/s]\n",
            "Epoch 1/20 - Training: 100%|██████████| 1068/1068 [00:02<00:00, 513.97it/s]\n"
          ]
        },
        {
          "output_type": "stream",
          "name": "stdout",
          "text": [
            "Average Training Loss: 3.1857\n"
          ]
        },
        {
          "output_type": "stream",
          "name": "stderr",
          "text": [
            "Epoch 1/20 - Validation: 100%|██████████| 138/138 [00:00<00:00, 1828.88it/s]\n",
            "Epoch 2/20 - Training: 100%|██████████| 1068/1068 [00:02<00:00, 391.06it/s]\n"
          ]
        },
        {
          "output_type": "stream",
          "name": "stdout",
          "text": [
            "Average Training Loss: 1.9801\n"
          ]
        },
        {
          "output_type": "stream",
          "name": "stderr",
          "text": [
            "Epoch 2/20 - Validation: 100%|██████████| 138/138 [00:00<00:00, 1803.97it/s]\n",
            "Epoch 3/20 - Training: 100%|██████████| 1068/1068 [00:03<00:00, 311.06it/s]\n"
          ]
        },
        {
          "output_type": "stream",
          "name": "stdout",
          "text": [
            "Average Training Loss: 2.3871\n"
          ]
        },
        {
          "output_type": "stream",
          "name": "stderr",
          "text": [
            "Epoch 3/20 - Validation: 100%|██████████| 138/138 [00:00<00:00, 1718.55it/s]\n",
            "Epoch 4/20 - Training: 100%|██████████| 1068/1068 [00:03<00:00, 318.63it/s]\n"
          ]
        },
        {
          "output_type": "stream",
          "name": "stdout",
          "text": [
            "Average Training Loss: 1.6367\n"
          ]
        },
        {
          "output_type": "stream",
          "name": "stderr",
          "text": [
            "Epoch 4/20 - Validation: 100%|██████████| 138/138 [00:00<00:00, 1750.93it/s]\n",
            "Epoch 5/20 - Training: 100%|██████████| 1068/1068 [00:02<00:00, 382.78it/s]\n"
          ]
        },
        {
          "output_type": "stream",
          "name": "stdout",
          "text": [
            "Average Training Loss: 1.7635\n"
          ]
        },
        {
          "output_type": "stream",
          "name": "stderr",
          "text": [
            "Epoch 5/20 - Validation: 100%|██████████| 138/138 [00:00<00:00, 1770.66it/s]\n",
            "Epoch 6/20 - Training: 100%|██████████| 1068/1068 [00:02<00:00, 400.44it/s]\n"
          ]
        },
        {
          "output_type": "stream",
          "name": "stdout",
          "text": [
            "Average Training Loss: 1.6437\n"
          ]
        },
        {
          "output_type": "stream",
          "name": "stderr",
          "text": [
            "Epoch 6/20 - Validation: 100%|██████████| 138/138 [00:00<00:00, 2168.27it/s]\n",
            "Epoch 7/20 - Training: 100%|██████████| 1068/1068 [00:02<00:00, 407.45it/s]\n"
          ]
        },
        {
          "output_type": "stream",
          "name": "stdout",
          "text": [
            "Average Training Loss: 1.6524\n"
          ]
        },
        {
          "output_type": "stream",
          "name": "stderr",
          "text": [
            "Epoch 7/20 - Validation: 100%|██████████| 138/138 [00:00<00:00, 2077.51it/s]\n",
            "Epoch 8/20 - Training: 100%|██████████| 1068/1068 [00:03<00:00, 347.08it/s]\n"
          ]
        },
        {
          "output_type": "stream",
          "name": "stdout",
          "text": [
            "Average Training Loss: 1.6483\n"
          ]
        },
        {
          "output_type": "stream",
          "name": "stderr",
          "text": [
            "Epoch 8/20 - Validation: 100%|██████████| 138/138 [00:00<00:00, 1747.03it/s]\n",
            "Epoch 9/20 - Training: 100%|██████████| 1068/1068 [00:03<00:00, 296.55it/s]\n"
          ]
        },
        {
          "output_type": "stream",
          "name": "stdout",
          "text": [
            "Average Training Loss: 1.6511\n"
          ]
        },
        {
          "output_type": "stream",
          "name": "stderr",
          "text": [
            "Epoch 9/20 - Validation: 100%|██████████| 138/138 [00:00<00:00, 1424.23it/s]\n",
            "Epoch 10/20 - Training: 100%|██████████| 1068/1068 [00:02<00:00, 392.85it/s]\n"
          ]
        },
        {
          "output_type": "stream",
          "name": "stdout",
          "text": [
            "Average Training Loss: 1.6539\n"
          ]
        },
        {
          "output_type": "stream",
          "name": "stderr",
          "text": [
            "Epoch 10/20 - Validation: 100%|██████████| 138/138 [00:00<00:00, 2048.31it/s]\n",
            "Epoch 11/20 - Training: 100%|██████████| 1068/1068 [00:02<00:00, 401.54it/s]\n"
          ]
        },
        {
          "output_type": "stream",
          "name": "stdout",
          "text": [
            "Average Training Loss: 1.6465\n"
          ]
        },
        {
          "output_type": "stream",
          "name": "stderr",
          "text": [
            "Epoch 11/20 - Validation: 100%|██████████| 138/138 [00:00<00:00, 2019.09it/s]\n",
            "Epoch 12/20 - Training: 100%|██████████| 1068/1068 [00:02<00:00, 385.99it/s]\n"
          ]
        },
        {
          "output_type": "stream",
          "name": "stdout",
          "text": [
            "Average Training Loss: 1.6412\n"
          ]
        },
        {
          "output_type": "stream",
          "name": "stderr",
          "text": [
            "Epoch 12/20 - Validation: 100%|██████████| 138/138 [00:00<00:00, 1598.87it/s]\n",
            "Epoch 13/20 - Training: 100%|██████████| 1068/1068 [00:03<00:00, 333.63it/s]\n"
          ]
        },
        {
          "output_type": "stream",
          "name": "stdout",
          "text": [
            "Average Training Loss: 1.6459\n"
          ]
        },
        {
          "output_type": "stream",
          "name": "stderr",
          "text": [
            "Epoch 13/20 - Validation: 100%|██████████| 138/138 [00:00<00:00, 1933.83it/s]\n",
            "Epoch 14/20 - Training: 100%|██████████| 1068/1068 [00:03<00:00, 304.96it/s]\n"
          ]
        },
        {
          "output_type": "stream",
          "name": "stdout",
          "text": [
            "Average Training Loss: 1.6556\n"
          ]
        },
        {
          "output_type": "stream",
          "name": "stderr",
          "text": [
            "Epoch 14/20 - Validation: 100%|██████████| 138/138 [00:00<00:00, 1604.30it/s]\n",
            "Epoch 15/20 - Training: 100%|██████████| 1068/1068 [00:02<00:00, 372.20it/s]\n"
          ]
        },
        {
          "output_type": "stream",
          "name": "stdout",
          "text": [
            "Average Training Loss: 1.6565\n"
          ]
        },
        {
          "output_type": "stream",
          "name": "stderr",
          "text": [
            "Epoch 15/20 - Validation: 100%|██████████| 138/138 [00:00<00:00, 1942.31it/s]\n",
            "Epoch 16/20 - Training: 100%|██████████| 1068/1068 [00:02<00:00, 387.52it/s]\n"
          ]
        },
        {
          "output_type": "stream",
          "name": "stdout",
          "text": [
            "Average Training Loss: 1.6464\n"
          ]
        },
        {
          "output_type": "stream",
          "name": "stderr",
          "text": [
            "Epoch 16/20 - Validation: 100%|██████████| 138/138 [00:00<00:00, 1446.64it/s]\n",
            "Epoch 17/20 - Training: 100%|██████████| 1068/1068 [00:02<00:00, 378.37it/s]\n"
          ]
        },
        {
          "output_type": "stream",
          "name": "stdout",
          "text": [
            "Average Training Loss: 1.6427\n"
          ]
        },
        {
          "output_type": "stream",
          "name": "stderr",
          "text": [
            "Epoch 17/20 - Validation: 100%|██████████| 138/138 [00:00<00:00, 2039.21it/s]\n",
            "Epoch 18/20 - Training: 100%|██████████| 1068/1068 [00:03<00:00, 336.75it/s]\n"
          ]
        },
        {
          "output_type": "stream",
          "name": "stdout",
          "text": [
            "Average Training Loss: 1.6412\n"
          ]
        },
        {
          "output_type": "stream",
          "name": "stderr",
          "text": [
            "Epoch 18/20 - Validation: 100%|██████████| 138/138 [00:00<00:00, 1792.22it/s]\n",
            "Epoch 19/20 - Training: 100%|██████████| 1068/1068 [00:03<00:00, 298.54it/s]\n"
          ]
        },
        {
          "output_type": "stream",
          "name": "stdout",
          "text": [
            "Average Training Loss: 1.6466\n"
          ]
        },
        {
          "output_type": "stream",
          "name": "stderr",
          "text": [
            "Epoch 19/20 - Validation: 100%|██████████| 138/138 [00:00<00:00, 1616.22it/s]\n",
            "Epoch 20/20 - Training: 100%|██████████| 1068/1068 [00:02<00:00, 361.85it/s]\n"
          ]
        },
        {
          "output_type": "stream",
          "name": "stdout",
          "text": [
            "Average Training Loss: 1.6450\n"
          ]
        },
        {
          "output_type": "stream",
          "name": "stderr",
          "text": [
            "Epoch 20/20 - Validation: 100%|██████████| 138/138 [00:00<00:00, 1973.94it/s]\n",
            "Epoch 1/20 - Training: 100%|██████████| 1068/1068 [00:02<00:00, 532.04it/s]\n"
          ]
        },
        {
          "output_type": "stream",
          "name": "stdout",
          "text": [
            "Average Training Loss: 7.6254\n"
          ]
        },
        {
          "output_type": "stream",
          "name": "stderr",
          "text": [
            "Epoch 1/20 - Validation: 100%|██████████| 138/138 [00:00<00:00, 1979.22it/s]\n",
            "Epoch 2/20 - Training: 100%|██████████| 1068/1068 [00:02<00:00, 406.25it/s]\n"
          ]
        },
        {
          "output_type": "stream",
          "name": "stdout",
          "text": [
            "Average Training Loss: 3.5025\n"
          ]
        },
        {
          "output_type": "stream",
          "name": "stderr",
          "text": [
            "Epoch 2/20 - Validation: 100%|██████████| 138/138 [00:00<00:00, 1816.94it/s]\n",
            "Epoch 3/20 - Training: 100%|██████████| 1068/1068 [00:02<00:00, 410.14it/s]\n"
          ]
        },
        {
          "output_type": "stream",
          "name": "stdout",
          "text": [
            "Average Training Loss: 3.6149\n"
          ]
        },
        {
          "output_type": "stream",
          "name": "stderr",
          "text": [
            "Epoch 3/20 - Validation: 100%|██████████| 138/138 [00:00<00:00, 2057.99it/s]\n",
            "Epoch 4/20 - Training: 100%|██████████| 1068/1068 [00:03<00:00, 330.08it/s]\n"
          ]
        },
        {
          "output_type": "stream",
          "name": "stdout",
          "text": [
            "Average Training Loss: 5.2398\n"
          ]
        },
        {
          "output_type": "stream",
          "name": "stderr",
          "text": [
            "Epoch 4/20 - Validation: 100%|██████████| 138/138 [00:00<00:00, 1610.60it/s]\n",
            "Epoch 5/20 - Training: 100%|██████████| 1068/1068 [00:03<00:00, 319.57it/s]\n"
          ]
        },
        {
          "output_type": "stream",
          "name": "stdout",
          "text": [
            "Average Training Loss: 1.7510\n"
          ]
        },
        {
          "output_type": "stream",
          "name": "stderr",
          "text": [
            "Epoch 5/20 - Validation: 100%|██████████| 138/138 [00:00<00:00, 2121.92it/s]\n",
            "Epoch 6/20 - Training: 100%|██████████| 1068/1068 [00:02<00:00, 386.28it/s]\n"
          ]
        },
        {
          "output_type": "stream",
          "name": "stdout",
          "text": [
            "Average Training Loss: 2.0103\n"
          ]
        },
        {
          "output_type": "stream",
          "name": "stderr",
          "text": [
            "Epoch 6/20 - Validation: 100%|██████████| 138/138 [00:00<00:00, 1943.45it/s]\n",
            "Epoch 7/20 - Training: 100%|██████████| 1068/1068 [00:02<00:00, 398.14it/s]\n"
          ]
        },
        {
          "output_type": "stream",
          "name": "stdout",
          "text": [
            "Average Training Loss: 5.0831\n"
          ]
        },
        {
          "output_type": "stream",
          "name": "stderr",
          "text": [
            "Epoch 7/20 - Validation: 100%|██████████| 138/138 [00:00<00:00, 1976.85it/s]\n",
            "Epoch 8/20 - Training: 100%|██████████| 1068/1068 [00:02<00:00, 399.76it/s]\n"
          ]
        },
        {
          "output_type": "stream",
          "name": "stdout",
          "text": [
            "Average Training Loss: 3.8552\n"
          ]
        },
        {
          "output_type": "stream",
          "name": "stderr",
          "text": [
            "Epoch 8/20 - Validation: 100%|██████████| 138/138 [00:00<00:00, 2028.17it/s]\n",
            "Epoch 9/20 - Training: 100%|██████████| 1068/1068 [00:03<00:00, 339.08it/s]\n"
          ]
        },
        {
          "output_type": "stream",
          "name": "stdout",
          "text": [
            "Average Training Loss: 4.3686\n"
          ]
        },
        {
          "output_type": "stream",
          "name": "stderr",
          "text": [
            "Epoch 9/20 - Validation: 100%|██████████| 138/138 [00:00<00:00, 1638.60it/s]\n",
            "Epoch 10/20 - Training: 100%|██████████| 1068/1068 [00:03<00:00, 302.74it/s]\n"
          ]
        },
        {
          "output_type": "stream",
          "name": "stdout",
          "text": [
            "Average Training Loss: 1.6455\n"
          ]
        },
        {
          "output_type": "stream",
          "name": "stderr",
          "text": [
            "Epoch 10/20 - Validation: 100%|██████████| 138/138 [00:00<00:00, 1757.89it/s]\n",
            "Epoch 11/20 - Training: 100%|██████████| 1068/1068 [00:03<00:00, 348.66it/s]\n"
          ]
        },
        {
          "output_type": "stream",
          "name": "stdout",
          "text": [
            "Average Training Loss: 1.6556\n"
          ]
        },
        {
          "output_type": "stream",
          "name": "stderr",
          "text": [
            "Epoch 11/20 - Validation: 100%|██████████| 138/138 [00:00<00:00, 1881.84it/s]\n",
            "Epoch 12/20 - Training: 100%|██████████| 1068/1068 [00:02<00:00, 383.36it/s]\n"
          ]
        },
        {
          "output_type": "stream",
          "name": "stdout",
          "text": [
            "Average Training Loss: 4.0853\n"
          ]
        },
        {
          "output_type": "stream",
          "name": "stderr",
          "text": [
            "Epoch 12/20 - Validation: 100%|██████████| 138/138 [00:00<00:00, 1869.32it/s]\n",
            "Epoch 13/20 - Training: 100%|██████████| 1068/1068 [00:02<00:00, 400.37it/s]\n"
          ]
        },
        {
          "output_type": "stream",
          "name": "stdout",
          "text": [
            "Average Training Loss: 1.9967\n"
          ]
        },
        {
          "output_type": "stream",
          "name": "stderr",
          "text": [
            "Epoch 13/20 - Validation: 100%|██████████| 138/138 [00:00<00:00, 2083.17it/s]\n",
            "Epoch 14/20 - Training: 100%|██████████| 1068/1068 [00:02<00:00, 366.24it/s]\n"
          ]
        },
        {
          "output_type": "stream",
          "name": "stdout",
          "text": [
            "Average Training Loss: 1.6384\n"
          ]
        },
        {
          "output_type": "stream",
          "name": "stderr",
          "text": [
            "Epoch 14/20 - Validation: 100%|██████████| 138/138 [00:00<00:00, 1927.60it/s]\n",
            "Epoch 15/20 - Training: 100%|██████████| 1068/1068 [00:03<00:00, 296.74it/s]\n"
          ]
        },
        {
          "output_type": "stream",
          "name": "stdout",
          "text": [
            "Average Training Loss: 1.6474\n"
          ]
        },
        {
          "output_type": "stream",
          "name": "stderr",
          "text": [
            "Epoch 15/20 - Validation: 100%|██████████| 138/138 [00:00<00:00, 1677.64it/s]\n",
            "Epoch 16/20 - Training: 100%|██████████| 1068/1068 [00:02<00:00, 358.13it/s]\n"
          ]
        },
        {
          "output_type": "stream",
          "name": "stdout",
          "text": [
            "Average Training Loss: 1.6387\n"
          ]
        },
        {
          "output_type": "stream",
          "name": "stderr",
          "text": [
            "Epoch 16/20 - Validation: 100%|██████████| 138/138 [00:00<00:00, 1922.22it/s]\n",
            "Epoch 17/20 - Training: 100%|██████████| 1068/1068 [00:02<00:00, 395.36it/s]\n"
          ]
        },
        {
          "output_type": "stream",
          "name": "stdout",
          "text": [
            "Average Training Loss: 1.9120\n"
          ]
        },
        {
          "output_type": "stream",
          "name": "stderr",
          "text": [
            "Epoch 17/20 - Validation: 100%|██████████| 138/138 [00:00<00:00, 1967.80it/s]\n",
            "Epoch 18/20 - Training: 100%|██████████| 1068/1068 [00:02<00:00, 400.14it/s]\n"
          ]
        },
        {
          "output_type": "stream",
          "name": "stdout",
          "text": [
            "Average Training Loss: 1.6401\n"
          ]
        },
        {
          "output_type": "stream",
          "name": "stderr",
          "text": [
            "Epoch 18/20 - Validation: 100%|██████████| 138/138 [00:00<00:00, 1983.66it/s]\n",
            "Epoch 19/20 - Training: 100%|██████████| 1068/1068 [00:02<00:00, 380.59it/s]\n"
          ]
        },
        {
          "output_type": "stream",
          "name": "stdout",
          "text": [
            "Average Training Loss: 1.6547\n"
          ]
        },
        {
          "output_type": "stream",
          "name": "stderr",
          "text": [
            "Epoch 19/20 - Validation: 100%|██████████| 138/138 [00:00<00:00, 1658.47it/s]\n",
            "Epoch 20/20 - Training: 100%|██████████| 1068/1068 [00:03<00:00, 314.28it/s]\n"
          ]
        },
        {
          "output_type": "stream",
          "name": "stdout",
          "text": [
            "Average Training Loss: 1.6416\n"
          ]
        },
        {
          "output_type": "stream",
          "name": "stderr",
          "text": [
            "Epoch 20/20 - Validation: 100%|██████████| 138/138 [00:00<00:00, 1680.65it/s]\n",
            "Epoch 1/20 - Training: 100%|██████████| 1068/1068 [00:03<00:00, 342.43it/s]\n"
          ]
        },
        {
          "output_type": "stream",
          "name": "stdout",
          "text": [
            "Average Training Loss: 5.5896\n"
          ]
        },
        {
          "output_type": "stream",
          "name": "stderr",
          "text": [
            "Epoch 1/20 - Validation: 100%|██████████| 138/138 [00:00<00:00, 1393.65it/s]\n",
            "Epoch 2/20 - Training: 100%|██████████| 1068/1068 [00:03<00:00, 277.26it/s]\n"
          ]
        },
        {
          "output_type": "stream",
          "name": "stdout",
          "text": [
            "Average Training Loss: 2.4783\n"
          ]
        },
        {
          "output_type": "stream",
          "name": "stderr",
          "text": [
            "Epoch 2/20 - Validation: 100%|██████████| 138/138 [00:00<00:00, 1697.69it/s]\n",
            "Epoch 3/20 - Training: 100%|██████████| 1068/1068 [00:03<00:00, 299.76it/s]\n"
          ]
        },
        {
          "output_type": "stream",
          "name": "stdout",
          "text": [
            "Average Training Loss: 2.4668\n"
          ]
        },
        {
          "output_type": "stream",
          "name": "stderr",
          "text": [
            "Epoch 3/20 - Validation: 100%|██████████| 138/138 [00:00<00:00, 1788.28it/s]\n",
            "Epoch 4/20 - Training: 100%|██████████| 1068/1068 [00:04<00:00, 260.87it/s]\n"
          ]
        },
        {
          "output_type": "stream",
          "name": "stdout",
          "text": [
            "Average Training Loss: 2.4788\n"
          ]
        },
        {
          "output_type": "stream",
          "name": "stderr",
          "text": [
            "Epoch 4/20 - Validation: 100%|██████████| 138/138 [00:00<00:00, 1715.59it/s]\n",
            "Epoch 5/20 - Training: 100%|██████████| 1068/1068 [00:04<00:00, 252.13it/s]\n"
          ]
        },
        {
          "output_type": "stream",
          "name": "stdout",
          "text": [
            "Average Training Loss: 1.6440\n"
          ]
        },
        {
          "output_type": "stream",
          "name": "stderr",
          "text": [
            "Epoch 5/20 - Validation: 100%|██████████| 138/138 [00:00<00:00, 1737.32it/s]\n",
            "Epoch 6/20 - Training: 100%|██████████| 1068/1068 [00:03<00:00, 277.17it/s]\n"
          ]
        },
        {
          "output_type": "stream",
          "name": "stdout",
          "text": [
            "Average Training Loss: 1.6517\n"
          ]
        },
        {
          "output_type": "stream",
          "name": "stderr",
          "text": [
            "Epoch 6/20 - Validation: 100%|██████████| 138/138 [00:00<00:00, 1744.68it/s]\n",
            "Epoch 7/20 - Training: 100%|██████████| 1068/1068 [00:04<00:00, 248.27it/s]\n"
          ]
        },
        {
          "output_type": "stream",
          "name": "stdout",
          "text": [
            "Average Training Loss: 1.6398\n"
          ]
        },
        {
          "output_type": "stream",
          "name": "stderr",
          "text": [
            "Epoch 7/20 - Validation: 100%|██████████| 138/138 [00:00<00:00, 1727.36it/s]\n",
            "Epoch 8/20 - Training: 100%|██████████| 1068/1068 [00:04<00:00, 228.12it/s]\n"
          ]
        },
        {
          "output_type": "stream",
          "name": "stdout",
          "text": [
            "Average Training Loss: 1.6480\n"
          ]
        },
        {
          "output_type": "stream",
          "name": "stderr",
          "text": [
            "Epoch 8/20 - Validation: 100%|██████████| 138/138 [00:00<00:00, 1557.34it/s]\n",
            "Epoch 9/20 - Training: 100%|██████████| 1068/1068 [00:04<00:00, 244.93it/s]\n"
          ]
        },
        {
          "output_type": "stream",
          "name": "stdout",
          "text": [
            "Average Training Loss: 1.6454\n"
          ]
        },
        {
          "output_type": "stream",
          "name": "stderr",
          "text": [
            "Epoch 9/20 - Validation: 100%|██████████| 138/138 [00:00<00:00, 1800.71it/s]\n",
            "Epoch 10/20 - Training: 100%|██████████| 1068/1068 [00:03<00:00, 279.38it/s]\n"
          ]
        },
        {
          "output_type": "stream",
          "name": "stdout",
          "text": [
            "Average Training Loss: 1.6458\n"
          ]
        },
        {
          "output_type": "stream",
          "name": "stderr",
          "text": [
            "Epoch 10/20 - Validation: 100%|██████████| 138/138 [00:00<00:00, 1829.13it/s]\n",
            "Epoch 11/20 - Training: 100%|██████████| 1068/1068 [00:03<00:00, 268.48it/s]\n"
          ]
        },
        {
          "output_type": "stream",
          "name": "stdout",
          "text": [
            "Average Training Loss: 1.6469\n"
          ]
        },
        {
          "output_type": "stream",
          "name": "stderr",
          "text": [
            "Epoch 11/20 - Validation: 100%|██████████| 138/138 [00:00<00:00, 1405.00it/s]\n",
            "Epoch 12/20 - Training: 100%|██████████| 1068/1068 [00:04<00:00, 215.28it/s]\n"
          ]
        },
        {
          "output_type": "stream",
          "name": "stdout",
          "text": [
            "Average Training Loss: 1.6442\n"
          ]
        },
        {
          "output_type": "stream",
          "name": "stderr",
          "text": [
            "Epoch 12/20 - Validation: 100%|██████████| 138/138 [00:00<00:00, 1196.92it/s]\n",
            "Epoch 13/20 - Training: 100%|██████████| 1068/1068 [00:04<00:00, 255.27it/s]\n"
          ]
        },
        {
          "output_type": "stream",
          "name": "stdout",
          "text": [
            "Average Training Loss: 1.6451\n"
          ]
        },
        {
          "output_type": "stream",
          "name": "stderr",
          "text": [
            "Epoch 13/20 - Validation: 100%|██████████| 138/138 [00:00<00:00, 1811.74it/s]\n",
            "Epoch 14/20 - Training: 100%|██████████| 1068/1068 [00:03<00:00, 267.38it/s]\n"
          ]
        },
        {
          "output_type": "stream",
          "name": "stdout",
          "text": [
            "Average Training Loss: 1.6466\n"
          ]
        },
        {
          "output_type": "stream",
          "name": "stderr",
          "text": [
            "Epoch 14/20 - Validation: 100%|██████████| 138/138 [00:00<00:00, 1816.14it/s]\n",
            "Epoch 15/20 - Training: 100%|██████████| 1068/1068 [00:04<00:00, 264.28it/s]\n"
          ]
        },
        {
          "output_type": "stream",
          "name": "stdout",
          "text": [
            "Average Training Loss: 1.6428\n"
          ]
        },
        {
          "output_type": "stream",
          "name": "stderr",
          "text": [
            "Epoch 15/20 - Validation: 100%|██████████| 138/138 [00:00<00:00, 1493.29it/s]\n",
            "Epoch 16/20 - Training: 100%|██████████| 1068/1068 [00:04<00:00, 247.79it/s]\n"
          ]
        },
        {
          "output_type": "stream",
          "name": "stdout",
          "text": [
            "Average Training Loss: 1.6507\n"
          ]
        },
        {
          "output_type": "stream",
          "name": "stderr",
          "text": [
            "Epoch 16/20 - Validation: 100%|██████████| 138/138 [00:00<00:00, 1642.77it/s]\n",
            "Epoch 17/20 - Training: 100%|██████████| 1068/1068 [00:03<00:00, 283.47it/s]\n"
          ]
        },
        {
          "output_type": "stream",
          "name": "stdout",
          "text": [
            "Average Training Loss: 1.6444\n"
          ]
        },
        {
          "output_type": "stream",
          "name": "stderr",
          "text": [
            "Epoch 17/20 - Validation: 100%|██████████| 138/138 [00:00<00:00, 1728.08it/s]\n",
            "Epoch 18/20 - Training: 100%|██████████| 1068/1068 [00:03<00:00, 282.38it/s]\n"
          ]
        },
        {
          "output_type": "stream",
          "name": "stdout",
          "text": [
            "Average Training Loss: 1.6478\n"
          ]
        },
        {
          "output_type": "stream",
          "name": "stderr",
          "text": [
            "Epoch 18/20 - Validation: 100%|██████████| 138/138 [00:00<00:00, 1592.58it/s]\n",
            "Epoch 19/20 - Training: 100%|██████████| 1068/1068 [00:04<00:00, 257.71it/s]\n"
          ]
        },
        {
          "output_type": "stream",
          "name": "stdout",
          "text": [
            "Average Training Loss: 1.6530\n"
          ]
        },
        {
          "output_type": "stream",
          "name": "stderr",
          "text": [
            "Epoch 19/20 - Validation: 100%|██████████| 138/138 [00:00<00:00, 1896.99it/s]\n",
            "Epoch 20/20 - Training: 100%|██████████| 1068/1068 [00:04<00:00, 251.39it/s]\n"
          ]
        },
        {
          "output_type": "stream",
          "name": "stdout",
          "text": [
            "Average Training Loss: 1.6460\n"
          ]
        },
        {
          "output_type": "stream",
          "name": "stderr",
          "text": [
            "Epoch 20/20 - Validation: 100%|██████████| 138/138 [00:00<00:00, 1745.67it/s]\n",
            "Epoch 1/20 - Training: 100%|██████████| 1068/1068 [00:02<00:00, 429.07it/s]\n"
          ]
        },
        {
          "output_type": "stream",
          "name": "stdout",
          "text": [
            "Average Training Loss: 6.0917\n"
          ]
        },
        {
          "output_type": "stream",
          "name": "stderr",
          "text": [
            "Epoch 1/20 - Validation: 100%|██████████| 138/138 [00:00<00:00, 1888.24it/s]\n",
            "Epoch 2/20 - Training: 100%|██████████| 1068/1068 [00:03<00:00, 293.60it/s]\n"
          ]
        },
        {
          "output_type": "stream",
          "name": "stdout",
          "text": [
            "Average Training Loss: 9.2775\n"
          ]
        },
        {
          "output_type": "stream",
          "name": "stderr",
          "text": [
            "Epoch 2/20 - Validation: 100%|██████████| 138/138 [00:00<00:00, 1791.26it/s]\n",
            "Epoch 3/20 - Training: 100%|██████████| 1068/1068 [00:04<00:00, 258.75it/s]\n"
          ]
        },
        {
          "output_type": "stream",
          "name": "stdout",
          "text": [
            "Average Training Loss: 3.5507\n"
          ]
        },
        {
          "output_type": "stream",
          "name": "stderr",
          "text": [
            "Epoch 3/20 - Validation: 100%|██████████| 138/138 [00:00<00:00, 1716.22it/s]\n",
            "Epoch 4/20 - Training: 100%|██████████| 1068/1068 [00:04<00:00, 222.03it/s]\n"
          ]
        },
        {
          "output_type": "stream",
          "name": "stdout",
          "text": [
            "Average Training Loss: 2.6791\n"
          ]
        },
        {
          "output_type": "stream",
          "name": "stderr",
          "text": [
            "Epoch 4/20 - Validation: 100%|██████████| 138/138 [00:00<00:00, 1699.24it/s]\n",
            "Epoch 5/20 - Training: 100%|██████████| 1068/1068 [00:03<00:00, 273.50it/s]\n"
          ]
        },
        {
          "output_type": "stream",
          "name": "stdout",
          "text": [
            "Average Training Loss: 3.4596\n"
          ]
        },
        {
          "output_type": "stream",
          "name": "stderr",
          "text": [
            "Epoch 5/20 - Validation: 100%|██████████| 138/138 [00:00<00:00, 1764.31it/s]\n",
            "Epoch 6/20 - Training: 100%|██████████| 1068/1068 [00:04<00:00, 264.00it/s]\n"
          ]
        },
        {
          "output_type": "stream",
          "name": "stdout",
          "text": [
            "Average Training Loss: 1.7108\n"
          ]
        },
        {
          "output_type": "stream",
          "name": "stderr",
          "text": [
            "Epoch 6/20 - Validation: 100%|██████████| 138/138 [00:00<00:00, 1787.43it/s]\n",
            "Epoch 7/20 - Training: 100%|██████████| 1068/1068 [00:04<00:00, 241.44it/s]\n"
          ]
        },
        {
          "output_type": "stream",
          "name": "stdout",
          "text": [
            "Average Training Loss: 1.8019\n"
          ]
        },
        {
          "output_type": "stream",
          "name": "stderr",
          "text": [
            "Epoch 7/20 - Validation: 100%|██████████| 138/138 [00:00<00:00, 1634.05it/s]\n",
            "Epoch 8/20 - Training: 100%|██████████| 1068/1068 [00:04<00:00, 244.80it/s]\n"
          ]
        },
        {
          "output_type": "stream",
          "name": "stdout",
          "text": [
            "Average Training Loss: 1.6352\n"
          ]
        },
        {
          "output_type": "stream",
          "name": "stderr",
          "text": [
            "Epoch 8/20 - Validation: 100%|██████████| 138/138 [00:00<00:00, 1805.36it/s]\n",
            "Epoch 9/20 - Training: 100%|██████████| 1068/1068 [00:03<00:00, 279.08it/s]\n"
          ]
        },
        {
          "output_type": "stream",
          "name": "stdout",
          "text": [
            "Average Training Loss: 1.6475\n"
          ]
        },
        {
          "output_type": "stream",
          "name": "stderr",
          "text": [
            "Epoch 9/20 - Validation: 100%|██████████| 138/138 [00:00<00:00, 1848.48it/s]\n",
            "Epoch 10/20 - Training: 100%|██████████| 1068/1068 [00:03<00:00, 285.81it/s]\n"
          ]
        },
        {
          "output_type": "stream",
          "name": "stdout",
          "text": [
            "Average Training Loss: 3.2436\n"
          ]
        },
        {
          "output_type": "stream",
          "name": "stderr",
          "text": [
            "Epoch 10/20 - Validation: 100%|██████████| 138/138 [00:00<00:00, 1837.09it/s]\n",
            "Epoch 11/20 - Training: 100%|██████████| 1068/1068 [00:04<00:00, 235.55it/s]\n"
          ]
        },
        {
          "output_type": "stream",
          "name": "stdout",
          "text": [
            "Average Training Loss: 1.6569\n"
          ]
        },
        {
          "output_type": "stream",
          "name": "stderr",
          "text": [
            "Epoch 11/20 - Validation: 100%|██████████| 138/138 [00:00<00:00, 1786.15it/s]\n",
            "Epoch 12/20 - Training: 100%|██████████| 1068/1068 [00:04<00:00, 254.53it/s]\n"
          ]
        },
        {
          "output_type": "stream",
          "name": "stdout",
          "text": [
            "Average Training Loss: 1.6457\n"
          ]
        },
        {
          "output_type": "stream",
          "name": "stderr",
          "text": [
            "Epoch 12/20 - Validation: 100%|██████████| 138/138 [00:00<00:00, 1839.70it/s]\n",
            "Epoch 13/20 - Training: 100%|██████████| 1068/1068 [00:03<00:00, 272.62it/s]\n"
          ]
        },
        {
          "output_type": "stream",
          "name": "stdout",
          "text": [
            "Average Training Loss: 1.6487\n"
          ]
        },
        {
          "output_type": "stream",
          "name": "stderr",
          "text": [
            "Epoch 13/20 - Validation: 100%|██████████| 138/138 [00:00<00:00, 1808.90it/s]\n",
            "Epoch 14/20 - Training: 100%|██████████| 1068/1068 [00:04<00:00, 260.07it/s]\n"
          ]
        },
        {
          "output_type": "stream",
          "name": "stdout",
          "text": [
            "Average Training Loss: 1.6541\n"
          ]
        },
        {
          "output_type": "stream",
          "name": "stderr",
          "text": [
            "Epoch 14/20 - Validation: 100%|██████████| 138/138 [00:00<00:00, 1639.21it/s]\n",
            "Epoch 15/20 - Training: 100%|██████████| 1068/1068 [00:04<00:00, 221.09it/s]\n"
          ]
        },
        {
          "output_type": "stream",
          "name": "stdout",
          "text": [
            "Average Training Loss: 1.6315\n"
          ]
        },
        {
          "output_type": "stream",
          "name": "stderr",
          "text": [
            "Epoch 15/20 - Validation: 100%|██████████| 138/138 [00:00<00:00, 1472.40it/s]\n",
            "Epoch 16/20 - Training: 100%|██████████| 1068/1068 [00:04<00:00, 257.06it/s]\n"
          ]
        },
        {
          "output_type": "stream",
          "name": "stdout",
          "text": [
            "Average Training Loss: 1.6453\n"
          ]
        },
        {
          "output_type": "stream",
          "name": "stderr",
          "text": [
            "Epoch 16/20 - Validation: 100%|██████████| 138/138 [00:00<00:00, 1626.55it/s]\n",
            "Epoch 17/20 - Training: 100%|██████████| 1068/1068 [00:04<00:00, 256.46it/s]\n"
          ]
        },
        {
          "output_type": "stream",
          "name": "stdout",
          "text": [
            "Average Training Loss: 1.6409\n"
          ]
        },
        {
          "output_type": "stream",
          "name": "stderr",
          "text": [
            "Epoch 17/20 - Validation: 100%|██████████| 138/138 [00:00<00:00, 1814.73it/s]\n",
            "Epoch 18/20 - Training: 100%|██████████| 1068/1068 [00:04<00:00, 238.29it/s]\n"
          ]
        },
        {
          "output_type": "stream",
          "name": "stdout",
          "text": [
            "Average Training Loss: 1.6473\n"
          ]
        },
        {
          "output_type": "stream",
          "name": "stderr",
          "text": [
            "Epoch 18/20 - Validation: 100%|██████████| 138/138 [00:00<00:00, 1696.00it/s]\n",
            "Epoch 19/20 - Training: 100%|██████████| 1068/1068 [00:05<00:00, 208.84it/s]\n"
          ]
        },
        {
          "output_type": "stream",
          "name": "stdout",
          "text": [
            "Average Training Loss: 1.6539\n"
          ]
        },
        {
          "output_type": "stream",
          "name": "stderr",
          "text": [
            "Epoch 19/20 - Validation: 100%|██████████| 138/138 [00:00<00:00, 1261.11it/s]\n",
            "Epoch 20/20 - Training: 100%|██████████| 1068/1068 [00:04<00:00, 242.37it/s]\n"
          ]
        },
        {
          "output_type": "stream",
          "name": "stdout",
          "text": [
            "Average Training Loss: 1.6510\n"
          ]
        },
        {
          "output_type": "stream",
          "name": "stderr",
          "text": [
            "Epoch 20/20 - Validation: 100%|██████████| 138/138 [00:00<00:00, 1741.31it/s]\n",
            "Epoch 1/20 - Training: 100%|██████████| 1068/1068 [00:02<00:00, 387.62it/s]\n"
          ]
        },
        {
          "output_type": "stream",
          "name": "stdout",
          "text": [
            "Average Training Loss: 8.5565\n"
          ]
        },
        {
          "output_type": "stream",
          "name": "stderr",
          "text": [
            "Epoch 1/20 - Validation: 100%|██████████| 138/138 [00:00<00:00, 1791.28it/s]\n",
            "Epoch 2/20 - Training: 100%|██████████| 1068/1068 [00:05<00:00, 205.86it/s]\n"
          ]
        },
        {
          "output_type": "stream",
          "name": "stdout",
          "text": [
            "Average Training Loss: 4.1201\n"
          ]
        },
        {
          "output_type": "stream",
          "name": "stderr",
          "text": [
            "Epoch 2/20 - Validation: 100%|██████████| 138/138 [00:00<00:00, 1303.19it/s]\n",
            "Epoch 3/20 - Training: 100%|██████████| 1068/1068 [00:04<00:00, 252.75it/s]\n"
          ]
        },
        {
          "output_type": "stream",
          "name": "stdout",
          "text": [
            "Average Training Loss: 2.4423\n"
          ]
        },
        {
          "output_type": "stream",
          "name": "stderr",
          "text": [
            "Epoch 3/20 - Validation: 100%|██████████| 138/138 [00:00<00:00, 1616.51it/s]\n",
            "Epoch 4/20 - Training: 100%|██████████| 1068/1068 [00:03<00:00, 274.33it/s]\n"
          ]
        },
        {
          "output_type": "stream",
          "name": "stdout",
          "text": [
            "Average Training Loss: 2.6055\n"
          ]
        },
        {
          "output_type": "stream",
          "name": "stderr",
          "text": [
            "Epoch 4/20 - Validation: 100%|██████████| 138/138 [00:00<00:00, 1940.70it/s]\n",
            "Epoch 5/20 - Training: 100%|██████████| 1068/1068 [00:03<00:00, 271.92it/s]\n"
          ]
        },
        {
          "output_type": "stream",
          "name": "stdout",
          "text": [
            "Average Training Loss: 3.0513\n"
          ]
        },
        {
          "output_type": "stream",
          "name": "stderr",
          "text": [
            "Epoch 5/20 - Validation: 100%|██████████| 138/138 [00:00<00:00, 1870.63it/s]\n",
            "Epoch 6/20 - Training: 100%|██████████| 1068/1068 [00:04<00:00, 241.18it/s]\n"
          ]
        },
        {
          "output_type": "stream",
          "name": "stdout",
          "text": [
            "Average Training Loss: 1.6455\n"
          ]
        },
        {
          "output_type": "stream",
          "name": "stderr",
          "text": [
            "Epoch 6/20 - Validation: 100%|██████████| 138/138 [00:00<00:00, 1641.68it/s]\n",
            "Epoch 7/20 - Training: 100%|██████████| 1068/1068 [00:03<00:00, 273.23it/s]\n"
          ]
        },
        {
          "output_type": "stream",
          "name": "stdout",
          "text": [
            "Average Training Loss: 2.3463\n"
          ]
        },
        {
          "output_type": "stream",
          "name": "stderr",
          "text": [
            "Epoch 7/20 - Validation: 100%|██████████| 138/138 [00:00<00:00, 1729.49it/s]\n",
            "Epoch 8/20 - Training: 100%|██████████| 1068/1068 [00:03<00:00, 284.46it/s]\n"
          ]
        },
        {
          "output_type": "stream",
          "name": "stdout",
          "text": [
            "Average Training Loss: 1.9965\n"
          ]
        },
        {
          "output_type": "stream",
          "name": "stderr",
          "text": [
            "Epoch 8/20 - Validation: 100%|██████████| 138/138 [00:00<00:00, 1711.31it/s]\n",
            "Epoch 9/20 - Training: 100%|██████████| 1068/1068 [00:04<00:00, 261.88it/s]\n"
          ]
        },
        {
          "output_type": "stream",
          "name": "stdout",
          "text": [
            "Average Training Loss: 1.6389\n"
          ]
        },
        {
          "output_type": "stream",
          "name": "stderr",
          "text": [
            "Epoch 9/20 - Validation: 100%|██████████| 138/138 [00:00<00:00, 1510.04it/s]\n",
            "Epoch 10/20 - Training: 100%|██████████| 1068/1068 [00:04<00:00, 225.91it/s]\n"
          ]
        },
        {
          "output_type": "stream",
          "name": "stdout",
          "text": [
            "Average Training Loss: 1.6518\n"
          ]
        },
        {
          "output_type": "stream",
          "name": "stderr",
          "text": [
            "Epoch 10/20 - Validation: 100%|██████████| 138/138 [00:00<00:00, 1825.73it/s]\n",
            "Epoch 11/20 - Training: 100%|██████████| 1068/1068 [00:03<00:00, 279.12it/s]\n"
          ]
        },
        {
          "output_type": "stream",
          "name": "stdout",
          "text": [
            "Average Training Loss: 1.6384\n"
          ]
        },
        {
          "output_type": "stream",
          "name": "stderr",
          "text": [
            "Epoch 11/20 - Validation: 100%|██████████| 138/138 [00:00<00:00, 1626.64it/s]\n",
            "Epoch 12/20 - Training: 100%|██████████| 1068/1068 [00:03<00:00, 277.60it/s]\n"
          ]
        },
        {
          "output_type": "stream",
          "name": "stdout",
          "text": [
            "Average Training Loss: 1.6408\n"
          ]
        },
        {
          "output_type": "stream",
          "name": "stderr",
          "text": [
            "Epoch 12/20 - Validation: 100%|██████████| 138/138 [00:00<00:00, 1780.98it/s]\n",
            "Epoch 13/20 - Training: 100%|██████████| 1068/1068 [00:04<00:00, 251.65it/s]\n"
          ]
        },
        {
          "output_type": "stream",
          "name": "stdout",
          "text": [
            "Average Training Loss: 1.6519\n"
          ]
        },
        {
          "output_type": "stream",
          "name": "stderr",
          "text": [
            "Epoch 13/20 - Validation: 100%|██████████| 138/138 [00:00<00:00, 1508.91it/s]\n",
            "Epoch 14/20 - Training: 100%|██████████| 1068/1068 [00:04<00:00, 240.85it/s]\n"
          ]
        },
        {
          "output_type": "stream",
          "name": "stdout",
          "text": [
            "Average Training Loss: 1.6444\n"
          ]
        },
        {
          "output_type": "stream",
          "name": "stderr",
          "text": [
            "Epoch 14/20 - Validation: 100%|██████████| 138/138 [00:00<00:00, 1748.17it/s]\n",
            "Epoch 15/20 - Training: 100%|██████████| 1068/1068 [00:03<00:00, 285.06it/s]\n"
          ]
        },
        {
          "output_type": "stream",
          "name": "stdout",
          "text": [
            "Average Training Loss: 1.6513\n"
          ]
        },
        {
          "output_type": "stream",
          "name": "stderr",
          "text": [
            "Epoch 15/20 - Validation: 100%|██████████| 138/138 [00:00<00:00, 1770.24it/s]\n",
            "Epoch 16/20 - Training: 100%|██████████| 1068/1068 [00:03<00:00, 281.84it/s]\n"
          ]
        },
        {
          "output_type": "stream",
          "name": "stdout",
          "text": [
            "Average Training Loss: 1.6509\n"
          ]
        },
        {
          "output_type": "stream",
          "name": "stderr",
          "text": [
            "Epoch 16/20 - Validation: 100%|██████████| 138/138 [00:00<00:00, 1519.90it/s]\n",
            "Epoch 17/20 - Training: 100%|██████████| 1068/1068 [00:04<00:00, 232.68it/s]\n"
          ]
        },
        {
          "output_type": "stream",
          "name": "stdout",
          "text": [
            "Average Training Loss: 1.6493\n"
          ]
        },
        {
          "output_type": "stream",
          "name": "stderr",
          "text": [
            "Epoch 17/20 - Validation: 100%|██████████| 138/138 [00:00<00:00, 1534.98it/s]\n",
            "Epoch 18/20 - Training: 100%|██████████| 1068/1068 [00:04<00:00, 249.36it/s]\n"
          ]
        },
        {
          "output_type": "stream",
          "name": "stdout",
          "text": [
            "Average Training Loss: 1.6467\n"
          ]
        },
        {
          "output_type": "stream",
          "name": "stderr",
          "text": [
            "Epoch 18/20 - Validation: 100%|██████████| 138/138 [00:00<00:00, 1822.66it/s]\n",
            "Epoch 19/20 - Training: 100%|██████████| 1068/1068 [00:04<00:00, 261.78it/s]\n"
          ]
        },
        {
          "output_type": "stream",
          "name": "stdout",
          "text": [
            "Average Training Loss: 1.6438\n"
          ]
        },
        {
          "output_type": "stream",
          "name": "stderr",
          "text": [
            "Epoch 19/20 - Validation: 100%|██████████| 138/138 [00:00<00:00, 1792.42it/s]\n",
            "Epoch 20/20 - Training: 100%|██████████| 1068/1068 [00:03<00:00, 270.59it/s]\n"
          ]
        },
        {
          "output_type": "stream",
          "name": "stdout",
          "text": [
            "Average Training Loss: 1.6359\n"
          ]
        },
        {
          "output_type": "stream",
          "name": "stderr",
          "text": [
            "Epoch 20/20 - Validation: 100%|██████████| 138/138 [00:00<00:00, 1617.52it/s]\n",
            "Epoch 1/20 - Training: 100%|██████████| 1068/1068 [00:03<00:00, 330.24it/s]\n"
          ]
        },
        {
          "output_type": "stream",
          "name": "stdout",
          "text": [
            "Average Training Loss: 7.6918\n"
          ]
        },
        {
          "output_type": "stream",
          "name": "stderr",
          "text": [
            "Epoch 1/20 - Validation: 100%|██████████| 138/138 [00:00<00:00, 1695.72it/s]\n",
            "Epoch 2/20 - Training: 100%|██████████| 1068/1068 [00:04<00:00, 256.38it/s]\n"
          ]
        },
        {
          "output_type": "stream",
          "name": "stdout",
          "text": [
            "Average Training Loss: 5.3550\n"
          ]
        },
        {
          "output_type": "stream",
          "name": "stderr",
          "text": [
            "Epoch 2/20 - Validation: 100%|██████████| 138/138 [00:00<00:00, 1876.28it/s]\n",
            "Epoch 3/20 - Training: 100%|██████████| 1068/1068 [00:03<00:00, 278.56it/s]\n"
          ]
        },
        {
          "output_type": "stream",
          "name": "stdout",
          "text": [
            "Average Training Loss: 4.6028\n"
          ]
        },
        {
          "output_type": "stream",
          "name": "stderr",
          "text": [
            "Epoch 3/20 - Validation: 100%|██████████| 138/138 [00:00<00:00, 1685.28it/s]\n",
            "Epoch 4/20 - Training: 100%|██████████| 1068/1068 [00:03<00:00, 283.23it/s]\n"
          ]
        },
        {
          "output_type": "stream",
          "name": "stdout",
          "text": [
            "Average Training Loss: 5.3728\n"
          ]
        },
        {
          "output_type": "stream",
          "name": "stderr",
          "text": [
            "Epoch 4/20 - Validation: 100%|██████████| 138/138 [00:00<00:00, 1705.91it/s]\n",
            "Epoch 5/20 - Training: 100%|██████████| 1068/1068 [00:04<00:00, 234.91it/s]\n"
          ]
        },
        {
          "output_type": "stream",
          "name": "stdout",
          "text": [
            "Average Training Loss: 16.3395\n"
          ]
        },
        {
          "output_type": "stream",
          "name": "stderr",
          "text": [
            "Epoch 5/20 - Validation: 100%|██████████| 138/138 [00:00<00:00, 1717.92it/s]\n",
            "Epoch 6/20 - Training: 100%|██████████| 1068/1068 [00:04<00:00, 258.48it/s]\n"
          ]
        },
        {
          "output_type": "stream",
          "name": "stdout",
          "text": [
            "Average Training Loss: 5.7245\n"
          ]
        },
        {
          "output_type": "stream",
          "name": "stderr",
          "text": [
            "Epoch 6/20 - Validation: 100%|██████████| 138/138 [00:00<00:00, 1754.63it/s]\n",
            "Epoch 7/20 - Training: 100%|██████████| 1068/1068 [00:03<00:00, 278.24it/s]\n"
          ]
        },
        {
          "output_type": "stream",
          "name": "stdout",
          "text": [
            "Average Training Loss: 2.6944\n"
          ]
        },
        {
          "output_type": "stream",
          "name": "stderr",
          "text": [
            "Epoch 7/20 - Validation: 100%|██████████| 138/138 [00:00<00:00, 1769.15it/s]\n",
            "Epoch 8/20 - Training: 100%|██████████| 1068/1068 [00:03<00:00, 275.51it/s]\n"
          ]
        },
        {
          "output_type": "stream",
          "name": "stdout",
          "text": [
            "Average Training Loss: 2.7469\n"
          ]
        },
        {
          "output_type": "stream",
          "name": "stderr",
          "text": [
            "Epoch 8/20 - Validation: 100%|██████████| 138/138 [00:00<00:00, 1647.27it/s]\n",
            "Epoch 9/20 - Training: 100%|██████████| 1068/1068 [00:04<00:00, 229.89it/s]\n"
          ]
        },
        {
          "output_type": "stream",
          "name": "stdout",
          "text": [
            "Average Training Loss: 3.2047\n"
          ]
        },
        {
          "output_type": "stream",
          "name": "stderr",
          "text": [
            "Epoch 9/20 - Validation: 100%|██████████| 138/138 [00:00<00:00, 1776.18it/s]\n",
            "Epoch 10/20 - Training: 100%|██████████| 1068/1068 [00:03<00:00, 274.75it/s]\n"
          ]
        },
        {
          "output_type": "stream",
          "name": "stdout",
          "text": [
            "Average Training Loss: 1.7162\n"
          ]
        },
        {
          "output_type": "stream",
          "name": "stderr",
          "text": [
            "Epoch 10/20 - Validation: 100%|██████████| 138/138 [00:00<00:00, 1819.07it/s]\n",
            "Epoch 11/20 - Training: 100%|██████████| 1068/1068 [00:03<00:00, 278.62it/s]\n"
          ]
        },
        {
          "output_type": "stream",
          "name": "stdout",
          "text": [
            "Average Training Loss: 1.6555\n"
          ]
        },
        {
          "output_type": "stream",
          "name": "stderr",
          "text": [
            "Epoch 11/20 - Validation: 100%|██████████| 138/138 [00:00<00:00, 1795.45it/s]\n",
            "Epoch 12/20 - Training: 100%|██████████| 1068/1068 [00:04<00:00, 262.37it/s]\n"
          ]
        },
        {
          "output_type": "stream",
          "name": "stdout",
          "text": [
            "Average Training Loss: 1.6371\n"
          ]
        },
        {
          "output_type": "stream",
          "name": "stderr",
          "text": [
            "Epoch 12/20 - Validation: 100%|██████████| 138/138 [00:00<00:00, 1669.69it/s]\n",
            "Epoch 13/20 - Training: 100%|██████████| 1068/1068 [00:04<00:00, 223.47it/s]\n"
          ]
        },
        {
          "output_type": "stream",
          "name": "stdout",
          "text": [
            "Average Training Loss: 1.7255\n"
          ]
        },
        {
          "output_type": "stream",
          "name": "stderr",
          "text": [
            "Epoch 13/20 - Validation: 100%|██████████| 138/138 [00:00<00:00, 1634.13it/s]\n",
            "Epoch 14/20 - Training: 100%|██████████| 1068/1068 [00:03<00:00, 273.45it/s]\n"
          ]
        },
        {
          "output_type": "stream",
          "name": "stdout",
          "text": [
            "Average Training Loss: 1.8692\n"
          ]
        },
        {
          "output_type": "stream",
          "name": "stderr",
          "text": [
            "Epoch 14/20 - Validation: 100%|██████████| 138/138 [00:00<00:00, 1672.63it/s]\n",
            "Epoch 15/20 - Training: 100%|██████████| 1068/1068 [00:03<00:00, 275.60it/s]\n"
          ]
        },
        {
          "output_type": "stream",
          "name": "stdout",
          "text": [
            "Average Training Loss: 1.6923\n"
          ]
        },
        {
          "output_type": "stream",
          "name": "stderr",
          "text": [
            "Epoch 15/20 - Validation: 100%|██████████| 138/138 [00:00<00:00, 1803.32it/s]\n",
            "Epoch 16/20 - Training: 100%|██████████| 1068/1068 [00:04<00:00, 248.03it/s]\n"
          ]
        },
        {
          "output_type": "stream",
          "name": "stdout",
          "text": [
            "Average Training Loss: 1.6473\n"
          ]
        },
        {
          "output_type": "stream",
          "name": "stderr",
          "text": [
            "Epoch 16/20 - Validation: 100%|██████████| 138/138 [00:00<00:00, 1413.94it/s]\n",
            "Epoch 17/20 - Training: 100%|██████████| 1068/1068 [00:04<00:00, 239.72it/s]\n"
          ]
        },
        {
          "output_type": "stream",
          "name": "stdout",
          "text": [
            "Average Training Loss: 1.6461\n"
          ]
        },
        {
          "output_type": "stream",
          "name": "stderr",
          "text": [
            "Epoch 17/20 - Validation: 100%|██████████| 138/138 [00:00<00:00, 1783.89it/s]\n",
            "Epoch 18/20 - Training: 100%|██████████| 1068/1068 [00:03<00:00, 279.53it/s]\n"
          ]
        },
        {
          "output_type": "stream",
          "name": "stdout",
          "text": [
            "Average Training Loss: 1.6420\n"
          ]
        },
        {
          "output_type": "stream",
          "name": "stderr",
          "text": [
            "Epoch 18/20 - Validation: 100%|██████████| 138/138 [00:00<00:00, 1589.09it/s]\n",
            "Epoch 19/20 - Training: 100%|██████████| 1068/1068 [00:03<00:00, 274.04it/s]\n"
          ]
        },
        {
          "output_type": "stream",
          "name": "stdout",
          "text": [
            "Average Training Loss: 1.6467\n"
          ]
        },
        {
          "output_type": "stream",
          "name": "stderr",
          "text": [
            "Epoch 19/20 - Validation: 100%|██████████| 138/138 [00:00<00:00, 1791.64it/s]\n",
            "Epoch 20/20 - Training: 100%|██████████| 1068/1068 [00:04<00:00, 234.70it/s]\n"
          ]
        },
        {
          "output_type": "stream",
          "name": "stdout",
          "text": [
            "Average Training Loss: 1.6585\n"
          ]
        },
        {
          "output_type": "stream",
          "name": "stderr",
          "text": [
            "Epoch 20/20 - Validation: 100%|██████████| 138/138 [00:00<00:00, 1660.35it/s]\n",
            "Epoch 1/20 - Training: 100%|██████████| 1068/1068 [00:03<00:00, 352.56it/s]\n"
          ]
        },
        {
          "output_type": "stream",
          "name": "stdout",
          "text": [
            "Average Training Loss: 9.9661\n"
          ]
        },
        {
          "output_type": "stream",
          "name": "stderr",
          "text": [
            "Epoch 1/20 - Validation: 100%|██████████| 138/138 [00:00<00:00, 1917.62it/s]\n",
            "Epoch 2/20 - Training: 100%|██████████| 1068/1068 [00:03<00:00, 296.06it/s]\n"
          ]
        },
        {
          "output_type": "stream",
          "name": "stdout",
          "text": [
            "Average Training Loss: 5.6594\n"
          ]
        },
        {
          "output_type": "stream",
          "name": "stderr",
          "text": [
            "Epoch 2/20 - Validation: 100%|██████████| 138/138 [00:00<00:00, 1718.09it/s]\n",
            "Epoch 3/20 - Training: 100%|██████████| 1068/1068 [00:03<00:00, 292.63it/s]\n"
          ]
        },
        {
          "output_type": "stream",
          "name": "stdout",
          "text": [
            "Average Training Loss: 6.5612\n"
          ]
        },
        {
          "output_type": "stream",
          "name": "stderr",
          "text": [
            "Epoch 3/20 - Validation: 100%|██████████| 138/138 [00:00<00:00, 1750.73it/s]\n",
            "Epoch 4/20 - Training: 100%|██████████| 1068/1068 [00:04<00:00, 246.93it/s]\n"
          ]
        },
        {
          "output_type": "stream",
          "name": "stdout",
          "text": [
            "Average Training Loss: 4.5203\n"
          ]
        },
        {
          "output_type": "stream",
          "name": "stderr",
          "text": [
            "Epoch 4/20 - Validation: 100%|██████████| 138/138 [00:00<00:00, 1522.18it/s]\n",
            "Epoch 5/20 - Training: 100%|██████████| 1068/1068 [00:04<00:00, 247.26it/s]\n"
          ]
        },
        {
          "output_type": "stream",
          "name": "stdout",
          "text": [
            "Average Training Loss: 2.5225\n"
          ]
        },
        {
          "output_type": "stream",
          "name": "stderr",
          "text": [
            "Epoch 5/20 - Validation: 100%|██████████| 138/138 [00:00<00:00, 1753.72it/s]\n",
            "Epoch 6/20 - Training: 100%|██████████| 1068/1068 [00:03<00:00, 288.00it/s]\n"
          ]
        },
        {
          "output_type": "stream",
          "name": "stdout",
          "text": [
            "Average Training Loss: 1.9115\n"
          ]
        },
        {
          "output_type": "stream",
          "name": "stderr",
          "text": [
            "Epoch 6/20 - Validation: 100%|██████████| 138/138 [00:00<00:00, 1795.71it/s]\n",
            "Epoch 7/20 - Training: 100%|██████████| 1068/1068 [00:03<00:00, 282.35it/s]\n"
          ]
        },
        {
          "output_type": "stream",
          "name": "stdout",
          "text": [
            "Average Training Loss: 1.7347\n"
          ]
        },
        {
          "output_type": "stream",
          "name": "stderr",
          "text": [
            "Epoch 7/20 - Validation: 100%|██████████| 138/138 [00:00<00:00, 1768.20it/s]\n",
            "Epoch 8/20 - Training: 100%|██████████| 1068/1068 [00:04<00:00, 237.03it/s]\n"
          ]
        },
        {
          "output_type": "stream",
          "name": "stdout",
          "text": [
            "Average Training Loss: 1.6780\n"
          ]
        },
        {
          "output_type": "stream",
          "name": "stderr",
          "text": [
            "Epoch 8/20 - Validation: 100%|██████████| 138/138 [00:00<00:00, 1614.09it/s]\n",
            "Epoch 9/20 - Training: 100%|██████████| 1068/1068 [00:04<00:00, 253.36it/s]\n"
          ]
        },
        {
          "output_type": "stream",
          "name": "stdout",
          "text": [
            "Average Training Loss: 1.7222\n"
          ]
        },
        {
          "output_type": "stream",
          "name": "stderr",
          "text": [
            "Epoch 9/20 - Validation: 100%|██████████| 138/138 [00:00<00:00, 1673.01it/s]\n",
            "Epoch 10/20 - Training: 100%|██████████| 1068/1068 [00:03<00:00, 282.40it/s]\n"
          ]
        },
        {
          "output_type": "stream",
          "name": "stdout",
          "text": [
            "Average Training Loss: 1.6673\n"
          ]
        },
        {
          "output_type": "stream",
          "name": "stderr",
          "text": [
            "Epoch 10/20 - Validation: 100%|██████████| 138/138 [00:00<00:00, 1652.29it/s]\n",
            "Epoch 11/20 - Training: 100%|██████████| 1068/1068 [00:03<00:00, 270.78it/s]\n"
          ]
        },
        {
          "output_type": "stream",
          "name": "stdout",
          "text": [
            "Average Training Loss: 1.6528\n"
          ]
        },
        {
          "output_type": "stream",
          "name": "stderr",
          "text": [
            "Epoch 11/20 - Validation: 100%|██████████| 138/138 [00:00<00:00, 1682.47it/s]\n",
            "Epoch 12/20 - Training: 100%|██████████| 1068/1068 [00:04<00:00, 218.67it/s]\n"
          ]
        },
        {
          "output_type": "stream",
          "name": "stdout",
          "text": [
            "Average Training Loss: 2.6475\n"
          ]
        },
        {
          "output_type": "stream",
          "name": "stderr",
          "text": [
            "Epoch 12/20 - Validation: 100%|██████████| 138/138 [00:00<00:00, 1454.11it/s]\n",
            "Epoch 13/20 - Training: 100%|██████████| 1068/1068 [00:04<00:00, 253.32it/s]\n"
          ]
        },
        {
          "output_type": "stream",
          "name": "stdout",
          "text": [
            "Average Training Loss: 1.6448\n"
          ]
        },
        {
          "output_type": "stream",
          "name": "stderr",
          "text": [
            "Epoch 13/20 - Validation: 100%|██████████| 138/138 [00:00<00:00, 1759.84it/s]\n",
            "Epoch 14/20 - Training: 100%|██████████| 1068/1068 [00:03<00:00, 269.86it/s]\n"
          ]
        },
        {
          "output_type": "stream",
          "name": "stdout",
          "text": [
            "Average Training Loss: 1.6464\n"
          ]
        },
        {
          "output_type": "stream",
          "name": "stderr",
          "text": [
            "Epoch 14/20 - Validation: 100%|██████████| 138/138 [00:00<00:00, 1835.33it/s]\n",
            "Epoch 15/20 - Training: 100%|██████████| 1068/1068 [00:04<00:00, 253.38it/s]\n"
          ]
        },
        {
          "output_type": "stream",
          "name": "stdout",
          "text": [
            "Average Training Loss: 1.6534\n"
          ]
        },
        {
          "output_type": "stream",
          "name": "stderr",
          "text": [
            "Epoch 15/20 - Validation: 100%|██████████| 138/138 [00:00<00:00, 1813.55it/s]\n",
            "Epoch 16/20 - Training: 100%|██████████| 1068/1068 [00:04<00:00, 219.28it/s]\n"
          ]
        },
        {
          "output_type": "stream",
          "name": "stdout",
          "text": [
            "Average Training Loss: 2.0474\n"
          ]
        },
        {
          "output_type": "stream",
          "name": "stderr",
          "text": [
            "Epoch 16/20 - Validation: 100%|██████████| 138/138 [00:00<00:00, 1650.35it/s]\n",
            "Epoch 17/20 - Training: 100%|██████████| 1068/1068 [00:03<00:00, 274.10it/s]\n"
          ]
        },
        {
          "output_type": "stream",
          "name": "stdout",
          "text": [
            "Average Training Loss: 1.6676\n"
          ]
        },
        {
          "output_type": "stream",
          "name": "stderr",
          "text": [
            "Epoch 17/20 - Validation: 100%|██████████| 138/138 [00:00<00:00, 1856.85it/s]\n",
            "Epoch 18/20 - Training: 100%|██████████| 1068/1068 [00:03<00:00, 273.34it/s]\n"
          ]
        },
        {
          "output_type": "stream",
          "name": "stdout",
          "text": [
            "Average Training Loss: 1.6480\n"
          ]
        },
        {
          "output_type": "stream",
          "name": "stderr",
          "text": [
            "Epoch 18/20 - Validation: 100%|██████████| 138/138 [00:00<00:00, 1554.82it/s]\n",
            "Epoch 19/20 - Training: 100%|██████████| 1068/1068 [00:04<00:00, 233.95it/s]\n"
          ]
        },
        {
          "output_type": "stream",
          "name": "stdout",
          "text": [
            "Average Training Loss: 1.6480\n"
          ]
        },
        {
          "output_type": "stream",
          "name": "stderr",
          "text": [
            "Epoch 19/20 - Validation: 100%|██████████| 138/138 [00:00<00:00, 1660.82it/s]\n",
            "Epoch 20/20 - Training: 100%|██████████| 1068/1068 [00:04<00:00, 237.33it/s]\n"
          ]
        },
        {
          "output_type": "stream",
          "name": "stdout",
          "text": [
            "Average Training Loss: 1.6548\n"
          ]
        },
        {
          "output_type": "stream",
          "name": "stderr",
          "text": [
            "Epoch 20/20 - Validation: 100%|██████████| 138/138 [00:00<00:00, 1698.07it/s]"
          ]
        },
        {
          "output_type": "stream",
          "name": "stdout",
          "text": [
            "Best Hyperparameters:\n",
            "{'lr': 0.001, 'hidden_size': 512, 'dropout_prob': 0.1}\n",
            "Best Validation Accuracy: 0.4169\n"
          ]
        },
        {
          "output_type": "stream",
          "name": "stderr",
          "text": [
            "\n"
          ]
        }
      ]
    },
    {
      "cell_type": "code",
      "source": [
        "# define Tuned Neural Network Architecture\n",
        "\n",
        "class NeuralNet(nn.Module):\n",
        "    def __init__(self, input_size, hidden_size, num_classes, dropout_prob=0.1):\n",
        "        super(NeuralNet, self).__init__()\n",
        "        self.fc1 = nn.Linear(input_size, hidden_size)\n",
        "        self.relu = nn.ReLU()\n",
        "        self.dropout = nn.Dropout(p=dropout_prob)\n",
        "        self.fc2 = nn.Linear(hidden_size, num_classes)\n",
        "\n",
        "    def forward(self, x):\n",
        "        out = self.fc1(x)\n",
        "        out = self.relu(out)\n",
        "        out = self.dropout(out)\n",
        "        out = self.fc2(out)\n",
        "        return out\n",
        "\n",
        "input_size = X_train.shape[1]  # number of features\n",
        "hidden_size = 512\n",
        "num_classes = y_train_np.max()+1  # number of output classes\n",
        "dropout_prob = 0.1\n",
        "\n",
        "model = NeuralNet(input_size, hidden_size, num_classes)\n",
        "criterion = nn.CrossEntropyLoss()\n",
        "optimizer = torch.optim.Adam(model.parameters(), lr=0.001) # use Adam since NLP"
      ],
      "metadata": {
        "id": "u6EH0mU-UtPZ"
      },
      "execution_count": 29,
      "outputs": []
    },
    {
      "cell_type": "code",
      "source": [
        "num_epochs = 100\n",
        "patience = 10  # Set a patience for early stopping\n",
        "\n",
        "# empty list of accuracy values for plotting\n",
        "train_accuracies = []\n",
        "val_accuracies = []\n",
        "best_val_accuracy = 0  # Keep track of the best validation accuracy\n",
        "patience_counter = 0  # Counter for early stopping\n",
        "\n",
        "for epoch in range(num_epochs):\n",
        "    # Training phase\n",
        "    model.train()\n",
        "    train_loss = 0.0\n",
        "    train_steps = 0\n",
        "    for inputs, labels in tqdm(train_loader, desc=f\"Epoch {epoch+1}/{num_epochs} - Training\"):\n",
        "        inputs, labels = inputs.to(device), labels.to(device)\n",
        "        outputs = model(inputs)\n",
        "        loss = criterion(outputs, labels)\n",
        "\n",
        "        optimizer.zero_grad()\n",
        "        loss.backward()\n",
        "        optimizer.step()\n",
        "\n",
        "        train_loss += loss.item()\n",
        "        train_steps += 1\n",
        "\n",
        "    # Calculate and append training accuracy to the list\n",
        "    train_accuracy = calculate_accuracy(model, train_loader)  # Implement a function to calculate accuracy\n",
        "    train_accuracies.append(train_accuracy)\n",
        "\n",
        "    # Print average training loss per batch\n",
        "    print(f\"Average Training Loss: {train_loss / train_steps:.4f}\")\n",
        "\n",
        "    # Validation phase\n",
        "    model.eval()\n",
        "    val_labels = []\n",
        "    val_preds = []\n",
        "    with torch.no_grad():\n",
        "        for inputs, labels in tqdm(valid_loader, desc=f\"Epoch {epoch+1}/{num_epochs} - Validation\"):\n",
        "            inputs, labels = inputs.to(device), labels.to(device)\n",
        "            outputs = model(inputs)\n",
        "\n",
        "            predicted = torch.argmax(outputs.data, 1)\n",
        "            val_labels.extend(labels.cpu().numpy())\n",
        "            val_preds.extend(predicted.cpu().numpy())\n",
        "    val_accuracy = calculate_accuracy(model, valid_loader)  # Implement a function to calculate accuracy\n",
        "    val_accuracies.append(val_accuracy)\n",
        "\n",
        "\n",
        "    # Convert to NumPy arrays\n",
        "    val_preds_np = np.array(val_preds)\n",
        "\n",
        "    # Calculate and print validation accuracy\n",
        "    val_accuracy = np.sum(np.array(val_labels) == np.array(val_preds)) / len(val_preds)\n",
        "    print(f\"Validation Accuracy: {val_accuracy:.4f}\")\n",
        "\n",
        "    # Early stopping check\n",
        "    if val_accuracy > best_val_accuracy:\n",
        "        best_val_accuracy = val_accuracy\n",
        "        patience_counter = 0  # Reset patience counter if there is an improvement\n",
        "        # Save the model if this is the best accuracy so far\n",
        "        torch.save(model.state_dict(), 'best_model.pth')\n",
        "    else:\n",
        "        patience_counter += 1  # Increment patience counter if no improvement\n",
        "\n",
        "    # If patience counter reached the threshold, stop training\n",
        "    if patience_counter >= patience:\n",
        "        print(\"Early stopping triggered\")\n",
        "        break\n",
        "\n",
        "\n",
        "# Plotting the accuracy curves\n",
        "# Correct the epochs array to match the length of the accuracies\n",
        "epochs = np.arange(1, len(train_accuracies) + 1)\n",
        "plt.figure(figsize=(10, 6))\n",
        "plt.plot(epochs, train_accuracies, label='Training Accuracy')\n",
        "plt.plot(epochs, val_accuracies, label='Validation Accuracy')\n",
        "plt.xlabel('Epochs')\n",
        "plt.ylabel('Accuracy')\n",
        "plt.title('Training, Validation, Accuracy Over Epochs')\n",
        "plt.legend()\n",
        "plt.grid(True)\n",
        "plt.show()"
      ],
      "metadata": {
        "colab": {
          "base_uri": "https://localhost:8080/",
          "height": 1000
        },
        "id": "FHMQZSboF8uN",
        "outputId": "925b8597-d27d-4dd9-83b2-9276892b06cf"
      },
      "execution_count": 30,
      "outputs": [
        {
          "output_type": "stream",
          "name": "stderr",
          "text": [
            "Epoch 1/100 - Training: 100%|██████████| 1068/1068 [00:02<00:00, 453.96it/s]\n"
          ]
        },
        {
          "output_type": "stream",
          "name": "stdout",
          "text": [
            "Average Training Loss: 1.4530\n"
          ]
        },
        {
          "output_type": "stream",
          "name": "stderr",
          "text": [
            "Epoch 1/100 - Validation: 100%|██████████| 138/138 [00:00<00:00, 1680.58it/s]\n"
          ]
        },
        {
          "output_type": "stream",
          "name": "stdout",
          "text": [
            "Validation Accuracy: 0.3896\n"
          ]
        },
        {
          "output_type": "stream",
          "name": "stderr",
          "text": [
            "Epoch 2/100 - Training: 100%|██████████| 1068/1068 [00:02<00:00, 421.32it/s]\n"
          ]
        },
        {
          "output_type": "stream",
          "name": "stdout",
          "text": [
            "Average Training Loss: 1.3853\n"
          ]
        },
        {
          "output_type": "stream",
          "name": "stderr",
          "text": [
            "Epoch 2/100 - Validation: 100%|██████████| 138/138 [00:00<00:00, 2243.01it/s]\n"
          ]
        },
        {
          "output_type": "stream",
          "name": "stdout",
          "text": [
            "Validation Accuracy: 0.3806\n"
          ]
        },
        {
          "output_type": "stream",
          "name": "stderr",
          "text": [
            "Epoch 3/100 - Training: 100%|██████████| 1068/1068 [00:01<00:00, 546.18it/s]\n"
          ]
        },
        {
          "output_type": "stream",
          "name": "stdout",
          "text": [
            "Average Training Loss: 1.3626\n"
          ]
        },
        {
          "output_type": "stream",
          "name": "stderr",
          "text": [
            "Epoch 3/100 - Validation: 100%|██████████| 138/138 [00:00<00:00, 2629.88it/s]\n"
          ]
        },
        {
          "output_type": "stream",
          "name": "stdout",
          "text": [
            "Validation Accuracy: 0.4015\n"
          ]
        },
        {
          "output_type": "stream",
          "name": "stderr",
          "text": [
            "Epoch 4/100 - Training: 100%|██████████| 1068/1068 [00:02<00:00, 527.51it/s]\n"
          ]
        },
        {
          "output_type": "stream",
          "name": "stdout",
          "text": [
            "Average Training Loss: 1.3454\n"
          ]
        },
        {
          "output_type": "stream",
          "name": "stderr",
          "text": [
            "Epoch 4/100 - Validation: 100%|██████████| 138/138 [00:00<00:00, 2582.18it/s]\n"
          ]
        },
        {
          "output_type": "stream",
          "name": "stdout",
          "text": [
            "Validation Accuracy: 0.3860\n"
          ]
        },
        {
          "output_type": "stream",
          "name": "stderr",
          "text": [
            "Epoch 5/100 - Training: 100%|██████████| 1068/1068 [00:02<00:00, 508.11it/s]\n"
          ]
        },
        {
          "output_type": "stream",
          "name": "stdout",
          "text": [
            "Average Training Loss: 1.3370\n"
          ]
        },
        {
          "output_type": "stream",
          "name": "stderr",
          "text": [
            "Epoch 5/100 - Validation: 100%|██████████| 138/138 [00:00<00:00, 2260.23it/s]\n"
          ]
        },
        {
          "output_type": "stream",
          "name": "stdout",
          "text": [
            "Validation Accuracy: 0.4124\n"
          ]
        },
        {
          "output_type": "stream",
          "name": "stderr",
          "text": [
            "Epoch 6/100 - Training: 100%|██████████| 1068/1068 [00:02<00:00, 402.16it/s]\n"
          ]
        },
        {
          "output_type": "stream",
          "name": "stdout",
          "text": [
            "Average Training Loss: 1.3293\n"
          ]
        },
        {
          "output_type": "stream",
          "name": "stderr",
          "text": [
            "Epoch 6/100 - Validation: 100%|██████████| 138/138 [00:00<00:00, 1774.46it/s]\n"
          ]
        },
        {
          "output_type": "stream",
          "name": "stdout",
          "text": [
            "Validation Accuracy: 0.3996\n"
          ]
        },
        {
          "output_type": "stream",
          "name": "stderr",
          "text": [
            "Epoch 7/100 - Training: 100%|██████████| 1068/1068 [00:02<00:00, 404.44it/s]\n"
          ]
        },
        {
          "output_type": "stream",
          "name": "stdout",
          "text": [
            "Average Training Loss: 1.3164\n"
          ]
        },
        {
          "output_type": "stream",
          "name": "stderr",
          "text": [
            "Epoch 7/100 - Validation: 100%|██████████| 138/138 [00:00<00:00, 2505.85it/s]\n"
          ]
        },
        {
          "output_type": "stream",
          "name": "stdout",
          "text": [
            "Validation Accuracy: 0.3996\n"
          ]
        },
        {
          "output_type": "stream",
          "name": "stderr",
          "text": [
            "Epoch 8/100 - Training: 100%|██████████| 1068/1068 [00:01<00:00, 535.33it/s]\n"
          ]
        },
        {
          "output_type": "stream",
          "name": "stdout",
          "text": [
            "Average Training Loss: 1.3022\n"
          ]
        },
        {
          "output_type": "stream",
          "name": "stderr",
          "text": [
            "Epoch 8/100 - Validation: 100%|██████████| 138/138 [00:00<00:00, 2636.02it/s]\n"
          ]
        },
        {
          "output_type": "stream",
          "name": "stdout",
          "text": [
            "Validation Accuracy: 0.3842\n"
          ]
        },
        {
          "output_type": "stream",
          "name": "stderr",
          "text": [
            "Epoch 9/100 - Training: 100%|██████████| 1068/1068 [00:02<00:00, 516.45it/s]\n"
          ]
        },
        {
          "output_type": "stream",
          "name": "stdout",
          "text": [
            "Average Training Loss: 1.2915\n"
          ]
        },
        {
          "output_type": "stream",
          "name": "stderr",
          "text": [
            "Epoch 9/100 - Validation: 100%|██████████| 138/138 [00:00<00:00, 2362.32it/s]\n"
          ]
        },
        {
          "output_type": "stream",
          "name": "stdout",
          "text": [
            "Validation Accuracy: 0.3851\n"
          ]
        },
        {
          "output_type": "stream",
          "name": "stderr",
          "text": [
            "Epoch 10/100 - Training: 100%|██████████| 1068/1068 [00:02<00:00, 505.36it/s]\n"
          ]
        },
        {
          "output_type": "stream",
          "name": "stdout",
          "text": [
            "Average Training Loss: 1.2816\n"
          ]
        },
        {
          "output_type": "stream",
          "name": "stderr",
          "text": [
            "Epoch 10/100 - Validation: 100%|██████████| 138/138 [00:00<00:00, 2611.76it/s]\n"
          ]
        },
        {
          "output_type": "stream",
          "name": "stdout",
          "text": [
            "Validation Accuracy: 0.3869\n"
          ]
        },
        {
          "output_type": "stream",
          "name": "stderr",
          "text": [
            "Epoch 11/100 - Training: 100%|██████████| 1068/1068 [00:03<00:00, 294.04it/s]\n"
          ]
        },
        {
          "output_type": "stream",
          "name": "stdout",
          "text": [
            "Average Training Loss: 1.2667\n"
          ]
        },
        {
          "output_type": "stream",
          "name": "stderr",
          "text": [
            "Epoch 11/100 - Validation: 100%|██████████| 138/138 [00:00<00:00, 1729.02it/s]\n"
          ]
        },
        {
          "output_type": "stream",
          "name": "stdout",
          "text": [
            "Validation Accuracy: 0.3987\n"
          ]
        },
        {
          "output_type": "stream",
          "name": "stderr",
          "text": [
            "Epoch 12/100 - Training: 100%|██████████| 1068/1068 [00:02<00:00, 436.45it/s]\n"
          ]
        },
        {
          "output_type": "stream",
          "name": "stdout",
          "text": [
            "Average Training Loss: 1.2565\n"
          ]
        },
        {
          "output_type": "stream",
          "name": "stderr",
          "text": [
            "Epoch 12/100 - Validation: 100%|██████████| 138/138 [00:00<00:00, 2541.29it/s]\n"
          ]
        },
        {
          "output_type": "stream",
          "name": "stdout",
          "text": [
            "Validation Accuracy: 0.4069\n"
          ]
        },
        {
          "output_type": "stream",
          "name": "stderr",
          "text": [
            "Epoch 13/100 - Training: 100%|██████████| 1068/1068 [00:02<00:00, 510.61it/s]\n"
          ]
        },
        {
          "output_type": "stream",
          "name": "stdout",
          "text": [
            "Average Training Loss: 1.2363\n"
          ]
        },
        {
          "output_type": "stream",
          "name": "stderr",
          "text": [
            "Epoch 13/100 - Validation: 100%|██████████| 138/138 [00:00<00:00, 2717.18it/s]\n"
          ]
        },
        {
          "output_type": "stream",
          "name": "stdout",
          "text": [
            "Validation Accuracy: 0.3942\n"
          ]
        },
        {
          "output_type": "stream",
          "name": "stderr",
          "text": [
            "Epoch 14/100 - Training: 100%|██████████| 1068/1068 [00:02<00:00, 531.02it/s]\n"
          ]
        },
        {
          "output_type": "stream",
          "name": "stdout",
          "text": [
            "Average Training Loss: 1.2336\n"
          ]
        },
        {
          "output_type": "stream",
          "name": "stderr",
          "text": [
            "Epoch 14/100 - Validation: 100%|██████████| 138/138 [00:00<00:00, 2472.62it/s]\n"
          ]
        },
        {
          "output_type": "stream",
          "name": "stdout",
          "text": [
            "Validation Accuracy: 0.3842\n"
          ]
        },
        {
          "output_type": "stream",
          "name": "stderr",
          "text": [
            "Epoch 15/100 - Training: 100%|██████████| 1068/1068 [00:01<00:00, 535.50it/s]\n"
          ]
        },
        {
          "output_type": "stream",
          "name": "stdout",
          "text": [
            "Average Training Loss: 1.2149\n"
          ]
        },
        {
          "output_type": "stream",
          "name": "stderr",
          "text": [
            "Epoch 15/100 - Validation: 100%|██████████| 138/138 [00:00<00:00, 2509.27it/s]"
          ]
        },
        {
          "output_type": "stream",
          "name": "stdout",
          "text": [
            "Validation Accuracy: 0.4096\n",
            "Early stopping triggered\n"
          ]
        },
        {
          "output_type": "stream",
          "name": "stderr",
          "text": [
            "\n"
          ]
        },
        {
          "output_type": "display_data",
          "data": {
            "text/plain": [
              "<Figure size 1000x600 with 1 Axes>"
            ],
            "image/png": "[encoded data removed]"
          },
          "metadata": {}
        }
      ]
    },
    {
      "cell_type": "code",
      "source": [
        "model.eval()\n",
        "test_labels = []\n",
        "test_preds = []\n",
        "with torch.no_grad():\n",
        "    for inputs, labels in tqdm(test_loader):\n",
        "        inputs, labels = inputs.to(device), labels.to(device)\n",
        "        outputs = model(inputs)\n",
        "        predicted = torch.argmax(outputs.data, 1)\n",
        "        test_labels.extend(labels.cpu().numpy())\n",
        "        test_preds.extend(predicted.cpu().numpy())\n",
        "\n",
        "# Calculate and print validation accuracy\n",
        "test_accuracy = np.sum(np.array(test_labels) == np.array(test_preds)) / len(test_preds)\n",
        "print(f\"Test Accuracy: {test_accuracy:.4f}\")\n",
        "# Calculate the confusion matrix\n",
        "conf_matrix = confusion_matrix(test_labels, test_preds)\n",
        "print(f\"Confusion Matrix:\\n{conf_matrix}\")"
      ],
      "metadata": {
        "colab": {
          "base_uri": "https://localhost:8080/"
        },
        "id": "25zzf9zZK5bH",
        "outputId": "6eaed276-fc5c-4fad-8c83-b66ced8c4523"
      },
      "execution_count": 31,
      "outputs": [
        {
          "output_type": "stream",
          "name": "stderr",
          "text": [
            "100%|██████████| 277/277 [00:00<00:00, 1719.56it/s]"
          ]
        },
        {
          "output_type": "stream",
          "name": "stdout",
          "text": [
            "Test Accuracy: 0.4072\n",
            "Confusion Matrix:\n",
            "[[395  47 135  31  25]\n",
            " [183  35 134   7  30]\n",
            " [117  16 245   7 125]\n",
            " [154  20  50  44  11]\n",
            " [ 41   8 167   2 181]]\n"
          ]
        },
        {
          "output_type": "stream",
          "name": "stderr",
          "text": [
            "\n"
          ]
        }
      ]
    }
  ]
}